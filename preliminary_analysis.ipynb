{
 "cells": [
  {
   "cell_type": "code",
   "execution_count": 1,
   "id": "fb45a337",
   "metadata": {},
   "outputs": [],
   "source": [
    "import numpy as np\n",
    "import seaborn as sns\n",
    "import pandas as pd\n",
    "import networkx as nx\n",
    "import matplotlib.pyplot as plt"
   ]
  },
  {
   "cell_type": "code",
   "execution_count": 16,
   "id": "94364c49",
   "metadata": {},
   "outputs": [],
   "source": [
    "import html\n",
    "import urllib"
   ]
  },
  {
   "cell_type": "markdown",
   "id": "cf2a548f",
   "metadata": {},
   "source": [
    "Reading data\n",
    "------------"
   ]
  },
  {
   "cell_type": "code",
   "execution_count": 34,
   "id": "13cc9a73",
   "metadata": {},
   "outputs": [],
   "source": [
    "graphs_path = './data/wikispeedia_paths-and-graph/'"
   ]
  },
  {
   "cell_type": "code",
   "execution_count": 35,
   "id": "31b58e1f",
   "metadata": {},
   "outputs": [
    {
     "name": "stdout",
     "output_type": "stream",
     "text": [
      "articles.tsv\tlinks.tsv\t    paths_unfinished.tsv\r\n",
      "categories.tsv\tpaths_finished.tsv  shortest-path-distance-matrix.txt\r\n"
     ]
    }
   ],
   "source": [
    "!ls data/wikispeedia_paths-and-graph/"
   ]
  },
  {
   "cell_type": "code",
   "execution_count": 25,
   "id": "ed1e06ca",
   "metadata": {},
   "outputs": [
    {
     "name": "stdout",
     "output_type": "stream",
     "text": [
      "# Hierarchical categories of all articles.\r\n",
      "# Many articles have more than one category. Some articles have no category.\r\n",
      "# Article names are URL-encoded; e.g., in Java they can be decoded using java.net.URLDecoder.decode(articleName, \"UTF-8\").\r\n",
      "# FORMAT:   article   category\r\n",
      "#\r\n",
      "# When publishing on this data set, please cite:\r\n",
      "# (1) Robert West and Jure Leskovec:\r\n",
      "#     Human Wayfinding in Information Networks.\r\n",
      "#     21st International World Wide Web Conference (WWW), 2012.\r\n",
      "# (2) Robert West, Joelle Pineau, and Doina Precup:\r\n"
     ]
    }
   ],
   "source": [
    "!head './data/wikispeedia_paths-and-graph/categories.tsv'"
   ]
  },
  {
   "cell_type": "code",
   "execution_count": 26,
   "id": "5f53f5f4",
   "metadata": {},
   "outputs": [],
   "source": [
    "def read_tsv(file_name, names=None):\n",
    "    \n",
    "    file_path = graphs_path + f'{file_name}.tsv'\n",
    "    \n",
    "    if not names:\n",
    "        with open(file_path, 'r') as file:\n",
    "            for line in file:\n",
    "                if 'FORMAT' in line:\n",
    "                    format_line = line\n",
    "                    break\n",
    "\n",
    "        names = format_line.split()[2:]\n",
    "    \n",
    "    return pd.read_csv(file_path,\n",
    "                           delimiter='\\t', comment='#', header=0, names=names)"
   ]
  },
  {
   "cell_type": "code",
   "execution_count": 95,
   "id": "99982685",
   "metadata": {},
   "outputs": [
    {
     "data": {
      "text/html": [
       "<div>\n",
       "<style scoped>\n",
       "    .dataframe tbody tr th:only-of-type {\n",
       "        vertical-align: middle;\n",
       "    }\n",
       "\n",
       "    .dataframe tbody tr th {\n",
       "        vertical-align: top;\n",
       "    }\n",
       "\n",
       "    .dataframe thead th {\n",
       "        text-align: right;\n",
       "    }\n",
       "</style>\n",
       "<table border=\"1\" class=\"dataframe\">\n",
       "  <thead>\n",
       "    <tr style=\"text-align: right;\">\n",
       "      <th></th>\n",
       "      <th>source</th>\n",
       "      <th>target</th>\n",
       "    </tr>\n",
       "  </thead>\n",
       "  <tbody>\n",
       "    <tr>\n",
       "      <th>0</th>\n",
       "      <td>%C3%81ed%C3%A1n_mac_Gabr%C3%A1in</td>\n",
       "      <td>Columba</td>\n",
       "    </tr>\n",
       "    <tr>\n",
       "      <th>1</th>\n",
       "      <td>%C3%81ed%C3%A1n_mac_Gabr%C3%A1in</td>\n",
       "      <td>D%C3%A1l_Riata</td>\n",
       "    </tr>\n",
       "    <tr>\n",
       "      <th>2</th>\n",
       "      <td>%C3%81ed%C3%A1n_mac_Gabr%C3%A1in</td>\n",
       "      <td>Great_Britain</td>\n",
       "    </tr>\n",
       "    <tr>\n",
       "      <th>3</th>\n",
       "      <td>%C3%81ed%C3%A1n_mac_Gabr%C3%A1in</td>\n",
       "      <td>Ireland</td>\n",
       "    </tr>\n",
       "    <tr>\n",
       "      <th>4</th>\n",
       "      <td>%C3%81ed%C3%A1n_mac_Gabr%C3%A1in</td>\n",
       "      <td>Isle_of_Man</td>\n",
       "    </tr>\n",
       "  </tbody>\n",
       "</table>\n",
       "</div>"
      ],
      "text/plain": [
       "                             source          target\n",
       "0  %C3%81ed%C3%A1n_mac_Gabr%C3%A1in         Columba\n",
       "1  %C3%81ed%C3%A1n_mac_Gabr%C3%A1in  D%C3%A1l_Riata\n",
       "2  %C3%81ed%C3%A1n_mac_Gabr%C3%A1in   Great_Britain\n",
       "3  %C3%81ed%C3%A1n_mac_Gabr%C3%A1in         Ireland\n",
       "4  %C3%81ed%C3%A1n_mac_Gabr%C3%A1in     Isle_of_Man"
      ]
     },
     "metadata": {},
     "output_type": "display_data"
    },
    {
     "data": {
      "text/plain": [
       "(119881, 2)"
      ]
     },
     "execution_count": 95,
     "metadata": {},
     "output_type": "execute_result"
    }
   ],
   "source": [
    "link_network = read_tsv('links', names=['source', 'target'])\n",
    "display(link_network.head(5))\n",
    "link_network.shape\n",
    "\n",
    "# link_network = link_network.applymap(urllib.parse.unquote_plus).copy()"
   ]
  },
  {
   "cell_type": "code",
   "execution_count": 96,
   "id": "e019dee8",
   "metadata": {},
   "outputs": [
    {
     "data": {
      "text/html": [
       "<div>\n",
       "<style scoped>\n",
       "    .dataframe tbody tr th:only-of-type {\n",
       "        vertical-align: middle;\n",
       "    }\n",
       "\n",
       "    .dataframe tbody tr th {\n",
       "        vertical-align: top;\n",
       "    }\n",
       "\n",
       "    .dataframe thead th {\n",
       "        text-align: right;\n",
       "    }\n",
       "</style>\n",
       "<table border=\"1\" class=\"dataframe\">\n",
       "  <thead>\n",
       "    <tr style=\"text-align: right;\">\n",
       "      <th></th>\n",
       "      <th>article</th>\n",
       "      <th>category</th>\n",
       "    </tr>\n",
       "  </thead>\n",
       "  <tbody>\n",
       "    <tr>\n",
       "      <th>0</th>\n",
       "      <td>%C3%81ed%C3%A1n_mac_Gabr%C3%A1in</td>\n",
       "      <td>subject.People.Historical_figures</td>\n",
       "    </tr>\n",
       "    <tr>\n",
       "      <th>1</th>\n",
       "      <td>%C3%85land</td>\n",
       "      <td>subject.Countries</td>\n",
       "    </tr>\n",
       "    <tr>\n",
       "      <th>2</th>\n",
       "      <td>%C3%85land</td>\n",
       "      <td>subject.Geography.European_Geography.European_...</td>\n",
       "    </tr>\n",
       "    <tr>\n",
       "      <th>3</th>\n",
       "      <td>%C3%89douard_Manet</td>\n",
       "      <td>subject.People.Artists</td>\n",
       "    </tr>\n",
       "    <tr>\n",
       "      <th>4</th>\n",
       "      <td>%C3%89ire</td>\n",
       "      <td>subject.Countries</td>\n",
       "    </tr>\n",
       "  </tbody>\n",
       "</table>\n",
       "</div>"
      ],
      "text/plain": [
       "                            article  \\\n",
       "0  %C3%81ed%C3%A1n_mac_Gabr%C3%A1in   \n",
       "1                        %C3%85land   \n",
       "2                        %C3%85land   \n",
       "3                %C3%89douard_Manet   \n",
       "4                         %C3%89ire   \n",
       "\n",
       "                                            category  \n",
       "0                  subject.People.Historical_figures  \n",
       "1                                  subject.Countries  \n",
       "2  subject.Geography.European_Geography.European_...  \n",
       "3                             subject.People.Artists  \n",
       "4                                  subject.Countries  "
      ]
     },
     "metadata": {},
     "output_type": "display_data"
    },
    {
     "data": {
      "text/plain": [
       "(5203, 2)"
      ]
     },
     "execution_count": 96,
     "metadata": {},
     "output_type": "execute_result"
    }
   ],
   "source": [
    "categories = read_tsv('categories')\n",
    "display(categories.head(5))\n",
    "categories.shape\n"
   ]
  },
  {
   "cell_type": "code",
   "execution_count": 97,
   "id": "a6fa8e0f",
   "metadata": {},
   "outputs": [
    {
     "data": {
      "text/html": [
       "<div>\n",
       "<style scoped>\n",
       "    .dataframe tbody tr th:only-of-type {\n",
       "        vertical-align: middle;\n",
       "    }\n",
       "\n",
       "    .dataframe tbody tr th {\n",
       "        vertical-align: top;\n",
       "    }\n",
       "\n",
       "    .dataframe thead th {\n",
       "        text-align: right;\n",
       "    }\n",
       "</style>\n",
       "<table border=\"1\" class=\"dataframe\">\n",
       "  <thead>\n",
       "    <tr style=\"text-align: right;\">\n",
       "      <th></th>\n",
       "      <th>hashedIpAddress</th>\n",
       "      <th>timestamp</th>\n",
       "      <th>durationInSec</th>\n",
       "      <th>path</th>\n",
       "      <th>rating</th>\n",
       "    </tr>\n",
       "  </thead>\n",
       "  <tbody>\n",
       "    <tr>\n",
       "      <th>0</th>\n",
       "      <td>3824310e536af032</td>\n",
       "      <td>1344753412</td>\n",
       "      <td>88</td>\n",
       "      <td>14th_century;Europe;Africa;Atlantic_slave_trad...</td>\n",
       "      <td>3.0</td>\n",
       "    </tr>\n",
       "    <tr>\n",
       "      <th>1</th>\n",
       "      <td>415612e93584d30e</td>\n",
       "      <td>1349298640</td>\n",
       "      <td>138</td>\n",
       "      <td>14th_century;Niger;Nigeria;British_Empire;Slav...</td>\n",
       "      <td>NaN</td>\n",
       "    </tr>\n",
       "    <tr>\n",
       "      <th>2</th>\n",
       "      <td>64dd5cd342e3780c</td>\n",
       "      <td>1265613925</td>\n",
       "      <td>37</td>\n",
       "      <td>14th_century;Renaissance;Ancient_Greece;Greece</td>\n",
       "      <td>NaN</td>\n",
       "    </tr>\n",
       "    <tr>\n",
       "      <th>3</th>\n",
       "      <td>015245d773376aab</td>\n",
       "      <td>1366730828</td>\n",
       "      <td>175</td>\n",
       "      <td>14th_century;Italy;Roman_Catholic_Church;HIV;R...</td>\n",
       "      <td>3.0</td>\n",
       "    </tr>\n",
       "    <tr>\n",
       "      <th>4</th>\n",
       "      <td>5295bca242be81fe</td>\n",
       "      <td>1372890414</td>\n",
       "      <td>110</td>\n",
       "      <td>14th_century;Europe;North_America;United_State...</td>\n",
       "      <td>NaN</td>\n",
       "    </tr>\n",
       "  </tbody>\n",
       "</table>\n",
       "</div>"
      ],
      "text/plain": [
       "    hashedIpAddress   timestamp  durationInSec  \\\n",
       "0  3824310e536af032  1344753412             88   \n",
       "1  415612e93584d30e  1349298640            138   \n",
       "2  64dd5cd342e3780c  1265613925             37   \n",
       "3  015245d773376aab  1366730828            175   \n",
       "4  5295bca242be81fe  1372890414            110   \n",
       "\n",
       "                                                path  rating  \n",
       "0  14th_century;Europe;Africa;Atlantic_slave_trad...     3.0  \n",
       "1  14th_century;Niger;Nigeria;British_Empire;Slav...     NaN  \n",
       "2     14th_century;Renaissance;Ancient_Greece;Greece     NaN  \n",
       "3  14th_century;Italy;Roman_Catholic_Church;HIV;R...     3.0  \n",
       "4  14th_century;Europe;North_America;United_State...     NaN  "
      ]
     },
     "metadata": {},
     "output_type": "display_data"
    },
    {
     "data": {
      "text/plain": [
       "(51317, 5)"
      ]
     },
     "execution_count": 97,
     "metadata": {},
     "output_type": "execute_result"
    }
   ],
   "source": [
    "finished_paths = read_tsv('paths_finished')\n",
    "display(finished_paths.head(5))\n",
    "finished_paths.shape"
   ]
  },
  {
   "cell_type": "code",
   "execution_count": 98,
   "id": "b0417051",
   "metadata": {},
   "outputs": [
    {
     "data": {
      "text/html": [
       "<div>\n",
       "<style scoped>\n",
       "    .dataframe tbody tr th:only-of-type {\n",
       "        vertical-align: middle;\n",
       "    }\n",
       "\n",
       "    .dataframe tbody tr th {\n",
       "        vertical-align: top;\n",
       "    }\n",
       "\n",
       "    .dataframe thead th {\n",
       "        text-align: right;\n",
       "    }\n",
       "</style>\n",
       "<table border=\"1\" class=\"dataframe\">\n",
       "  <thead>\n",
       "    <tr style=\"text-align: right;\">\n",
       "      <th></th>\n",
       "      <th>hashedIpAddress</th>\n",
       "      <th>timestamp</th>\n",
       "      <th>durationInSec</th>\n",
       "      <th>path</th>\n",
       "      <th>target</th>\n",
       "      <th>type</th>\n",
       "    </tr>\n",
       "  </thead>\n",
       "  <tbody>\n",
       "    <tr>\n",
       "      <th>0</th>\n",
       "      <td>26141fd878806294</td>\n",
       "      <td>1297055651</td>\n",
       "      <td>1805</td>\n",
       "      <td>Julius_Caesar</td>\n",
       "      <td>Caracas</td>\n",
       "      <td>timeout</td>\n",
       "    </tr>\n",
       "    <tr>\n",
       "      <th>1</th>\n",
       "      <td>2b015fb8181c48f2</td>\n",
       "      <td>1297090819</td>\n",
       "      <td>1818</td>\n",
       "      <td>Malawi;Democracy;Alexander_the_Great</td>\n",
       "      <td>First_Crusade</td>\n",
       "      <td>timeout</td>\n",
       "    </tr>\n",
       "    <tr>\n",
       "      <th>2</th>\n",
       "      <td>53a53bc244e08a6a</td>\n",
       "      <td>1297094761</td>\n",
       "      <td>49</td>\n",
       "      <td>Paraguay</td>\n",
       "      <td>Mount_St._Helens</td>\n",
       "      <td>restart</td>\n",
       "    </tr>\n",
       "    <tr>\n",
       "      <th>3</th>\n",
       "      <td>53a53bc244e08a6a</td>\n",
       "      <td>1297099105</td>\n",
       "      <td>1808</td>\n",
       "      <td>Paraguay;Bolivia</td>\n",
       "      <td>Mount_St._Helens</td>\n",
       "      <td>timeout</td>\n",
       "    </tr>\n",
       "    <tr>\n",
       "      <th>4</th>\n",
       "      <td>131600803df4895e</td>\n",
       "      <td>1297100557</td>\n",
       "      <td>2009</td>\n",
       "      <td>Agriculture;History_of_the_world;China;Yangtze...</td>\n",
       "      <td>Grand_Canal_of_China</td>\n",
       "      <td>timeout</td>\n",
       "    </tr>\n",
       "  </tbody>\n",
       "</table>\n",
       "</div>"
      ],
      "text/plain": [
       "    hashedIpAddress   timestamp  durationInSec  \\\n",
       "0  26141fd878806294  1297055651           1805   \n",
       "1  2b015fb8181c48f2  1297090819           1818   \n",
       "2  53a53bc244e08a6a  1297094761             49   \n",
       "3  53a53bc244e08a6a  1297099105           1808   \n",
       "4  131600803df4895e  1297100557           2009   \n",
       "\n",
       "                                                path                target  \\\n",
       "0                                      Julius_Caesar               Caracas   \n",
       "1               Malawi;Democracy;Alexander_the_Great         First_Crusade   \n",
       "2                                           Paraguay      Mount_St._Helens   \n",
       "3                                   Paraguay;Bolivia      Mount_St._Helens   \n",
       "4  Agriculture;History_of_the_world;China;Yangtze...  Grand_Canal_of_China   \n",
       "\n",
       "      type  \n",
       "0  timeout  \n",
       "1  timeout  \n",
       "2  restart  \n",
       "3  timeout  \n",
       "4  timeout  "
      ]
     },
     "metadata": {},
     "output_type": "display_data"
    },
    {
     "data": {
      "text/plain": [
       "(24874, 6)"
      ]
     },
     "execution_count": 98,
     "metadata": {},
     "output_type": "execute_result"
    }
   ],
   "source": [
    "unfinished_paths = read_tsv('paths_unfinished')\n",
    "display(unfinished_paths.head(5))\n",
    "unfinished_paths.shape"
   ]
  },
  {
   "cell_type": "code",
   "execution_count": 99,
   "id": "f4dec761",
   "metadata": {},
   "outputs": [
    {
     "data": {
      "text/html": [
       "<div>\n",
       "<style scoped>\n",
       "    .dataframe tbody tr th:only-of-type {\n",
       "        vertical-align: middle;\n",
       "    }\n",
       "\n",
       "    .dataframe tbody tr th {\n",
       "        vertical-align: top;\n",
       "    }\n",
       "\n",
       "    .dataframe thead th {\n",
       "        text-align: right;\n",
       "    }\n",
       "</style>\n",
       "<table border=\"1\" class=\"dataframe\">\n",
       "  <thead>\n",
       "    <tr style=\"text-align: right;\">\n",
       "      <th></th>\n",
       "      <th>article</th>\n",
       "    </tr>\n",
       "  </thead>\n",
       "  <tbody>\n",
       "    <tr>\n",
       "      <th>0</th>\n",
       "      <td>%C3%85land</td>\n",
       "    </tr>\n",
       "    <tr>\n",
       "      <th>1</th>\n",
       "      <td>%C3%89douard_Manet</td>\n",
       "    </tr>\n",
       "    <tr>\n",
       "      <th>2</th>\n",
       "      <td>%C3%89ire</td>\n",
       "    </tr>\n",
       "    <tr>\n",
       "      <th>3</th>\n",
       "      <td>%C3%93engus_I_of_the_Picts</td>\n",
       "    </tr>\n",
       "    <tr>\n",
       "      <th>4</th>\n",
       "      <td>%E2%82%AC2_commemorative_coins</td>\n",
       "    </tr>\n",
       "  </tbody>\n",
       "</table>\n",
       "</div>"
      ],
      "text/plain": [
       "                          article\n",
       "0                      %C3%85land\n",
       "1              %C3%89douard_Manet\n",
       "2                       %C3%89ire\n",
       "3      %C3%93engus_I_of_the_Picts\n",
       "4  %E2%82%AC2_commemorative_coins"
      ]
     },
     "metadata": {},
     "output_type": "display_data"
    },
    {
     "data": {
      "text/plain": [
       "(4603, 1)"
      ]
     },
     "execution_count": 99,
     "metadata": {},
     "output_type": "execute_result"
    }
   ],
   "source": [
    "articles = read_tsv('articles')\n",
    "display(articles.head(5))\n",
    "articles.shape"
   ]
  },
  {
   "cell_type": "markdown",
   "id": "fe9e4fdc",
   "metadata": {},
   "source": [
    "Pre-processing\n",
    "--------------"
   ]
  },
  {
   "cell_type": "code",
   "execution_count": 49,
   "id": "6e3951da",
   "metadata": {},
   "outputs": [],
   "source": [
    "# count number of incoming and outgoing links\n",
    "\n",
    "source_counts = link_network['source'].value_counts().rename_axis('article').reset_index(name='source_count')\n",
    "target_counts = link_network['target'].value_counts().rename_axis('article').reset_index(name='target_count')\n",
    "\n",
    "link_counts = pd.merge(source_counts, target_counts, how='outer')\n",
    "link_counts.fillna(0, inplace=True)"
   ]
  },
  {
   "cell_type": "code",
   "execution_count": 104,
   "id": "e9ce14e0",
   "metadata": {},
   "outputs": [
    {
     "data": {
      "text/html": [
       "<div>\n",
       "<style scoped>\n",
       "    .dataframe tbody tr th:only-of-type {\n",
       "        vertical-align: middle;\n",
       "    }\n",
       "\n",
       "    .dataframe tbody tr th {\n",
       "        vertical-align: top;\n",
       "    }\n",
       "\n",
       "    .dataframe thead th {\n",
       "        text-align: right;\n",
       "    }\n",
       "</style>\n",
       "<table border=\"1\" class=\"dataframe\">\n",
       "  <thead>\n",
       "    <tr style=\"text-align: right;\">\n",
       "      <th></th>\n",
       "      <th>article</th>\n",
       "      <th>source_count</th>\n",
       "      <th>target_count</th>\n",
       "      <th>target_source_ratio</th>\n",
       "    </tr>\n",
       "  </thead>\n",
       "  <tbody>\n",
       "    <tr>\n",
       "      <th>0</th>\n",
       "      <td>United_States</td>\n",
       "      <td>294.0</td>\n",
       "      <td>1551.0</td>\n",
       "      <td>5.275510</td>\n",
       "    </tr>\n",
       "    <tr>\n",
       "      <th>1</th>\n",
       "      <td>Driving_on_the_left_or_right</td>\n",
       "      <td>255.0</td>\n",
       "      <td>0.0</td>\n",
       "      <td>0.000000</td>\n",
       "    </tr>\n",
       "    <tr>\n",
       "      <th>2</th>\n",
       "      <td>List_of_countries</td>\n",
       "      <td>244.0</td>\n",
       "      <td>63.0</td>\n",
       "      <td>0.258197</td>\n",
       "    </tr>\n",
       "    <tr>\n",
       "      <th>3</th>\n",
       "      <td>List_of_circulating_currencies</td>\n",
       "      <td>236.0</td>\n",
       "      <td>8.0</td>\n",
       "      <td>0.033898</td>\n",
       "    </tr>\n",
       "    <tr>\n",
       "      <th>4</th>\n",
       "      <td>List_of_sovereign_states</td>\n",
       "      <td>216.0</td>\n",
       "      <td>43.0</td>\n",
       "      <td>0.199074</td>\n",
       "    </tr>\n",
       "  </tbody>\n",
       "</table>\n",
       "</div>"
      ],
      "text/plain": [
       "                          article  source_count  target_count  \\\n",
       "0                   United_States         294.0        1551.0   \n",
       "1    Driving_on_the_left_or_right         255.0           0.0   \n",
       "2               List_of_countries         244.0          63.0   \n",
       "3  List_of_circulating_currencies         236.0           8.0   \n",
       "4        List_of_sovereign_states         216.0          43.0   \n",
       "\n",
       "   target_source_ratio  \n",
       "0             5.275510  \n",
       "1             0.000000  \n",
       "2             0.258197  \n",
       "3             0.033898  \n",
       "4             0.199074  "
      ]
     },
     "metadata": {},
     "output_type": "display_data"
    },
    {
     "data": {
      "text/plain": [
       "(4592, 4)"
      ]
     },
     "execution_count": 104,
     "metadata": {},
     "output_type": "execute_result"
    }
   ],
   "source": [
    "link_counts['target_source_ratio'] = link_counts['target_count'] / link_counts['source_count']\n",
    "link_counts['target_source_ratio'].replace([np.inf], np.nan, inplace=True)\n",
    "\n",
    "display(link_counts.head(5))\n",
    "link_counts.shape"
   ]
  },
  {
   "cell_type": "code",
   "execution_count": 193,
   "id": "b5faa5b5",
   "metadata": {},
   "outputs": [],
   "source": [
    "import uuid\n",
    "import os\n",
    "import urllib.parse\n",
    "from bs4 import BeautifulSoup, Comment\n",
    "\n",
    "def gen_uniq_str(str_):\n",
    "    return uuid.uuid4().hex[:len(str_)+1]\n",
    "\n",
    "def find_html_position(source, targets):\n",
    "    article_quote = source\n",
    "    with open('data/wpcd/wp/{}/{}.htm'.format(article_quote[0].lower(), article_quote)) as f:\n",
    "        try:\n",
    "            art_html = f.read()\n",
    "        except:\n",
    "            print(source)\n",
    "            return -1\n",
    "\n",
    "    soup = BeautifulSoup(art_html, features=\"html.parser\")\n",
    "    for script in soup([\"script\", \"style\", \"head\"]):\n",
    "        script.extract()    # rip it out\n",
    "\n",
    "    comments = soup.findAll(string=lambda string:isinstance(string, Comment))\n",
    "    for comment in comments:\n",
    "        comment.extract()\n",
    "        \n",
    "    locators = []\n",
    "    \n",
    "    for tgt in targets:\n",
    "        try:\n",
    "            locator = gen_uniq_str(urllib.parse.unquote_plus(tgt))\n",
    "            locators.append(locator)\n",
    "            #soup.find('a', attrs={'title': tgt.replace(\"_\", \" \")}).replace_with(locator)\n",
    "            \n",
    "            soup.select_one(f'a[href*=\"/{urllib.parse.quote_plus(tgt)}.htm\"]').replace_with(locator)\n",
    "        except Exception as e:\n",
    "            k = f'a[href*=\"{urllib.parse.quote_plus(tgt)}.htm\"]'\n",
    "            print(k)\n",
    "            print(source, tgt)\n",
    "            pass\n",
    "    \n",
    "    text = \" \".join(soup.text.split())\n",
    "    \n",
    "    pos = {}\n",
    "    for iloc, loc in enumerate(locators):\n",
    "        pos[targets[iloc]] = text.find(loc)/len(text)\n",
    "        \n",
    "    return pos\n"
   ]
  },
  {
   "cell_type": "code",
   "execution_count": 184,
   "id": "d5c18ac4",
   "metadata": {},
   "outputs": [
    {
     "data": {
      "text/plain": [
       "<a href=\"../../wp/n/Norman_conquest_of_England.htm\" title=\"Norman conquest of England\">Norman conquest of England</a>"
      ]
     },
     "execution_count": 184,
     "metadata": {},
     "output_type": "execute_result"
    }
   ],
   "source": [
    "with open(\"data/wpcd/wp/1/11th_century.htm\") as fp:\n",
    "    soup = BeautifulSoup(fp, 'html.parser')\n",
    "    \n",
    "for script in soup([\"script\", \"style\", \"head\"]):\n",
    "    script.extract()    # rip it out\n",
    "\n",
    "comments = soup.findAll(string=lambda string:isinstance(string, Comment))\n",
    "for comment in comments:\n",
    "    comment.extract()\n",
    "    \n",
    "soup.select_one('a[href*=\"Nigeria.htm\"]').replace_with(\"sdf\")\n",
    "soup.select_one('a[href*=\"Norman_conquest_of_England.htm\"]')"
   ]
  },
  {
   "cell_type": "code",
   "execution_count": 185,
   "id": "7e69f5bb",
   "metadata": {},
   "outputs": [
    {
     "data": {
      "text/plain": [
       "{'10th_century': 0.021573604060913704,\n",
       " '12th_century': 0.025944726452340666,\n",
       " '13th_century': 0.9242808798646363,\n",
       " '14th_century': 0.9262549351381839,\n",
       " '15th_century': 0.9282289904117316,\n",
       " '16th_century': 0.9302030456852792,\n",
       " '17th_century': 0.9321771009588269,\n",
       " '18th_century': 0.9341511562323745,\n",
       " '19th_century': 0.9361252115059222,\n",
       " '1st_century': 0.9049633389734912,\n",
       " '1st_century_BC': 0.9020022560631697,\n",
       " '20th_century': 0.9380992667794699,\n",
       " '21st_century': 0.9407783417935702,\n",
       " '2nd_century': 0.9067963902989283,\n",
       " '3rd_century': 0.9086294416243654,\n",
       " '4th_century': 0.9104624929498026,\n",
       " '5th_century': 0.9122955442752397,\n",
       " '6th_century': 0.9141285956006768,\n",
       " '7th_century': 0.9159616469261139,\n",
       " '8th_century': 0.917794698251551,\n",
       " '9th_century': 0.9196277495769881,\n",
       " 'Battle_of_Hastings': 0.37408347433728145,\n",
       " 'Byzantine_Empire': 0.20727580372250423,\n",
       " 'Canute_the_Great': 0.6603214890016921,\n",
       " 'China': 0.7329385222786238,\n",
       " 'Crusades': 0.14438804286520024,\n",
       " 'Dark_Ages': 0.1042019176536943,\n",
       " 'Domesday_Book': 0.5441342357586012,\n",
       " 'East-West_Schism': 0.446136491821771,\n",
       " 'Edward_the_Confessor': 0.49379582628313595,\n",
       " 'England': 0.5004230118443317,\n",
       " 'First_Crusade': 0.5705019740552736,\n",
       " 'France': 0.7265933446136492,\n",
       " 'Ghana': 0.5234066553863508,\n",
       " 'India': 0.40947546531302875,\n",
       " 'Jerusalem': 0.5738860688099267,\n",
       " 'Leif_Ericson': 0.4218838127467569,\n",
       " 'Macbeth_of_Scotland': 0.4397913141567964,\n",
       " 'Mauritania': 0.6146362098138748,\n",
       " 'Myanmar': 0.577834179357022,\n",
       " 'Nigeria': 0.6022278623801467,\n",
       " 'Norman_conquest_of_England': 0.24492385786802032,\n",
       " 'North_America': 0.43147208121827413,\n",
       " 'Novel': 0.7421037789058094,\n",
       " 'Portugal': 0.4880146644106035,\n",
       " 'Time': 0.04314720812182741,\n",
       " 'Viking': 0.4196277495769882,\n",
       " 'William_I_of_England': 0.7027636773829667}"
      ]
     },
     "execution_count": 185,
     "metadata": {},
     "output_type": "execute_result"
    }
   ],
   "source": [
    "row = link_network_targets.query('source == \"11th_century\"').iloc[0]\n",
    "find_html_position(row['source'], row['target'])"
   ]
  },
  {
   "cell_type": "code",
   "execution_count": null,
   "id": "2474e268",
   "metadata": {},
   "outputs": [],
   "source": []
  },
  {
   "cell_type": "code",
   "execution_count": 194,
   "id": "dd9a2aee",
   "metadata": {},
   "outputs": [],
   "source": [
    "def filter_rows_by_values(df, col, values):\n",
    "    return df[~df[col].isin(values)]\n",
    "\n",
    "link_network = filter_rows_by_values(link_network, 'source', ['Friend_Directdebit', 'Sponsorship_Directdebit'])\n",
    "link_network_targets = link_network.groupby('source')['target'].apply(list).reset_index()"
   ]
  },
  {
   "cell_type": "code",
   "execution_count": 195,
   "id": "f101f4d8",
   "metadata": {},
   "outputs": [
    {
     "name": "stdout",
     "output_type": "stream",
     "text": [
      "a[href*=\"Genghis_Khan.htm\"]\n",
      "Genghis_Khan Genghis_Khan\n",
      "a[href*=\"Germany.htm\"]\n",
      "List_of_European_Union_member_states_by_accession Germany\n",
      "a[href*=\"Ireland.htm\"]\n",
      "List_of_European_Union_member_states_by_accession Ireland\n"
     ]
    }
   ],
   "source": [
    "# Add the 'html_position' column to the DataFrame\n",
    "link_network_targets['html_position'] = link_network_targets.apply(\n",
    "    lambda row: find_html_position(row['source'], row['target']), axis=1\n",
    ")\n"
   ]
  },
  {
   "cell_type": "code",
   "execution_count": 196,
   "id": "bfc040dd",
   "metadata": {},
   "outputs": [
    {
     "data": {
      "text/html": [
       "<div>\n",
       "<style scoped>\n",
       "    .dataframe tbody tr th:only-of-type {\n",
       "        vertical-align: middle;\n",
       "    }\n",
       "\n",
       "    .dataframe tbody tr th {\n",
       "        vertical-align: top;\n",
       "    }\n",
       "\n",
       "    .dataframe thead th {\n",
       "        text-align: right;\n",
       "    }\n",
       "</style>\n",
       "<table border=\"1\" class=\"dataframe\">\n",
       "  <thead>\n",
       "    <tr style=\"text-align: right;\">\n",
       "      <th></th>\n",
       "      <th>source</th>\n",
       "      <th>target</th>\n",
       "      <th>html_position</th>\n",
       "    </tr>\n",
       "  </thead>\n",
       "  <tbody>\n",
       "    <tr>\n",
       "      <th>0</th>\n",
       "      <td>%C3%81ed%C3%A1n_mac_Gabr%C3%A1in</td>\n",
       "      <td>[Columba, D%C3%A1l_Riata, Great_Britain, Irela...</td>\n",
       "      <td>{'Columba': 0.0374586852735953, 'D%C3%A1l_Riat...</td>\n",
       "    </tr>\n",
       "    <tr>\n",
       "      <th>1</th>\n",
       "      <td>%C3%85land</td>\n",
       "      <td>[20th_century, Baltic_Sea, Crimean_War, Curren...</td>\n",
       "      <td>{'20th_century': 0.4077241923810777, 'Baltic_S...</td>\n",
       "    </tr>\n",
       "    <tr>\n",
       "      <th>2</th>\n",
       "      <td>%C3%89douard_Manet</td>\n",
       "      <td>[Absinthe, Beer, Claude_Monet, Diego_Vel%C3%A1...</td>\n",
       "      <td>{'Absinthe': 0.11527492584987452, 'Beer': 0.60...</td>\n",
       "    </tr>\n",
       "    <tr>\n",
       "      <th>3</th>\n",
       "      <td>%C3%89ire</td>\n",
       "      <td>[Canada, English_language, George_VI_of_the_Un...</td>\n",
       "      <td>{'Canada': 0.4879246498148446, 'English_langua...</td>\n",
       "    </tr>\n",
       "    <tr>\n",
       "      <th>4</th>\n",
       "      <td>%C3%93engus_I_of_the_Picts</td>\n",
       "      <td>[D%C3%A1l_Riata, Durham, England, Great_Britai...</td>\n",
       "      <td>{'D%C3%A1l_Riata': 0.08427483471420202, 'Durha...</td>\n",
       "    </tr>\n",
       "  </tbody>\n",
       "</table>\n",
       "</div>"
      ],
      "text/plain": [
       "                             source  \\\n",
       "0  %C3%81ed%C3%A1n_mac_Gabr%C3%A1in   \n",
       "1                        %C3%85land   \n",
       "2                %C3%89douard_Manet   \n",
       "3                         %C3%89ire   \n",
       "4        %C3%93engus_I_of_the_Picts   \n",
       "\n",
       "                                              target  \\\n",
       "0  [Columba, D%C3%A1l_Riata, Great_Britain, Irela...   \n",
       "1  [20th_century, Baltic_Sea, Crimean_War, Curren...   \n",
       "2  [Absinthe, Beer, Claude_Monet, Diego_Vel%C3%A1...   \n",
       "3  [Canada, English_language, George_VI_of_the_Un...   \n",
       "4  [D%C3%A1l_Riata, Durham, England, Great_Britai...   \n",
       "\n",
       "                                       html_position  \n",
       "0  {'Columba': 0.0374586852735953, 'D%C3%A1l_Riat...  \n",
       "1  {'20th_century': 0.4077241923810777, 'Baltic_S...  \n",
       "2  {'Absinthe': 0.11527492584987452, 'Beer': 0.60...  \n",
       "3  {'Canada': 0.4879246498148446, 'English_langua...  \n",
       "4  {'D%C3%A1l_Riata': 0.08427483471420202, 'Durha...  "
      ]
     },
     "metadata": {},
     "output_type": "display_data"
    },
    {
     "data": {
      "text/plain": [
       "(4585, 3)"
      ]
     },
     "execution_count": 196,
     "metadata": {},
     "output_type": "execute_result"
    }
   ],
   "source": [
    "display(link_network_targets.head(5))\n",
    "link_network_targets.shape"
   ]
  },
  {
   "cell_type": "code",
   "execution_count": 208,
   "id": "7e30ee4d",
   "metadata": {},
   "outputs": [],
   "source": [
    "m = pd.DataFrame([*link_network_targets['html_position']], link_network_targets.index).stack()\\\n",
    "      .rename_axis([None,'target']).reset_index(1, name='position')\n",
    "\n",
    "link_network_pos = link_network_targets[['source']].join(m)"
   ]
  },
  {
   "cell_type": "code",
   "execution_count": 209,
   "id": "30c7399c",
   "metadata": {},
   "outputs": [
    {
     "data": {
      "text/html": [
       "<div>\n",
       "<style scoped>\n",
       "    .dataframe tbody tr th:only-of-type {\n",
       "        vertical-align: middle;\n",
       "    }\n",
       "\n",
       "    .dataframe tbody tr th {\n",
       "        vertical-align: top;\n",
       "    }\n",
       "\n",
       "    .dataframe thead th {\n",
       "        text-align: right;\n",
       "    }\n",
       "</style>\n",
       "<table border=\"1\" class=\"dataframe\">\n",
       "  <thead>\n",
       "    <tr style=\"text-align: right;\">\n",
       "      <th></th>\n",
       "      <th>source</th>\n",
       "      <th>target</th>\n",
       "      <th>position</th>\n",
       "    </tr>\n",
       "  </thead>\n",
       "  <tbody>\n",
       "    <tr>\n",
       "      <th>0</th>\n",
       "      <td>%C3%81ed%C3%A1n_mac_Gabr%C3%A1in</td>\n",
       "      <td>Columba</td>\n",
       "      <td>0.037459</td>\n",
       "    </tr>\n",
       "    <tr>\n",
       "      <th>1</th>\n",
       "      <td>%C3%81ed%C3%A1n_mac_Gabr%C3%A1in</td>\n",
       "      <td>D%C3%A1l_Riata</td>\n",
       "      <td>0.025523</td>\n",
       "    </tr>\n",
       "    <tr>\n",
       "      <th>2</th>\n",
       "      <td>%C3%81ed%C3%A1n_mac_Gabr%C3%A1in</td>\n",
       "      <td>Great_Britain</td>\n",
       "      <td>0.058024</td>\n",
       "    </tr>\n",
       "    <tr>\n",
       "      <th>3</th>\n",
       "      <td>%C3%81ed%C3%A1n_mac_Gabr%C3%A1in</td>\n",
       "      <td>Ireland</td>\n",
       "      <td>0.032042</td>\n",
       "    </tr>\n",
       "    <tr>\n",
       "      <th>4</th>\n",
       "      <td>%C3%81ed%C3%A1n_mac_Gabr%C3%A1in</td>\n",
       "      <td>Isle_of_Man</td>\n",
       "      <td>0.063349</td>\n",
       "    </tr>\n",
       "  </tbody>\n",
       "</table>\n",
       "</div>"
      ],
      "text/plain": [
       "                             source          target  position\n",
       "0  %C3%81ed%C3%A1n_mac_Gabr%C3%A1in         Columba  0.037459\n",
       "1  %C3%81ed%C3%A1n_mac_Gabr%C3%A1in  D%C3%A1l_Riata  0.025523\n",
       "2  %C3%81ed%C3%A1n_mac_Gabr%C3%A1in   Great_Britain  0.058024\n",
       "3  %C3%81ed%C3%A1n_mac_Gabr%C3%A1in         Ireland  0.032042\n",
       "4  %C3%81ed%C3%A1n_mac_Gabr%C3%A1in     Isle_of_Man  0.063349"
      ]
     },
     "metadata": {},
     "output_type": "display_data"
    },
    {
     "data": {
      "text/plain": [
       "(119878, 3)"
      ]
     },
     "execution_count": 209,
     "metadata": {},
     "output_type": "execute_result"
    }
   ],
   "source": [
    "link_network_pos = pd.merge(link_network, link_network_pos, on=['source', 'target'], how='left')\n",
    "link_network_pos.to_pickle('link_network_w_position.df')\n",
    "display(link_network_pos.head(5))\n",
    "link_network_pos.shape"
   ]
  },
  {
   "cell_type": "code",
   "execution_count": 221,
   "id": "e0d38798",
   "metadata": {},
   "outputs": [],
   "source": [
    "def calculate_positions(arts):\n",
    "    if '<' in arts: return [float('nan')]\n",
    "    articles = arts.split(';')\n",
    "    \n",
    "    if len(articles) < 2: return [float('nan')]\n",
    "    \n",
    "    positions = []\n",
    "    \n",
    "    art_idx = 0\n",
    "    \n",
    "    for idx, art in enumerate(articles[1:]):\n",
    "        art0 = articles[art_idx]\n",
    "        try:          \n",
    "            positions.append(link_network_pos[(link_network_pos['source'] == art0)\n",
    "                            & (link_network_pos['target'] == art)]['position'].values[0])\n",
    "            art_idx = idx+1\n",
    "        except:\n",
    "            print(art0, art, arts)\n",
    "            return [float('nan')]\n",
    "    \n",
    "    return positions"
   ]
  },
  {
   "cell_type": "code",
   "execution_count": 222,
   "id": "3f2484ff",
   "metadata": {},
   "outputs": [
    {
     "name": "stdout",
     "output_type": "stream",
     "text": [
      "Bird Wikipedia_Text_of_the_GNU_Free_Documentation_License Bird;Wikipedia_Text_of_the_GNU_Free_Documentation_License\n",
      "Finland %C3%85land Euro;Finland;%C3%85land;Baltic_Sea;Atlantic_Ocean;Whale\n",
      "Republic_of_Ireland %C3%89ire Democratic_Action_Party;Parliament_of_Malaysia;United_Kingdom;Republic_of_Ireland;%C3%89ire;Canada;Vancouver;North_America;Florida;Fruit\n",
      "Claude_Monet %C3%89douard_Manet The_Cantos;Renaissance;Leonardo_da_Vinci;Mona_Lisa;Oil_painting;Impressionism;Claude_Monet;%C3%89douard_Manet;Diego_Vel%C3%A1zquez;Francisco_Goya;Printmaking\n",
      "Republic_of_Ireland %C3%89ire Government_of_France;France;European_Union;Republic_of_Ireland;%C3%89ire\n",
      "Impressionism %C3%89douard_Manet Mahatma_Gandhi;New_York_City;Culture;Literature;Fiction;Art;Expressionism;Impressionism;%C3%89douard_Manet;Edgar_Allan_Poe;Employment;Wikipedia_Text_of_the_GNU_Free_Documentation_License\n",
      "Basilica_of_Santa_Maria_degli_Angeli Wikipedia_Text_of_the_GNU_Free_Documentation_License Basilica_of_Santa_Maria_degli_Angeli;Wikipedia_Text_of_the_GNU_Free_Documentation_License\n",
      "Open_source Wikipedia_Text_of_the_GNU_Free_Documentation_License Open_source;Wikipedia_Text_of_the_GNU_Free_Documentation_License\n",
      "Cosmic_microwave_background_radiation Wikipedia_Text_of_the_GNU_Free_Documentation_License Cosmic_microwave_background_radiation;Wikipedia_Text_of_the_GNU_Free_Documentation_License\n",
      "Finland %C3%85land Silver;Middle_Ages;Franks;Netherlands;Finland;%C3%85land\n",
      "Cuckmere_Haven Wikipedia_Text_of_the_GNU_Free_Documentation_License Cuckmere_Haven;Wikipedia_Text_of_the_GNU_Free_Documentation_License\n",
      "Blackbird Wikipedia_Text_of_the_GNU_Free_Documentation_License Blackbird;Wikipedia_Text_of_the_GNU_Free_Documentation_License\n",
      "Watercolor_painting Wikipedia_Text_of_the_GNU_Free_Documentation_License Watercolor_painting;Wikipedia_Text_of_the_GNU_Free_Documentation_License\n",
      "Red_Sea Wikipedia_Text_of_the_GNU_Free_Documentation_License Red_Sea;Wikipedia_Text_of_the_GNU_Free_Documentation_License\n",
      "Liverpool_F.C. Wikipedia_Text_of_the_GNU_Free_Documentation_License Liverpool_F.C.;Wikipedia_Text_of_the_GNU_Free_Documentation_License\n",
      "World_War_I Wikipedia_Text_of_the_GNU_Free_Documentation_License Tower_Bridge;Granite;Quartz;Silver;Chocolate;J._S._Fry_%26_Sons;World_War_I;Wikipedia_Text_of_the_GNU_Free_Documentation_License\n",
      "The_Fairy-Queen Wikipedia_Text_of_the_GNU_Free_Documentation_License Theatre;Opera;Dido_and_Aeneas;The_Fairy-Queen;Wikipedia_Text_of_the_GNU_Free_Documentation_License\n",
      "Cleveland%2C_Ohio Wikipedia_Text_of_the_GNU_Free_Documentation_License Robert_Stephenson;Rail_transport;Cleveland%2C_Ohio;Wikipedia_Text_of_the_GNU_Free_Documentation_License\n",
      "Swastika Wikipedia_Text_of_the_GNU_Free_Documentation_License Swastika;Wikipedia_Text_of_the_GNU_Free_Documentation_License\n",
      "Film Wikipedia_Text_of_the_GNU_Free_Documentation_License Asteroid;Film;Wikipedia_Text_of_the_GNU_Free_Documentation_License\n",
      "Tuna Wikipedia_Text_of_the_GNU_Free_Documentation_License Tuna;Wikipedia_Text_of_the_GNU_Free_Documentation_License\n",
      "Technology Wikipedia_Text_of_the_GNU_Free_Documentation_License Brain;Vertebrate;Human;Chimpanzee;20th_century;Television;Technology;Wikipedia_Text_of_the_GNU_Free_Documentation_License\n",
      "Peak_District Wikipedia_Text_of_the_GNU_Free_Documentation_License Peak_District;Wikipedia_Text_of_the_GNU_Free_Documentation_License\n",
      "Ordinary_differential_equation Wikipedia_Text_of_the_GNU_Free_Documentation_License Ordinary_differential_equation;Wikipedia_Text_of_the_GNU_Free_Documentation_License\n",
      "San_Francisco%2C_California Wikipedia_Text_of_the_GNU_Free_Documentation_License Tsar_Bomba;Russian_language;Los_Angeles%2C_California;California;San_Francisco%2C_California;Wikipedia_Text_of_the_GNU_Free_Documentation_License\n",
      "Glass Wikipedia_Text_of_the_GNU_Free_Documentation_License Glass;Wikipedia_Text_of_the_GNU_Free_Documentation_License\n",
      "Juice Wikipedia_Text_of_the_GNU_Free_Documentation_License Juice;Wikipedia_Text_of_the_GNU_Free_Documentation_License\n",
      "Ireland %C3%89ire Liverpool_F.C.;Europe;Dublin;Republic_of_Ireland;Church_of_Ireland;Northern_Ireland;Ireland;%C3%89ire\n",
      "Tony_Blair Wikipedia_Text_of_the_GNU_Free_Documentation_License Tony_Blair;Wikipedia_Text_of_the_GNU_Free_Documentation_License\n",
      "Hydrogen Wikipedia_Text_of_the_GNU_Free_Documentation_License Aircraft;Hydrogen;Wikipedia_Text_of_the_GNU_Free_Documentation_License\n",
      "Cat Wikipedia_Text_of_the_GNU_Free_Documentation_License Cat;Wikipedia_Text_of_the_GNU_Free_Documentation_License\n",
      "Cat Wikipedia_Text_of_the_GNU_Free_Documentation_License Cat;Wikipedia_Text_of_the_GNU_Free_Documentation_License\n",
      "Microsoft_Windows Wikipedia_Text_of_the_GNU_Free_Documentation_License Microsoft_Windows;Wikipedia_Text_of_the_GNU_Free_Documentation_License\n",
      "Cheetah Wikipedia_Text_of_the_GNU_Free_Documentation_License Cat;Cheetah;Wikipedia_Text_of_the_GNU_Free_Documentation_License\n",
      "Color Wikipedia_Text_of_the_GNU_Free_Documentation_License Cat;Color;Wikipedia_Text_of_the_GNU_Free_Documentation_License\n",
      "Coal Wikipedia_Text_of_the_GNU_Free_Documentation_License Batman;Chemistry;Energy;Coal;Wikipedia_Text_of_the_GNU_Free_Documentation_License\n",
      "Miguel_de_Cervantes Wikipedia_Text_of_the_GNU_Free_Documentation_License Miguel_de_Cervantes;Wikipedia_Text_of_the_GNU_Free_Documentation_License\n",
      "Household_income_in_the_United_States Wikipedia_Text_of_the_GNU_Free_Documentation_License Pyramid;Mexico;Guatemala;United_States;Household_income_in_the_United_States;Wikipedia_Text_of_the_GNU_Free_Documentation_License\n",
      "North_America Wikipedia_Text_of_the_GNU_Free_Documentation_License Bird_migration;North_America;Wikipedia_Text_of_the_GNU_Free_Documentation_License\n",
      "Cat Wikipedia_Text_of_the_GNU_Free_Documentation_License Cat;Wikipedia_Text_of_the_GNU_Free_Documentation_License\n",
      "Batman Wikipedia_Text_of_the_GNU_Free_Documentation_License Batman;Wikipedia_Text_of_the_GNU_Free_Documentation_License\n",
      "Cat Wikipedia_Text_of_the_GNU_Free_Documentation_License Cat;Wikipedia_Text_of_the_GNU_Free_Documentation_License\n",
      "World_Health_Organization Wikipedia_Text_of_the_GNU_Free_Documentation_License Pneumonia;Health;World_Health_Organization;Wikipedia_Text_of_the_GNU_Free_Documentation_License\n",
      "Makuria Wikipedia_Text_of_the_GNU_Free_Documentation_License Makuria;Wikipedia_Text_of_the_GNU_Free_Documentation_License\n",
      "Autumn Wikipedia_Text_of_the_GNU_Free_Documentation_License Autumn;Wikipedia_Text_of_the_GNU_Free_Documentation_License\n",
      "Republic_of_Ireland %C3%89ire Abidjan;Capital;British_Empire;Republic_of_Ireland;%C3%89ire;Ireland\n",
      "Ireland %C3%89ire Henry_Morrison_Flagler;Latin_America;German_language;Latin_alphabet;Old_English_language;Scotland;Scottish_Gaelic_language;Ireland;%C3%89ire\n",
      "Islam Wikipedia_Text_of_the_GNU_Free_Documentation_License God;Islam;Wikipedia_Text_of_the_GNU_Free_Documentation_License\n",
      "Technology Wikipedia_Text_of_the_GNU_Free_Documentation_License Diamond_cut;Crystal;Glass;Integrated_circuit;Computer;Telephone;Radio;Woodrow_Wilson;World_War_I;Technology;Wikipedia_Text_of_the_GNU_Free_Documentation_License\n",
      "Germanium Wikipedia_Text_of_the_GNU_Free_Documentation_License Germanium;Wikipedia_Text_of_the_GNU_Free_Documentation_License\n",
      "Accountancy Wikipedia_Text_of_the_GNU_Free_Documentation_License Lutetium;Chemical_element;Latin_alphabet;Alphabet;English_language;Internet;Accountancy;Wikipedia_Text_of_the_GNU_Free_Documentation_License\n",
      "Maxwell%27s_equations Wikipedia_Text_of_the_GNU_Free_Documentation_License Psychology;Brain;Action_potential;Capacitance;James_Clerk_Maxwell;Maxwell%27s_equations;Wikipedia_Text_of_the_GNU_Free_Documentation_License\n",
      "Finance Wikipedia_Text_of_the_GNU_Free_Documentation_License Finance;Wikipedia_Text_of_the_GNU_Free_Documentation_License\n",
      "Culture Wikipedia_Text_of_the_GNU_Free_Documentation_License Ethics;Society;Culture;Wikipedia_Text_of_the_GNU_Free_Documentation_License\n",
      "Fungus Wikipedia_Text_of_the_GNU_Free_Documentation_License Sequoia;Fungus;Wikipedia_Text_of_the_GNU_Free_Documentation_License\n",
      "European_Union Wikipedia_Text_of_the_GNU_Free_Documentation_License Jesus;Anno_Domini;Latin;Rome;Europe;European_Union;Wikipedia_Text_of_the_GNU_Free_Documentation_License\n",
      "Ice Wikipedia_Text_of_the_GNU_Free_Documentation_License Ice;Wikipedia_Text_of_the_GNU_Free_Documentation_License\n",
      "Manorialism Wikipedia_Text_of_the_GNU_Free_Documentation_License Manorialism;Wikipedia_Text_of_the_GNU_Free_Documentation_License\n"
     ]
    },
    {
     "name": "stdout",
     "output_type": "stream",
     "text": [
      "Georgia_%28country%29 Wikipedia_Text_of_the_GNU_Free_Documentation_License Jesus;Mosaic;Georgia_%28country%29;Wikipedia_Text_of_the_GNU_Free_Documentation_License\n",
      "Jesus Wikipedia_Text_of_the_GNU_Free_Documentation_License Jesus;Wikipedia_Text_of_the_GNU_Free_Documentation_License\n",
      "Bronze_Age Wikipedia_Text_of_the_GNU_Free_Documentation_License Axe;Bronze_Age;Wikipedia_Text_of_the_GNU_Free_Documentation_License\n"
     ]
    }
   ],
   "source": [
    "finished_paths['link_positions'] = finished_paths['path'].apply(calculate_positions)\n",
    "unfinished_paths['link_positions'] = unfinished_paths['path'].apply(calculate_positions)"
   ]
  },
  {
   "cell_type": "code",
   "execution_count": 232,
   "id": "fbc4565e",
   "metadata": {},
   "outputs": [],
   "source": [
    "get_avg_duration = lambda row: row['durationInSec'] / len(row['path'].split(';'))\n",
    "finished_paths['avg_duration'] = finished_paths.apply(get_avg_duration, axis=1)\n",
    "unfinished_paths['avg_duration'] = unfinished_paths.apply(get_avg_duration, axis=1)"
   ]
  },
  {
   "cell_type": "code",
   "execution_count": 234,
   "id": "e682946c",
   "metadata": {},
   "outputs": [],
   "source": [
    "finished_paths['avg_position'] = finished_paths['link_positions'].apply(\n",
    "    lambda x: np.mean(x) if x else np.nan)\n",
    "unfinished_paths['avg_position'] = unfinished_paths['link_positions'].apply(\n",
    "    lambda x: np.mean(x) if x else np.nan)\n",
    "\n",
    "finished_paths['max_position'] = finished_paths['link_positions'].apply(\n",
    "    lambda x: np.max(x) if x else np.nan)\n",
    "unfinished_paths['max_position'] = unfinished_paths['link_positions'].apply(\n",
    "    lambda x: np.max(x) if x else np.nan)"
   ]
  },
  {
   "cell_type": "markdown",
   "id": "b7cb9241",
   "metadata": {},
   "source": [
    "Preliminary analysis\n",
    "-----------------------------"
   ]
  },
  {
   "cell_type": "code",
   "execution_count": 236,
   "id": "8d86c1b5",
   "metadata": {},
   "outputs": [
    {
     "data": {
      "text/html": [
       "<div>\n",
       "<style scoped>\n",
       "    .dataframe tbody tr th:only-of-type {\n",
       "        vertical-align: middle;\n",
       "    }\n",
       "\n",
       "    .dataframe tbody tr th {\n",
       "        vertical-align: top;\n",
       "    }\n",
       "\n",
       "    .dataframe thead th {\n",
       "        text-align: right;\n",
       "    }\n",
       "</style>\n",
       "<table border=\"1\" class=\"dataframe\">\n",
       "  <thead>\n",
       "    <tr style=\"text-align: right;\">\n",
       "      <th></th>\n",
       "      <th>source_count</th>\n",
       "      <th>target_count</th>\n",
       "      <th>target_source_ratio</th>\n",
       "    </tr>\n",
       "  </thead>\n",
       "  <tbody>\n",
       "    <tr>\n",
       "      <th>count</th>\n",
       "      <td>4592.000000</td>\n",
       "      <td>4592.000000</td>\n",
       "      <td>4587.000000</td>\n",
       "    </tr>\n",
       "    <tr>\n",
       "      <th>mean</th>\n",
       "      <td>26.106490</td>\n",
       "      <td>26.106490</td>\n",
       "      <td>0.859391</td>\n",
       "    </tr>\n",
       "    <tr>\n",
       "      <th>std</th>\n",
       "      <td>24.196551</td>\n",
       "      <td>62.814634</td>\n",
       "      <td>1.439986</td>\n",
       "    </tr>\n",
       "    <tr>\n",
       "      <th>min</th>\n",
       "      <td>0.000000</td>\n",
       "      <td>0.000000</td>\n",
       "      <td>0.000000</td>\n",
       "    </tr>\n",
       "    <tr>\n",
       "      <th>25%</th>\n",
       "      <td>11.000000</td>\n",
       "      <td>2.000000</td>\n",
       "      <td>0.166667</td>\n",
       "    </tr>\n",
       "    <tr>\n",
       "      <th>50%</th>\n",
       "      <td>19.000000</td>\n",
       "      <td>8.000000</td>\n",
       "      <td>0.470588</td>\n",
       "    </tr>\n",
       "    <tr>\n",
       "      <th>75%</th>\n",
       "      <td>33.000000</td>\n",
       "      <td>25.000000</td>\n",
       "      <td>1.040213</td>\n",
       "    </tr>\n",
       "    <tr>\n",
       "      <th>max</th>\n",
       "      <td>294.000000</td>\n",
       "      <td>1551.000000</td>\n",
       "      <td>42.250000</td>\n",
       "    </tr>\n",
       "  </tbody>\n",
       "</table>\n",
       "</div>"
      ],
      "text/plain": [
       "       source_count  target_count  target_source_ratio\n",
       "count   4592.000000   4592.000000          4587.000000\n",
       "mean      26.106490     26.106490             0.859391\n",
       "std       24.196551     62.814634             1.439986\n",
       "min        0.000000      0.000000             0.000000\n",
       "25%       11.000000      2.000000             0.166667\n",
       "50%       19.000000      8.000000             0.470588\n",
       "75%       33.000000     25.000000             1.040213\n",
       "max      294.000000   1551.000000            42.250000"
      ]
     },
     "execution_count": 236,
     "metadata": {},
     "output_type": "execute_result"
    }
   ],
   "source": [
    "link_counts.describe()"
   ]
  },
  {
   "cell_type": "code",
   "execution_count": 243,
   "id": "0417dedc",
   "metadata": {},
   "outputs": [
    {
     "data": {
      "image/png": "[encoded data removed]",
      "text/plain": [
       "<Figure size 1500x1000 with 4 Axes>"
      ]
     },
     "metadata": {},
     "output_type": "display_data"
    }
   ],
   "source": [
    "fig, axs = plt.subplots(2, 2, figsize=(15, 10))\n",
    "\n",
    "ax = axs[0, 0]\n",
    "\n",
    "sns.histplot(link_counts['source_count']+1, bins=30, kde=True, ax=ax)  # Create a histogram with a kernel density estimate\n",
    "ax.set_xlabel('Source Count')\n",
    "ax.set_ylabel('Frequency')\n",
    "ax.set_title('Distribution of Source Count')\n",
    "\n",
    "ax = axs[0, 1]\n",
    "\n",
    "sns.histplot(link_counts['source_count']+1, bins=30, kde=True, log_scale=True, ax=ax)  # Create a histogram with a kernel density estimate\n",
    "ax.set_xlabel('Source Count')\n",
    "ax.set_ylabel('Frequency')\n",
    "ax.set_title('Distribution of Source Count')\n",
    "\n",
    "ax = axs[1, 0]\n",
    "\n",
    "sns.histplot(link_counts['target_count'], bins=30, kde=True, ax=ax)  # Create a histogram with a kernel density estimate\n",
    "ax.set_xlabel('Target Count')\n",
    "ax.set_ylabel('Frequency')\n",
    "ax.set_title('Distribution of Target Count')\n",
    "\n",
    "\n",
    "ax = axs[1, 1]\n",
    "\n",
    "sns.histplot(link_counts['target_count']+1, bins=30, kde=True, log_scale=True, ax=ax)  # Create a histogram with a kernel density estimate\n",
    "ax.set_xlabel('Target Count')\n",
    "ax.set_ylabel('Frequency')\n",
    "ax.set_title('Distribution of Target Count')\n",
    "\n",
    "plt.show()\n"
   ]
  },
  {
   "cell_type": "code",
   "execution_count": 260,
   "id": "21d75ed1",
   "metadata": {},
   "outputs": [
    {
     "data": {
      "image/png": "[encoded data removed]",
      "text/plain": [
       "<Figure size 1500x500 with 2 Axes>"
      ]
     },
     "metadata": {},
     "output_type": "display_data"
    }
   ],
   "source": [
    "fig, axs = plt.subplots(1,2, figsize=(15, 5))\n",
    "\n",
    "ax = axs[0]\n",
    "\n",
    "sns.histplot(link_counts['target_source_ratio'], bins=30, kde=True, ax=ax)  # Create a histogram with a kernel density estimate\n",
    "ax.set_xlabel('Target to source ratio')\n",
    "ax.set_ylabel('Frequency')\n",
    "ax.set_title('Distribution of Target to source ratio')\n",
    "\n",
    "ax = axs[1]\n",
    "\n",
    "sns.histplot(link_counts['target_source_ratio']+1, bins=30, log_scale=True, kde=True, ax=ax)  # Create a histogram with a kernel density estimate\n",
    "ax.set_xlabel('Target to source ratio')\n",
    "ax.set_ylabel('Frequency')\n",
    "ax.set_title('Distribution of Target to source ratio')\n",
    "\n",
    "plt.show()"
   ]
  },
  {
   "cell_type": "code",
   "execution_count": 228,
   "id": "72641e6d",
   "metadata": {},
   "outputs": [
    {
     "data": {
      "text/html": [
       "<div>\n",
       "<style scoped>\n",
       "    .dataframe tbody tr th:only-of-type {\n",
       "        vertical-align: middle;\n",
       "    }\n",
       "\n",
       "    .dataframe tbody tr th {\n",
       "        vertical-align: top;\n",
       "    }\n",
       "\n",
       "    .dataframe thead th {\n",
       "        text-align: right;\n",
       "    }\n",
       "</style>\n",
       "<table border=\"1\" class=\"dataframe\">\n",
       "  <thead>\n",
       "    <tr style=\"text-align: right;\">\n",
       "      <th></th>\n",
       "      <th>position</th>\n",
       "    </tr>\n",
       "  </thead>\n",
       "  <tbody>\n",
       "    <tr>\n",
       "      <th>count</th>\n",
       "      <td>119878.000000</td>\n",
       "    </tr>\n",
       "    <tr>\n",
       "      <th>mean</th>\n",
       "      <td>0.405405</td>\n",
       "    </tr>\n",
       "    <tr>\n",
       "      <th>std</th>\n",
       "      <td>0.318017</td>\n",
       "    </tr>\n",
       "    <tr>\n",
       "      <th>min</th>\n",
       "      <td>-0.000080</td>\n",
       "    </tr>\n",
       "    <tr>\n",
       "      <th>25%</th>\n",
       "      <td>0.098042</td>\n",
       "    </tr>\n",
       "    <tr>\n",
       "      <th>50%</th>\n",
       "      <td>0.351382</td>\n",
       "    </tr>\n",
       "    <tr>\n",
       "      <th>75%</th>\n",
       "      <td>0.689618</td>\n",
       "    </tr>\n",
       "    <tr>\n",
       "      <th>max</th>\n",
       "      <td>0.995548</td>\n",
       "    </tr>\n",
       "  </tbody>\n",
       "</table>\n",
       "</div>"
      ],
      "text/plain": [
       "            position\n",
       "count  119878.000000\n",
       "mean        0.405405\n",
       "std         0.318017\n",
       "min        -0.000080\n",
       "25%         0.098042\n",
       "50%         0.351382\n",
       "75%         0.689618\n",
       "max         0.995548"
      ]
     },
     "execution_count": 228,
     "metadata": {},
     "output_type": "execute_result"
    }
   ],
   "source": [
    "link_network_pos.describe()"
   ]
  },
  {
   "cell_type": "code",
   "execution_count": 235,
   "id": "05928b43",
   "metadata": {},
   "outputs": [
    {
     "data": {
      "text/html": [
       "<div>\n",
       "<style scoped>\n",
       "    .dataframe tbody tr th:only-of-type {\n",
       "        vertical-align: middle;\n",
       "    }\n",
       "\n",
       "    .dataframe tbody tr th {\n",
       "        vertical-align: top;\n",
       "    }\n",
       "\n",
       "    .dataframe thead th {\n",
       "        text-align: right;\n",
       "    }\n",
       "</style>\n",
       "<table border=\"1\" class=\"dataframe\">\n",
       "  <thead>\n",
       "    <tr style=\"text-align: right;\">\n",
       "      <th></th>\n",
       "      <th>timestamp</th>\n",
       "      <th>durationInSec</th>\n",
       "      <th>rating</th>\n",
       "      <th>avg_duration</th>\n",
       "      <th>avg_position</th>\n",
       "      <th>max_position</th>\n",
       "    </tr>\n",
       "  </thead>\n",
       "  <tbody>\n",
       "    <tr>\n",
       "      <th>count</th>\n",
       "      <td>5.131700e+04</td>\n",
       "      <td>51317.000000</td>\n",
       "      <td>28501.000000</td>\n",
       "      <td>51317.000000</td>\n",
       "      <td>42307.000000</td>\n",
       "      <td>42307.000000</td>\n",
       "    </tr>\n",
       "    <tr>\n",
       "      <th>mean</th>\n",
       "      <td>1.296384e+09</td>\n",
       "      <td>158.276049</td>\n",
       "      <td>2.269780</td>\n",
       "      <td>22.352658</td>\n",
       "      <td>0.265564</td>\n",
       "      <td>0.592498</td>\n",
       "    </tr>\n",
       "    <tr>\n",
       "      <th>std</th>\n",
       "      <td>4.935134e+07</td>\n",
       "      <td>360.845419</td>\n",
       "      <td>1.110439</td>\n",
       "      <td>49.920621</td>\n",
       "      <td>0.154535</td>\n",
       "      <td>0.283027</td>\n",
       "    </tr>\n",
       "    <tr>\n",
       "      <th>min</th>\n",
       "      <td>1.219095e+09</td>\n",
       "      <td>0.000000</td>\n",
       "      <td>1.000000</td>\n",
       "      <td>0.000000</td>\n",
       "      <td>0.001663</td>\n",
       "      <td>0.001663</td>\n",
       "    </tr>\n",
       "    <tr>\n",
       "      <th>25%</th>\n",
       "      <td>1.250109e+09</td>\n",
       "      <td>60.000000</td>\n",
       "      <td>1.000000</td>\n",
       "      <td>11.571429</td>\n",
       "      <td>0.148665</td>\n",
       "      <td>0.364372</td>\n",
       "    </tr>\n",
       "    <tr>\n",
       "      <th>50%</th>\n",
       "      <td>1.283894e+09</td>\n",
       "      <td>107.000000</td>\n",
       "      <td>2.000000</td>\n",
       "      <td>17.461538</td>\n",
       "      <td>0.249552</td>\n",
       "      <td>0.638645</td>\n",
       "    </tr>\n",
       "    <tr>\n",
       "      <th>75%</th>\n",
       "      <td>1.345232e+09</td>\n",
       "      <td>183.000000</td>\n",
       "      <td>3.000000</td>\n",
       "      <td>26.000000</td>\n",
       "      <td>0.357770</td>\n",
       "      <td>0.845849</td>\n",
       "    </tr>\n",
       "    <tr>\n",
       "      <th>max</th>\n",
       "      <td>1.389823e+09</td>\n",
       "      <td>35091.000000</td>\n",
       "      <td>5.000000</td>\n",
       "      <td>4665.200000</td>\n",
       "      <td>0.988849</td>\n",
       "      <td>0.994416</td>\n",
       "    </tr>\n",
       "  </tbody>\n",
       "</table>\n",
       "</div>"
      ],
      "text/plain": [
       "          timestamp  durationInSec        rating  avg_duration  avg_position  \\\n",
       "count  5.131700e+04   51317.000000  28501.000000  51317.000000  42307.000000   \n",
       "mean   1.296384e+09     158.276049      2.269780     22.352658      0.265564   \n",
       "std    4.935134e+07     360.845419      1.110439     49.920621      0.154535   \n",
       "min    1.219095e+09       0.000000      1.000000      0.000000      0.001663   \n",
       "25%    1.250109e+09      60.000000      1.000000     11.571429      0.148665   \n",
       "50%    1.283894e+09     107.000000      2.000000     17.461538      0.249552   \n",
       "75%    1.345232e+09     183.000000      3.000000     26.000000      0.357770   \n",
       "max    1.389823e+09   35091.000000      5.000000   4665.200000      0.988849   \n",
       "\n",
       "       max_position  \n",
       "count  42307.000000  \n",
       "mean       0.592498  \n",
       "std        0.283027  \n",
       "min        0.001663  \n",
       "25%        0.364372  \n",
       "50%        0.638645  \n",
       "75%        0.845849  \n",
       "max        0.994416  "
      ]
     },
     "execution_count": 235,
     "metadata": {},
     "output_type": "execute_result"
    }
   ],
   "source": [
    "finished_paths.describe()"
   ]
  }
 ],
 "metadata": {
  "kernelspec": {
   "display_name": "Python 3 (ipykernel)",
   "language": "python",
   "name": "python3"
  },
  "language_info": {
   "codemirror_mode": {
    "name": "ipython",
    "version": 3
   },
   "file_extension": ".py",
   "mimetype": "text/x-python",
   "name": "python",
   "nbconvert_exporter": "python",
   "pygments_lexer": "ipython3",
   "version": "3.9.7"
  }
 },
 "nbformat": 4,
 "nbformat_minor": 5
}
