{
 "cells": [
  {
   "cell_type": "code",
   "execution_count": 1,
   "metadata": {
    "execution": {
     "iopub.execute_input": "2023-12-09T09:18:06.340663Z",
     "iopub.status.busy": "2023-12-09T09:18:06.340018Z",
     "iopub.status.idle": "2023-12-09T09:18:06.350114Z",
     "shell.execute_reply": "2023-12-09T09:18:06.348639Z",
     "shell.execute_reply.started": "2023-12-09T09:18:06.340608Z"
    },
    "tags": []
   },
   "outputs": [],
   "source": [
    "import numpy as np\n",
    "import seaborn as sns\n",
    "import pandas as pd\n",
    "import networkx as nx\n",
    "import matplotlib.pyplot as plt\n",
    "import statsmodels.formula.api as smf\n",
    "\n",
    "import html\n",
    "import urllib\n",
    "\n",
    "#from helper_functions import *"
   ]
  },
  {
   "cell_type": "markdown",
   "metadata": {},
   "source": [
    "Reading data\n",
    "------------"
   ]
  },
  {
   "cell_type": "code",
   "execution_count": 2,
   "metadata": {
    "execution": {
     "iopub.execute_input": "2023-12-09T09:22:00.140321Z",
     "iopub.status.busy": "2023-12-09T09:22:00.138644Z",
     "iopub.status.idle": "2023-12-09T09:22:00.149560Z",
     "shell.execute_reply": "2023-12-09T09:22:00.147731Z",
     "shell.execute_reply.started": "2023-12-09T09:22:00.140255Z"
    },
    "tags": []
   },
   "outputs": [],
   "source": [
    "# Marie-Lou's path\n",
    "graphs_path = './data/wikispeedia_paths-and-graph/'"
   ]
  },
  {
   "cell_type": "code",
   "execution_count": 3,
   "metadata": {
    "execution": {
     "iopub.execute_input": "2023-12-09T09:26:10.026172Z",
     "iopub.status.busy": "2023-12-09T09:26:10.024409Z",
     "iopub.status.idle": "2023-12-09T09:26:10.170287Z",
     "shell.execute_reply": "2023-12-09T09:26:10.168079Z",
     "shell.execute_reply.started": "2023-12-09T09:26:10.026097Z"
    },
    "tags": []
   },
   "outputs": [
    {
     "name": "stderr",
     "output_type": "stream",
     "text": [
      "'ls' is not recognized as an internal or external command,\n",
      "operable program or batch file.\n"
     ]
    }
   ],
   "source": [
    "!ls ./data/wikispeedia_paths-and-graph/"
   ]
  },
  {
   "cell_type": "code",
   "execution_count": 4,
   "metadata": {
    "execution": {
     "iopub.execute_input": "2023-12-09T09:26:51.270107Z",
     "iopub.status.busy": "2023-12-09T09:26:51.268614Z",
     "iopub.status.idle": "2023-12-09T09:26:51.280302Z",
     "shell.execute_reply": "2023-12-09T09:26:51.277529Z",
     "shell.execute_reply.started": "2023-12-09T09:26:51.270037Z"
    },
    "tags": []
   },
   "outputs": [],
   "source": [
    "# Matthew's Path\n",
    "# graphs_path = '../ADA_Project_Milestone_2_final/data/wikispeedia_paths-and-graph/'"
   ]
  },
  {
   "cell_type": "code",
   "execution_count": 5,
   "metadata": {
    "execution": {
     "iopub.execute_input": "2023-12-09T09:26:52.993500Z",
     "iopub.status.busy": "2023-12-09T09:26:52.992811Z",
     "iopub.status.idle": "2023-12-09T09:26:53.006785Z",
     "shell.execute_reply": "2023-12-09T09:26:53.004947Z",
     "shell.execute_reply.started": "2023-12-09T09:26:52.993445Z"
    },
    "tags": []
   },
   "outputs": [],
   "source": [
    "def read_tsv(file_name, names=None):\n",
    "    \n",
    "    file_path = graphs_path + f'{file_name}.tsv'\n",
    "    \n",
    "    if not names:\n",
    "        with open(file_path, 'r') as file:\n",
    "            for line in file:\n",
    "                if 'FORMAT' in line:\n",
    "                    format_line = line\n",
    "                    break\n",
    "\n",
    "        names = format_line.split()[2:]\n",
    "    \n",
    "    return pd.read_csv(file_path,\n",
    "                           delimiter='\\t', comment='#', header=0, names=names)"
   ]
  },
  {
   "cell_type": "code",
   "execution_count": 6,
   "metadata": {
    "execution": {
     "iopub.execute_input": "2023-12-09T09:26:53.649201Z",
     "iopub.status.busy": "2023-12-09T09:26:53.648509Z",
     "iopub.status.idle": "2023-12-09T09:26:54.802967Z",
     "shell.execute_reply": "2023-12-09T09:26:54.801351Z",
     "shell.execute_reply.started": "2023-12-09T09:26:53.649112Z"
    },
    "tags": []
   },
   "outputs": [],
   "source": [
    "link_network = read_tsv('links', names=['source', 'target'])\n",
    "categories = read_tsv('categories')\n",
    "finished_paths = read_tsv('paths_finished')\n",
    "unfinished_paths = read_tsv('paths_unfinished')\n",
    "articles = read_tsv('articles')"
   ]
  },
  {
   "cell_type": "markdown",
   "metadata": {},
   "source": [
    "Functions\n",
    "------------"
   ]
  },
  {
   "cell_type": "code",
   "execution_count": 17,
   "metadata": {
    "execution": {
     "iopub.execute_input": "2023-12-09T09:26:58.166842Z",
     "iopub.status.busy": "2023-12-09T09:26:58.166180Z",
     "iopub.status.idle": "2023-12-09T09:26:58.190860Z",
     "shell.execute_reply": "2023-12-09T09:26:58.188796Z",
     "shell.execute_reply.started": "2023-12-09T09:26:58.166785Z"
    },
    "tags": []
   },
   "outputs": [],
   "source": [
    "def article_length(article_name):\n",
    "    ''' Compute the average length of an article, i.e. the number of words'''\n",
    "    article_path = './data/plaintext_articles/'\n",
    "    article = article_path + article_name + '.txt'\n",
    "    \n",
    "    nb_words = 0\n",
    "    with open(article, encoding=\"utf8\") as f:\n",
    "        for line in f:\n",
    "            nb_words += len(line.split())\n",
    "    return nb_words\n",
    "\n",
    "def get_avg_duration(row):\n",
    "    ''' Compute the average duration spent per articles'''\n",
    "    num_steps = len(row['path'].split(';')) - 1\n",
    "    return np.nan if num_steps <= 0 else row['durationInSec'] / num_steps\n",
    "\n",
    "def avg_article_length(path):\n",
    "    '''Compute the average article lenght (i.e. nb of words) along a path of articles'''\n",
    "    avg_article_length = []\n",
    "    for index, row in path.iterrows():\n",
    "        articles = row['path'].split(';')\n",
    "        articles_length = []\n",
    "        for art in articles:\n",
    "            if art != '<': #Not considering backcliks\n",
    "                articles_length.append(article_length(art))\n",
    "        avg_article_length.append(np.mean(articles_length))\n",
    "    return avg_article_length\n",
    "\n",
    "def avg_target_source_ratio(path):\n",
    "    ''' Compute the average ratio of incoming and outgoing links in articles along a path'''\n",
    "    avg_target_source_ratio = []\n",
    "    for index, row in path.iterrows():\n",
    "        articles = row['path'].split(';')\n",
    "        target_source_ratio = []\n",
    "        if '<' in articles: #Not considering backcliks\n",
    "            target_source_ratio.append(float('nan'))\n",
    "        else:\n",
    "            for art in articles:\n",
    "                if art in list(link_counts['article']):\n",
    "                    target_source_ratio.append(link_counts[link_counts['article']==art]['target_source_ratio'].values[0])\n",
    "                else:\n",
    "                    target_source_ratio.append(float('nan'))\n",
    "        avg_target_source_ratio.append(np.nanmean(target_source_ratio))\n",
    "    \n",
    "    return avg_target_source_ratio\n",
    "\n",
    "def calculate_positions(arts):\n",
    "    ''' Compute the relative position of links clicked in a path'''\n",
    "    # ignore backclicks\n",
    "    if '<' in arts: return [float('nan')]\n",
    "    \n",
    "    articles = arts.split(';')\n",
    "    \n",
    "    # ignore paths without actual steps\n",
    "    if len(articles) < 2: return [float('nan')]\n",
    "    \n",
    "    positions = []\n",
    "    \n",
    "    art_idx = 0\n",
    "    \n",
    "    for idx, art in enumerate(articles[1:]):\n",
    "        art0 = articles[art_idx]\n",
    "        try:          \n",
    "            positions.append(link_network_pos[(link_network_pos['source'] == art0)\n",
    "                            & (link_network_pos['target'] == art)]['position'].values[0])\n",
    "            art_idx = idx+1\n",
    "        except:\n",
    "            print(art0, art, arts)\n",
    "            return [float('nan')]\n",
    "    \n",
    "    return positions\n",
    "\n",
    "def normalize(data, column_name):\n",
    "    ''' Normalize a column in a dataframe '''\n",
    "    return (data[column_name] - data[column_name].mean())/data[column_name].std()"
   ]
  },
  {
   "cell_type": "markdown",
   "metadata": {},
   "source": [
    "Phase 2: Exploratory Data Analysis\n",
    "------------"
   ]
  },
  {
   "cell_type": "markdown",
   "metadata": {},
   "source": [
    "### Article metrics"
   ]
  },
  {
   "cell_type": "code",
   "execution_count": 14,
   "metadata": {
    "execution": {
     "iopub.execute_input": "2023-12-09T09:27:02.695120Z",
     "iopub.status.busy": "2023-12-09T09:27:02.694464Z",
     "iopub.status.idle": "2023-12-09T09:27:02.774363Z",
     "shell.execute_reply": "2023-12-09T09:27:02.772521Z",
     "shell.execute_reply.started": "2023-12-09T09:27:02.695066Z"
    },
    "tags": []
   },
   "outputs": [],
   "source": [
    "# Ratio of of incoming and outgoing links for each article: \n",
    "source_counts = link_network['source'].value_counts().rename_axis('article').reset_index(name='source_count')\n",
    "target_counts = link_network['target'].value_counts().rename_axis('article').reset_index(name='target_count')\n",
    "\n",
    "link_counts = pd.merge(source_counts, target_counts, how='outer')\n",
    "link_counts.fillna(0, inplace=True)\n",
    "\n",
    "link_counts['target_source_ratio'] = link_counts['target_count'] / link_counts['source_count']\n",
    "link_counts['target_source_ratio'].replace([np.inf], np.nan, inplace=True)"
   ]
  },
  {
   "cell_type": "code",
   "execution_count": 15,
   "metadata": {
    "execution": {
     "iopub.execute_input": "2023-12-09T09:27:03.529802Z",
     "iopub.status.busy": "2023-12-09T09:27:03.529103Z",
     "iopub.status.idle": "2023-12-09T09:27:03.564439Z",
     "shell.execute_reply": "2023-12-09T09:27:03.563079Z",
     "shell.execute_reply.started": "2023-12-09T09:27:03.529748Z"
    },
    "tags": []
   },
   "outputs": [
    {
     "data": {
      "text/html": [
       "<div>\n",
       "<style scoped>\n",
       "    .dataframe tbody tr th:only-of-type {\n",
       "        vertical-align: middle;\n",
       "    }\n",
       "\n",
       "    .dataframe tbody tr th {\n",
       "        vertical-align: top;\n",
       "    }\n",
       "\n",
       "    .dataframe thead th {\n",
       "        text-align: right;\n",
       "    }\n",
       "</style>\n",
       "<table border=\"1\" class=\"dataframe\">\n",
       "  <thead>\n",
       "    <tr style=\"text-align: right;\">\n",
       "      <th></th>\n",
       "      <th>article</th>\n",
       "      <th>source_count</th>\n",
       "      <th>target_count</th>\n",
       "      <th>target_source_ratio</th>\n",
       "    </tr>\n",
       "  </thead>\n",
       "  <tbody>\n",
       "    <tr>\n",
       "      <th>0</th>\n",
       "      <td>United_States</td>\n",
       "      <td>294.0</td>\n",
       "      <td>1551.0</td>\n",
       "      <td>5.275510</td>\n",
       "    </tr>\n",
       "    <tr>\n",
       "      <th>1</th>\n",
       "      <td>Driving_on_the_left_or_right</td>\n",
       "      <td>255.0</td>\n",
       "      <td>0.0</td>\n",
       "      <td>0.000000</td>\n",
       "    </tr>\n",
       "    <tr>\n",
       "      <th>2</th>\n",
       "      <td>List_of_countries</td>\n",
       "      <td>244.0</td>\n",
       "      <td>63.0</td>\n",
       "      <td>0.258197</td>\n",
       "    </tr>\n",
       "    <tr>\n",
       "      <th>3</th>\n",
       "      <td>List_of_circulating_currencies</td>\n",
       "      <td>236.0</td>\n",
       "      <td>8.0</td>\n",
       "      <td>0.033898</td>\n",
       "    </tr>\n",
       "    <tr>\n",
       "      <th>4</th>\n",
       "      <td>List_of_sovereign_states</td>\n",
       "      <td>216.0</td>\n",
       "      <td>43.0</td>\n",
       "      <td>0.199074</td>\n",
       "    </tr>\n",
       "  </tbody>\n",
       "</table>\n",
       "</div>"
      ],
      "text/plain": [
       "                          article  source_count  target_count  \\\n",
       "0                   United_States         294.0        1551.0   \n",
       "1    Driving_on_the_left_or_right         255.0           0.0   \n",
       "2               List_of_countries         244.0          63.0   \n",
       "3  List_of_circulating_currencies         236.0           8.0   \n",
       "4        List_of_sovereign_states         216.0          43.0   \n",
       "\n",
       "   target_source_ratio  \n",
       "0             5.275510  \n",
       "1             0.000000  \n",
       "2             0.258197  \n",
       "3             0.033898  \n",
       "4             0.199074  "
      ]
     },
     "metadata": {},
     "output_type": "display_data"
    },
    {
     "data": {
      "text/plain": [
       "(4592, 4)"
      ]
     },
     "execution_count": 15,
     "metadata": {},
     "output_type": "execute_result"
    }
   ],
   "source": [
    "display(link_counts.head(5))\n",
    "link_counts.shape"
   ]
  },
  {
   "cell_type": "code",
   "execution_count": 18,
   "metadata": {
    "execution": {
     "iopub.execute_input": "2023-12-09T09:27:05.479711Z",
     "iopub.status.busy": "2023-12-09T09:27:05.479074Z",
     "iopub.status.idle": "2023-12-09T09:27:05.977899Z",
     "shell.execute_reply": "2023-12-09T09:27:05.967127Z",
     "shell.execute_reply.started": "2023-12-09T09:27:05.479657Z"
    },
    "tags": []
   },
   "outputs": [],
   "source": [
    "# Length of articles (i.e. nb of words):\n",
    "link_counts['article_length'] = link_counts['article'].apply(lambda x: article_length(x))"
   ]
  },
  {
   "cell_type": "code",
   "execution_count": 19,
   "metadata": {
    "execution": {
     "iopub.status.busy": "2023-12-09T09:27:05.978875Z",
     "iopub.status.idle": "2023-12-09T09:27:05.979312Z",
     "shell.execute_reply": "2023-12-09T09:27:05.979121Z",
     "shell.execute_reply.started": "2023-12-09T09:27:05.979099Z"
    },
    "tags": []
   },
   "outputs": [
    {
     "data": {
      "text/html": [
       "<div>\n",
       "<style scoped>\n",
       "    .dataframe tbody tr th:only-of-type {\n",
       "        vertical-align: middle;\n",
       "    }\n",
       "\n",
       "    .dataframe tbody tr th {\n",
       "        vertical-align: top;\n",
       "    }\n",
       "\n",
       "    .dataframe thead th {\n",
       "        text-align: right;\n",
       "    }\n",
       "</style>\n",
       "<table border=\"1\" class=\"dataframe\">\n",
       "  <thead>\n",
       "    <tr style=\"text-align: right;\">\n",
       "      <th></th>\n",
       "      <th>article</th>\n",
       "      <th>source_count</th>\n",
       "      <th>target_count</th>\n",
       "      <th>target_source_ratio</th>\n",
       "      <th>article_length</th>\n",
       "    </tr>\n",
       "  </thead>\n",
       "  <tbody>\n",
       "    <tr>\n",
       "      <th>0</th>\n",
       "      <td>United_States</td>\n",
       "      <td>294.0</td>\n",
       "      <td>1551.0</td>\n",
       "      <td>5.275510</td>\n",
       "      <td>9773</td>\n",
       "    </tr>\n",
       "    <tr>\n",
       "      <th>1</th>\n",
       "      <td>Driving_on_the_left_or_right</td>\n",
       "      <td>255.0</td>\n",
       "      <td>0.0</td>\n",
       "      <td>0.000000</td>\n",
       "      <td>7995</td>\n",
       "    </tr>\n",
       "    <tr>\n",
       "      <th>2</th>\n",
       "      <td>List_of_countries</td>\n",
       "      <td>244.0</td>\n",
       "      <td>63.0</td>\n",
       "      <td>0.258197</td>\n",
       "      <td>3162</td>\n",
       "    </tr>\n",
       "    <tr>\n",
       "      <th>3</th>\n",
       "      <td>List_of_circulating_currencies</td>\n",
       "      <td>236.0</td>\n",
       "      <td>8.0</td>\n",
       "      <td>0.033898</td>\n",
       "      <td>3019</td>\n",
       "    </tr>\n",
       "    <tr>\n",
       "      <th>4</th>\n",
       "      <td>List_of_sovereign_states</td>\n",
       "      <td>216.0</td>\n",
       "      <td>43.0</td>\n",
       "      <td>0.199074</td>\n",
       "      <td>5586</td>\n",
       "    </tr>\n",
       "  </tbody>\n",
       "</table>\n",
       "</div>"
      ],
      "text/plain": [
       "                          article  source_count  target_count  \\\n",
       "0                   United_States         294.0        1551.0   \n",
       "1    Driving_on_the_left_or_right         255.0           0.0   \n",
       "2               List_of_countries         244.0          63.0   \n",
       "3  List_of_circulating_currencies         236.0           8.0   \n",
       "4        List_of_sovereign_states         216.0          43.0   \n",
       "\n",
       "   target_source_ratio  article_length  \n",
       "0             5.275510            9773  \n",
       "1             0.000000            7995  \n",
       "2             0.258197            3162  \n",
       "3             0.033898            3019  \n",
       "4             0.199074            5586  "
      ]
     },
     "metadata": {},
     "output_type": "display_data"
    },
    {
     "data": {
      "text/plain": [
       "(4592, 5)"
      ]
     },
     "execution_count": 19,
     "metadata": {},
     "output_type": "execute_result"
    }
   ],
   "source": [
    "display(link_counts.head(5))\n",
    "link_counts.shape"
   ]
  },
  {
   "cell_type": "code",
   "execution_count": 20,
   "metadata": {},
   "outputs": [],
   "source": [
    "# Positions of links within the articles:\n",
    "\n",
    "# Remove links to and from non-Wikipedia articles (donation pages)\n",
    "#link_network = filter_rows_by_values(link_network, 'source', ['Friend_Directdebit', 'Sponsorship_Directdebit'])\n",
    "#link_network_targets = link_network.groupby('source')['target'].apply(list).reset_index()\n",
    "\n",
    "# Add the 'html_position' column to the DataFrame\n",
    "#link_network_targets['html_position'] = link_network_targets.apply(\n",
    "#    lambda row: find_html_position(row['source'], row['target']), axis=1\n",
    "#)\n",
    "\n",
    "#display(link_network_targets.head(5))\n",
    "#link_network_targets.shape"
   ]
  },
  {
   "cell_type": "code",
   "execution_count": 21,
   "metadata": {},
   "outputs": [],
   "source": [
    "# Load the data \n",
    "link_network_pos = pd.read_pickle('link_network_w_position.df')"
   ]
  },
  {
   "cell_type": "code",
   "execution_count": 22,
   "metadata": {},
   "outputs": [
    {
     "data": {
      "text/html": [
       "<div>\n",
       "<style scoped>\n",
       "    .dataframe tbody tr th:only-of-type {\n",
       "        vertical-align: middle;\n",
       "    }\n",
       "\n",
       "    .dataframe tbody tr th {\n",
       "        vertical-align: top;\n",
       "    }\n",
       "\n",
       "    .dataframe thead th {\n",
       "        text-align: right;\n",
       "    }\n",
       "</style>\n",
       "<table border=\"1\" class=\"dataframe\">\n",
       "  <thead>\n",
       "    <tr style=\"text-align: right;\">\n",
       "      <th></th>\n",
       "      <th>source</th>\n",
       "      <th>target</th>\n",
       "      <th>position</th>\n",
       "    </tr>\n",
       "  </thead>\n",
       "  <tbody>\n",
       "    <tr>\n",
       "      <th>0</th>\n",
       "      <td>%C3%81ed%C3%A1n_mac_Gabr%C3%A1in</td>\n",
       "      <td>Columba</td>\n",
       "      <td>0.037459</td>\n",
       "    </tr>\n",
       "    <tr>\n",
       "      <th>1</th>\n",
       "      <td>%C3%81ed%C3%A1n_mac_Gabr%C3%A1in</td>\n",
       "      <td>D%C3%A1l_Riata</td>\n",
       "      <td>0.025523</td>\n",
       "    </tr>\n",
       "    <tr>\n",
       "      <th>2</th>\n",
       "      <td>%C3%81ed%C3%A1n_mac_Gabr%C3%A1in</td>\n",
       "      <td>Great_Britain</td>\n",
       "      <td>0.058024</td>\n",
       "    </tr>\n",
       "    <tr>\n",
       "      <th>3</th>\n",
       "      <td>%C3%81ed%C3%A1n_mac_Gabr%C3%A1in</td>\n",
       "      <td>Ireland</td>\n",
       "      <td>0.032042</td>\n",
       "    </tr>\n",
       "    <tr>\n",
       "      <th>4</th>\n",
       "      <td>%C3%81ed%C3%A1n_mac_Gabr%C3%A1in</td>\n",
       "      <td>Isle_of_Man</td>\n",
       "      <td>0.063349</td>\n",
       "    </tr>\n",
       "  </tbody>\n",
       "</table>\n",
       "</div>"
      ],
      "text/plain": [
       "                             source          target  position\n",
       "0  %C3%81ed%C3%A1n_mac_Gabr%C3%A1in         Columba  0.037459\n",
       "1  %C3%81ed%C3%A1n_mac_Gabr%C3%A1in  D%C3%A1l_Riata  0.025523\n",
       "2  %C3%81ed%C3%A1n_mac_Gabr%C3%A1in   Great_Britain  0.058024\n",
       "3  %C3%81ed%C3%A1n_mac_Gabr%C3%A1in         Ireland  0.032042\n",
       "4  %C3%81ed%C3%A1n_mac_Gabr%C3%A1in     Isle_of_Man  0.063349"
      ]
     },
     "metadata": {},
     "output_type": "display_data"
    },
    {
     "data": {
      "text/plain": [
       "(119878, 3)"
      ]
     },
     "execution_count": 22,
     "metadata": {},
     "output_type": "execute_result"
    }
   ],
   "source": [
    "display(link_network_pos.head(5))\n",
    "link_network_pos.shape"
   ]
  },
  {
   "cell_type": "code",
   "execution_count": 23,
   "metadata": {},
   "outputs": [],
   "source": [
    "# Identify main categories and sublevels of categories:\n",
    "main_cat_set = set()\n",
    "sec_cat_set = set()\n",
    "thrd_cat_set = set()\n",
    "\n",
    "for cat in categories['category']:\n",
    "    levels = cat.split('.')\n",
    "    if len(levels) > 1:\n",
    "        main_cat_set.add(levels[1])\n",
    "    if len(levels) > 2:\n",
    "        sec_cat_set.add(levels[2])\n",
    "    if len(levels) > 3:\n",
    "        thrd_cat_set.add(levels[3])"
   ]
  },
  {
   "cell_type": "code",
   "execution_count": 24,
   "metadata": {},
   "outputs": [
    {
     "name": "stdout",
     "output_type": "stream",
     "text": [
      "There are 15 unique main categories, 101 unique second level categories, and 27 unique third level categories.\n"
     ]
    }
   ],
   "source": [
    "print(f'There are {len(main_cat_set)} unique main categories, {len(sec_cat_set)} unique second level categories, and {len(thrd_cat_set)} unique third level categories.')"
   ]
  },
  {
   "cell_type": "markdown",
   "metadata": {},
   "source": [
    "### Player path specific metrics"
   ]
  },
  {
   "cell_type": "code",
   "execution_count": 43,
   "metadata": {},
   "outputs": [],
   "source": [
    "# Average duration per articles:\n",
    "#finished_paths['avg_duration'] = finished_paths.apply(get_avg_duration, axis=1)\n",
    "#unfinished_paths['avg_duration'] = unfinished_paths.apply(get_avg_duration, axis=1)"
   ]
  },
  {
   "cell_type": "code",
   "execution_count": 44,
   "metadata": {},
   "outputs": [],
   "source": [
    "# Position of links:\n",
    "#finished_paths['link_positions'] = finished_paths['path'].apply(calculate_positions)\n",
    "#unfinished_paths['link_positions'] = unfinished_paths['path'].apply(calculate_positions)"
   ]
  },
  {
   "cell_type": "code",
   "execution_count": 45,
   "metadata": {},
   "outputs": [],
   "source": [
    "# Average positions of links clicked for each path:\n",
    "#finished_paths['avg_position'] = finished_paths['link_positions'].apply(\n",
    "#    lambda x: np.mean(x) if x else np.nan)\n",
    "#unfinished_paths['avg_position'] = unfinished_paths['link_positions'].apply(\n",
    "#    lambda x: np.mean(x) if x else np.nan)"
   ]
  },
  {
   "cell_type": "code",
   "execution_count": 62,
   "metadata": {},
   "outputs": [],
   "source": [
    "# Average article length:\n",
    "finished_paths['avg_article_length'] = avg_article_length(finished_paths)\n",
    "unfinished_paths['avg_article_length'] = avg_article_length(unfinished_paths)"
   ]
  },
  {
   "cell_type": "code",
   "execution_count": 58,
   "metadata": {},
   "outputs": [
    {
     "name": "stderr",
     "output_type": "stream",
     "text": [
      "C:\\Users\\zhant\\AppData\\Local\\Temp\\ipykernel_26236\\3151812922.py:43: RuntimeWarning: Mean of empty slice\n",
      "  avg_target_source_ratio.append(np.nanmean(target_source_ratio))\n",
      "C:\\Users\\zhant\\AppData\\Local\\Temp\\ipykernel_26236\\3151812922.py:43: RuntimeWarning: Mean of empty slice\n",
      "  avg_target_source_ratio.append(np.nanmean(target_source_ratio))\n"
     ]
    }
   ],
   "source": [
    "# Average ratio of incoming and outgoing links for all article in paths\n",
    "finished_paths['avg_target_source_ratio'] = avg_target_source_ratio(finished_paths)\n",
    "unfinished_paths['avg_target_source_ratio'] = avg_target_source_ratio(unfinished_paths)"
   ]
  },
  {
   "cell_type": "code",
   "execution_count": 48,
   "metadata": {},
   "outputs": [],
   "source": [
    "#finished_paths.to_pickle('finished_paths_w_positions.df')\n",
    "#unfinished_paths.to_pickle('unfinished_paths_w_positions.df')"
   ]
  },
  {
   "cell_type": "code",
   "execution_count": 49,
   "metadata": {},
   "outputs": [],
   "source": [
    "# Load data with positions\n",
    "finished_paths = pd.read_pickle('finished_paths_w_positions.df')\n",
    "unfinished_paths = pd.read_pickle('unfinished_paths_w_positions.df')"
   ]
  },
  {
   "cell_type": "code",
   "execution_count": 61,
   "metadata": {},
   "outputs": [
    {
     "data": {
      "text/html": [
       "<div>\n",
       "<style scoped>\n",
       "    .dataframe tbody tr th:only-of-type {\n",
       "        vertical-align: middle;\n",
       "    }\n",
       "\n",
       "    .dataframe tbody tr th {\n",
       "        vertical-align: top;\n",
       "    }\n",
       "\n",
       "    .dataframe thead th {\n",
       "        text-align: right;\n",
       "    }\n",
       "</style>\n",
       "<table border=\"1\" class=\"dataframe\">\n",
       "  <thead>\n",
       "    <tr style=\"text-align: right;\">\n",
       "      <th></th>\n",
       "      <th>hashedIpAddress</th>\n",
       "      <th>timestamp</th>\n",
       "      <th>durationInSec</th>\n",
       "      <th>path</th>\n",
       "      <th>rating</th>\n",
       "      <th>link_positions</th>\n",
       "      <th>avg_duration</th>\n",
       "      <th>avg_position</th>\n",
       "      <th>max_position</th>\n",
       "      <th>avg_target_source_ratio</th>\n",
       "    </tr>\n",
       "  </thead>\n",
       "  <tbody>\n",
       "    <tr>\n",
       "      <th>0</th>\n",
       "      <td>3824310e536af032</td>\n",
       "      <td>1344753412</td>\n",
       "      <td>88</td>\n",
       "      <td>14th_century;Europe;Africa;Atlantic_slave_trad...</td>\n",
       "      <td>3.0</td>\n",
       "      <td>[0.16301315265045835, 0.0320129127715381, 0.23...</td>\n",
       "      <td>17.600000</td>\n",
       "      <td>0.161321</td>\n",
       "      <td>0.238708</td>\n",
       "      <td>2.191707</td>\n",
       "    </tr>\n",
       "    <tr>\n",
       "      <th>1</th>\n",
       "      <td>415612e93584d30e</td>\n",
       "      <td>1349298640</td>\n",
       "      <td>138</td>\n",
       "      <td>14th_century;Niger;Nigeria;British_Empire;Slav...</td>\n",
       "      <td>NaN</td>\n",
       "      <td>[0.38341968911917096, 0.04472755782046257, 0.0...</td>\n",
       "      <td>17.250000</td>\n",
       "      <td>0.189159</td>\n",
       "      <td>0.383420</td>\n",
       "      <td>1.300951</td>\n",
       "    </tr>\n",
       "    <tr>\n",
       "      <th>2</th>\n",
       "      <td>64dd5cd342e3780c</td>\n",
       "      <td>1265613925</td>\n",
       "      <td>37</td>\n",
       "      <td>14th_century;Renaissance;Ancient_Greece;Greece</td>\n",
       "      <td>NaN</td>\n",
       "      <td>[0.43304105221203665, 0.2143170488534397, 0.04...</td>\n",
       "      <td>9.250000</td>\n",
       "      <td>0.229568</td>\n",
       "      <td>0.433041</td>\n",
       "      <td>2.223104</td>\n",
       "    </tr>\n",
       "    <tr>\n",
       "      <th>3</th>\n",
       "      <td>015245d773376aab</td>\n",
       "      <td>1366730828</td>\n",
       "      <td>175</td>\n",
       "      <td>14th_century;Italy;Roman_Catholic_Church;HIV;R...</td>\n",
       "      <td>3.0</td>\n",
       "      <td>[0.14806695894778796, 0.055970351133474004, 0....</td>\n",
       "      <td>25.000000</td>\n",
       "      <td>0.284119</td>\n",
       "      <td>0.983090</td>\n",
       "      <td>2.969612</td>\n",
       "    </tr>\n",
       "    <tr>\n",
       "      <th>4</th>\n",
       "      <td>5295bca242be81fe</td>\n",
       "      <td>1372890414</td>\n",
       "      <td>110</td>\n",
       "      <td>14th_century;Europe;North_America;United_State...</td>\n",
       "      <td>NaN</td>\n",
       "      <td>[0.16301315265045835, 0.3061066648732262, 0.43...</td>\n",
       "      <td>18.333333</td>\n",
       "      <td>0.263157</td>\n",
       "      <td>0.432730</td>\n",
       "      <td>3.750072</td>\n",
       "    </tr>\n",
       "  </tbody>\n",
       "</table>\n",
       "</div>"
      ],
      "text/plain": [
       "    hashedIpAddress   timestamp  durationInSec  \\\n",
       "0  3824310e536af032  1344753412             88   \n",
       "1  415612e93584d30e  1349298640            138   \n",
       "2  64dd5cd342e3780c  1265613925             37   \n",
       "3  015245d773376aab  1366730828            175   \n",
       "4  5295bca242be81fe  1372890414            110   \n",
       "\n",
       "                                                path  rating  \\\n",
       "0  14th_century;Europe;Africa;Atlantic_slave_trad...     3.0   \n",
       "1  14th_century;Niger;Nigeria;British_Empire;Slav...     NaN   \n",
       "2     14th_century;Renaissance;Ancient_Greece;Greece     NaN   \n",
       "3  14th_century;Italy;Roman_Catholic_Church;HIV;R...     3.0   \n",
       "4  14th_century;Europe;North_America;United_State...     NaN   \n",
       "\n",
       "                                      link_positions  avg_duration  \\\n",
       "0  [0.16301315265045835, 0.0320129127715381, 0.23...     17.600000   \n",
       "1  [0.38341968911917096, 0.04472755782046257, 0.0...     17.250000   \n",
       "2  [0.43304105221203665, 0.2143170488534397, 0.04...      9.250000   \n",
       "3  [0.14806695894778796, 0.055970351133474004, 0....     25.000000   \n",
       "4  [0.16301315265045835, 0.3061066648732262, 0.43...     18.333333   \n",
       "\n",
       "   avg_position  max_position  avg_target_source_ratio  \n",
       "0      0.161321      0.238708                 2.191707  \n",
       "1      0.189159      0.383420                 1.300951  \n",
       "2      0.229568      0.433041                 2.223104  \n",
       "3      0.284119      0.983090                 2.969612  \n",
       "4      0.263157      0.432730                 3.750072  "
      ]
     },
     "metadata": {},
     "output_type": "display_data"
    },
    {
     "data": {
      "text/html": [
       "<div>\n",
       "<style scoped>\n",
       "    .dataframe tbody tr th:only-of-type {\n",
       "        vertical-align: middle;\n",
       "    }\n",
       "\n",
       "    .dataframe tbody tr th {\n",
       "        vertical-align: top;\n",
       "    }\n",
       "\n",
       "    .dataframe thead th {\n",
       "        text-align: right;\n",
       "    }\n",
       "</style>\n",
       "<table border=\"1\" class=\"dataframe\">\n",
       "  <thead>\n",
       "    <tr style=\"text-align: right;\">\n",
       "      <th></th>\n",
       "      <th>hashedIpAddress</th>\n",
       "      <th>timestamp</th>\n",
       "      <th>durationInSec</th>\n",
       "      <th>path</th>\n",
       "      <th>target</th>\n",
       "      <th>type</th>\n",
       "      <th>link_positions</th>\n",
       "      <th>avg_duration</th>\n",
       "      <th>max_position</th>\n",
       "      <th>avg_position</th>\n",
       "      <th>avg_target_source_ratio</th>\n",
       "    </tr>\n",
       "  </thead>\n",
       "  <tbody>\n",
       "    <tr>\n",
       "      <th>0</th>\n",
       "      <td>26141fd878806294</td>\n",
       "      <td>1297055651</td>\n",
       "      <td>1805</td>\n",
       "      <td>Julius_Caesar</td>\n",
       "      <td>Caracas</td>\n",
       "      <td>timeout</td>\n",
       "      <td>[nan]</td>\n",
       "      <td>1805.00</td>\n",
       "      <td>NaN</td>\n",
       "      <td>NaN</td>\n",
       "      <td>2.333333</td>\n",
       "    </tr>\n",
       "    <tr>\n",
       "      <th>1</th>\n",
       "      <td>2b015fb8181c48f2</td>\n",
       "      <td>1297090819</td>\n",
       "      <td>1818</td>\n",
       "      <td>Malawi;Democracy;Alexander_the_Great</td>\n",
       "      <td>First_Crusade</td>\n",
       "      <td>timeout</td>\n",
       "      <td>[0.020996711358461928, 0.24676118775557]</td>\n",
       "      <td>606.00</td>\n",
       "      <td>0.246761</td>\n",
       "      <td>0.133879</td>\n",
       "      <td>1.773224</td>\n",
       "    </tr>\n",
       "    <tr>\n",
       "      <th>2</th>\n",
       "      <td>53a53bc244e08a6a</td>\n",
       "      <td>1297094761</td>\n",
       "      <td>49</td>\n",
       "      <td>Paraguay</td>\n",
       "      <td>Mount_St._Helens</td>\n",
       "      <td>restart</td>\n",
       "      <td>[nan]</td>\n",
       "      <td>49.00</td>\n",
       "      <td>NaN</td>\n",
       "      <td>NaN</td>\n",
       "      <td>1.950000</td>\n",
       "    </tr>\n",
       "    <tr>\n",
       "      <th>3</th>\n",
       "      <td>53a53bc244e08a6a</td>\n",
       "      <td>1297099105</td>\n",
       "      <td>1808</td>\n",
       "      <td>Paraguay;Bolivia</td>\n",
       "      <td>Mount_St._Helens</td>\n",
       "      <td>timeout</td>\n",
       "      <td>[0.16173641173641173]</td>\n",
       "      <td>904.00</td>\n",
       "      <td>0.161736</td>\n",
       "      <td>0.161736</td>\n",
       "      <td>1.532377</td>\n",
       "    </tr>\n",
       "    <tr>\n",
       "      <th>4</th>\n",
       "      <td>131600803df4895e</td>\n",
       "      <td>1297100557</td>\n",
       "      <td>2009</td>\n",
       "      <td>Agriculture;History_of_the_world;China;Yangtze...</td>\n",
       "      <td>Grand_Canal_of_China</td>\n",
       "      <td>timeout</td>\n",
       "      <td>[0.0487655079228596, 0.12396390951476428, 0.50...</td>\n",
       "      <td>502.25</td>\n",
       "      <td>0.507053</td>\n",
       "      <td>0.226594</td>\n",
       "      <td>2.724478</td>\n",
       "    </tr>\n",
       "  </tbody>\n",
       "</table>\n",
       "</div>"
      ],
      "text/plain": [
       "    hashedIpAddress   timestamp  durationInSec  \\\n",
       "0  26141fd878806294  1297055651           1805   \n",
       "1  2b015fb8181c48f2  1297090819           1818   \n",
       "2  53a53bc244e08a6a  1297094761             49   \n",
       "3  53a53bc244e08a6a  1297099105           1808   \n",
       "4  131600803df4895e  1297100557           2009   \n",
       "\n",
       "                                                path                target  \\\n",
       "0                                      Julius_Caesar               Caracas   \n",
       "1               Malawi;Democracy;Alexander_the_Great         First_Crusade   \n",
       "2                                           Paraguay      Mount_St._Helens   \n",
       "3                                   Paraguay;Bolivia      Mount_St._Helens   \n",
       "4  Agriculture;History_of_the_world;China;Yangtze...  Grand_Canal_of_China   \n",
       "\n",
       "      type                                     link_positions  avg_duration  \\\n",
       "0  timeout                                              [nan]       1805.00   \n",
       "1  timeout           [0.020996711358461928, 0.24676118775557]        606.00   \n",
       "2  restart                                              [nan]         49.00   \n",
       "3  timeout                              [0.16173641173641173]        904.00   \n",
       "4  timeout  [0.0487655079228596, 0.12396390951476428, 0.50...        502.25   \n",
       "\n",
       "   max_position  avg_position  avg_target_source_ratio  \n",
       "0           NaN           NaN                 2.333333  \n",
       "1      0.246761      0.133879                 1.773224  \n",
       "2           NaN           NaN                 1.950000  \n",
       "3      0.161736      0.161736                 1.532377  \n",
       "4      0.507053      0.226594                 2.724478  "
      ]
     },
     "metadata": {},
     "output_type": "display_data"
    },
    {
     "data": {
      "text/plain": [
       "(24874, 11)"
      ]
     },
     "execution_count": 61,
     "metadata": {},
     "output_type": "execute_result"
    }
   ],
   "source": [
    "display(finished_paths.head(5))\n",
    "finished_paths.shape\n",
    "display(unfinished_paths.head(5))\n",
    "unfinished_paths.shape"
   ]
  },
  {
   "cell_type": "markdown",
   "metadata": {},
   "source": [
    "### Player specific information"
   ]
  },
  {
   "cell_type": "code",
   "execution_count": 51,
   "metadata": {},
   "outputs": [],
   "source": [
    "players = pd.concat([unfinished_paths, finished_paths])"
   ]
  },
  {
   "cell_type": "code",
   "execution_count": 52,
   "metadata": {},
   "outputs": [],
   "source": [
    "# Number of games per player\n",
    "player_game_counts = players.groupby('hashedIpAddress')['path'].count().reset_index()\n",
    "player_game_counts.columns = ['player_hash', 'games_count']"
   ]
  },
  {
   "cell_type": "code",
   "execution_count": 53,
   "metadata": {},
   "outputs": [],
   "source": [
    "# Win rate:\n",
    "player_game_counts['finished_paths_count'] = player_game_counts['player_hash']\\\n",
    "                                             .map(finished_paths['hashedIpAddress']\\\n",
    "                                             .value_counts().fillna(0))\n",
    "player_game_counts['win_rate'] = player_game_counts['finished_paths_count'] / player_game_counts['games_count']\n",
    "player_game_counts['win_rate'].fillna(0, inplace=True)"
   ]
  },
  {
   "cell_type": "code",
   "execution_count": 54,
   "metadata": {},
   "outputs": [
    {
     "data": {
      "text/html": [
       "<div>\n",
       "<style scoped>\n",
       "    .dataframe tbody tr th:only-of-type {\n",
       "        vertical-align: middle;\n",
       "    }\n",
       "\n",
       "    .dataframe tbody tr th {\n",
       "        vertical-align: top;\n",
       "    }\n",
       "\n",
       "    .dataframe thead th {\n",
       "        text-align: right;\n",
       "    }\n",
       "</style>\n",
       "<table border=\"1\" class=\"dataframe\">\n",
       "  <thead>\n",
       "    <tr style=\"text-align: right;\">\n",
       "      <th></th>\n",
       "      <th>player_hash</th>\n",
       "      <th>games_count</th>\n",
       "      <th>finished_paths_count</th>\n",
       "      <th>win_rate</th>\n",
       "    </tr>\n",
       "  </thead>\n",
       "  <tbody>\n",
       "    <tr>\n",
       "      <th>0</th>\n",
       "      <td>000386124f307de8</td>\n",
       "      <td>2</td>\n",
       "      <td>1.0</td>\n",
       "      <td>0.5</td>\n",
       "    </tr>\n",
       "    <tr>\n",
       "      <th>1</th>\n",
       "      <td>0007183207b6008f</td>\n",
       "      <td>3</td>\n",
       "      <td>3.0</td>\n",
       "      <td>1.0</td>\n",
       "    </tr>\n",
       "    <tr>\n",
       "      <th>2</th>\n",
       "      <td>000a09e202e88d10</td>\n",
       "      <td>1</td>\n",
       "      <td>1.0</td>\n",
       "      <td>1.0</td>\n",
       "    </tr>\n",
       "    <tr>\n",
       "      <th>3</th>\n",
       "      <td>000a5bac5b7781ea</td>\n",
       "      <td>1</td>\n",
       "      <td>1.0</td>\n",
       "      <td>1.0</td>\n",
       "    </tr>\n",
       "    <tr>\n",
       "      <th>4</th>\n",
       "      <td>000a6e585b776c96</td>\n",
       "      <td>1</td>\n",
       "      <td>NaN</td>\n",
       "      <td>0.0</td>\n",
       "    </tr>\n",
       "  </tbody>\n",
       "</table>\n",
       "</div>"
      ],
      "text/plain": [
       "        player_hash  games_count  finished_paths_count  win_rate\n",
       "0  000386124f307de8            2                   1.0       0.5\n",
       "1  0007183207b6008f            3                   3.0       1.0\n",
       "2  000a09e202e88d10            1                   1.0       1.0\n",
       "3  000a5bac5b7781ea            1                   1.0       1.0\n",
       "4  000a6e585b776c96            1                   NaN       0.0"
      ]
     },
     "metadata": {},
     "output_type": "display_data"
    },
    {
     "data": {
      "text/plain": [
       "(20866, 4)"
      ]
     },
     "execution_count": 54,
     "metadata": {},
     "output_type": "execute_result"
    }
   ],
   "source": [
    "display(player_game_counts.head(5))\n",
    "player_game_counts.shape"
   ]
  },
  {
   "cell_type": "markdown",
   "metadata": {},
   "source": [
    "Phase 4:  Comparative Analysis and Statistical Modeling\n",
    "------------"
   ]
  },
  {
   "cell_type": "markdown",
   "metadata": {},
   "source": [
    "### Feature Impact Assessment"
   ]
  },
  {
   "cell_type": "code",
   "execution_count": 55,
   "metadata": {},
   "outputs": [],
   "source": [
    "#features = ['avg_article_length', 'avg_position', 'avg_target_source_ratio']"
   ]
  },
  {
   "cell_type": "code",
   "execution_count": 66,
   "metadata": {},
   "outputs": [
    {
     "data": {
      "text/plain": [
       "0        4322.400000\n",
       "1        5570.875000\n",
       "2        4011.000000\n",
       "3        6885.714286\n",
       "4        4909.000000\n",
       "            ...     \n",
       "24869    3238.285714\n",
       "24870    3773.000000\n",
       "24871    2530.250000\n",
       "24872    8661.250000\n",
       "24873    4837.000000\n",
       "Name: avg_article_length, Length: 76191, dtype: float64"
      ]
     },
     "execution_count": 66,
     "metadata": {},
     "output_type": "execute_result"
    }
   ],
   "source": [
    "# Binary indicator of whether a player completed a path (1) or not (0):\n",
    "\n",
    "paths= pd.concat([finished_paths, unfinished_paths])\n",
    "paths['completion'] = [1]*len(finished_paths) + [0]*len(unfinished_paths)\n",
    "paths['avg_article_length']"
   ]
  },
  {
   "cell_type": "code",
   "execution_count": 67,
   "metadata": {},
   "outputs": [],
   "source": [
    "# Standardize the countinuous features\n",
    "paths_normalized = paths.copy()\n",
    "paths_normalized['avg_article_length'] = normalize(paths_normalized, 'avg_article_length')\n",
    "paths_normalized['avg_position'] = normalize(paths_normalized, 'avg_position')\n",
    "paths_normalized['avg_target_source_ratio'] = normalize(paths_normalized, 'avg_target_source_ratio')"
   ]
  },
  {
   "cell_type": "code",
   "execution_count": 68,
   "metadata": {
    "scrolled": true
   },
   "outputs": [
    {
     "name": "stdout",
     "output_type": "stream",
     "text": [
      "Optimization terminated successfully.\n",
      "         Current function value: 0.565335\n",
      "         Iterations 5\n",
      "                           Logit Regression Results                           \n",
      "==============================================================================\n",
      "Dep. Variable:             completion   No. Observations:                56710\n",
      "Model:                          Logit   Df Residuals:                    56706\n",
      "Method:                           MLE   Df Model:                            3\n",
      "Date:                Sun, 10 Dec 2023   Pseudo R-squ.:                0.002341\n",
      "Time:                        20:59:29   Log-Likelihood:                -32060.\n",
      "converged:                       True   LL-Null:                       -32135.\n",
      "Covariance Type:            nonrobust   LLR p-value:                 2.127e-32\n",
      "===========================================================================================\n",
      "                              coef    std err          z      P>|z|      [0.025      0.975]\n",
      "-------------------------------------------------------------------------------------------\n",
      "Intercept                   1.0873      0.010    111.560      0.000       1.068       1.106\n",
      "avg_article_length          0.0426      0.010      4.212      0.000       0.023       0.062\n",
      "avg_position               -0.0029      0.010     -0.300      0.764      -0.022       0.016\n",
      "avg_target_source_ratio    -0.1186      0.010    -11.851      0.000      -0.138      -0.099\n",
      "===========================================================================================\n"
     ]
    }
   ],
   "source": [
    "# Model 1: dependent variable = completion, so logistic regression (binary outcome)\n",
    "mod1 = smf.logit(formula='completion ~  avg_article_length + avg_position + avg_target_source_ratio', \n",
    "                 data=paths_normalized)\n",
    "res1 = mod1.fit()\n",
    "print(res1.summary())"
   ]
  },
  {
   "cell_type": "code",
   "execution_count": 69,
   "metadata": {
    "scrolled": true
   },
   "outputs": [
    {
     "data": {
      "text/html": [
       "<div>\n",
       "<style scoped>\n",
       "    .dataframe tbody tr th:only-of-type {\n",
       "        vertical-align: middle;\n",
       "    }\n",
       "\n",
       "    .dataframe tbody tr th {\n",
       "        vertical-align: top;\n",
       "    }\n",
       "\n",
       "    .dataframe thead th {\n",
       "        text-align: right;\n",
       "    }\n",
       "</style>\n",
       "<table border=\"1\" class=\"dataframe\">\n",
       "  <thead>\n",
       "    <tr style=\"text-align: right;\">\n",
       "      <th></th>\n",
       "      <th>0</th>\n",
       "      <th>1</th>\n",
       "    </tr>\n",
       "  </thead>\n",
       "  <tbody>\n",
       "    <tr>\n",
       "      <th>Intercept</th>\n",
       "      <td>1.068209</td>\n",
       "      <td>1.106414</td>\n",
       "    </tr>\n",
       "    <tr>\n",
       "      <th>avg_article_length</th>\n",
       "      <td>0.022764</td>\n",
       "      <td>0.062388</td>\n",
       "    </tr>\n",
       "    <tr>\n",
       "      <th>avg_position</th>\n",
       "      <td>-0.021980</td>\n",
       "      <td>0.016150</td>\n",
       "    </tr>\n",
       "    <tr>\n",
       "      <th>avg_target_source_ratio</th>\n",
       "      <td>-0.138252</td>\n",
       "      <td>-0.099012</td>\n",
       "    </tr>\n",
       "  </tbody>\n",
       "</table>\n",
       "</div>"
      ],
      "text/plain": [
       "                                0         1\n",
       "Intercept                1.068209  1.106414\n",
       "avg_article_length       0.022764  0.062388\n",
       "avg_position            -0.021980  0.016150\n",
       "avg_target_source_ratio -0.138252 -0.099012"
      ]
     },
     "execution_count": 69,
     "metadata": {},
     "output_type": "execute_result"
    }
   ],
   "source": [
    "variables_model1 = res1.params.index #features\n",
    "coefficients_model1 = res1.params.values\n",
    "p_values_model1 = res1.pvalues\n",
    "standard_errors_model1 = res1.bse.values\n",
    "res1.conf_int() #confidence intervals"
   ]
  },
  {
   "cell_type": "code",
   "execution_count": 70,
   "metadata": {},
   "outputs": [
    {
     "data": {
      "image/png": "[encoded data removed]",
      "text/plain": [
       "<Figure size 640x480 with 1 Axes>"
      ]
     },
     "metadata": {},
     "output_type": "display_data"
    }
   ],
   "source": [
    "# Sort by coefficients\n",
    "l1, l2, l3, l4 = zip(*sorted(zip(coefficients_model1[1:], variables_model1[1:], \n",
    "                                 standard_errors_model1[1:], p_values_model1[1:])))\n",
    "\n",
    "# Plotting\n",
    "plt.errorbar(l1, np.array(range(len(l1))), xerr= 2*np.array(l3), linewidth = 1,\n",
    "             linestyle = 'none',marker = 'o',markersize= 3,\n",
    "             markerfacecolor = 'black',markeredgecolor = 'black', capsize= 5)\n",
    "plt.vlines(0,0, len(l1), linestyle = '--')\n",
    "plt.yticks(range(len(l2)),l2);"
   ]
  },
  {
   "cell_type": "code",
   "execution_count": 71,
   "metadata": {},
   "outputs": [
    {
     "name": "stdout",
     "output_type": "stream",
     "text": [
      "                            OLS Regression Results                            \n",
      "==============================================================================\n",
      "Dep. Variable:           avg_duration   R-squared:                       0.001\n",
      "Model:                            OLS   Adj. R-squared:                  0.001\n",
      "Method:                 Least Squares   F-statistic:                     18.25\n",
      "Date:                Sun, 10 Dec 2023   Prob (F-statistic):           7.81e-12\n",
      "Time:                        21:00:48   Log-Likelihood:            -3.7537e+05\n",
      "No. Observations:               56710   AIC:                         7.508e+05\n",
      "Df Residuals:                   56706   BIC:                         7.508e+05\n",
      "Df Model:                           3                                         \n",
      "Covariance Type:            nonrobust                                         \n",
      "===========================================================================================\n",
      "                              coef    std err          t      P>|t|      [0.025      0.975]\n",
      "-------------------------------------------------------------------------------------------\n",
      "Intercept                  76.4740      0.765     99.916      0.000      74.974      77.974\n",
      "avg_article_length          0.3015      0.795      0.379      0.705      -1.257       1.860\n",
      "avg_position                5.6046      0.767      7.312      0.000       4.102       7.107\n",
      "avg_target_source_ratio     1.3580      0.825      1.646      0.100      -0.259       2.975\n",
      "==============================================================================\n",
      "Omnibus:                    50906.553   Durbin-Watson:                   1.341\n",
      "Prob(Omnibus):                  0.000   Jarque-Bera (JB):          2443417.024\n",
      "Skew:                           4.223   Prob(JB):                         0.00\n",
      "Kurtosis:                      34.028   Cond. No.                         1.19\n",
      "==============================================================================\n",
      "\n",
      "Notes:\n",
      "[1] Standard Errors assume that the covariance matrix of the errors is correctly specified.\n"
     ]
    }
   ],
   "source": [
    "# Model 2: dependent variable = avg_duration, so linear regression (continuous outcome)\n",
    "mod2 = smf.ols(formula='avg_duration ~  avg_article_length + avg_position + avg_target_source_ratio', \n",
    "                 data=paths_normalized)\n",
    "res2 = mod2.fit()\n",
    "print(res2.summary())"
   ]
  },
  {
   "cell_type": "code",
   "execution_count": 72,
   "metadata": {},
   "outputs": [
    {
     "data": {
      "text/html": [
       "<div>\n",
       "<style scoped>\n",
       "    .dataframe tbody tr th:only-of-type {\n",
       "        vertical-align: middle;\n",
       "    }\n",
       "\n",
       "    .dataframe tbody tr th {\n",
       "        vertical-align: top;\n",
       "    }\n",
       "\n",
       "    .dataframe thead th {\n",
       "        text-align: right;\n",
       "    }\n",
       "</style>\n",
       "<table border=\"1\" class=\"dataframe\">\n",
       "  <thead>\n",
       "    <tr style=\"text-align: right;\">\n",
       "      <th></th>\n",
       "      <th>0</th>\n",
       "      <th>1</th>\n",
       "    </tr>\n",
       "  </thead>\n",
       "  <tbody>\n",
       "    <tr>\n",
       "      <th>Intercept</th>\n",
       "      <td>74.973875</td>\n",
       "      <td>77.974198</td>\n",
       "    </tr>\n",
       "    <tr>\n",
       "      <th>avg_article_length</th>\n",
       "      <td>-1.257313</td>\n",
       "      <td>1.860246</td>\n",
       "    </tr>\n",
       "    <tr>\n",
       "      <th>avg_position</th>\n",
       "      <td>4.102241</td>\n",
       "      <td>7.107048</td>\n",
       "    </tr>\n",
       "    <tr>\n",
       "      <th>avg_target_source_ratio</th>\n",
       "      <td>-0.258993</td>\n",
       "      <td>2.975030</td>\n",
       "    </tr>\n",
       "  </tbody>\n",
       "</table>\n",
       "</div>"
      ],
      "text/plain": [
       "                                 0          1\n",
       "Intercept                74.973875  77.974198\n",
       "avg_article_length       -1.257313   1.860246\n",
       "avg_position              4.102241   7.107048\n",
       "avg_target_source_ratio  -0.258993   2.975030"
      ]
     },
     "execution_count": 72,
     "metadata": {},
     "output_type": "execute_result"
    }
   ],
   "source": [
    "variables_model2 = res2.params.index #features\n",
    "coefficients_model2 = res2.params.values\n",
    "p_values_model2 = res2.pvalues\n",
    "standard_errors_model2 = res2.bse.values\n",
    "res2.conf_int() #confidence intervals"
   ]
  },
  {
   "cell_type": "code",
   "execution_count": 73,
   "metadata": {},
   "outputs": [
    {
     "data": {
      "image/png": "[encoded data removed]",
      "text/plain": [
       "<Figure size 640x480 with 1 Axes>"
      ]
     },
     "metadata": {},
     "output_type": "display_data"
    }
   ],
   "source": [
    "# Sort by coefficients\n",
    "l1, l2, l3, l4 = zip(*sorted(zip(coefficients_model2[1:], variables_model2[1:], \n",
    "                                 standard_errors_model2[1:], p_values_model2[1:])))\n",
    "\n",
    "# Plotting\n",
    "plt.errorbar(l1, np.array(range(len(l1))), xerr= 2*np.array(l3), linewidth = 1,\n",
    "             linestyle = 'none',marker = 'o',markersize= 3,\n",
    "             markerfacecolor = 'black',markeredgecolor = 'black', capsize= 5)\n",
    "plt.vlines(0,0, len(l1), linestyle = '--')\n",
    "plt.yticks(range(len(l2)),l2);"
   ]
  },
  {
   "cell_type": "code",
   "execution_count": 74,
   "metadata": {},
   "outputs": [
    {
     "name": "stdout",
     "output_type": "stream",
     "text": [
      "                            OLS Regression Results                            \n",
      "==============================================================================\n",
      "Dep. Variable:       log_avg_duration   R-squared:                       0.021\n",
      "Model:                            OLS   Adj. R-squared:                  0.021\n",
      "Method:                 Least Squares   F-statistic:                     400.6\n",
      "Date:                Sun, 10 Dec 2023   Prob (F-statistic):          1.58e-257\n",
      "Time:                        21:01:00   Log-Likelihood:                -90248.\n",
      "No. Observations:               56710   AIC:                         1.805e+05\n",
      "Df Residuals:                   56706   BIC:                         1.805e+05\n",
      "Df Model:                           3                                         \n",
      "Covariance Type:            nonrobust                                         \n",
      "===========================================================================================\n",
      "                              coef    std err          t      P>|t|      [0.025      0.975]\n",
      "-------------------------------------------------------------------------------------------\n",
      "Intercept                   3.2394      0.005    645.837      0.000       3.230       3.249\n",
      "avg_article_length          0.0316      0.005      6.070      0.000       0.021       0.042\n",
      "avg_position                0.1733      0.005     34.506      0.000       0.163       0.183\n",
      "avg_target_source_ratio     0.0181      0.005      3.342      0.001       0.007       0.029\n",
      "==============================================================================\n",
      "Omnibus:                    13699.318   Durbin-Watson:                   1.085\n",
      "Prob(Omnibus):                  0.000   Jarque-Bera (JB):            29304.417\n",
      "Skew:                           1.414   Prob(JB):                         0.00\n",
      "Kurtosis:                       5.098   Cond. No.                         1.19\n",
      "==============================================================================\n",
      "\n",
      "Notes:\n",
      "[1] Standard Errors assume that the covariance matrix of the errors is correctly specified.\n"
     ]
    },
    {
     "name": "stderr",
     "output_type": "stream",
     "text": [
      "C:\\Users\\zhant\\anaconda3\\Lib\\site-packages\\pandas\\core\\arraylike.py:396: RuntimeWarning: divide by zero encountered in log\n",
      "  result = getattr(ufunc, method)(*inputs, **kwargs)\n"
     ]
    }
   ],
   "source": [
    "# Model 2 but with log of avg_duration:\n",
    "paths_normalized['log_avg_duration'] = np.log(paths_normalized['avg_duration'])\n",
    "\n",
    "mod2_log = smf.ols(formula='log_avg_duration ~  avg_article_length + avg_position + avg_target_source_ratio', \n",
    "                   data=paths_normalized)\n",
    "res2_log = mod2_log.fit()\n",
    "print(res2_log.summary())"
   ]
  },
  {
   "cell_type": "code",
   "execution_count": 75,
   "metadata": {},
   "outputs": [
    {
     "data": {
      "text/html": [
       "<div>\n",
       "<style scoped>\n",
       "    .dataframe tbody tr th:only-of-type {\n",
       "        vertical-align: middle;\n",
       "    }\n",
       "\n",
       "    .dataframe tbody tr th {\n",
       "        vertical-align: top;\n",
       "    }\n",
       "\n",
       "    .dataframe thead th {\n",
       "        text-align: right;\n",
       "    }\n",
       "</style>\n",
       "<table border=\"1\" class=\"dataframe\">\n",
       "  <thead>\n",
       "    <tr style=\"text-align: right;\">\n",
       "      <th></th>\n",
       "      <th>0</th>\n",
       "      <th>1</th>\n",
       "    </tr>\n",
       "  </thead>\n",
       "  <tbody>\n",
       "    <tr>\n",
       "      <th>Intercept</th>\n",
       "      <td>3.229529</td>\n",
       "      <td>3.249190</td>\n",
       "    </tr>\n",
       "    <tr>\n",
       "      <th>avg_article_length</th>\n",
       "      <td>0.021420</td>\n",
       "      <td>0.041850</td>\n",
       "    </tr>\n",
       "    <tr>\n",
       "      <th>avg_position</th>\n",
       "      <td>0.163486</td>\n",
       "      <td>0.183177</td>\n",
       "    </tr>\n",
       "    <tr>\n",
       "      <th>avg_target_source_ratio</th>\n",
       "      <td>0.007470</td>\n",
       "      <td>0.028664</td>\n",
       "    </tr>\n",
       "  </tbody>\n",
       "</table>\n",
       "</div>"
      ],
      "text/plain": [
       "                                0         1\n",
       "Intercept                3.229529  3.249190\n",
       "avg_article_length       0.021420  0.041850\n",
       "avg_position             0.163486  0.183177\n",
       "avg_target_source_ratio  0.007470  0.028664"
      ]
     },
     "execution_count": 75,
     "metadata": {},
     "output_type": "execute_result"
    }
   ],
   "source": [
    "variables_model2_log = res2_log.params.index #features\n",
    "coefficients_model2_log = res2_log.params.values\n",
    "p_values_model2_log = res2_log.pvalues\n",
    "standard_errors_model2_log = res2_log.bse.values\n",
    "res2_log.conf_int() #confidence intervals"
   ]
  },
  {
   "cell_type": "code",
   "execution_count": 76,
   "metadata": {},
   "outputs": [
    {
     "data": {
      "image/png": "[encoded data removed]",
      "text/plain": [
       "<Figure size 640x480 with 1 Axes>"
      ]
     },
     "metadata": {},
     "output_type": "display_data"
    }
   ],
   "source": [
    "# Sort by coefficients\n",
    "l1, l2, l3, l4 = zip(*sorted(zip(coefficients_model2_log[1:], variables_model2_log[1:], \n",
    "                                 standard_errors_model2_log[1:], p_values_model2_log[1:])))\n",
    "\n",
    "# Plotting\n",
    "plt.errorbar(l1, np.array(range(len(l1))), xerr= 2*np.array(l3), linewidth = 1,\n",
    "             linestyle = 'none',marker = 'o',markersize= 3,\n",
    "             markerfacecolor = 'black',markeredgecolor = 'black', capsize= 5)\n",
    "plt.vlines(0,0, len(l1), linestyle = '--')\n",
    "plt.yticks(range(len(l2)),l2);"
   ]
  },
  {
   "cell_type": "markdown",
   "metadata": {},
   "source": [
    "# Hub Characterization Measures"
   ]
  },
  {
   "cell_type": "code",
   "execution_count": 77,
   "metadata": {
    "execution": {
     "iopub.execute_input": "2023-12-09T09:29:19.212065Z",
     "iopub.status.busy": "2023-12-09T09:29:19.211441Z",
     "iopub.status.idle": "2023-12-09T09:29:19.496652Z",
     "shell.execute_reply": "2023-12-09T09:29:19.495464Z",
     "shell.execute_reply.started": "2023-12-09T09:29:19.212012Z"
    },
    "tags": []
   },
   "outputs": [],
   "source": [
    "# Create graph of wikispeedia with nodes being articles and edges being links\n",
    "G_link = nx.from_pandas_edgelist(link_network, 'source', 'target', create_using=nx.DiGraph())\n"
   ]
  },
  {
   "cell_type": "markdown",
   "metadata": {},
   "source": [
    "### Centrality Measures\n",
    "\n",
    "#### Degree Centrality\n",
    "Degree centrality measures the number of edges that connect to a node (i.e., the degree of the node). The more connections a node has, the more central it is.\n",
    "\n",
    "For a graph \\( G = (V, E) \\) with \\( n \\) vertices, the degree centrality \\( C_D(v) \\) for a vertex \\( v \\) is defined as:\n",
    "$$\n",
    "C_D(v) = \\frac{deg(v)}{n - 1}\n",
    "$$\n",
    "where \\( deg(v) \\) is the degree of \\( v \\), and \\( n - 1 \\) is the maximum possible degree of any vertex in a simple graph.\n",
    "\n",
    "#### Betweenness Centrality\n",
    "Betweenness centrality measures the extent to which a node lies on paths between other nodes. Nodes that frequently act as bridges between other nodes have higher betweenness centrality.\n",
    "\n",
    "For a graph \\( G = (V, E) \\), the betweenness centrality \\( C_B(v) \\) for a vertex \\( v \\) is defined as:\n",
    "$$\n",
    "C_B(v) = \\sum_{s \\neq v \\neq t \\in V} \\frac{\\sigma_{st}(v)}{\\sigma_{st}}\n",
    "$$\n",
    "where \\( \\sigma_{st} \\) is the total number of shortest paths from node \\( s \\) to node \\( t \\) and \\( \\sigma_{st}(v) \\) is the number of those paths that pass through \\( v \\).\n",
    "\n",
    "#### Closeness Centrality\n",
    "Closeness centrality measures how close a node is to all other nodes in the graph (the sum of the shortest paths from this node to all other nodes). The idea is that nodes closer to others can spread information more efficiently.\n",
    "\n",
    "For a connected graph \\( G = (V, E) \\), the closeness centrality \\( C_C(v) \\) for a vertex \\( v \\) is defined as:\n",
    "$$\n",
    "C_C(v) = \\frac{n - 1}{\\sum_{u \\in V \\setminus \\{v\\}} d(v, u)}\n",
    "$$\n",
    "where \\( d(v, u) \\) is the shortest-path distance between \\( v \\) and \\( u \\), and \\( n - 1 \\) is the number of nodes excluding \\( v \\) itself.\n",
    "\n",
    "#### Eigenvector Centrality\n",
    "Eigenvector centrality assigns relative scores to all nodes in the network based on the principle that connections to high-scoring nodes contribute more to the score of a node than equal connections to low-scoring nodes.\n",
    "\n",
    "It is calculated by finding the eigenvector associated with the largest eigenvalue of the adjacency matrix \\( A \\) of the graph \\( G \\). If \\( x \\) is the eigenvector centrality of \\( G \\) and \\( \\lambda \\) is the largest eigenvalue, then:\n",
    "$$\n",
    "Ax = \\lambda x\n",
    "$$\n",
    "The centrality \\( x_i \\) of the node \\( i \\) is the \\( i \\)th element of the eigenvector \\( x \\).\n"
   ]
  },
  {
   "cell_type": "code",
   "execution_count": 78,
   "metadata": {
    "execution": {
     "iopub.execute_input": "2023-12-09T09:30:37.444310Z",
     "iopub.status.busy": "2023-12-09T09:30:37.443649Z",
     "iopub.status.idle": "2023-12-09T09:30:37.455212Z",
     "shell.execute_reply": "2023-12-09T09:30:37.453656Z",
     "shell.execute_reply.started": "2023-12-09T09:30:37.444257Z"
    },
    "tags": []
   },
   "outputs": [],
   "source": [
    "# Calculating centrality measurement\n",
    "\n",
    "# Function for Degree Centrality\n",
    "def get_degree_centrality(G):\n",
    "    return nx.degree_centrality(G)\n",
    "\n",
    "# Function for Betweenness Centrality\n",
    "def get_betweenness_centrality(G):\n",
    "    return nx.betweenness_centrality(G)\n",
    "\n",
    "# Function for Closeness Centrality\n",
    "def get_closeness_centrality(G):\n",
    "    return nx.closeness_centrality(G)\n",
    "\n",
    "# Function for Eigenvector Centrality\n",
    "def get_eigenvector_centrality(G):\n",
    "    return nx.eigenvector_centrality(G)"
   ]
  },
  {
   "cell_type": "code",
   "execution_count": 79,
   "metadata": {
    "execution": {
     "iopub.execute_input": "2023-12-09T09:30:53.370730Z",
     "iopub.status.busy": "2023-12-09T09:30:53.370087Z",
     "iopub.status.idle": "2023-12-09T09:33:55.380082Z",
     "shell.execute_reply": "2023-12-09T09:33:55.378648Z",
     "shell.execute_reply.started": "2023-12-09T09:30:53.370672Z"
    },
    "tags": []
   },
   "outputs": [
    {
     "name": "stdout",
     "output_type": "stream",
     "text": [
      "                                  Node  Degree Centrality  \\\n",
      "0     %C3%81ed%C3%A1n_mac_Gabr%C3%A1in           0.002178   \n",
      "1                              Columba           0.005010   \n",
      "2                       D%C3%A1l_Riata           0.006970   \n",
      "3                        Great_Britain           0.046831   \n",
      "4                              Ireland           0.084949   \n",
      "...                                ...                ...   \n",
      "4587                      Yellowhammer           0.002832   \n",
      "4588                    Yotsuya_Kaidan           0.000436   \n",
      "4589            You%27re_Still_the_One           0.000436   \n",
      "4590                    Yungay%2C_Peru           0.000871   \n",
      "4591                        Zara_Yaqob           0.001307   \n",
      "\n",
      "      Betweenness Centrality  Closeness Centrality  Eigenvector Centrality  \n",
      "0                   0.000000              0.000000            4.240661e-24  \n",
      "1                   0.000041              0.331740            1.851423e-03  \n",
      "2                   0.000054              0.312937            9.743453e-04  \n",
      "3                   0.002783              0.453663            4.398665e-02  \n",
      "4                   0.005534              0.458159            4.318552e-02  \n",
      "...                      ...                   ...                     ...  \n",
      "4587                0.000000              0.000000            4.240661e-24  \n",
      "4588                0.000000              0.000000            4.240661e-24  \n",
      "4589                0.000000              0.000000            4.240661e-24  \n",
      "4590                0.000000              0.000000            4.240661e-24  \n",
      "4591                0.000000              0.000000            4.240661e-24  \n",
      "\n",
      "[4592 rows x 5 columns]\n"
     ]
    }
   ],
   "source": [
    "# Calculate centralities for wikipedia links\n",
    "degree_centrality_links = get_degree_centrality(G_link)\n",
    "betweenness_centrality_links = get_betweenness_centrality(G_link)\n",
    "closeness_centrality_links = get_closeness_centrality(G_link)\n",
    "eigenvector_centrality_links = get_eigenvector_centrality(G_link)\n",
    "\n",
    "# Create a DataFrame for players\n",
    "centrality_df_links = pd.DataFrame({\n",
    "    'Node': list(G_link.nodes()),\n",
    "    'Degree Centrality': [degree_centrality_links[node] for node in G_link.nodes()],\n",
    "    'Betweenness Centrality': [betweenness_centrality_links[node] for node in G_link.nodes()],\n",
    "    'Closeness Centrality': [closeness_centrality_links[node] for node in G_link.nodes()],\n",
    "    'Eigenvector Centrality': [eigenvector_centrality_links[node] for node in G_link.nodes()]\n",
    "})\n",
    "\n",
    "print(centrality_df_links)"
   ]
  },
  {
   "cell_type": "markdown",
   "metadata": {},
   "source": [
    "### Clustering Coefficients for Directed Graphs\n",
    "\n",
    "Clustering coefficients measure the likelihood that two neighbors of a node are also neighbors of each other, forming a triangle in the graph. For directed graphs, the concept is extended to account for the directionality of connections.\n",
    "\n",
    "#### Directed Clustering Coefficients\n",
    "\n",
    "For a directed graph \\( G = (V, E) \\), the clustering coefficient can be defined for each node based on the directed triangles they participate in. There are three types of directed triangles:\n",
    "\n",
    "- **Outgoing Triangles**: Triangles that a node \\( v \\) points to, i.e., \\( v \\) has directed edges going out to the other two nodes.\n",
    "- **Incoming Triangles**: Triangles that point to the node \\( v \\), i.e., the other two nodes have directed edges going into \\( v \\).\n",
    "- **Cyclic Triangles**: Triangles where the edges form a cycle, i.e., each node points to another node in a cyclic manner.\n",
    "\n",
    "The directed clustering coefficient for a node \\( v \\) is typically the average of the local clustering coefficients for each type of triangle:\n",
    "\n",
    "$$\n",
    "C_{dir}(v) = \\frac{1}{3} (C_{out}(v) + C_{in}(v) + C_{cycle}(v))\n",
    "$$\n",
    "\n",
    "where \\( C_{out}(v) \\), \\( C_{in}(v) \\), and \\( C_{cycle}(v) \\) are the local clustering coefficients for outgoing, incoming, and cyclic triangles respectively.\n",
    "\n",
    "The local clustering coefficient for each type of triangle is calculated as:\n",
    "\n",
    "$$\n",
    "C_{type}(v) = \\frac{\\text{Number of triangles of a given type including } v}{\\text{Number of possible triangles of that type for } v}\n",
    "$$"
   ]
  },
  {
   "cell_type": "code",
   "execution_count": 80,
   "metadata": {
    "execution": {
     "iopub.execute_input": "2023-12-09T09:33:55.382281Z",
     "iopub.status.busy": "2023-12-09T09:33:55.381976Z",
     "iopub.status.idle": "2023-12-09T09:34:00.303357Z",
     "shell.execute_reply": "2023-12-09T09:34:00.302135Z",
     "shell.execute_reply.started": "2023-12-09T09:33:55.382253Z"
    },
    "tags": []
   },
   "outputs": [],
   "source": [
    "# Calculate clustering coefficients according to formula above\n",
    "directed_clustering_coefficient = nx.clustering(G_link)\n",
    "# Put the coefficients in a list for plotting\n",
    "directed_clustering_values = list(directed_clustering_coefficient.values())\n"
   ]
  },
  {
   "cell_type": "code",
   "execution_count": 81,
   "metadata": {
    "execution": {
     "iopub.execute_input": "2023-12-09T09:34:00.304655Z",
     "iopub.status.busy": "2023-12-09T09:34:00.304386Z",
     "iopub.status.idle": "2023-12-09T09:34:00.318172Z",
     "shell.execute_reply": "2023-12-09T09:34:00.316859Z",
     "shell.execute_reply.started": "2023-12-09T09:34:00.304631Z"
    },
    "tags": []
   },
   "outputs": [
    {
     "name": "stdout",
     "output_type": "stream",
     "text": [
      "                               Node  Degree Centrality  \\\n",
      "0  %C3%81ed%C3%A1n_mac_Gabr%C3%A1in           0.002178   \n",
      "1                           Columba           0.005010   \n",
      "2                    D%C3%A1l_Riata           0.006970   \n",
      "3                     Great_Britain           0.046831   \n",
      "4                           Ireland           0.084949   \n",
      "\n",
      "   Betweenness Centrality  Closeness Centrality  Eigenvector Centrality  \\\n",
      "0                0.000000              0.000000            4.240661e-24   \n",
      "1                0.000041              0.331740            1.851423e-03   \n",
      "2                0.000054              0.312937            9.743453e-04   \n",
      "3                0.002783              0.453663            4.398665e-02   \n",
      "4                0.005534              0.458159            4.318552e-02   \n",
      "\n",
      "   Directed Clustering Coefficients  \n",
      "0                          0.488889  \n",
      "1                          0.222000  \n",
      "2                          0.192698  \n",
      "3                          0.051842  \n",
      "4                          0.035463  \n"
     ]
    }
   ],
   "source": [
    "\n",
    "# Convert the dictionary to a Series, aligning on the index with the DataFrame 'Node' column\n",
    "clustering_coefficients_series = pd.Series(directed_clustering_coefficient)\n",
    "\n",
    "# Set the 'Node' column as the index for proper alignment\n",
    "centrality_df_links.set_index('Node', inplace=True)\n",
    "\n",
    "# Add the Series as a new column to the DataFrame\n",
    "centrality_df_links['Directed Clustering Coefficients'] = clustering_coefficients_series\n",
    "\n",
    "# Reset the index if you want 'Node' to be a column again\n",
    "centrality_df_links.reset_index(inplace=True)\n",
    "\n",
    "# Now the DataFrame should have a new column with the clustering coefficients\n",
    "print(centrality_df_links.head())"
   ]
  },
  {
   "cell_type": "markdown",
   "metadata": {},
   "source": [
    "### Plot distribution of each centrality measure\n"
   ]
  },
  {
   "cell_type": "code",
   "execution_count": 82,
   "metadata": {
    "execution": {
     "iopub.execute_input": "2023-12-09T09:34:00.320035Z",
     "iopub.status.busy": "2023-12-09T09:34:00.319771Z",
     "iopub.status.idle": "2023-12-09T09:34:03.766098Z",
     "shell.execute_reply": "2023-12-09T09:34:03.764097Z",
     "shell.execute_reply.started": "2023-12-09T09:34:00.320011Z"
    },
    "tags": []
   },
   "outputs": [
    {
     "data": {
      "image/png": "[encoded data removed]",
      "text/plain": [
       "<Figure size 1400x1500 with 5 Axes>"
      ]
     },
     "metadata": {},
     "output_type": "display_data"
    }
   ],
   "source": [
    "# Plot distribution of each centrality measure\n",
    "\n",
    "# Set the size of the overall figure\n",
    "plt.figure(figsize=(14, 15))\n",
    "\n",
    "# Degree Centrality Distribution\n",
    "plt.subplot(3, 2, 1)\n",
    "plt.hist(centrality_df_links['Degree Centrality'], bins=30, color='blue', alpha=0.7,log=True)\n",
    "plt.title('Degree Centrality Distribution')\n",
    "plt.xlabel('Degree Centrality')\n",
    "plt.ylabel('Frequency')\n",
    "\n",
    "# Betweenness Centrality Distribution\n",
    "plt.subplot(3, 2, 2)\n",
    "plt.hist(centrality_df_links['Betweenness Centrality'], bins=30, color='red', alpha=0.7,log=True)\n",
    "plt.title('Betweenness Centrality Distribution')\n",
    "plt.xlabel('Betweenness Centrality')\n",
    "\n",
    "# Closeness Centrality Distribution\n",
    "plt.subplot(3, 2, 3)\n",
    "plt.hist(centrality_df_links['Closeness Centrality'], bins=30, color='green', alpha=0.7, log=True)\n",
    "plt.title('Closeness Centrality Distribution')\n",
    "plt.xlabel('Closeness Centrality')\n",
    "plt.ylabel('Frequency')\n",
    "\n",
    "# Eigenvector Centrality Distribution\n",
    "plt.subplot(3, 2, 4)\n",
    "plt.hist(centrality_df_links['Eigenvector Centrality'], bins=30, color='purple', alpha=0.7, log=True)\n",
    "plt.title('Eigenvector Centrality Distribution')\n",
    "plt.xlabel('Eigenvector Centrality')\n",
    "\n",
    "# Directed Clustering Coefficient Distribution\n",
    "plt.subplot(3, 2, 5)  # Adjust to a 3x2 subplot grid\n",
    "plt.hist(directed_clustering_values, bins=30, color='orange', alpha=0.7, log=True)\n",
    "plt.title('Directed Clustering Coefficient Distribution')\n",
    "plt.xlabel('Directed Clustering Coefficient')\n",
    "plt.ylabel('Frequency')\n",
    "\n",
    "# Adjust layout to prevent overlap\n",
    "plt.tight_layout()\n",
    "plt.show()\n"
   ]
  },
  {
   "cell_type": "code",
   "execution_count": 83,
   "metadata": {
    "execution": {
     "iopub.execute_input": "2023-12-09T09:38:00.308144Z",
     "iopub.status.busy": "2023-12-09T09:38:00.307450Z",
     "iopub.status.idle": "2023-12-09T09:38:00.342580Z",
     "shell.execute_reply": "2023-12-09T09:38:00.340606Z",
     "shell.execute_reply.started": "2023-12-09T09:38:00.308094Z"
    },
    "tags": []
   },
   "outputs": [
    {
     "name": "stdout",
     "output_type": "stream",
     "text": [
      "Degree Centrality                   0.017122\n",
      "Betweenness Centrality              0.001981\n",
      "Closeness Centrality                0.116919\n",
      "Eigenvector Centrality              0.013776\n",
      "Directed Clustering Coefficients    0.125167\n",
      "dtype: float64\n",
      "                               Node  Degree Centrality  \\\n",
      "0  %C3%81ed%C3%A1n_mac_Gabr%C3%A1in           0.002178   \n",
      "1                           Columba           0.005010   \n",
      "2                    D%C3%A1l_Riata           0.006970   \n",
      "3                     Great_Britain           0.046831   \n",
      "4                           Ireland           0.084949   \n",
      "\n",
      "   Betweenness Centrality  Closeness Centrality  Eigenvector Centrality  \\\n",
      "0                0.000000              0.000000            4.240661e-24   \n",
      "1                0.000041              0.331740            1.851423e-03   \n",
      "2                0.000054              0.312937            9.743453e-04   \n",
      "3                0.002783              0.453663            4.398665e-02   \n",
      "4                0.005534              0.458159            4.318552e-02   \n",
      "\n",
      "   Directed Clustering Coefficients  Degree Centrality Above Std  \\\n",
      "0                          0.488889                            0   \n",
      "1                          0.222000                            0   \n",
      "2                          0.192698                            0   \n",
      "3                          0.051842                            1   \n",
      "4                          0.035463                            1   \n",
      "\n",
      "   Betweenness Centrality Above Std  Closeness Centrality Above Std  \\\n",
      "0                                 0                               0   \n",
      "1                                 0                               1   \n",
      "2                                 0                               1   \n",
      "3                                 1                               1   \n",
      "4                                 1                               1   \n",
      "\n",
      "   Eigenvector Centrality Above Std  \\\n",
      "0                                 0   \n",
      "1                                 0   \n",
      "2                                 0   \n",
      "3                                 1   \n",
      "4                                 1   \n",
      "\n",
      "   Directed Clustering Coefficients Above Std  \n",
      "0                                           1  \n",
      "1                                           1  \n",
      "2                                           1  \n",
      "3                                           0  \n",
      "4                                           0  \n"
     ]
    }
   ],
   "source": [
    "# Calculate standard deviation for each centrality measure\n",
    "std_devs = centrality_df_links.iloc[:, 1:].std()\n",
    "print(std_devs)\n",
    "\n",
    "# Add new columns indicating whether the node's centrality is above the standard deviation (1 if it is, 0 if not)\n",
    "for centrality_measure in ['Degree Centrality', 'Betweenness Centrality', 'Closeness Centrality', 'Eigenvector Centrality', 'Directed Clustering Coefficients']:\n",
    "    centrality_df_links[centrality_measure + ' Above Std'] = (\n",
    "        centrality_df_links[centrality_measure] > std_devs[centrality_measure]).astype(int)\n",
    "\n",
    "# Now centrality_df_links has the additional columns with binary values for each centrality measure\n",
    "print(centrality_df_links.head())  # Displaying just the head for brevity"
   ]
  },
  {
   "cell_type": "code",
   "execution_count": 84,
   "metadata": {
    "execution": {
     "iopub.execute_input": "2023-12-09T09:38:31.529931Z",
     "iopub.status.busy": "2023-12-09T09:38:31.529034Z",
     "iopub.status.idle": "2023-12-09T09:38:31.540281Z",
     "shell.execute_reply": "2023-12-09T09:38:31.537615Z",
     "shell.execute_reply.started": "2023-12-09T09:38:31.529856Z"
    },
    "tags": []
   },
   "outputs": [],
   "source": [
    "df_player1 = finished_paths\n",
    "df_player2 = unfinished_paths"
   ]
  },
  {
   "cell_type": "code",
   "execution_count": 85,
   "metadata": {
    "execution": {
     "iopub.execute_input": "2023-12-09T09:38:43.592531Z",
     "iopub.status.busy": "2023-12-09T09:38:43.591219Z",
     "iopub.status.idle": "2023-12-09T09:38:43.804074Z",
     "shell.execute_reply": "2023-12-09T09:38:43.802722Z",
     "shell.execute_reply.started": "2023-12-09T09:38:43.592474Z"
    },
    "tags": []
   },
   "outputs": [],
   "source": [
    "# Define functions to extract the source and target from the path\n",
    "def extract_source(path):\n",
    "    return path.split(';')[0] if pd.notnull(path) else None\n",
    "\n",
    "def extract_target(path):\n",
    "    return path.split(';')[-1] if pd.notnull(path) else None\n",
    "\n",
    "# Apply these functions to the 'path' column of df_player1\n",
    "df_player1['source'] = df_player1['path'].apply(extract_source)\n",
    "df_player1['target'] = df_player1['path'].apply(extract_target)\n",
    "\n",
    "# Apply the source extraction function to the 'path' column of df_player2\n",
    "df_player2['source'] = df_player2['path'].apply(extract_source)\n"
   ]
  },
  {
   "cell_type": "code",
   "execution_count": 86,
   "metadata": {
    "execution": {
     "iopub.execute_input": "2023-12-09T09:38:55.514610Z",
     "iopub.status.busy": "2023-12-09T09:38:55.513278Z",
     "iopub.status.idle": "2023-12-09T09:38:55.566728Z",
     "shell.execute_reply": "2023-12-09T09:38:55.565150Z",
     "shell.execute_reply.started": "2023-12-09T09:38:55.514529Z"
    },
    "tags": []
   },
   "outputs": [
    {
     "name": "stdout",
     "output_type": "stream",
     "text": [
      "        hashedIpAddress   timestamp  durationInSec  \\\n",
      "5      36dabfa133b20e3c  1249525912            112   \n",
      "6      20418ff4797f96be  1229188046            139   \n",
      "7      08888b1b428dd90e  1232241510             74   \n",
      "8      08888b1b428dd90e  1232241601            167   \n",
      "9      4cb0068c36658716  1248654953            253   \n",
      "...                 ...         ...            ...   \n",
      "76186  109ed71f571d86e9  1389787605            180   \n",
      "76187  232f992e57d43e8d  1389787697              6   \n",
      "76188  2e09a7224600a7cd  1389798400           1900   \n",
      "76189  60af9e2138051b96  1389799481           1903   \n",
      "76190  1cf0cbb3281049ab  1389822841            352   \n",
      "\n",
      "                                                    path  rating  \\\n",
      "5                      14th_century;China;Gunpowder;Fire     2.0   \n",
      "6      14th_century;Time;Isaac_Newton;Light;Color;Rai...     1.0   \n",
      "7                        14th_century;Time;Light;Rainbow     3.0   \n",
      "8      14th_century;15th_century;Plato;Nature;Ultravi...     NaN   \n",
      "9      14th_century;Time;Science;Nature;Weather;Sunli...     3.0   \n",
      "...                                                  ...     ...   \n",
      "76186  Franz_Kafka;Tuberculosis;World_Health_Organiza...     NaN   \n",
      "76187                                     Modern_history     NaN   \n",
      "76188  Computer_programming;Linguistics;Culture;Popul...     NaN   \n",
      "76189  Jamaica;United_Kingdom;World_War_II;Battle_of_...     NaN   \n",
      "76190          Mark_Antony;Rome;Tennis;Hawk-Eye;Computer     NaN   \n",
      "\n",
      "                                          link_positions  avg_duration  \\\n",
      "5      [0.23953766440813073, 0.04771249846682203, 0.0...     28.000000   \n",
      "6      [0.09485850936628139, 0.0131067377449998, 0.04...     23.166667   \n",
      "7      [0.09485850936628139, 0.8127379854904004, 0.19...     18.500000   \n",
      "8      [0.036667995217218016, 0.53650998068255, 0.290...     23.857143   \n",
      "9                                                  [nan]     19.461538   \n",
      "...                                                  ...           ...   \n",
      "76186                                              [nan]     22.500000   \n",
      "76187                                              [nan]      6.000000   \n",
      "76188                                              [nan]    380.000000   \n",
      "76189  [0.022271304988036075, 0.11418921283819257, 0....    475.750000   \n",
      "76190  [0.9460089518836255, 0.9815434487085642, 0.286...     70.400000   \n",
      "\n",
      "       avg_position  max_position  avg_target_source_ratio  \\\n",
      "5          0.103473      0.239538                 2.996277   \n",
      "6          0.061306      0.129126                 2.473156   \n",
      "7          0.366163      0.812738                 1.286801   \n",
      "8          0.211931      0.536510                 2.514047   \n",
      "9               NaN           NaN                      NaN   \n",
      "...             ...           ...                      ...   \n",
      "76186           NaN           NaN                      NaN   \n",
      "76187           NaN           NaN                 0.020000   \n",
      "76188           NaN           NaN                      NaN   \n",
      "76189      0.059351      0.114189                 3.654841   \n",
      "76190      0.578810      0.981543                 1.706934   \n",
      "\n",
      "       avg_article_length                source       target  path_finished  \\\n",
      "5             2544.250000          14th_century         Fire              1   \n",
      "6             3727.833333          14th_century      Rainbow              1   \n",
      "7             3251.250000          14th_century      Rainbow              1   \n",
      "8             3251.428571          14th_century      Rainbow              1   \n",
      "9             3476.250000          14th_century      Rainbow              1   \n",
      "...                   ...                   ...          ...            ...   \n",
      "76186         3238.285714           Franz_Kafka      Cholera              0   \n",
      "76187         3773.000000        Modern_history    Hollandic              0   \n",
      "76188         2530.250000  Computer_programming  The_Beatles              0   \n",
      "76189         8661.250000               Jamaica  Alan_Turing              0   \n",
      "76190         4837.000000           Mark_Antony      Feather              0   \n",
      "\n",
      "          type  \n",
      "5          NaN  \n",
      "6          NaN  \n",
      "7          NaN  \n",
      "8          NaN  \n",
      "9          NaN  \n",
      "...        ...  \n",
      "76186  restart  \n",
      "76187  restart  \n",
      "76188  timeout  \n",
      "76189  timeout  \n",
      "76190  restart  \n",
      "\n",
      "[76186 rows x 15 columns]\n"
     ]
    }
   ],
   "source": [
    "# Add the 'path_finished' column to each DataFrame before concatenating\n",
    "df_player1['path_finished'] = 1\n",
    "df_player2['path_finished'] = 0\n",
    "\n",
    "# Concatenate the two DataFrames into one\n",
    "df_player = pd.concat([df_player1, df_player2], ignore_index=True)\n",
    "df_player = df_player.iloc[5:]\n",
    "\n",
    "# Now df_player will have all the rows from both df_player1 and df_player2\n",
    "# with the 'path_finished' column indicating from which DataFrame the row came from\n",
    "print(df_player)\n"
   ]
  },
  {
   "cell_type": "code",
   "execution_count": 87,
   "metadata": {
    "execution": {
     "iopub.execute_input": "2023-12-09T09:39:11.155150Z",
     "iopub.status.busy": "2023-12-09T09:39:11.154469Z",
     "iopub.status.idle": "2023-12-09T09:39:12.106720Z",
     "shell.execute_reply": "2023-12-09T09:39:12.105231Z",
     "shell.execute_reply.started": "2023-12-09T09:39:11.155096Z"
    },
    "tags": []
   },
   "outputs": [],
   "source": [
    "# Define a function to count the number of hubs in a path\n",
    "def count_hubs(path, hubs_set):\n",
    "    # Split the path into individual nodes\n",
    "    nodes = path.split(';')\n",
    "    # Count the number of nodes in the path that are in the set of hubs\n",
    "    hub_count = sum(node in hubs_set for node in nodes)\n",
    "    return hub_count\n",
    "\n",
    "# Create sets of hubs for each centrality measure\n",
    "hubs_degree = set(centrality_df_links[centrality_df_links['Degree Centrality Above Std'] == 1]['Node'])\n",
    "hubs_betweenness = set(centrality_df_links[centrality_df_links['Betweenness Centrality Above Std'] == 1]['Node'])\n",
    "hubs_closeness = set(centrality_df_links[centrality_df_links['Closeness Centrality Above Std'] == 1]['Node'])\n",
    "hubs_eigenvector = set(centrality_df_links[centrality_df_links['Eigenvector Centrality Above Std'] == 1]['Node'])\n",
    "hubs_clustering = set(centrality_df_links[centrality_df_links['Directed Clustering Coefficients Above Std'] == 1]['Node'])\n",
    "\n",
    "# Add the hub count columns to df_player\n",
    "df_player['Degree Hub Count'] = df_player['path'].apply(lambda path: count_hubs(path, hubs_degree))\n",
    "df_player['Betweenness Hub Count'] = df_player['path'].apply(lambda path: count_hubs(path, hubs_betweenness))\n",
    "df_player['Closeness Hub Count'] = df_player['path'].apply(lambda path: count_hubs(path, hubs_closeness))\n",
    "df_player['Eigenvector Hub Count'] = df_player['path'].apply(lambda path: count_hubs(path, hubs_eigenvector))\n",
    "df_player['Clustering Hub Count'] = df_player['path'].apply(lambda path: count_hubs(path, hubs_clustering))\n"
   ]
  },
  {
   "cell_type": "markdown",
   "metadata": {},
   "source": [
    "### Get Shortest Path"
   ]
  },
  {
   "cell_type": "code",
   "execution_count": 88,
   "metadata": {
    "execution": {
     "iopub.execute_input": "2023-12-09T09:39:57.934183Z",
     "iopub.status.busy": "2023-12-09T09:39:57.933115Z",
     "iopub.status.idle": "2023-12-09T09:40:01.586961Z",
     "shell.execute_reply": "2023-12-09T09:40:01.585658Z",
     "shell.execute_reply.started": "2023-12-09T09:39:57.934120Z"
    },
    "tags": []
   },
   "outputs": [],
   "source": [
    "# Function to calculate the shortest path length\n",
    "def calculate_shortest_path_length(row, graph):\n",
    "    try:\n",
    "        # Compute the shortest path length between source and target\n",
    "        path_length = nx.shortest_path_length(graph, source=row['source'], target=row['target'])\n",
    "        return path_length\n",
    "    except nx.NetworkXNoPath:\n",
    "        # If there is no path between source and target, return None or some indicator like -1\n",
    "        return None\n",
    "    except nx.NodeNotFound:\n",
    "        # If the source or target node does not exist in the graph, return None or some indicator like -1\n",
    "        return None\n",
    "\n",
    "# Apply the function to each row in df_player to calculate the shortest path length\n",
    "df_player['shortest_path'] = df_player.apply(lambda row: calculate_shortest_path_length(row, G_link), axis=1)\n"
   ]
  },
  {
   "cell_type": "markdown",
   "metadata": {},
   "source": [
    "### Count number of different categories\n"
   ]
  },
  {
   "cell_type": "code",
   "execution_count": 89,
   "metadata": {
    "execution": {
     "iopub.execute_input": "2023-12-09T09:40:23.939196Z",
     "iopub.status.busy": "2023-12-09T09:40:23.937816Z",
     "iopub.status.idle": "2023-12-09T09:40:23.973830Z",
     "shell.execute_reply": "2023-12-09T09:40:23.972208Z",
     "shell.execute_reply.started": "2023-12-09T09:40:23.939132Z"
    },
    "tags": []
   },
   "outputs": [],
   "source": [
    "# Step 1: Rename 'article' column to 'Node'\n",
    "categories.rename(columns={'article': 'Node'}, inplace=True)\n",
    "\n",
    "# Step 2: Extract the last category element\n",
    "categories['category'] = categories['category'].apply(lambda x: x.split('.')[-1] if pd.notnull(x) else None)\n",
    "\n",
    "# Step 3: Create a mapping from 'Node' to 'category'\n",
    "category_mapping = categories.set_index('Node')['category'].to_dict()\n",
    "\n",
    "# Step 4: Map the category to the corresponding node in 'centrality_df_links'\n",
    "centrality_df_links['category'] = centrality_df_links['Node'].map(category_mapping)"
   ]
  },
  {
   "cell_type": "code",
   "execution_count": 90,
   "metadata": {
    "execution": {
     "iopub.execute_input": "2023-12-09T09:40:37.292757Z",
     "iopub.status.busy": "2023-12-09T09:40:37.291737Z",
     "iopub.status.idle": "2023-12-09T09:40:37.317450Z",
     "shell.execute_reply": "2023-12-09T09:40:37.315740Z",
     "shell.execute_reply.started": "2023-12-09T09:40:37.292669Z"
    },
    "tags": []
   },
   "outputs": [
    {
     "name": "stdout",
     "output_type": "stream",
     "text": [
      "                                  Node  Degree Centrality  \\\n",
      "0     %C3%81ed%C3%A1n_mac_Gabr%C3%A1in           0.002178   \n",
      "1                              Columba           0.005010   \n",
      "2                       D%C3%A1l_Riata           0.006970   \n",
      "3                        Great_Britain           0.046831   \n",
      "4                              Ireland           0.084949   \n",
      "...                                ...                ...   \n",
      "4587                      Yellowhammer           0.002832   \n",
      "4588                    Yotsuya_Kaidan           0.000436   \n",
      "4589            You%27re_Still_the_One           0.000436   \n",
      "4590                    Yungay%2C_Peru           0.000871   \n",
      "4591                        Zara_Yaqob           0.001307   \n",
      "\n",
      "      Betweenness Centrality  Closeness Centrality  Eigenvector Centrality  \\\n",
      "0                   0.000000              0.000000            4.240661e-24   \n",
      "1                   0.000041              0.331740            1.851423e-03   \n",
      "2                   0.000054              0.312937            9.743453e-04   \n",
      "3                   0.002783              0.453663            4.398665e-02   \n",
      "4                   0.005534              0.458159            4.318552e-02   \n",
      "...                      ...                   ...                     ...   \n",
      "4587                0.000000              0.000000            4.240661e-24   \n",
      "4588                0.000000              0.000000            4.240661e-24   \n",
      "4589                0.000000              0.000000            4.240661e-24   \n",
      "4590                0.000000              0.000000            4.240661e-24   \n",
      "4591                0.000000              0.000000            4.240661e-24   \n",
      "\n",
      "      Directed Clustering Coefficients  Degree Centrality Above Std  \\\n",
      "0                             0.488889                            0   \n",
      "1                             0.222000                            0   \n",
      "2                             0.192698                            0   \n",
      "3                             0.051842                            1   \n",
      "4                             0.035463                            1   \n",
      "...                                ...                          ...   \n",
      "4587                          0.211538                            0   \n",
      "4588                          1.000000                            0   \n",
      "4589                          0.000000                            0   \n",
      "4590                          0.583333                            0   \n",
      "4591                          0.533333                            0   \n",
      "\n",
      "      Betweenness Centrality Above Std  Closeness Centrality Above Std  \\\n",
      "0                                    0                               0   \n",
      "1                                    0                               1   \n",
      "2                                    0                               1   \n",
      "3                                    1                               1   \n",
      "4                                    1                               1   \n",
      "...                                ...                             ...   \n",
      "4587                                 0                               0   \n",
      "4588                                 0                               0   \n",
      "4589                                 0                               0   \n",
      "4590                                 0                               0   \n",
      "4591                                 0                               0   \n",
      "\n",
      "      Eigenvector Centrality Above Std  \\\n",
      "0                                    0   \n",
      "1                                    0   \n",
      "2                                    0   \n",
      "3                                    1   \n",
      "4                                    1   \n",
      "...                                ...   \n",
      "4587                                 0   \n",
      "4588                                 0   \n",
      "4589                                 0   \n",
      "4590                                 0   \n",
      "4591                                 0   \n",
      "\n",
      "      Directed Clustering Coefficients Above Std  \\\n",
      "0                                              1   \n",
      "1                                              1   \n",
      "2                                              1   \n",
      "3                                              0   \n",
      "4                                              0   \n",
      "...                                          ...   \n",
      "4587                                           1   \n",
      "4588                                           1   \n",
      "4589                                           0   \n",
      "4590                                           1   \n",
      "4591                                           1   \n",
      "\n",
      "                                               category  \n",
      "0                                    Historical_figures  \n",
      "1                         Religious_figures_and_leaders  \n",
      "2     British_History_1500_and_before_including_Roma...  \n",
      "3                               Politics_and_government  \n",
      "4                                    European_Countries  \n",
      "...                                                 ...  \n",
      "4587                                              Birds  \n",
      "4588                                 General_Literature  \n",
      "4589                Musical_Recordings_and_compositions  \n",
      "4590               Central_and_South_American_Geography  \n",
      "4591                                 Historical_figures  \n",
      "\n",
      "[4592 rows x 12 columns]\n"
     ]
    }
   ],
   "source": [
    "print(centrality_df_links)"
   ]
  },
  {
   "cell_type": "code",
   "execution_count": 91,
   "metadata": {
    "execution": {
     "iopub.execute_input": "2023-12-09T09:40:55.119929Z",
     "iopub.status.busy": "2023-12-09T09:40:55.119230Z",
     "iopub.status.idle": "2023-12-09T09:40:55.450676Z",
     "shell.execute_reply": "2023-12-09T09:40:55.449094Z",
     "shell.execute_reply.started": "2023-12-09T09:40:55.119868Z"
    },
    "tags": []
   },
   "outputs": [],
   "source": [
    "# Step 1: Create a mapping from nodes to categories.\n",
    "node_to_category = pd.Series(centrality_df_links['category'].values, index=centrality_df_links['Node']).to_dict()\n",
    "\n",
    "# Step 2: Define a function to count unique categories in a path.\n",
    "def count_unique_categories(path):\n",
    "    if pd.isna(path):\n",
    "        return 0\n",
    "    # Split the path into nodes.\n",
    "    nodes = path.split(';')\n",
    "    # Find the category for each node, count unique categories.\n",
    "    categories = [node_to_category.get(node) for node in nodes if node in node_to_category]\n",
    "    return len(set(categories))\n",
    "\n",
    "# Step 3: Apply the function to each row in df_player 'path' column.\n",
    "df_player['unique_categories'] = df_player['path'].apply(count_unique_categories)\n"
   ]
  },
  {
   "cell_type": "code",
   "execution_count": 92,
   "metadata": {
    "execution": {
     "iopub.execute_input": "2023-12-09T09:41:15.403835Z",
     "iopub.status.busy": "2023-12-09T09:41:15.403071Z",
     "iopub.status.idle": "2023-12-09T09:41:15.442817Z",
     "shell.execute_reply": "2023-12-09T09:41:15.441203Z",
     "shell.execute_reply.started": "2023-12-09T09:41:15.403774Z"
    },
    "tags": []
   },
   "outputs": [
    {
     "data": {
      "text/html": [
       "<div>\n",
       "<style scoped>\n",
       "    .dataframe tbody tr th:only-of-type {\n",
       "        vertical-align: middle;\n",
       "    }\n",
       "\n",
       "    .dataframe tbody tr th {\n",
       "        vertical-align: top;\n",
       "    }\n",
       "\n",
       "    .dataframe thead th {\n",
       "        text-align: right;\n",
       "    }\n",
       "</style>\n",
       "<table border=\"1\" class=\"dataframe\">\n",
       "  <thead>\n",
       "    <tr style=\"text-align: right;\">\n",
       "      <th></th>\n",
       "      <th>hashedIpAddress</th>\n",
       "      <th>timestamp</th>\n",
       "      <th>durationInSec</th>\n",
       "      <th>path</th>\n",
       "      <th>rating</th>\n",
       "      <th>link_positions</th>\n",
       "      <th>avg_duration</th>\n",
       "      <th>avg_position</th>\n",
       "      <th>max_position</th>\n",
       "      <th>avg_target_source_ratio</th>\n",
       "      <th>...</th>\n",
       "      <th>target</th>\n",
       "      <th>path_finished</th>\n",
       "      <th>type</th>\n",
       "      <th>Degree Hub Count</th>\n",
       "      <th>Betweenness Hub Count</th>\n",
       "      <th>Closeness Hub Count</th>\n",
       "      <th>Eigenvector Hub Count</th>\n",
       "      <th>Clustering Hub Count</th>\n",
       "      <th>shortest_path</th>\n",
       "      <th>unique_categories</th>\n",
       "    </tr>\n",
       "  </thead>\n",
       "  <tbody>\n",
       "    <tr>\n",
       "      <th>5</th>\n",
       "      <td>36dabfa133b20e3c</td>\n",
       "      <td>1249525912</td>\n",
       "      <td>112</td>\n",
       "      <td>14th_century;China;Gunpowder;Fire</td>\n",
       "      <td>2.0</td>\n",
       "      <td>[0.23953766440813073, 0.04771249846682203, 0.0...</td>\n",
       "      <td>28.000000</td>\n",
       "      <td>0.103473</td>\n",
       "      <td>0.239538</td>\n",
       "      <td>2.996277</td>\n",
       "      <td>...</td>\n",
       "      <td>Fire</td>\n",
       "      <td>1</td>\n",
       "      <td>NaN</td>\n",
       "      <td>3</td>\n",
       "      <td>1</td>\n",
       "      <td>4</td>\n",
       "      <td>2</td>\n",
       "      <td>0</td>\n",
       "      <td>3.0</td>\n",
       "      <td>3</td>\n",
       "    </tr>\n",
       "    <tr>\n",
       "      <th>6</th>\n",
       "      <td>20418ff4797f96be</td>\n",
       "      <td>1229188046</td>\n",
       "      <td>139</td>\n",
       "      <td>14th_century;Time;Isaac_Newton;Light;Color;Rai...</td>\n",
       "      <td>1.0</td>\n",
       "      <td>[0.09485850936628139, 0.0131067377449998, 0.04...</td>\n",
       "      <td>23.166667</td>\n",
       "      <td>0.061306</td>\n",
       "      <td>0.129126</td>\n",
       "      <td>2.473156</td>\n",
       "      <td>...</td>\n",
       "      <td>Rainbow</td>\n",
       "      <td>1</td>\n",
       "      <td>NaN</td>\n",
       "      <td>5</td>\n",
       "      <td>0</td>\n",
       "      <td>6</td>\n",
       "      <td>1</td>\n",
       "      <td>0</td>\n",
       "      <td>3.0</td>\n",
       "      <td>4</td>\n",
       "    </tr>\n",
       "    <tr>\n",
       "      <th>7</th>\n",
       "      <td>08888b1b428dd90e</td>\n",
       "      <td>1232241510</td>\n",
       "      <td>74</td>\n",
       "      <td>14th_century;Time;Light;Rainbow</td>\n",
       "      <td>3.0</td>\n",
       "      <td>[0.09485850936628139, 0.8127379854904004, 0.19...</td>\n",
       "      <td>18.500000</td>\n",
       "      <td>0.366163</td>\n",
       "      <td>0.812738</td>\n",
       "      <td>1.286801</td>\n",
       "      <td>...</td>\n",
       "      <td>Rainbow</td>\n",
       "      <td>1</td>\n",
       "      <td>NaN</td>\n",
       "      <td>3</td>\n",
       "      <td>0</td>\n",
       "      <td>4</td>\n",
       "      <td>1</td>\n",
       "      <td>0</td>\n",
       "      <td>3.0</td>\n",
       "      <td>3</td>\n",
       "    </tr>\n",
       "    <tr>\n",
       "      <th>8</th>\n",
       "      <td>08888b1b428dd90e</td>\n",
       "      <td>1232241601</td>\n",
       "      <td>167</td>\n",
       "      <td>14th_century;15th_century;Plato;Nature;Ultravi...</td>\n",
       "      <td>NaN</td>\n",
       "      <td>[0.036667995217218016, 0.53650998068255, 0.290...</td>\n",
       "      <td>23.857143</td>\n",
       "      <td>0.211931</td>\n",
       "      <td>0.536510</td>\n",
       "      <td>2.514047</td>\n",
       "      <td>...</td>\n",
       "      <td>Rainbow</td>\n",
       "      <td>1</td>\n",
       "      <td>NaN</td>\n",
       "      <td>6</td>\n",
       "      <td>0</td>\n",
       "      <td>7</td>\n",
       "      <td>2</td>\n",
       "      <td>0</td>\n",
       "      <td>3.0</td>\n",
       "      <td>5</td>\n",
       "    </tr>\n",
       "    <tr>\n",
       "      <th>9</th>\n",
       "      <td>4cb0068c36658716</td>\n",
       "      <td>1248654953</td>\n",
       "      <td>253</td>\n",
       "      <td>14th_century;Time;Science;Nature;Weather;Sunli...</td>\n",
       "      <td>3.0</td>\n",
       "      <td>[nan]</td>\n",
       "      <td>19.461538</td>\n",
       "      <td>NaN</td>\n",
       "      <td>NaN</td>\n",
       "      <td>NaN</td>\n",
       "      <td>...</td>\n",
       "      <td>Rainbow</td>\n",
       "      <td>1</td>\n",
       "      <td>NaN</td>\n",
       "      <td>10</td>\n",
       "      <td>2</td>\n",
       "      <td>12</td>\n",
       "      <td>2</td>\n",
       "      <td>0</td>\n",
       "      <td>3.0</td>\n",
       "      <td>6</td>\n",
       "    </tr>\n",
       "    <tr>\n",
       "      <th>...</th>\n",
       "      <td>...</td>\n",
       "      <td>...</td>\n",
       "      <td>...</td>\n",
       "      <td>...</td>\n",
       "      <td>...</td>\n",
       "      <td>...</td>\n",
       "      <td>...</td>\n",
       "      <td>...</td>\n",
       "      <td>...</td>\n",
       "      <td>...</td>\n",
       "      <td>...</td>\n",
       "      <td>...</td>\n",
       "      <td>...</td>\n",
       "      <td>...</td>\n",
       "      <td>...</td>\n",
       "      <td>...</td>\n",
       "      <td>...</td>\n",
       "      <td>...</td>\n",
       "      <td>...</td>\n",
       "      <td>...</td>\n",
       "      <td>...</td>\n",
       "    </tr>\n",
       "    <tr>\n",
       "      <th>76186</th>\n",
       "      <td>109ed71f571d86e9</td>\n",
       "      <td>1389787605</td>\n",
       "      <td>180</td>\n",
       "      <td>Franz_Kafka;Tuberculosis;World_Health_Organiza...</td>\n",
       "      <td>NaN</td>\n",
       "      <td>[nan]</td>\n",
       "      <td>22.500000</td>\n",
       "      <td>NaN</td>\n",
       "      <td>NaN</td>\n",
       "      <td>NaN</td>\n",
       "      <td>...</td>\n",
       "      <td>Cholera</td>\n",
       "      <td>0</td>\n",
       "      <td>restart</td>\n",
       "      <td>6</td>\n",
       "      <td>0</td>\n",
       "      <td>7</td>\n",
       "      <td>4</td>\n",
       "      <td>3</td>\n",
       "      <td>3.0</td>\n",
       "      <td>5</td>\n",
       "    </tr>\n",
       "    <tr>\n",
       "      <th>76187</th>\n",
       "      <td>232f992e57d43e8d</td>\n",
       "      <td>1389787697</td>\n",
       "      <td>6</td>\n",
       "      <td>Modern_history</td>\n",
       "      <td>NaN</td>\n",
       "      <td>[nan]</td>\n",
       "      <td>6.000000</td>\n",
       "      <td>NaN</td>\n",
       "      <td>NaN</td>\n",
       "      <td>0.020000</td>\n",
       "      <td>...</td>\n",
       "      <td>Hollandic</td>\n",
       "      <td>0</td>\n",
       "      <td>restart</td>\n",
       "      <td>1</td>\n",
       "      <td>0</td>\n",
       "      <td>1</td>\n",
       "      <td>0</td>\n",
       "      <td>0</td>\n",
       "      <td>3.0</td>\n",
       "      <td>1</td>\n",
       "    </tr>\n",
       "    <tr>\n",
       "      <th>76188</th>\n",
       "      <td>2e09a7224600a7cd</td>\n",
       "      <td>1389798400</td>\n",
       "      <td>1900</td>\n",
       "      <td>Computer_programming;Linguistics;Culture;Popul...</td>\n",
       "      <td>NaN</td>\n",
       "      <td>[nan]</td>\n",
       "      <td>380.000000</td>\n",
       "      <td>NaN</td>\n",
       "      <td>NaN</td>\n",
       "      <td>NaN</td>\n",
       "      <td>...</td>\n",
       "      <td>The_Beatles</td>\n",
       "      <td>0</td>\n",
       "      <td>timeout</td>\n",
       "      <td>1</td>\n",
       "      <td>0</td>\n",
       "      <td>4</td>\n",
       "      <td>1</td>\n",
       "      <td>1</td>\n",
       "      <td>3.0</td>\n",
       "      <td>3</td>\n",
       "    </tr>\n",
       "    <tr>\n",
       "      <th>76189</th>\n",
       "      <td>60af9e2138051b96</td>\n",
       "      <td>1389799481</td>\n",
       "      <td>1903</td>\n",
       "      <td>Jamaica;United_Kingdom;World_War_II;Battle_of_...</td>\n",
       "      <td>NaN</td>\n",
       "      <td>[0.022271304988036075, 0.11418921283819257, 0....</td>\n",
       "      <td>475.750000</td>\n",
       "      <td>0.059351</td>\n",
       "      <td>0.114189</td>\n",
       "      <td>3.654841</td>\n",
       "      <td>...</td>\n",
       "      <td>Alan_Turing</td>\n",
       "      <td>0</td>\n",
       "      <td>timeout</td>\n",
       "      <td>3</td>\n",
       "      <td>2</td>\n",
       "      <td>4</td>\n",
       "      <td>3</td>\n",
       "      <td>1</td>\n",
       "      <td>3.0</td>\n",
       "      <td>4</td>\n",
       "    </tr>\n",
       "    <tr>\n",
       "      <th>76190</th>\n",
       "      <td>1cf0cbb3281049ab</td>\n",
       "      <td>1389822841</td>\n",
       "      <td>352</td>\n",
       "      <td>Mark_Antony;Rome;Tennis;Hawk-Eye;Computer</td>\n",
       "      <td>NaN</td>\n",
       "      <td>[0.9460089518836255, 0.9815434487085642, 0.286...</td>\n",
       "      <td>70.400000</td>\n",
       "      <td>0.578810</td>\n",
       "      <td>0.981543</td>\n",
       "      <td>1.706934</td>\n",
       "      <td>...</td>\n",
       "      <td>Feather</td>\n",
       "      <td>0</td>\n",
       "      <td>restart</td>\n",
       "      <td>3</td>\n",
       "      <td>3</td>\n",
       "      <td>5</td>\n",
       "      <td>3</td>\n",
       "      <td>2</td>\n",
       "      <td>3.0</td>\n",
       "      <td>4</td>\n",
       "    </tr>\n",
       "  </tbody>\n",
       "</table>\n",
       "<p>76186 rows × 22 columns</p>\n",
       "</div>"
      ],
      "text/plain": [
       "        hashedIpAddress   timestamp  durationInSec  \\\n",
       "5      36dabfa133b20e3c  1249525912            112   \n",
       "6      20418ff4797f96be  1229188046            139   \n",
       "7      08888b1b428dd90e  1232241510             74   \n",
       "8      08888b1b428dd90e  1232241601            167   \n",
       "9      4cb0068c36658716  1248654953            253   \n",
       "...                 ...         ...            ...   \n",
       "76186  109ed71f571d86e9  1389787605            180   \n",
       "76187  232f992e57d43e8d  1389787697              6   \n",
       "76188  2e09a7224600a7cd  1389798400           1900   \n",
       "76189  60af9e2138051b96  1389799481           1903   \n",
       "76190  1cf0cbb3281049ab  1389822841            352   \n",
       "\n",
       "                                                    path  rating  \\\n",
       "5                      14th_century;China;Gunpowder;Fire     2.0   \n",
       "6      14th_century;Time;Isaac_Newton;Light;Color;Rai...     1.0   \n",
       "7                        14th_century;Time;Light;Rainbow     3.0   \n",
       "8      14th_century;15th_century;Plato;Nature;Ultravi...     NaN   \n",
       "9      14th_century;Time;Science;Nature;Weather;Sunli...     3.0   \n",
       "...                                                  ...     ...   \n",
       "76186  Franz_Kafka;Tuberculosis;World_Health_Organiza...     NaN   \n",
       "76187                                     Modern_history     NaN   \n",
       "76188  Computer_programming;Linguistics;Culture;Popul...     NaN   \n",
       "76189  Jamaica;United_Kingdom;World_War_II;Battle_of_...     NaN   \n",
       "76190          Mark_Antony;Rome;Tennis;Hawk-Eye;Computer     NaN   \n",
       "\n",
       "                                          link_positions  avg_duration  \\\n",
       "5      [0.23953766440813073, 0.04771249846682203, 0.0...     28.000000   \n",
       "6      [0.09485850936628139, 0.0131067377449998, 0.04...     23.166667   \n",
       "7      [0.09485850936628139, 0.8127379854904004, 0.19...     18.500000   \n",
       "8      [0.036667995217218016, 0.53650998068255, 0.290...     23.857143   \n",
       "9                                                  [nan]     19.461538   \n",
       "...                                                  ...           ...   \n",
       "76186                                              [nan]     22.500000   \n",
       "76187                                              [nan]      6.000000   \n",
       "76188                                              [nan]    380.000000   \n",
       "76189  [0.022271304988036075, 0.11418921283819257, 0....    475.750000   \n",
       "76190  [0.9460089518836255, 0.9815434487085642, 0.286...     70.400000   \n",
       "\n",
       "       avg_position  max_position  avg_target_source_ratio  ...       target  \\\n",
       "5          0.103473      0.239538                 2.996277  ...         Fire   \n",
       "6          0.061306      0.129126                 2.473156  ...      Rainbow   \n",
       "7          0.366163      0.812738                 1.286801  ...      Rainbow   \n",
       "8          0.211931      0.536510                 2.514047  ...      Rainbow   \n",
       "9               NaN           NaN                      NaN  ...      Rainbow   \n",
       "...             ...           ...                      ...  ...          ...   \n",
       "76186           NaN           NaN                      NaN  ...      Cholera   \n",
       "76187           NaN           NaN                 0.020000  ...    Hollandic   \n",
       "76188           NaN           NaN                      NaN  ...  The_Beatles   \n",
       "76189      0.059351      0.114189                 3.654841  ...  Alan_Turing   \n",
       "76190      0.578810      0.981543                 1.706934  ...      Feather   \n",
       "\n",
       "      path_finished     type  Degree Hub Count Betweenness Hub Count  \\\n",
       "5                 1      NaN                 3                     1   \n",
       "6                 1      NaN                 5                     0   \n",
       "7                 1      NaN                 3                     0   \n",
       "8                 1      NaN                 6                     0   \n",
       "9                 1      NaN                10                     2   \n",
       "...             ...      ...               ...                   ...   \n",
       "76186             0  restart                 6                     0   \n",
       "76187             0  restart                 1                     0   \n",
       "76188             0  timeout                 1                     0   \n",
       "76189             0  timeout                 3                     2   \n",
       "76190             0  restart                 3                     3   \n",
       "\n",
       "       Closeness Hub Count  Eigenvector Hub Count  Clustering Hub Count  \\\n",
       "5                        4                      2                     0   \n",
       "6                        6                      1                     0   \n",
       "7                        4                      1                     0   \n",
       "8                        7                      2                     0   \n",
       "9                       12                      2                     0   \n",
       "...                    ...                    ...                   ...   \n",
       "76186                    7                      4                     3   \n",
       "76187                    1                      0                     0   \n",
       "76188                    4                      1                     1   \n",
       "76189                    4                      3                     1   \n",
       "76190                    5                      3                     2   \n",
       "\n",
       "       shortest_path  unique_categories  \n",
       "5                3.0                  3  \n",
       "6                3.0                  4  \n",
       "7                3.0                  3  \n",
       "8                3.0                  5  \n",
       "9                3.0                  6  \n",
       "...              ...                ...  \n",
       "76186            3.0                  5  \n",
       "76187            3.0                  1  \n",
       "76188            3.0                  3  \n",
       "76189            3.0                  4  \n",
       "76190            3.0                  4  \n",
       "\n",
       "[76186 rows x 22 columns]"
      ]
     },
     "execution_count": 92,
     "metadata": {},
     "output_type": "execute_result"
    }
   ],
   "source": [
    "df_player"
   ]
  },
  {
   "cell_type": "code",
   "execution_count": null,
   "metadata": {},
   "outputs": [],
   "source": []
  },
  {
   "cell_type": "code",
   "execution_count": null,
   "metadata": {},
   "outputs": [],
   "source": []
  },
  {
   "cell_type": "code",
   "execution_count": null,
   "metadata": {},
   "outputs": [],
   "source": []
  },
  {
   "cell_type": "markdown",
   "metadata": {},
   "source": [
    "# More analysis of centrality measures and categories"
   ]
  },
  {
   "cell_type": "code",
   "execution_count": 108,
   "metadata": {},
   "outputs": [
    {
     "data": {
      "image/png": "[encoded data removed]",
      "text/plain": [
       "<Figure size 640x480 with 2 Axes>"
      ]
     },
     "metadata": {},
     "output_type": "display_data"
    }
   ],
   "source": [
    "centrality_cols = ['Degree Centrality', 'Betweenness Centrality', 'Closeness Centrality', 'Eigenvector Centrality', 'Directed Clustering Coefficients']\n",
    "correlation_matrix = centrality_df_links[centrality_cols].corr()\n",
    "\n",
    "# Plotting the correlation matrix\n",
    "sns.heatmap(correlation_matrix, annot=True)\n",
    "plt.title('Correlation between different centrality measures')\n",
    "plt.show()"
   ]
  },
  {
   "cell_type": "code",
   "execution_count": null,
   "metadata": {},
   "outputs": [],
   "source": []
  },
  {
   "cell_type": "markdown",
   "metadata": {},
   "source": [
    "Closeness centrality and directed clustering coefficients are notably different from the other three measures"
   ]
  },
  {
   "cell_type": "code",
   "execution_count": 123,
   "metadata": {},
   "outputs": [],
   "source": [
    "df_player['hashedIpAddress'] = df_player['hashedIpAddress'].astype(str)"
   ]
  },
  {
   "cell_type": "code",
   "execution_count": 129,
   "metadata": {},
   "outputs": [
    {
     "data": {
      "text/plain": [
       "5        3\n",
       "6        4\n",
       "7        3\n",
       "8        5\n",
       "9        6\n",
       "        ..\n",
       "76186    5\n",
       "76187    1\n",
       "76188    3\n",
       "76189    4\n",
       "76190    4\n",
       "Name: unique_categories, Length: 76186, dtype: int64"
      ]
     },
     "execution_count": 129,
     "metadata": {},
     "output_type": "execute_result"
    }
   ],
   "source": [
    "\n",
    "df_player['unique_categories']"
   ]
  },
  {
   "cell_type": "code",
   "execution_count": 125,
   "metadata": {},
   "outputs": [
    {
     "data": {
      "text/plain": [
       "5        36dabfa133b20e3c\n",
       "6        20418ff4797f96be\n",
       "7        08888b1b428dd90e\n",
       "8        08888b1b428dd90e\n",
       "9        4cb0068c36658716\n",
       "               ...       \n",
       "76186    109ed71f571d86e9\n",
       "76187    232f992e57d43e8d\n",
       "76188    2e09a7224600a7cd\n",
       "76189    60af9e2138051b96\n",
       "76190    1cf0cbb3281049ab\n",
       "Name: hashedIpAddress, Length: 76186, dtype: object"
      ]
     },
     "execution_count": 125,
     "metadata": {},
     "output_type": "execute_result"
    }
   ],
   "source": [
    "df_player[\"hashedIpAddress\"].apply(str)"
   ]
  },
  {
   "cell_type": "code",
   "execution_count": 127,
   "metadata": {},
   "outputs": [
    {
     "name": "stdout",
     "output_type": "stream",
     "text": [
      "Results for Degree_Hub_Count:\n",
      "           Mixed Linear Model Regression Results\n",
      "===========================================================\n",
      "Model:            MixedLM Dependent Variable: path_finished\n",
      "No. Observations: 76186   Method:             REML         \n",
      "No. Groups:       20867   Scale:              0.1433       \n",
      "Min. group size:  1       Log-Likelihood:     -42626.3006  \n",
      "Max. group size:  4865    Converged:          Yes          \n",
      "Mean group size:  3.7                                      \n",
      "-----------------------------------------------------------\n",
      "                 Coef. Std.Err.    z    P>|z| [0.025 0.975]\n",
      "-----------------------------------------------------------\n",
      "Intercept        0.523    0.003 157.902 0.000  0.516  0.529\n",
      "Degree_Hub_Count 0.022    0.001  39.069 0.000  0.021  0.023\n",
      "Group Var        0.079    0.005                            \n",
      "===========================================================\n",
      "\n",
      "\n",
      "\n",
      "Results for Betweenness_Hub_Count:\n",
      "             Mixed Linear Model Regression Results\n",
      "================================================================\n",
      "Model:               MixedLM  Dependent Variable:  path_finished\n",
      "No. Observations:    76186    Method:              REML         \n",
      "No. Groups:          20867    Scale:               0.1432       \n",
      "Min. group size:     1        Log-Likelihood:      -42658.4657  \n",
      "Max. group size:     4865     Converged:           Yes          \n",
      "Mean group size:     3.7                                        \n",
      "----------------------------------------------------------------\n",
      "                      Coef. Std.Err.    z    P>|z| [0.025 0.975]\n",
      "----------------------------------------------------------------\n",
      "Intercept             0.531    0.003 164.764 0.000  0.524  0.537\n",
      "Betweenness_Hub_Count 0.034    0.001  38.206 0.000  0.032  0.035\n",
      "Group Var             0.079    0.005                            \n",
      "================================================================\n",
      "\n",
      "\n",
      "\n",
      "Results for Closeness_Hub_Count:\n",
      "            Mixed Linear Model Regression Results\n",
      "==============================================================\n",
      "Model:             MixedLM  Dependent Variable:  path_finished\n",
      "No. Observations:  76186    Method:              REML         \n",
      "No. Groups:        20867    Scale:               0.1433       \n",
      "Min. group size:   1        Log-Likelihood:      -42548.7007  \n",
      "Max. group size:   4865     Converged:           Yes          \n",
      "Mean group size:   3.7                                        \n",
      "--------------------------------------------------------------\n",
      "                    Coef. Std.Err.    z    P>|z| [0.025 0.975]\n",
      "--------------------------------------------------------------\n",
      "Intercept           0.511    0.003 149.991 0.000  0.505  0.518\n",
      "Closeness_Hub_Count 0.015    0.000  41.035 0.000  0.015  0.016\n",
      "Group Var           0.078    0.005                            \n",
      "==============================================================\n",
      "\n",
      "\n",
      "\n",
      "Results for Eigenvector_Hub_Count:\n",
      "             Mixed Linear Model Regression Results\n",
      "================================================================\n",
      "Model:               MixedLM  Dependent Variable:  path_finished\n",
      "No. Observations:    76186    Method:              REML         \n",
      "No. Groups:          20867    Scale:               0.1438       \n",
      "Min. group size:     1        Log-Likelihood:      -42872.1589  \n",
      "Max. group size:     4865     Converged:           Yes          \n",
      "Mean group size:     3.7                                        \n",
      "----------------------------------------------------------------\n",
      "                      Coef. Std.Err.    z    P>|z| [0.025 0.975]\n",
      "----------------------------------------------------------------\n",
      "Intercept             0.544    0.003 170.694 0.000  0.538  0.550\n",
      "Eigenvector_Hub_Count 0.022    0.001  32.080 0.000  0.021  0.024\n",
      "Group Var             0.081    0.005                            \n",
      "================================================================\n",
      "\n",
      "\n",
      "\n",
      "Results for Clustering_Hub_Count:\n",
      "             Mixed Linear Model Regression Results\n",
      "===============================================================\n",
      "Model:              MixedLM  Dependent Variable:  path_finished\n",
      "No. Observations:   76186    Method:              REML         \n",
      "No. Groups:         20867    Scale:               0.1438       \n",
      "Min. group size:    1        Log-Likelihood:      -42864.5114  \n",
      "Max. group size:    4865     Converged:           Yes          \n",
      "Mean group size:    3.7                                        \n",
      "---------------------------------------------------------------\n",
      "                     Coef. Std.Err.    z    P>|z| [0.025 0.975]\n",
      "---------------------------------------------------------------\n",
      "Intercept            0.549    0.003 176.549 0.000  0.543  0.555\n",
      "Clustering_Hub_Count 0.030    0.001  32.301 0.000  0.028  0.032\n",
      "Group Var            0.080    0.005                            \n",
      "===============================================================\n",
      "\n",
      "\n",
      "\n"
     ]
    }
   ],
   "source": [
    "hub_counts = [\"Degree_Hub_Count\", \"Betweenness_Hub_Count\", \"Closeness_Hub_Count\", \n",
    "              \"Eigenvector_Hub_Count\", \"Clustering_Hub_Count\"]\n",
    "\n",
    "# Running the MixedLM for each hub count and printing the summary\n",
    "for hub_count in hub_counts:\n",
    "    model = smf.mixedlm(f\"path_finished ~ {hub_count}\", df_player, groups=df_player[\"hashedIpAddress\"])\n",
    "    result = model.fit()\n",
    "    print(f\"Results for {hub_count}:\")\n",
    "    print(result.summary())\n",
    "    print(\"\\n\")"
   ]
  },
  {
   "cell_type": "code",
   "execution_count": 134,
   "metadata": {},
   "outputs": [
    {
     "name": "stdout",
     "output_type": "stream",
     "text": [
      "           Mixed Linear Model Regression Results\n",
      "============================================================\n",
      "Model:             MixedLM Dependent Variable: path_finished\n",
      "No. Observations:  76186   Method:             REML         \n",
      "No. Groups:        20867   Scale:              0.1413       \n",
      "Min. group size:   1       Log-Likelihood:     -41694.8982  \n",
      "Max. group size:   4865    Converged:          Yes          \n",
      "Mean group size:   3.7                                      \n",
      "------------------------------------------------------------\n",
      "                  Coef. Std.Err.    z    P>|z| [0.025 0.975]\n",
      "------------------------------------------------------------\n",
      "Intercept         0.430    0.004 110.877 0.000  0.422  0.438\n",
      "unique_categories 0.041    0.001  58.553 0.000  0.039  0.042\n",
      "Group Var         0.072    0.004                            \n",
      "============================================================\n",
      "\n"
     ]
    }
   ],
   "source": [
    "model = smf.mixedlm(\"path_finished ~ unique_categories\", df_player, groups=df_player[\"hashedIpAddress\"])\n",
    "result = model.fit()\n",
    "print(result.summary())"
   ]
  },
  {
   "cell_type": "code",
   "execution_count": 135,
   "metadata": {},
   "outputs": [],
   "source": [
    "df_player_cleaned = df_player.dropna(subset=['shortest_path'])"
   ]
  },
  {
   "cell_type": "code",
   "execution_count": 137,
   "metadata": {},
   "outputs": [
    {
     "name": "stdout",
     "output_type": "stream",
     "text": [
      "           Mixed Linear Model Regression Results\n",
      "===========================================================\n",
      "Model:            MixedLM Dependent Variable: path_finished\n",
      "No. Observations: 76148   Method:             REML         \n",
      "No. Groups:       20859   Scale:              0.1380       \n",
      "Min. group size:  1       Log-Likelihood:     -41345.0678  \n",
      "Max. group size:  4865    Converged:          Yes          \n",
      "Mean group size:  3.7                                      \n",
      "-----------------------------------------------------------\n",
      "                Coef.  Std.Err.    z    P>|z| [0.025 0.975]\n",
      "-----------------------------------------------------------\n",
      "Intercept        0.985    0.007 147.490 0.000  0.972  0.998\n",
      "shortest_path   -0.129    0.002 -63.965 0.000 -0.133 -0.125\n",
      "Group Var        0.078    0.005                            \n",
      "===========================================================\n",
      "\n"
     ]
    }
   ],
   "source": [
    "model = smf.mixedlm(\"path_finished ~ shortest_path\", df_player_cleaned, groups=df_player_cleaned[\"hashedIpAddress\"])\n",
    "result = model.fit()\n",
    "print(result.summary())"
   ]
  },
  {
   "cell_type": "code",
   "execution_count": 142,
   "metadata": {},
   "outputs": [
    {
     "name": "stdout",
     "output_type": "stream",
     "text": [
      "             Mixed Linear Model Regression Results\n",
      "================================================================\n",
      "Model:               MixedLM  Dependent Variable:  path_finished\n",
      "No. Observations:    76186    Method:              REML         \n",
      "No. Groups:          20867    Scale:               0.1413       \n",
      "Min. group size:     1        Log-Likelihood:      -41700.2555  \n",
      "Max. group size:     4865     Converged:           Yes          \n",
      "Mean group size:     3.7                                        \n",
      "----------------------------------------------------------------\n",
      "                      Coef. Std.Err.    z    P>|z| [0.025 0.975]\n",
      "----------------------------------------------------------------\n",
      "Intercept             0.430    0.004 110.785 0.000  0.423  0.438\n",
      "unique_categories     0.040    0.001  44.067 0.000  0.038  0.042\n",
      "Betweenness_Hub_Count 0.001    0.001   1.002 0.316 -0.001  0.003\n",
      "Group Var             0.072    0.004                            \n",
      "================================================================\n",
      "\n"
     ]
    }
   ],
   "source": [
    "model = smf.mixedlm(\"path_finished ~ unique_categories + Betweenness_Hub_Count\", df_player, groups=df_player[\"hashedIpAddress\"])\n",
    "result = model.fit()\n",
    "print(result.summary())"
   ]
  },
  {
   "cell_type": "code",
   "execution_count": 155,
   "metadata": {},
   "outputs": [],
   "source": [
    "\n",
    "df_player.dropna(subset=['shortest_path'], inplace=True)\n"
   ]
  },
  {
   "cell_type": "code",
   "execution_count": 156,
   "metadata": {},
   "outputs": [
    {
     "name": "stdout",
     "output_type": "stream",
     "text": [
      "              Mixed Linear Model Regression Results\n",
      "=================================================================\n",
      "Model:              MixedLM   Dependent Variable:   path_finished\n",
      "No. Observations:   76148     Method:               REML         \n",
      "No. Groups:         20859     Scale:                0.1308       \n",
      "Min. group size:    1         Log-Likelihood:       -37964.0517  \n",
      "Max. group size:    4865      Converged:            Yes          \n",
      "Mean group size:    3.7                                          \n",
      "-----------------------------------------------------------------\n",
      "                      Coef.  Std.Err.    z    P>|z| [0.025 0.975]\n",
      "-----------------------------------------------------------------\n",
      "Intercept              0.869    0.008 105.463 0.000  0.853  0.886\n",
      "avg_article_length     0.000    0.000   1.289 0.198 -0.000  0.000\n",
      "Degree_Hub_Count      -0.015    0.002  -9.467 0.000 -0.018 -0.012\n",
      "Betweenness_Hub_Count  0.031    0.002  20.046 0.000  0.028  0.034\n",
      "Closeness_Hub_Count   -0.011    0.001  -9.889 0.000 -0.013 -0.009\n",
      "Eigenvector_Hub_Count -0.019    0.001 -15.094 0.000 -0.022 -0.017\n",
      "Clustering_Hub_Count   0.034    0.001  26.310 0.000  0.031  0.036\n",
      "shortest_path         -0.172    0.002 -83.368 0.000 -0.176 -0.168\n",
      "unique_categories      0.068    0.001  54.933 0.000  0.066  0.071\n",
      "Group Var              0.056    0.004                            \n",
      "=================================================================\n",
      "\n"
     ]
    }
   ],
   "source": [
    "\n",
    "\n",
    "formula = \"path_finished ~ avg_article_length + Degree_Hub_Count + Betweenness_Hub_Count + Closeness_Hub_Count + Eigenvector_Hub_Count + Clustering_Hub_Count + shortest_path + unique_categories\"\n",
    "\n",
    "model = smf.mixedlm(formula, df_player, groups=df_player[\"hashedIpAddress\"])\n",
    "result = model.fit()\n",
    "\n",
    "print(result.summary())\n"
   ]
  },
  {
   "cell_type": "code",
   "execution_count": null,
   "metadata": {},
   "outputs": [],
   "source": []
  },
  {
   "cell_type": "code",
   "execution_count": 146,
   "metadata": {},
   "outputs": [
    {
     "ename": "MissingDataError",
     "evalue": "exog contains inf or nans",
     "output_type": "error",
     "traceback": [
      "\u001b[1;31m---------------------------------------------------------------------------\u001b[0m",
      "\u001b[1;31mMissingDataError\u001b[0m                          Traceback (most recent call last)",
      "Cell \u001b[1;32mIn[146], line 9\u001b[0m\n\u001b[0;32m      5\u001b[0m y \u001b[38;5;241m=\u001b[39m df_player_cleaned[\u001b[38;5;124m'\u001b[39m\u001b[38;5;124mpath_finished\u001b[39m\u001b[38;5;124m'\u001b[39m]\n\u001b[0;32m      7\u001b[0m X \u001b[38;5;241m=\u001b[39m sm\u001b[38;5;241m.\u001b[39madd_constant(X)\n\u001b[1;32m----> 9\u001b[0m model \u001b[38;5;241m=\u001b[39m sm\u001b[38;5;241m.\u001b[39mLogit(y, X)\n\u001b[0;32m     10\u001b[0m result \u001b[38;5;241m=\u001b[39m model\u001b[38;5;241m.\u001b[39mfit()\n\u001b[0;32m     12\u001b[0m \u001b[38;5;28mprint\u001b[39m(result\u001b[38;5;241m.\u001b[39msummary())\n",
      "File \u001b[1;32m~\\anaconda3\\Lib\\site-packages\\statsmodels\\discrete\\discrete_model.py:475\u001b[0m, in \u001b[0;36mBinaryModel.__init__\u001b[1;34m(self, endog, exog, offset, check_rank, **kwargs)\u001b[0m\n\u001b[0;32m    472\u001b[0m \u001b[38;5;28;01mdef\u001b[39;00m \u001b[38;5;21m__init__\u001b[39m(\u001b[38;5;28mself\u001b[39m, endog, exog, offset\u001b[38;5;241m=\u001b[39m\u001b[38;5;28;01mNone\u001b[39;00m, check_rank\u001b[38;5;241m=\u001b[39m\u001b[38;5;28;01mTrue\u001b[39;00m, \u001b[38;5;241m*\u001b[39m\u001b[38;5;241m*\u001b[39mkwargs):\n\u001b[0;32m    473\u001b[0m     \u001b[38;5;66;03m# unconditional check, requires no extra kwargs added by subclasses\u001b[39;00m\n\u001b[0;32m    474\u001b[0m     \u001b[38;5;28mself\u001b[39m\u001b[38;5;241m.\u001b[39m_check_kwargs(kwargs)\n\u001b[1;32m--> 475\u001b[0m     \u001b[38;5;28msuper\u001b[39m()\u001b[38;5;241m.\u001b[39m\u001b[38;5;21m__init__\u001b[39m(endog, exog, offset\u001b[38;5;241m=\u001b[39moffset, check_rank\u001b[38;5;241m=\u001b[39mcheck_rank,\n\u001b[0;32m    476\u001b[0m                      \u001b[38;5;241m*\u001b[39m\u001b[38;5;241m*\u001b[39mkwargs)\n\u001b[0;32m    477\u001b[0m     \u001b[38;5;28;01mif\u001b[39;00m \u001b[38;5;129;01mnot\u001b[39;00m \u001b[38;5;28missubclass\u001b[39m(\u001b[38;5;28mself\u001b[39m\u001b[38;5;241m.\u001b[39m\u001b[38;5;18m__class__\u001b[39m, MultinomialModel):\n\u001b[0;32m    478\u001b[0m         \u001b[38;5;28;01mif\u001b[39;00m \u001b[38;5;129;01mnot\u001b[39;00m np\u001b[38;5;241m.\u001b[39mall((\u001b[38;5;28mself\u001b[39m\u001b[38;5;241m.\u001b[39mendog \u001b[38;5;241m>\u001b[39m\u001b[38;5;241m=\u001b[39m \u001b[38;5;241m0\u001b[39m) \u001b[38;5;241m&\u001b[39m (\u001b[38;5;28mself\u001b[39m\u001b[38;5;241m.\u001b[39mendog \u001b[38;5;241m<\u001b[39m\u001b[38;5;241m=\u001b[39m \u001b[38;5;241m1\u001b[39m)):\n",
      "File \u001b[1;32m~\\anaconda3\\Lib\\site-packages\\statsmodels\\discrete\\discrete_model.py:185\u001b[0m, in \u001b[0;36mDiscreteModel.__init__\u001b[1;34m(self, endog, exog, check_rank, **kwargs)\u001b[0m\n\u001b[0;32m    183\u001b[0m \u001b[38;5;28;01mdef\u001b[39;00m \u001b[38;5;21m__init__\u001b[39m(\u001b[38;5;28mself\u001b[39m, endog, exog, check_rank\u001b[38;5;241m=\u001b[39m\u001b[38;5;28;01mTrue\u001b[39;00m, \u001b[38;5;241m*\u001b[39m\u001b[38;5;241m*\u001b[39mkwargs):\n\u001b[0;32m    184\u001b[0m     \u001b[38;5;28mself\u001b[39m\u001b[38;5;241m.\u001b[39m_check_rank \u001b[38;5;241m=\u001b[39m check_rank\n\u001b[1;32m--> 185\u001b[0m     \u001b[38;5;28msuper\u001b[39m()\u001b[38;5;241m.\u001b[39m\u001b[38;5;21m__init__\u001b[39m(endog, exog, \u001b[38;5;241m*\u001b[39m\u001b[38;5;241m*\u001b[39mkwargs)\n\u001b[0;32m    186\u001b[0m     \u001b[38;5;28mself\u001b[39m\u001b[38;5;241m.\u001b[39mraise_on_perfect_prediction \u001b[38;5;241m=\u001b[39m \u001b[38;5;28;01mFalse\u001b[39;00m  \u001b[38;5;66;03m# keep for backwards compat\u001b[39;00m\n\u001b[0;32m    187\u001b[0m     \u001b[38;5;28mself\u001b[39m\u001b[38;5;241m.\u001b[39mk_extra \u001b[38;5;241m=\u001b[39m \u001b[38;5;241m0\u001b[39m\n",
      "File \u001b[1;32m~\\anaconda3\\Lib\\site-packages\\statsmodels\\base\\model.py:270\u001b[0m, in \u001b[0;36mLikelihoodModel.__init__\u001b[1;34m(self, endog, exog, **kwargs)\u001b[0m\n\u001b[0;32m    269\u001b[0m \u001b[38;5;28;01mdef\u001b[39;00m \u001b[38;5;21m__init__\u001b[39m(\u001b[38;5;28mself\u001b[39m, endog, exog\u001b[38;5;241m=\u001b[39m\u001b[38;5;28;01mNone\u001b[39;00m, \u001b[38;5;241m*\u001b[39m\u001b[38;5;241m*\u001b[39mkwargs):\n\u001b[1;32m--> 270\u001b[0m     \u001b[38;5;28msuper\u001b[39m()\u001b[38;5;241m.\u001b[39m\u001b[38;5;21m__init__\u001b[39m(endog, exog, \u001b[38;5;241m*\u001b[39m\u001b[38;5;241m*\u001b[39mkwargs)\n\u001b[0;32m    271\u001b[0m     \u001b[38;5;28mself\u001b[39m\u001b[38;5;241m.\u001b[39minitialize()\n",
      "File \u001b[1;32m~\\anaconda3\\Lib\\site-packages\\statsmodels\\base\\model.py:95\u001b[0m, in \u001b[0;36mModel.__init__\u001b[1;34m(self, endog, exog, **kwargs)\u001b[0m\n\u001b[0;32m     93\u001b[0m missing \u001b[38;5;241m=\u001b[39m kwargs\u001b[38;5;241m.\u001b[39mpop(\u001b[38;5;124m'\u001b[39m\u001b[38;5;124mmissing\u001b[39m\u001b[38;5;124m'\u001b[39m, \u001b[38;5;124m'\u001b[39m\u001b[38;5;124mnone\u001b[39m\u001b[38;5;124m'\u001b[39m)\n\u001b[0;32m     94\u001b[0m hasconst \u001b[38;5;241m=\u001b[39m kwargs\u001b[38;5;241m.\u001b[39mpop(\u001b[38;5;124m'\u001b[39m\u001b[38;5;124mhasconst\u001b[39m\u001b[38;5;124m'\u001b[39m, \u001b[38;5;28;01mNone\u001b[39;00m)\n\u001b[1;32m---> 95\u001b[0m \u001b[38;5;28mself\u001b[39m\u001b[38;5;241m.\u001b[39mdata \u001b[38;5;241m=\u001b[39m \u001b[38;5;28mself\u001b[39m\u001b[38;5;241m.\u001b[39m_handle_data(endog, exog, missing, hasconst,\n\u001b[0;32m     96\u001b[0m                               \u001b[38;5;241m*\u001b[39m\u001b[38;5;241m*\u001b[39mkwargs)\n\u001b[0;32m     97\u001b[0m \u001b[38;5;28mself\u001b[39m\u001b[38;5;241m.\u001b[39mk_constant \u001b[38;5;241m=\u001b[39m \u001b[38;5;28mself\u001b[39m\u001b[38;5;241m.\u001b[39mdata\u001b[38;5;241m.\u001b[39mk_constant\n\u001b[0;32m     98\u001b[0m \u001b[38;5;28mself\u001b[39m\u001b[38;5;241m.\u001b[39mexog \u001b[38;5;241m=\u001b[39m \u001b[38;5;28mself\u001b[39m\u001b[38;5;241m.\u001b[39mdata\u001b[38;5;241m.\u001b[39mexog\n",
      "File \u001b[1;32m~\\anaconda3\\Lib\\site-packages\\statsmodels\\base\\model.py:135\u001b[0m, in \u001b[0;36mModel._handle_data\u001b[1;34m(self, endog, exog, missing, hasconst, **kwargs)\u001b[0m\n\u001b[0;32m    134\u001b[0m \u001b[38;5;28;01mdef\u001b[39;00m \u001b[38;5;21m_handle_data\u001b[39m(\u001b[38;5;28mself\u001b[39m, endog, exog, missing, hasconst, \u001b[38;5;241m*\u001b[39m\u001b[38;5;241m*\u001b[39mkwargs):\n\u001b[1;32m--> 135\u001b[0m     data \u001b[38;5;241m=\u001b[39m handle_data(endog, exog, missing, hasconst, \u001b[38;5;241m*\u001b[39m\u001b[38;5;241m*\u001b[39mkwargs)\n\u001b[0;32m    136\u001b[0m     \u001b[38;5;66;03m# kwargs arrays could have changed, easier to just attach here\u001b[39;00m\n\u001b[0;32m    137\u001b[0m     \u001b[38;5;28;01mfor\u001b[39;00m key \u001b[38;5;129;01min\u001b[39;00m kwargs:\n",
      "File \u001b[1;32m~\\anaconda3\\Lib\\site-packages\\statsmodels\\base\\data.py:675\u001b[0m, in \u001b[0;36mhandle_data\u001b[1;34m(endog, exog, missing, hasconst, **kwargs)\u001b[0m\n\u001b[0;32m    672\u001b[0m     exog \u001b[38;5;241m=\u001b[39m np\u001b[38;5;241m.\u001b[39masarray(exog)\n\u001b[0;32m    674\u001b[0m klass \u001b[38;5;241m=\u001b[39m handle_data_class_factory(endog, exog)\n\u001b[1;32m--> 675\u001b[0m \u001b[38;5;28;01mreturn\u001b[39;00m klass(endog, exog\u001b[38;5;241m=\u001b[39mexog, missing\u001b[38;5;241m=\u001b[39mmissing, hasconst\u001b[38;5;241m=\u001b[39mhasconst,\n\u001b[0;32m    676\u001b[0m              \u001b[38;5;241m*\u001b[39m\u001b[38;5;241m*\u001b[39mkwargs)\n",
      "File \u001b[1;32m~\\anaconda3\\Lib\\site-packages\\statsmodels\\base\\data.py:88\u001b[0m, in \u001b[0;36mModelData.__init__\u001b[1;34m(self, endog, exog, missing, hasconst, **kwargs)\u001b[0m\n\u001b[0;32m     86\u001b[0m \u001b[38;5;28mself\u001b[39m\u001b[38;5;241m.\u001b[39mconst_idx \u001b[38;5;241m=\u001b[39m \u001b[38;5;28;01mNone\u001b[39;00m\n\u001b[0;32m     87\u001b[0m \u001b[38;5;28mself\u001b[39m\u001b[38;5;241m.\u001b[39mk_constant \u001b[38;5;241m=\u001b[39m \u001b[38;5;241m0\u001b[39m\n\u001b[1;32m---> 88\u001b[0m \u001b[38;5;28mself\u001b[39m\u001b[38;5;241m.\u001b[39m_handle_constant(hasconst)\n\u001b[0;32m     89\u001b[0m \u001b[38;5;28mself\u001b[39m\u001b[38;5;241m.\u001b[39m_check_integrity()\n\u001b[0;32m     90\u001b[0m \u001b[38;5;28mself\u001b[39m\u001b[38;5;241m.\u001b[39m_cache \u001b[38;5;241m=\u001b[39m {}\n",
      "File \u001b[1;32m~\\anaconda3\\Lib\\site-packages\\statsmodels\\base\\data.py:134\u001b[0m, in \u001b[0;36mModelData._handle_constant\u001b[1;34m(self, hasconst)\u001b[0m\n\u001b[0;32m    132\u001b[0m exog_max \u001b[38;5;241m=\u001b[39m np\u001b[38;5;241m.\u001b[39mmax(\u001b[38;5;28mself\u001b[39m\u001b[38;5;241m.\u001b[39mexog, axis\u001b[38;5;241m=\u001b[39m\u001b[38;5;241m0\u001b[39m)\n\u001b[0;32m    133\u001b[0m \u001b[38;5;28;01mif\u001b[39;00m \u001b[38;5;129;01mnot\u001b[39;00m np\u001b[38;5;241m.\u001b[39misfinite(exog_max)\u001b[38;5;241m.\u001b[39mall():\n\u001b[1;32m--> 134\u001b[0m     \u001b[38;5;28;01mraise\u001b[39;00m MissingDataError(\u001b[38;5;124m'\u001b[39m\u001b[38;5;124mexog contains inf or nans\u001b[39m\u001b[38;5;124m'\u001b[39m)\n\u001b[0;32m    135\u001b[0m exog_min \u001b[38;5;241m=\u001b[39m np\u001b[38;5;241m.\u001b[39mmin(\u001b[38;5;28mself\u001b[39m\u001b[38;5;241m.\u001b[39mexog, axis\u001b[38;5;241m=\u001b[39m\u001b[38;5;241m0\u001b[39m)\n\u001b[0;32m    136\u001b[0m const_idx \u001b[38;5;241m=\u001b[39m np\u001b[38;5;241m.\u001b[39mwhere(exog_max \u001b[38;5;241m==\u001b[39m exog_min)[\u001b[38;5;241m0\u001b[39m]\u001b[38;5;241m.\u001b[39msqueeze()\n",
      "\u001b[1;31mMissingDataError\u001b[0m: exog contains inf or nans"
     ]
    }
   ],
   "source": [
    "import statsmodels.api as sm\n",
    "\n",
    "predictors = ['durationInSec', 'avg_duration', 'avg_position', 'avg_target_source_ratio', 'avg_article_length', 'Degree_Hub_Count', 'Betweenness_Hub_Count', 'Closeness_Hub_Count', 'Eigenvector_Hub_Count', 'Clustering_Hub_Count', 'shortest_path', 'unique_categories']\n",
    "X = df_player_cleaned[predictors]\n",
    "y = df_player_cleaned['path_finished']\n",
    "\n",
    "X = sm.add_constant(X)\n",
    "\n",
    "model = sm.Logit(y, X)\n",
    "result = model.fit()\n",
    "\n",
    "print(result.summary())\n"
   ]
  },
  {
   "cell_type": "code",
   "execution_count": null,
   "metadata": {},
   "outputs": [],
   "source": []
  },
  {
   "cell_type": "code",
   "execution_count": null,
   "metadata": {},
   "outputs": [],
   "source": []
  },
  {
   "cell_type": "code",
   "execution_count": null,
   "metadata": {},
   "outputs": [],
   "source": []
  }
 ],
 "metadata": {
  "kernelspec": {
   "display_name": "Python 3 (ipykernel)",
   "language": "python",
   "name": "python3"
  },
  "language_info": {
   "codemirror_mode": {
    "name": "ipython",
    "version": 3
   },
   "file_extension": ".py",
   "mimetype": "text/x-python",
   "name": "python",
   "nbconvert_exporter": "python",
   "pygments_lexer": "ipython3",
   "version": "3.11.5"
  }
 },
 "nbformat": 4,
 "nbformat_minor": 4
}
