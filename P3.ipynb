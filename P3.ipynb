{
 "cells": [
  {
   "cell_type": "code",
   "execution_count": 1,
   "metadata": {
    "execution": {
     "iopub.execute_input": "2023-12-09T09:18:06.340663Z",
     "iopub.status.busy": "2023-12-09T09:18:06.340018Z",
     "iopub.status.idle": "2023-12-09T09:18:06.350114Z",
     "shell.execute_reply": "2023-12-09T09:18:06.348639Z",
     "shell.execute_reply.started": "2023-12-09T09:18:06.340608Z"
    },
    "tags": []
   },
   "outputs": [],
   "source": [
    "import numpy as np\n",
    "import seaborn as sns\n",
    "import pandas as pd\n",
    "import networkx as nx\n",
    "import matplotlib.pyplot as plt\n",
    "import statsmodels.formula.api as smf\n",
    "\n",
    "import html\n",
    "import urllib\n",
    "\n",
    "from helper_functions import *"
   ]
  },
  {
   "cell_type": "markdown",
   "metadata": {},
   "source": [
    "Reading data\n",
    "------------"
   ]
  },
  {
   "cell_type": "code",
   "execution_count": 2,
   "metadata": {},
   "outputs": [],
   "source": [
    "graphs_path = './data/wikispeedia_paths-and-graph/'\n",
    "#graphs_path = '../ADA_Project_Milestone_2_final/data/wikispeedia_paths-and-graph/'"
   ]
  },
  {
   "cell_type": "code",
   "execution_count": 3,
   "metadata": {
    "execution": {
     "iopub.execute_input": "2023-12-09T09:26:53.649201Z",
     "iopub.status.busy": "2023-12-09T09:26:53.648509Z",
     "iopub.status.idle": "2023-12-09T09:26:54.802967Z",
     "shell.execute_reply": "2023-12-09T09:26:54.801351Z",
     "shell.execute_reply.started": "2023-12-09T09:26:53.649112Z"
    },
    "tags": []
   },
   "outputs": [],
   "source": [
    "def read_tsv(file_name, names=None):\n",
    "    \n",
    "    file_path = graphs_path + f'{file_name}.tsv'\n",
    "    \n",
    "    if not names:\n",
    "        with open(file_path, 'r') as file:\n",
    "            for line in file:\n",
    "                if 'FORMAT' in line:\n",
    "                    format_line = line\n",
    "                    break\n",
    "\n",
    "        names = format_line.split()[2:]\n",
    "    \n",
    "    return pd.read_csv(file_path,\n",
    "                           delimiter='\\t', comment='#', header=0, names=names)\n",
    "\n",
    "\n",
    "categories = read_tsv('categories')\n",
    "articles = read_tsv('articles')\n",
    "link_network = read_tsv('links', names=['source', 'target'])\n",
    "#finished_paths = read_tsv('paths_finished')\n",
    "#unfinished_paths = read_tsv('paths_unfinished')"
   ]
  },
  {
   "cell_type": "code",
   "execution_count": 4,
   "metadata": {},
   "outputs": [],
   "source": [
    "# Use the already computed dataframes instead doing all calculations:\n",
    "link_network_pos = pd.read_pickle('link_network_w_position.df')\n",
    "finished_paths = pd.read_pickle('finished_paths_w_positions.df')\n",
    "unfinished_paths = pd.read_pickle('unfinished_paths_w_positions.df')"
   ]
  },
  {
   "cell_type": "markdown",
   "metadata": {},
   "source": [
    "Functions\n",
    "------------"
   ]
  },
  {
   "cell_type": "code",
   "execution_count": 5,
   "metadata": {
    "execution": {
     "iopub.execute_input": "2023-12-09T09:26:58.166842Z",
     "iopub.status.busy": "2023-12-09T09:26:58.166180Z",
     "iopub.status.idle": "2023-12-09T09:26:58.190860Z",
     "shell.execute_reply": "2023-12-09T09:26:58.188796Z",
     "shell.execute_reply.started": "2023-12-09T09:26:58.166785Z"
    },
    "tags": []
   },
   "outputs": [],
   "source": [
    "def article_length(article_name):\n",
    "    ''' Compute the average length of an article, i.e. the number of words'''\n",
    "    article_path = './data/plaintext_articles/'\n",
    "    article = article_path + article_name + '.txt'\n",
    "    \n",
    "    nb_words = 0\n",
    "    with open(article, encoding=\"utf8\") as f:\n",
    "        for line in f:\n",
    "            nb_words += len(line.split())\n",
    "    return nb_words\n",
    "\n",
    "def get_avg_duration(row):\n",
    "    ''' Compute the average duration spent per articles'''\n",
    "    num_steps = len(row['path'].split(';')) - 1\n",
    "    return np.nan if num_steps <= 0 else row['durationInSec'] / num_steps\n",
    "\n",
    "def avg_article_length(path):\n",
    "    '''Compute the average article length (i.e. nb of words) along a path of articles'''\n",
    "    avg_article_length = []\n",
    "    for index, row in path.iterrows():\n",
    "        articles = row['path'].split(';')\n",
    "        articles_length = []\n",
    "        for art in articles:\n",
    "            if art != '<': #Not considering backcliks\n",
    "                articles_length.append(article_length(art))\n",
    "        avg_article_length.append(np.mean(articles_length))\n",
    "    return avg_article_length\n",
    "\n",
    "def avg_target_source_ratio(path):\n",
    "    ''' Compute the average ratio of incoming and outgoing links in articles along a path'''\n",
    "    avg_target_source_ratio = []\n",
    "    for index, row in path.iterrows():\n",
    "        articles = row['path'].split(';')\n",
    "        target_source_ratio = []\n",
    "        if '<' in articles: #Not considering backcliks\n",
    "            target_source_ratio.append(float('nan'))\n",
    "        else:\n",
    "            for art in articles:\n",
    "                if art in list(link_counts['article']):\n",
    "                    target_source_ratio.append(link_counts[link_counts['article']==art]['target_source_ratio'].values[0])\n",
    "                else:\n",
    "                    target_source_ratio.append(float('nan'))\n",
    "        avg_target_source_ratio.append(np.nanmean(target_source_ratio))\n",
    "    \n",
    "    return avg_target_source_ratio\n",
    "\n",
    "def calculate_positions(arts):\n",
    "    ''' Compute the relative position of links clicked in a path'''\n",
    "    # ignore backclicks\n",
    "    if '<' in arts: return [float('nan')]\n",
    "    \n",
    "    articles = arts.split(';')\n",
    "    \n",
    "    # ignore paths without actual steps\n",
    "    if len(articles) < 2: return [float('nan')]\n",
    "    \n",
    "    positions = []\n",
    "    \n",
    "    art_idx = 0\n",
    "    \n",
    "    for idx, art in enumerate(articles[1:]):\n",
    "        art0 = articles[art_idx]\n",
    "        try:          \n",
    "            positions.append(link_network_pos[(link_network_pos['source'] == art0)\n",
    "                            & (link_network_pos['target'] == art)]['position'].values[0])\n",
    "            art_idx = idx+1\n",
    "        except:\n",
    "            print(art0, art, arts)\n",
    "            return [float('nan')]\n",
    "    \n",
    "    return positions\n",
    "\n",
    "def normalize(data, column_name):\n",
    "    ''' Normalize a column in a dataframe '''\n",
    "    return (data[column_name] - data[column_name].mean())/data[column_name].std()"
   ]
  },
  {
   "cell_type": "markdown",
   "metadata": {},
   "source": [
    "Phase 2: Exploratory Data Analysis\n",
    "------------"
   ]
  },
  {
   "cell_type": "markdown",
   "metadata": {},
   "source": [
    "### Article metrics"
   ]
  },
  {
   "cell_type": "code",
   "execution_count": 6,
   "metadata": {
    "execution": {
     "iopub.execute_input": "2023-12-09T09:27:02.695120Z",
     "iopub.status.busy": "2023-12-09T09:27:02.694464Z",
     "iopub.status.idle": "2023-12-09T09:27:02.774363Z",
     "shell.execute_reply": "2023-12-09T09:27:02.772521Z",
     "shell.execute_reply.started": "2023-12-09T09:27:02.695066Z"
    },
    "tags": []
   },
   "outputs": [],
   "source": [
    "# Ratio of of incoming and outgoing links for each article: \n",
    "\n",
    "source_counts = link_network['source'].value_counts().rename_axis('article').reset_index(name='source_count')\n",
    "target_counts = link_network['target'].value_counts().rename_axis('article').reset_index(name='target_count')\n",
    "\n",
    "link_counts = pd.merge(source_counts, target_counts, how='outer')\n",
    "link_counts.fillna(0, inplace=True)\n",
    "\n",
    "link_counts['target_source_ratio'] = link_counts['target_count'] / link_counts['source_count']\n",
    "link_counts['target_source_ratio'].replace([np.inf], np.nan, inplace=True)"
   ]
  },
  {
   "cell_type": "code",
   "execution_count": 7,
   "metadata": {
    "execution": {
     "iopub.execute_input": "2023-12-09T09:27:05.479711Z",
     "iopub.status.busy": "2023-12-09T09:27:05.479074Z",
     "iopub.status.idle": "2023-12-09T09:27:05.977899Z",
     "shell.execute_reply": "2023-12-09T09:27:05.967127Z",
     "shell.execute_reply.started": "2023-12-09T09:27:05.479657Z"
    },
    "tags": []
   },
   "outputs": [],
   "source": [
    "# Length of articles (i.e. nb of words):\n",
    "link_counts['article_length'] = link_counts['article'].apply(lambda x: article_length(x))"
   ]
  },
  {
   "cell_type": "code",
   "execution_count": 8,
   "metadata": {
    "execution": {
     "iopub.status.busy": "2023-12-09T09:27:05.978875Z",
     "iopub.status.idle": "2023-12-09T09:27:05.979312Z",
     "shell.execute_reply": "2023-12-09T09:27:05.979121Z",
     "shell.execute_reply.started": "2023-12-09T09:27:05.979099Z"
    },
    "tags": []
   },
   "outputs": [
    {
     "data": {
      "text/html": [
       "<div>\n",
       "<style scoped>\n",
       "    .dataframe tbody tr th:only-of-type {\n",
       "        vertical-align: middle;\n",
       "    }\n",
       "\n",
       "    .dataframe tbody tr th {\n",
       "        vertical-align: top;\n",
       "    }\n",
       "\n",
       "    .dataframe thead th {\n",
       "        text-align: right;\n",
       "    }\n",
       "</style>\n",
       "<table border=\"1\" class=\"dataframe\">\n",
       "  <thead>\n",
       "    <tr style=\"text-align: right;\">\n",
       "      <th></th>\n",
       "      <th>article</th>\n",
       "      <th>source_count</th>\n",
       "      <th>target_count</th>\n",
       "      <th>target_source_ratio</th>\n",
       "      <th>article_length</th>\n",
       "    </tr>\n",
       "  </thead>\n",
       "  <tbody>\n",
       "    <tr>\n",
       "      <th>0</th>\n",
       "      <td>United_States</td>\n",
       "      <td>294.0</td>\n",
       "      <td>1551.0</td>\n",
       "      <td>5.275510</td>\n",
       "      <td>9773</td>\n",
       "    </tr>\n",
       "    <tr>\n",
       "      <th>1</th>\n",
       "      <td>Driving_on_the_left_or_right</td>\n",
       "      <td>255.0</td>\n",
       "      <td>0.0</td>\n",
       "      <td>0.000000</td>\n",
       "      <td>7995</td>\n",
       "    </tr>\n",
       "    <tr>\n",
       "      <th>2</th>\n",
       "      <td>List_of_countries</td>\n",
       "      <td>244.0</td>\n",
       "      <td>63.0</td>\n",
       "      <td>0.258197</td>\n",
       "      <td>3162</td>\n",
       "    </tr>\n",
       "    <tr>\n",
       "      <th>3</th>\n",
       "      <td>List_of_circulating_currencies</td>\n",
       "      <td>236.0</td>\n",
       "      <td>8.0</td>\n",
       "      <td>0.033898</td>\n",
       "      <td>3019</td>\n",
       "    </tr>\n",
       "    <tr>\n",
       "      <th>4</th>\n",
       "      <td>List_of_sovereign_states</td>\n",
       "      <td>216.0</td>\n",
       "      <td>43.0</td>\n",
       "      <td>0.199074</td>\n",
       "      <td>5586</td>\n",
       "    </tr>\n",
       "  </tbody>\n",
       "</table>\n",
       "</div>"
      ],
      "text/plain": [
       "                          article  source_count  target_count  \\\n",
       "0                   United_States         294.0        1551.0   \n",
       "1    Driving_on_the_left_or_right         255.0           0.0   \n",
       "2               List_of_countries         244.0          63.0   \n",
       "3  List_of_circulating_currencies         236.0           8.0   \n",
       "4        List_of_sovereign_states         216.0          43.0   \n",
       "\n",
       "   target_source_ratio  article_length  \n",
       "0             5.275510            9773  \n",
       "1             0.000000            7995  \n",
       "2             0.258197            3162  \n",
       "3             0.033898            3019  \n",
       "4             0.199074            5586  "
      ]
     },
     "metadata": {},
     "output_type": "display_data"
    },
    {
     "data": {
      "text/plain": [
       "(4592, 5)"
      ]
     },
     "execution_count": 8,
     "metadata": {},
     "output_type": "execute_result"
    }
   ],
   "source": [
    "display(link_counts.head(5))\n",
    "link_counts.shape"
   ]
  },
  {
   "cell_type": "code",
   "execution_count": 9,
   "metadata": {},
   "outputs": [],
   "source": [
    "# Positions of links within the articles:\n",
    "\n",
    "# Remove links to and from non-Wikipedia articles (donation pages)\n",
    "#link_network = filter_rows_by_values(link_network, 'source', ['Friend_Directdebit', 'Sponsorship_Directdebit'])\n",
    "#link_network_targets = link_network.groupby('source')['target'].apply(list).reset_index()\n",
    "\n",
    "# Add the 'html_position' column to the DataFrame\n",
    "#link_network_targets['html_position'] = link_network_targets.apply(\n",
    "#    lambda row: find_html_position(row['source'], row['target']), axis=1\n",
    "#)\n",
    "\n",
    "#display(link_network_targets.head(5))\n",
    "#link_network_targets.shape"
   ]
  },
  {
   "cell_type": "code",
   "execution_count": 10,
   "metadata": {},
   "outputs": [],
   "source": [
    "# Load the data \n",
    "link_network_pos = pd.read_pickle('link_network_w_position.df')"
   ]
  },
  {
   "cell_type": "code",
   "execution_count": 11,
   "metadata": {},
   "outputs": [
    {
     "data": {
      "text/html": [
       "<div>\n",
       "<style scoped>\n",
       "    .dataframe tbody tr th:only-of-type {\n",
       "        vertical-align: middle;\n",
       "    }\n",
       "\n",
       "    .dataframe tbody tr th {\n",
       "        vertical-align: top;\n",
       "    }\n",
       "\n",
       "    .dataframe thead th {\n",
       "        text-align: right;\n",
       "    }\n",
       "</style>\n",
       "<table border=\"1\" class=\"dataframe\">\n",
       "  <thead>\n",
       "    <tr style=\"text-align: right;\">\n",
       "      <th></th>\n",
       "      <th>source</th>\n",
       "      <th>target</th>\n",
       "      <th>position</th>\n",
       "    </tr>\n",
       "  </thead>\n",
       "  <tbody>\n",
       "    <tr>\n",
       "      <th>0</th>\n",
       "      <td>%C3%81ed%C3%A1n_mac_Gabr%C3%A1in</td>\n",
       "      <td>Columba</td>\n",
       "      <td>0.037459</td>\n",
       "    </tr>\n",
       "    <tr>\n",
       "      <th>1</th>\n",
       "      <td>%C3%81ed%C3%A1n_mac_Gabr%C3%A1in</td>\n",
       "      <td>D%C3%A1l_Riata</td>\n",
       "      <td>0.025523</td>\n",
       "    </tr>\n",
       "    <tr>\n",
       "      <th>2</th>\n",
       "      <td>%C3%81ed%C3%A1n_mac_Gabr%C3%A1in</td>\n",
       "      <td>Great_Britain</td>\n",
       "      <td>0.058024</td>\n",
       "    </tr>\n",
       "    <tr>\n",
       "      <th>3</th>\n",
       "      <td>%C3%81ed%C3%A1n_mac_Gabr%C3%A1in</td>\n",
       "      <td>Ireland</td>\n",
       "      <td>0.032042</td>\n",
       "    </tr>\n",
       "    <tr>\n",
       "      <th>4</th>\n",
       "      <td>%C3%81ed%C3%A1n_mac_Gabr%C3%A1in</td>\n",
       "      <td>Isle_of_Man</td>\n",
       "      <td>0.063349</td>\n",
       "    </tr>\n",
       "  </tbody>\n",
       "</table>\n",
       "</div>"
      ],
      "text/plain": [
       "                             source          target  position\n",
       "0  %C3%81ed%C3%A1n_mac_Gabr%C3%A1in         Columba  0.037459\n",
       "1  %C3%81ed%C3%A1n_mac_Gabr%C3%A1in  D%C3%A1l_Riata  0.025523\n",
       "2  %C3%81ed%C3%A1n_mac_Gabr%C3%A1in   Great_Britain  0.058024\n",
       "3  %C3%81ed%C3%A1n_mac_Gabr%C3%A1in         Ireland  0.032042\n",
       "4  %C3%81ed%C3%A1n_mac_Gabr%C3%A1in     Isle_of_Man  0.063349"
      ]
     },
     "metadata": {},
     "output_type": "display_data"
    },
    {
     "data": {
      "text/plain": [
       "(119878, 3)"
      ]
     },
     "execution_count": 11,
     "metadata": {},
     "output_type": "execute_result"
    }
   ],
   "source": [
    "display(link_network_pos.head(5))\n",
    "link_network_pos.shape"
   ]
  },
  {
   "cell_type": "code",
   "execution_count": 12,
   "metadata": {},
   "outputs": [
    {
     "data": {
      "text/html": [
       "<div>\n",
       "<style scoped>\n",
       "    .dataframe tbody tr th:only-of-type {\n",
       "        vertical-align: middle;\n",
       "    }\n",
       "\n",
       "    .dataframe tbody tr th {\n",
       "        vertical-align: top;\n",
       "    }\n",
       "\n",
       "    .dataframe thead th {\n",
       "        text-align: right;\n",
       "    }\n",
       "</style>\n",
       "<table border=\"1\" class=\"dataframe\">\n",
       "  <thead>\n",
       "    <tr style=\"text-align: right;\">\n",
       "      <th></th>\n",
       "      <th>article</th>\n",
       "      <th>category</th>\n",
       "      <th>main_cat</th>\n",
       "      <th>sec_cat</th>\n",
       "      <th>thr_cat</th>\n",
       "      <th>category_level</th>\n",
       "    </tr>\n",
       "  </thead>\n",
       "  <tbody>\n",
       "    <tr>\n",
       "      <th>0</th>\n",
       "      <td>%C3%81ed%C3%A1n_mac_Gabr%C3%A1in</td>\n",
       "      <td>subject.People.Historical_figures</td>\n",
       "      <td>People</td>\n",
       "      <td>Historical_figures</td>\n",
       "      <td>NaN</td>\n",
       "      <td>2</td>\n",
       "    </tr>\n",
       "    <tr>\n",
       "      <th>1</th>\n",
       "      <td>%C3%85land</td>\n",
       "      <td>subject.Countries</td>\n",
       "      <td>Countries</td>\n",
       "      <td>NaN</td>\n",
       "      <td>NaN</td>\n",
       "      <td>1</td>\n",
       "    </tr>\n",
       "    <tr>\n",
       "      <th>2</th>\n",
       "      <td>%C3%85land</td>\n",
       "      <td>subject.Geography.European_Geography.European_...</td>\n",
       "      <td>Geography</td>\n",
       "      <td>European_Geography</td>\n",
       "      <td>European_Countries</td>\n",
       "      <td>3</td>\n",
       "    </tr>\n",
       "    <tr>\n",
       "      <th>3</th>\n",
       "      <td>%C3%89douard_Manet</td>\n",
       "      <td>subject.People.Artists</td>\n",
       "      <td>People</td>\n",
       "      <td>Artists</td>\n",
       "      <td>NaN</td>\n",
       "      <td>2</td>\n",
       "    </tr>\n",
       "    <tr>\n",
       "      <th>4</th>\n",
       "      <td>%C3%89ire</td>\n",
       "      <td>subject.Countries</td>\n",
       "      <td>Countries</td>\n",
       "      <td>NaN</td>\n",
       "      <td>NaN</td>\n",
       "      <td>1</td>\n",
       "    </tr>\n",
       "    <tr>\n",
       "      <th>...</th>\n",
       "      <td>...</td>\n",
       "      <td>...</td>\n",
       "      <td>...</td>\n",
       "      <td>...</td>\n",
       "      <td>...</td>\n",
       "      <td>...</td>\n",
       "    </tr>\n",
       "    <tr>\n",
       "      <th>5198</th>\n",
       "      <td>Zirconium</td>\n",
       "      <td>subject.Science.Chemistry.Chemical_elements</td>\n",
       "      <td>Science</td>\n",
       "      <td>Chemistry</td>\n",
       "      <td>Chemical_elements</td>\n",
       "      <td>3</td>\n",
       "    </tr>\n",
       "    <tr>\n",
       "      <th>5199</th>\n",
       "      <td>Zoroaster</td>\n",
       "      <td>subject.People.Religious_figures_and_leaders</td>\n",
       "      <td>People</td>\n",
       "      <td>Religious_figures_and_leaders</td>\n",
       "      <td>NaN</td>\n",
       "      <td>2</td>\n",
       "    </tr>\n",
       "    <tr>\n",
       "      <th>5200</th>\n",
       "      <td>Zuid-Gelders</td>\n",
       "      <td>subject.Geography.European_Geography</td>\n",
       "      <td>Geography</td>\n",
       "      <td>European_Geography</td>\n",
       "      <td>NaN</td>\n",
       "      <td>2</td>\n",
       "    </tr>\n",
       "    <tr>\n",
       "      <th>5201</th>\n",
       "      <td>Zuid-Gelders</td>\n",
       "      <td>subject.Language_and_literature.Languages</td>\n",
       "      <td>Language_and_literature</td>\n",
       "      <td>Languages</td>\n",
       "      <td>NaN</td>\n",
       "      <td>2</td>\n",
       "    </tr>\n",
       "    <tr>\n",
       "      <th>5202</th>\n",
       "      <td>Zulu</td>\n",
       "      <td>subject.Geography.African_Geography</td>\n",
       "      <td>Geography</td>\n",
       "      <td>African_Geography</td>\n",
       "      <td>NaN</td>\n",
       "      <td>2</td>\n",
       "    </tr>\n",
       "  </tbody>\n",
       "</table>\n",
       "<p>5203 rows × 6 columns</p>\n",
       "</div>"
      ],
      "text/plain": [
       "                               article  \\\n",
       "0     %C3%81ed%C3%A1n_mac_Gabr%C3%A1in   \n",
       "1                           %C3%85land   \n",
       "2                           %C3%85land   \n",
       "3                   %C3%89douard_Manet   \n",
       "4                            %C3%89ire   \n",
       "...                                ...   \n",
       "5198                         Zirconium   \n",
       "5199                         Zoroaster   \n",
       "5200                      Zuid-Gelders   \n",
       "5201                      Zuid-Gelders   \n",
       "5202                              Zulu   \n",
       "\n",
       "                                               category  \\\n",
       "0                     subject.People.Historical_figures   \n",
       "1                                     subject.Countries   \n",
       "2     subject.Geography.European_Geography.European_...   \n",
       "3                                subject.People.Artists   \n",
       "4                                     subject.Countries   \n",
       "...                                                 ...   \n",
       "5198        subject.Science.Chemistry.Chemical_elements   \n",
       "5199       subject.People.Religious_figures_and_leaders   \n",
       "5200               subject.Geography.European_Geography   \n",
       "5201          subject.Language_and_literature.Languages   \n",
       "5202                subject.Geography.African_Geography   \n",
       "\n",
       "                     main_cat                        sec_cat  \\\n",
       "0                      People             Historical_figures   \n",
       "1                   Countries                            NaN   \n",
       "2                   Geography             European_Geography   \n",
       "3                      People                        Artists   \n",
       "4                   Countries                            NaN   \n",
       "...                       ...                            ...   \n",
       "5198                  Science                      Chemistry   \n",
       "5199                   People  Religious_figures_and_leaders   \n",
       "5200                Geography             European_Geography   \n",
       "5201  Language_and_literature                      Languages   \n",
       "5202                Geography              African_Geography   \n",
       "\n",
       "                 thr_cat  category_level  \n",
       "0                    NaN               2  \n",
       "1                    NaN               1  \n",
       "2     European_Countries               3  \n",
       "3                    NaN               2  \n",
       "4                    NaN               1  \n",
       "...                  ...             ...  \n",
       "5198   Chemical_elements               3  \n",
       "5199                 NaN               2  \n",
       "5200                 NaN               2  \n",
       "5201                 NaN               2  \n",
       "5202                 NaN               2  \n",
       "\n",
       "[5203 rows x 6 columns]"
      ]
     },
     "execution_count": 12,
     "metadata": {},
     "output_type": "execute_result"
    }
   ],
   "source": [
    "# Identify main categories and sublevels of categories:\n",
    "main_cat_set = set()\n",
    "sec_cat_set = set()\n",
    "thrd_cat_set = set()\n",
    "\n",
    "main_cats = []\n",
    "sec_cats = []\n",
    "thrd_cats = []\n",
    "level = []\n",
    "\n",
    "for cat in categories['category']:\n",
    "    levels = cat.split('.')\n",
    "    \n",
    "    if len(levels) > 1:\n",
    "        main_cat_set.add(levels[1])\n",
    "        main_cats.append(levels[1])\n",
    "        if len(levels) <= 2:\n",
    "            sec_cats.append(np.nan)\n",
    "            thrd_cats.append(np.nan)\n",
    "            level.append(1)\n",
    "        \n",
    "    if len(levels) > 2:\n",
    "        sec_cat_set.add(levels[2])     \n",
    "        sec_cats.append(levels[2])\n",
    "        if len(levels) <= 3:\n",
    "            thrd_cats.append(np.nan)\n",
    "            level.append(2)\n",
    "            \n",
    "    if len(levels) > 3:\n",
    "        thrd_cat_set.add(levels[3])\n",
    "        thrd_cats.append(levels[3])\n",
    "        level.append(3)\n",
    "\n",
    "categories['main_cat'] = main_cats\n",
    "categories['sec_cat'] = sec_cats\n",
    "categories['thr_cat'] = thrd_cats\n",
    "categories['category_level'] = level\n",
    "categories"
   ]
  },
  {
   "cell_type": "code",
   "execution_count": 13,
   "metadata": {},
   "outputs": [
    {
     "data": {
      "text/html": [
       "<div>\n",
       "<style scoped>\n",
       "    .dataframe tbody tr th:only-of-type {\n",
       "        vertical-align: middle;\n",
       "    }\n",
       "\n",
       "    .dataframe tbody tr th {\n",
       "        vertical-align: top;\n",
       "    }\n",
       "\n",
       "    .dataframe thead th {\n",
       "        text-align: right;\n",
       "    }\n",
       "</style>\n",
       "<table border=\"1\" class=\"dataframe\">\n",
       "  <thead>\n",
       "    <tr style=\"text-align: right;\">\n",
       "      <th></th>\n",
       "      <th>category_level</th>\n",
       "      <th>article</th>\n",
       "    </tr>\n",
       "  </thead>\n",
       "  <tbody>\n",
       "    <tr>\n",
       "      <th>0</th>\n",
       "      <td>1</td>\n",
       "      <td>274</td>\n",
       "    </tr>\n",
       "    <tr>\n",
       "      <th>1</th>\n",
       "      <td>2</td>\n",
       "      <td>3448</td>\n",
       "    </tr>\n",
       "    <tr>\n",
       "      <th>2</th>\n",
       "      <td>3</td>\n",
       "      <td>1481</td>\n",
       "    </tr>\n",
       "  </tbody>\n",
       "</table>\n",
       "</div>"
      ],
      "text/plain": [
       "   category_level  article\n",
       "0               1      274\n",
       "1               2     3448\n",
       "2               3     1481"
      ]
     },
     "execution_count": 13,
     "metadata": {},
     "output_type": "execute_result"
    }
   ],
   "source": [
    "# Article category level\n",
    "art_cat_level = categories.groupby('category_level')['article'].count().reset_index()\n",
    "art_cat_level"
   ]
  },
  {
   "cell_type": "code",
   "execution_count": 14,
   "metadata": {},
   "outputs": [
    {
     "name": "stdout",
     "output_type": "stream",
     "text": [
      "There are 15 unique main categories, 101 unique second level categories, and 27 unique third level categories.\n"
     ]
    }
   ],
   "source": [
    "print(f'There are {len(main_cat_set)} unique main categories, {len(sec_cat_set)} unique second level categories, and {len(thrd_cat_set)} unique third level categories.')"
   ]
  },
  {
   "cell_type": "markdown",
   "metadata": {},
   "source": [
    "### Player path specific metrics"
   ]
  },
  {
   "cell_type": "code",
   "execution_count": 15,
   "metadata": {},
   "outputs": [],
   "source": [
    "# Average duration per articles:\n",
    "#finished_paths['avg_duration'] = finished_paths.apply(get_avg_duration, axis=1)\n",
    "#unfinished_paths['avg_duration'] = unfinished_paths.apply(get_avg_duration, axis=1)"
   ]
  },
  {
   "cell_type": "code",
   "execution_count": 16,
   "metadata": {},
   "outputs": [],
   "source": [
    "# Position of links:\n",
    "#finished_paths['link_positions'] = finished_paths['path'].apply(calculate_positions)\n",
    "#unfinished_paths['link_positions'] = unfinished_paths['path'].apply(calculate_positions)"
   ]
  },
  {
   "cell_type": "code",
   "execution_count": 17,
   "metadata": {},
   "outputs": [],
   "source": [
    "# Average positions of links clicked for each path:\n",
    "#finished_paths['avg_position'] = finished_paths['link_positions'].apply(\n",
    "#    lambda x: np.mean(x) if x else np.nan)\n",
    "#unfinished_paths['avg_position'] = unfinished_paths['link_positions'].apply(\n",
    "#    lambda x: np.mean(x) if x else np.nan)"
   ]
  },
  {
   "cell_type": "code",
   "execution_count": 18,
   "metadata": {},
   "outputs": [],
   "source": [
    "# Average article length:\n",
    "#finished_paths['avg_article_length'] = avg_article_length(finished_paths)\n",
    "#unfinished_paths['avg_article_length'] = avg_article_length(unfinished_paths)"
   ]
  },
  {
   "cell_type": "code",
   "execution_count": 19,
   "metadata": {},
   "outputs": [],
   "source": [
    "# Average ratio of incoming and outgoing links for all article in paths\n",
    "#finished_paths['avg_target_source_ratio'] = avg_target_source_ratio(finished_paths)\n",
    "#unfinished_paths['avg_target_source_ratio'] = avg_target_source_ratio(unfinished_paths)"
   ]
  },
  {
   "cell_type": "code",
   "execution_count": 20,
   "metadata": {},
   "outputs": [],
   "source": [
    "#finished_paths.to_pickle('finished_paths_w_positions.df')\n",
    "#unfinished_paths.to_pickle('unfinished_paths_w_positions.df')"
   ]
  },
  {
   "cell_type": "code",
   "execution_count": 21,
   "metadata": {},
   "outputs": [],
   "source": [
    "# Load data with positions\n",
    "finished_paths = pd.read_pickle('finished_paths_w_positions.df')\n",
    "unfinished_paths = pd.read_pickle('unfinished_paths_w_positions.df')"
   ]
  },
  {
   "cell_type": "code",
   "execution_count": 22,
   "metadata": {},
   "outputs": [
    {
     "data": {
      "text/html": [
       "<div>\n",
       "<style scoped>\n",
       "    .dataframe tbody tr th:only-of-type {\n",
       "        vertical-align: middle;\n",
       "    }\n",
       "\n",
       "    .dataframe tbody tr th {\n",
       "        vertical-align: top;\n",
       "    }\n",
       "\n",
       "    .dataframe thead th {\n",
       "        text-align: right;\n",
       "    }\n",
       "</style>\n",
       "<table border=\"1\" class=\"dataframe\">\n",
       "  <thead>\n",
       "    <tr style=\"text-align: right;\">\n",
       "      <th></th>\n",
       "      <th>hashedIpAddress</th>\n",
       "      <th>timestamp</th>\n",
       "      <th>durationInSec</th>\n",
       "      <th>path</th>\n",
       "      <th>rating</th>\n",
       "      <th>link_positions</th>\n",
       "      <th>avg_duration</th>\n",
       "      <th>avg_position</th>\n",
       "      <th>max_position</th>\n",
       "      <th>avg_article_length</th>\n",
       "      <th>avg_target_source_ratio</th>\n",
       "    </tr>\n",
       "  </thead>\n",
       "  <tbody>\n",
       "    <tr>\n",
       "      <th>0</th>\n",
       "      <td>3824310e536af032</td>\n",
       "      <td>1344753412</td>\n",
       "      <td>88</td>\n",
       "      <td>14th_century;Europe;Africa;Atlantic_slave_trad...</td>\n",
       "      <td>3.0</td>\n",
       "      <td>[0.16301315265045835, 0.0320129127715381, 0.23...</td>\n",
       "      <td>17.600000</td>\n",
       "      <td>0.161321</td>\n",
       "      <td>0.238708</td>\n",
       "      <td>4322.400000</td>\n",
       "      <td>2.191707</td>\n",
       "    </tr>\n",
       "    <tr>\n",
       "      <th>1</th>\n",
       "      <td>415612e93584d30e</td>\n",
       "      <td>1349298640</td>\n",
       "      <td>138</td>\n",
       "      <td>14th_century;Niger;Nigeria;British_Empire;Slav...</td>\n",
       "      <td>NaN</td>\n",
       "      <td>[0.38341968911917096, 0.04472755782046257, 0.0...</td>\n",
       "      <td>17.250000</td>\n",
       "      <td>0.189159</td>\n",
       "      <td>0.383420</td>\n",
       "      <td>5570.875000</td>\n",
       "      <td>1.300951</td>\n",
       "    </tr>\n",
       "    <tr>\n",
       "      <th>2</th>\n",
       "      <td>64dd5cd342e3780c</td>\n",
       "      <td>1265613925</td>\n",
       "      <td>37</td>\n",
       "      <td>14th_century;Renaissance;Ancient_Greece;Greece</td>\n",
       "      <td>NaN</td>\n",
       "      <td>[0.43304105221203665, 0.2143170488534397, 0.04...</td>\n",
       "      <td>9.250000</td>\n",
       "      <td>0.229568</td>\n",
       "      <td>0.433041</td>\n",
       "      <td>4011.000000</td>\n",
       "      <td>2.223104</td>\n",
       "    </tr>\n",
       "    <tr>\n",
       "      <th>3</th>\n",
       "      <td>015245d773376aab</td>\n",
       "      <td>1366730828</td>\n",
       "      <td>175</td>\n",
       "      <td>14th_century;Italy;Roman_Catholic_Church;HIV;R...</td>\n",
       "      <td>3.0</td>\n",
       "      <td>[0.14806695894778796, 0.055970351133474004, 0....</td>\n",
       "      <td>25.000000</td>\n",
       "      <td>0.284119</td>\n",
       "      <td>0.983090</td>\n",
       "      <td>6885.714286</td>\n",
       "      <td>2.969612</td>\n",
       "    </tr>\n",
       "    <tr>\n",
       "      <th>4</th>\n",
       "      <td>5295bca242be81fe</td>\n",
       "      <td>1372890414</td>\n",
       "      <td>110</td>\n",
       "      <td>14th_century;Europe;North_America;United_State...</td>\n",
       "      <td>NaN</td>\n",
       "      <td>[0.16301315265045835, 0.3061066648732262, 0.43...</td>\n",
       "      <td>18.333333</td>\n",
       "      <td>0.263157</td>\n",
       "      <td>0.432730</td>\n",
       "      <td>4909.000000</td>\n",
       "      <td>3.750072</td>\n",
       "    </tr>\n",
       "  </tbody>\n",
       "</table>\n",
       "</div>"
      ],
      "text/plain": [
       "    hashedIpAddress   timestamp  durationInSec  \\\n",
       "0  3824310e536af032  1344753412             88   \n",
       "1  415612e93584d30e  1349298640            138   \n",
       "2  64dd5cd342e3780c  1265613925             37   \n",
       "3  015245d773376aab  1366730828            175   \n",
       "4  5295bca242be81fe  1372890414            110   \n",
       "\n",
       "                                                path  rating  \\\n",
       "0  14th_century;Europe;Africa;Atlantic_slave_trad...     3.0   \n",
       "1  14th_century;Niger;Nigeria;British_Empire;Slav...     NaN   \n",
       "2     14th_century;Renaissance;Ancient_Greece;Greece     NaN   \n",
       "3  14th_century;Italy;Roman_Catholic_Church;HIV;R...     3.0   \n",
       "4  14th_century;Europe;North_America;United_State...     NaN   \n",
       "\n",
       "                                      link_positions  avg_duration  \\\n",
       "0  [0.16301315265045835, 0.0320129127715381, 0.23...     17.600000   \n",
       "1  [0.38341968911917096, 0.04472755782046257, 0.0...     17.250000   \n",
       "2  [0.43304105221203665, 0.2143170488534397, 0.04...      9.250000   \n",
       "3  [0.14806695894778796, 0.055970351133474004, 0....     25.000000   \n",
       "4  [0.16301315265045835, 0.3061066648732262, 0.43...     18.333333   \n",
       "\n",
       "   avg_position  max_position  avg_article_length  avg_target_source_ratio  \n",
       "0      0.161321      0.238708         4322.400000                 2.191707  \n",
       "1      0.189159      0.383420         5570.875000                 1.300951  \n",
       "2      0.229568      0.433041         4011.000000                 2.223104  \n",
       "3      0.284119      0.983090         6885.714286                 2.969612  \n",
       "4      0.263157      0.432730         4909.000000                 3.750072  "
      ]
     },
     "metadata": {},
     "output_type": "display_data"
    },
    {
     "data": {
      "text/html": [
       "<div>\n",
       "<style scoped>\n",
       "    .dataframe tbody tr th:only-of-type {\n",
       "        vertical-align: middle;\n",
       "    }\n",
       "\n",
       "    .dataframe tbody tr th {\n",
       "        vertical-align: top;\n",
       "    }\n",
       "\n",
       "    .dataframe thead th {\n",
       "        text-align: right;\n",
       "    }\n",
       "</style>\n",
       "<table border=\"1\" class=\"dataframe\">\n",
       "  <thead>\n",
       "    <tr style=\"text-align: right;\">\n",
       "      <th></th>\n",
       "      <th>hashedIpAddress</th>\n",
       "      <th>timestamp</th>\n",
       "      <th>durationInSec</th>\n",
       "      <th>path</th>\n",
       "      <th>target</th>\n",
       "      <th>type</th>\n",
       "      <th>link_positions</th>\n",
       "      <th>avg_duration</th>\n",
       "      <th>max_position</th>\n",
       "      <th>avg_position</th>\n",
       "      <th>avg_article_length</th>\n",
       "      <th>avg_target_source_ratio</th>\n",
       "    </tr>\n",
       "  </thead>\n",
       "  <tbody>\n",
       "    <tr>\n",
       "      <th>0</th>\n",
       "      <td>26141fd878806294</td>\n",
       "      <td>1297055651</td>\n",
       "      <td>1805</td>\n",
       "      <td>Julius_Caesar</td>\n",
       "      <td>Caracas</td>\n",
       "      <td>timeout</td>\n",
       "      <td>[nan]</td>\n",
       "      <td>1805.00</td>\n",
       "      <td>NaN</td>\n",
       "      <td>NaN</td>\n",
       "      <td>7586.0</td>\n",
       "      <td>2.333333</td>\n",
       "    </tr>\n",
       "    <tr>\n",
       "      <th>1</th>\n",
       "      <td>2b015fb8181c48f2</td>\n",
       "      <td>1297090819</td>\n",
       "      <td>1818</td>\n",
       "      <td>Malawi;Democracy;Alexander_the_Great</td>\n",
       "      <td>First_Crusade</td>\n",
       "      <td>timeout</td>\n",
       "      <td>[0.020996711358461928, 0.24676118775557]</td>\n",
       "      <td>606.00</td>\n",
       "      <td>0.246761</td>\n",
       "      <td>0.133879</td>\n",
       "      <td>5604.0</td>\n",
       "      <td>1.773224</td>\n",
       "    </tr>\n",
       "    <tr>\n",
       "      <th>2</th>\n",
       "      <td>53a53bc244e08a6a</td>\n",
       "      <td>1297094761</td>\n",
       "      <td>49</td>\n",
       "      <td>Paraguay</td>\n",
       "      <td>Mount_St._Helens</td>\n",
       "      <td>restart</td>\n",
       "      <td>[nan]</td>\n",
       "      <td>49.00</td>\n",
       "      <td>NaN</td>\n",
       "      <td>NaN</td>\n",
       "      <td>1327.0</td>\n",
       "      <td>1.950000</td>\n",
       "    </tr>\n",
       "    <tr>\n",
       "      <th>3</th>\n",
       "      <td>53a53bc244e08a6a</td>\n",
       "      <td>1297099105</td>\n",
       "      <td>1808</td>\n",
       "      <td>Paraguay;Bolivia</td>\n",
       "      <td>Mount_St._Helens</td>\n",
       "      <td>timeout</td>\n",
       "      <td>[0.16173641173641173]</td>\n",
       "      <td>904.00</td>\n",
       "      <td>0.161736</td>\n",
       "      <td>0.161736</td>\n",
       "      <td>3352.0</td>\n",
       "      <td>1.532377</td>\n",
       "    </tr>\n",
       "    <tr>\n",
       "      <th>4</th>\n",
       "      <td>131600803df4895e</td>\n",
       "      <td>1297100557</td>\n",
       "      <td>2009</td>\n",
       "      <td>Agriculture;History_of_the_world;China;Yangtze...</td>\n",
       "      <td>Grand_Canal_of_China</td>\n",
       "      <td>timeout</td>\n",
       "      <td>[0.0487655079228596, 0.12396390951476428, 0.50...</td>\n",
       "      <td>502.25</td>\n",
       "      <td>0.507053</td>\n",
       "      <td>0.226594</td>\n",
       "      <td>4338.0</td>\n",
       "      <td>2.724478</td>\n",
       "    </tr>\n",
       "  </tbody>\n",
       "</table>\n",
       "</div>"
      ],
      "text/plain": [
       "    hashedIpAddress   timestamp  durationInSec  \\\n",
       "0  26141fd878806294  1297055651           1805   \n",
       "1  2b015fb8181c48f2  1297090819           1818   \n",
       "2  53a53bc244e08a6a  1297094761             49   \n",
       "3  53a53bc244e08a6a  1297099105           1808   \n",
       "4  131600803df4895e  1297100557           2009   \n",
       "\n",
       "                                                path                target  \\\n",
       "0                                      Julius_Caesar               Caracas   \n",
       "1               Malawi;Democracy;Alexander_the_Great         First_Crusade   \n",
       "2                                           Paraguay      Mount_St._Helens   \n",
       "3                                   Paraguay;Bolivia      Mount_St._Helens   \n",
       "4  Agriculture;History_of_the_world;China;Yangtze...  Grand_Canal_of_China   \n",
       "\n",
       "      type                                     link_positions  avg_duration  \\\n",
       "0  timeout                                              [nan]       1805.00   \n",
       "1  timeout           [0.020996711358461928, 0.24676118775557]        606.00   \n",
       "2  restart                                              [nan]         49.00   \n",
       "3  timeout                              [0.16173641173641173]        904.00   \n",
       "4  timeout  [0.0487655079228596, 0.12396390951476428, 0.50...        502.25   \n",
       "\n",
       "   max_position  avg_position  avg_article_length  avg_target_source_ratio  \n",
       "0           NaN           NaN              7586.0                 2.333333  \n",
       "1      0.246761      0.133879              5604.0                 1.773224  \n",
       "2           NaN           NaN              1327.0                 1.950000  \n",
       "3      0.161736      0.161736              3352.0                 1.532377  \n",
       "4      0.507053      0.226594              4338.0                 2.724478  "
      ]
     },
     "metadata": {},
     "output_type": "display_data"
    },
    {
     "data": {
      "text/plain": [
       "(24874, 12)"
      ]
     },
     "execution_count": 22,
     "metadata": {},
     "output_type": "execute_result"
    }
   ],
   "source": [
    "display(finished_paths.head(5))\n",
    "finished_paths.shape\n",
    "display(unfinished_paths.head(5))\n",
    "unfinished_paths.shape"
   ]
  },
  {
   "cell_type": "markdown",
   "metadata": {},
   "source": [
    "### Player specific information"
   ]
  },
  {
   "cell_type": "code",
   "execution_count": 23,
   "metadata": {},
   "outputs": [],
   "source": [
    "players = pd.concat([unfinished_paths, finished_paths])"
   ]
  },
  {
   "cell_type": "code",
   "execution_count": 24,
   "metadata": {},
   "outputs": [],
   "source": [
    "# Number of games per player\n",
    "player_game_counts = players.groupby('hashedIpAddress')['path'].count().reset_index()\n",
    "player_game_counts.columns = ['player_hash', 'games_count']"
   ]
  },
  {
   "cell_type": "code",
   "execution_count": 25,
   "metadata": {},
   "outputs": [],
   "source": [
    "# Win rate:\n",
    "player_game_counts['finished_paths_count'] = player_game_counts['player_hash']\\\n",
    "                                             .map(finished_paths['hashedIpAddress']\\\n",
    "                                             .value_counts().fillna(0))\n",
    "player_game_counts['win_rate'] = player_game_counts['finished_paths_count'] / player_game_counts['games_count']\n",
    "player_game_counts['win_rate'].fillna(0, inplace=True)"
   ]
  },
  {
   "cell_type": "code",
   "execution_count": 26,
   "metadata": {},
   "outputs": [
    {
     "data": {
      "text/html": [
       "<div>\n",
       "<style scoped>\n",
       "    .dataframe tbody tr th:only-of-type {\n",
       "        vertical-align: middle;\n",
       "    }\n",
       "\n",
       "    .dataframe tbody tr th {\n",
       "        vertical-align: top;\n",
       "    }\n",
       "\n",
       "    .dataframe thead th {\n",
       "        text-align: right;\n",
       "    }\n",
       "</style>\n",
       "<table border=\"1\" class=\"dataframe\">\n",
       "  <thead>\n",
       "    <tr style=\"text-align: right;\">\n",
       "      <th></th>\n",
       "      <th>player_hash</th>\n",
       "      <th>games_count</th>\n",
       "      <th>finished_paths_count</th>\n",
       "      <th>win_rate</th>\n",
       "    </tr>\n",
       "  </thead>\n",
       "  <tbody>\n",
       "    <tr>\n",
       "      <th>0</th>\n",
       "      <td>000386124f307de8</td>\n",
       "      <td>2</td>\n",
       "      <td>1.0</td>\n",
       "      <td>0.5</td>\n",
       "    </tr>\n",
       "    <tr>\n",
       "      <th>1</th>\n",
       "      <td>0007183207b6008f</td>\n",
       "      <td>3</td>\n",
       "      <td>3.0</td>\n",
       "      <td>1.0</td>\n",
       "    </tr>\n",
       "    <tr>\n",
       "      <th>2</th>\n",
       "      <td>000a09e202e88d10</td>\n",
       "      <td>1</td>\n",
       "      <td>1.0</td>\n",
       "      <td>1.0</td>\n",
       "    </tr>\n",
       "    <tr>\n",
       "      <th>3</th>\n",
       "      <td>000a5bac5b7781ea</td>\n",
       "      <td>1</td>\n",
       "      <td>1.0</td>\n",
       "      <td>1.0</td>\n",
       "    </tr>\n",
       "    <tr>\n",
       "      <th>4</th>\n",
       "      <td>000a6e585b776c96</td>\n",
       "      <td>1</td>\n",
       "      <td>NaN</td>\n",
       "      <td>0.0</td>\n",
       "    </tr>\n",
       "  </tbody>\n",
       "</table>\n",
       "</div>"
      ],
      "text/plain": [
       "        player_hash  games_count  finished_paths_count  win_rate\n",
       "0  000386124f307de8            2                   1.0       0.5\n",
       "1  0007183207b6008f            3                   3.0       1.0\n",
       "2  000a09e202e88d10            1                   1.0       1.0\n",
       "3  000a5bac5b7781ea            1                   1.0       1.0\n",
       "4  000a6e585b776c96            1                   NaN       0.0"
      ]
     },
     "metadata": {},
     "output_type": "display_data"
    },
    {
     "data": {
      "text/plain": [
       "(20866, 4)"
      ]
     },
     "execution_count": 26,
     "metadata": {},
     "output_type": "execute_result"
    }
   ],
   "source": [
    "display(player_game_counts.head(5))\n",
    "player_game_counts.shape"
   ]
  },
  {
   "cell_type": "markdown",
   "metadata": {},
   "source": [
    "### Graphs"
   ]
  },
  {
   "cell_type": "code",
   "execution_count": 27,
   "metadata": {
    "scrolled": false
   },
   "outputs": [
    {
     "data": {
      "image/png": "[encoded data removed]",
      "text/plain": [
       "<Figure size 1000x500 with 2 Axes>"
      ]
     },
     "metadata": {},
     "output_type": "display_data"
    }
   ],
   "source": [
    "fig, axs = plt.subplots(1, 2, figsize=(10, 5), sharey=True)\n",
    "\n",
    "# Average game duration\n",
    "axs[0].hist(players['durationInSec'], bins=500);\n",
    "axs[0].set_xlim([0, 5000])\n",
    "axs[0].set_ylabel('Nb of players')\n",
    "axs[0].set_xlabel('Average game duration');\n",
    "\n",
    "# Average duration of each step in a path\n",
    "axs[1].hist(players['avg_duration'], bins=500);\n",
    "axs[1].set_xlim([0, 2000])\n",
    "axs[1].set_xlabel('Average duration of each step in a path');\n",
    "\n",
    "fig.tight_layout()\n",
    "#fig.savefig('players_duration.png', dpi=300)"
   ]
  },
  {
   "cell_type": "code",
   "execution_count": 28,
   "metadata": {
    "scrolled": false
   },
   "outputs": [
    {
     "data": {
      "image/png": "[encoded data removed]",
      "text/plain": [
       "<Figure size 1000x600 with 4 Axes>"
      ]
     },
     "metadata": {},
     "output_type": "display_data"
    }
   ],
   "source": [
    "fig, axs = plt.subplots(2, 2, figsize=(10, 6))\n",
    "\n",
    "# Target source ratio\n",
    "axs[0, 0].hist(link_counts['target_source_ratio'], bins=500);\n",
    "axs[0, 0].set_xlim([0, 10])\n",
    "axs[0, 0].set_ylabel('Nb of articles')\n",
    "axs[0, 0].set_xlabel('Ratio incoming and outgoing links');\n",
    "\n",
    "# Average duration of each step in a path\n",
    "axs[0, 1].hist(link_counts['article_length'], bins=500);\n",
    "axs[0, 1].set_xlim([0, 16000])\n",
    "axs[0, 1].set_xlabel('Article length');\n",
    "\n",
    "# Link positions\n",
    "axs[1, 0].hist(link_network_pos['position'], bins=500);\n",
    "axs[1, 0].set_xlim([0, 1])\n",
    "axs[1, 0].set_ylabel('Nb of articles')\n",
    "axs[1, 0].set_xlabel('Relative link position');\n",
    "\n",
    "# Main category\n",
    "axs[1, 1].bar(['1', '2', '3'], art_cat_level['article']);\n",
    "axs[1, 1].set_xlabel('Category level');\n",
    "\n",
    "fig.tight_layout()\n",
    "#fig.savefig('article_features.png', dpi=300)"
   ]
  },
  {
   "cell_type": "markdown",
   "metadata": {},
   "source": [
    "Phase 4:  Comparative Analysis and Statistical Modeling\n",
    "------------"
   ]
  },
  {
   "cell_type": "markdown",
   "metadata": {},
   "source": [
    "### Feature Impact Assessment"
   ]
  },
  {
   "cell_type": "code",
   "execution_count": 29,
   "metadata": {},
   "outputs": [],
   "source": [
    "# Check P3_FIA.ipynb on main branch for clean version of Feature Impact Assessment "
   ]
  },
  {
   "cell_type": "markdown",
   "metadata": {},
   "source": [
    "# Hub Characterization Measures"
   ]
  },
  {
   "cell_type": "code",
   "execution_count": 30,
   "metadata": {
    "execution": {
     "iopub.execute_input": "2023-12-09T09:29:19.212065Z",
     "iopub.status.busy": "2023-12-09T09:29:19.211441Z",
     "iopub.status.idle": "2023-12-09T09:29:19.496652Z",
     "shell.execute_reply": "2023-12-09T09:29:19.495464Z",
     "shell.execute_reply.started": "2023-12-09T09:29:19.212012Z"
    },
    "tags": []
   },
   "outputs": [],
   "source": [
    "# Create graph of wikispeedia with nodes being articles and edges being links\n",
    "G_link = nx.from_pandas_edgelist(link_network, 'source', 'target', create_using=nx.DiGraph())\n"
   ]
  },
  {
   "cell_type": "markdown",
   "metadata": {},
   "source": [
    "### Centrality Measures\n",
    "\n",
    "#### Degree Centrality\n",
    "Degree centrality measures the number of edges that connect to a node (i.e., the degree of the node). The more connections a node has, the more central it is.\n",
    "\n",
    "For a graph \\( G = (V, E) \\) with \\( n \\) vertices, the degree centrality \\( C_D(v) \\) for a vertex \\( v \\) is defined as:\n",
    "$$\n",
    "C_D(v) = \\frac{deg(v)}{n - 1}\n",
    "$$\n",
    "where \\( deg(v) \\) is the degree of \\( v \\), and \\( n - 1 \\) is the maximum possible degree of any vertex in a simple graph.\n",
    "\n",
    "#### Betweenness Centrality\n",
    "Betweenness centrality measures the extent to which a node lies on paths between other nodes. Nodes that frequently act as bridges between other nodes have higher betweenness centrality.\n",
    "\n",
    "For a graph \\( G = (V, E) \\), the betweenness centrality \\( C_B(v) \\) for a vertex \\( v \\) is defined as:\n",
    "$$\n",
    "C_B(v) = \\sum_{s \\neq v \\neq t \\in V} \\frac{\\sigma_{st}(v)}{\\sigma_{st}}\n",
    "$$\n",
    "where \\( \\sigma_{st} \\) is the total number of shortest paths from node \\( s \\) to node \\( t \\) and \\( \\sigma_{st}(v) \\) is the number of those paths that pass through \\( v \\).\n",
    "\n",
    "#### Closeness Centrality\n",
    "Closeness centrality measures how close a node is to all other nodes in the graph (the sum of the shortest paths from this node to all other nodes). The idea is that nodes closer to others can spread information more efficiently.\n",
    "\n",
    "For a connected graph \\( G = (V, E) \\), the closeness centrality \\( C_C(v) \\) for a vertex \\( v \\) is defined as:\n",
    "$$\n",
    "C_C(v) = \\frac{n - 1}{\\sum_{u \\in V \\setminus \\{v\\}} d(v, u)}\n",
    "$$\n",
    "where \\( d(v, u) \\) is the shortest-path distance between \\( v \\) and \\( u \\), and \\( n - 1 \\) is the number of nodes excluding \\( v \\) itself.\n",
    "\n",
    "#### Eigenvector Centrality\n",
    "Eigenvector centrality assigns relative scores to all nodes in the network based on the principle that connections to high-scoring nodes contribute more to the score of a node than equal connections to low-scoring nodes.\n",
    "\n",
    "It is calculated by finding the eigenvector associated with the largest eigenvalue of the adjacency matrix \\( A \\) of the graph \\( G \\). If \\( x \\) is the eigenvector centrality of \\( G \\) and \\( \\lambda \\) is the largest eigenvalue, then:\n",
    "$$\n",
    "Ax = \\lambda x\n",
    "$$\n",
    "The centrality \\( x_i \\) of the node \\( i \\) is the \\( i \\)th element of the eigenvector \\( x \\).\n"
   ]
  },
  {
   "cell_type": "code",
   "execution_count": 31,
   "metadata": {
    "execution": {
     "iopub.execute_input": "2023-12-09T09:30:37.444310Z",
     "iopub.status.busy": "2023-12-09T09:30:37.443649Z",
     "iopub.status.idle": "2023-12-09T09:30:37.455212Z",
     "shell.execute_reply": "2023-12-09T09:30:37.453656Z",
     "shell.execute_reply.started": "2023-12-09T09:30:37.444257Z"
    },
    "tags": []
   },
   "outputs": [],
   "source": [
    "# Calculating centrality measurement\n",
    "\n",
    "# Function for Degree Centrality\n",
    "def get_degree_centrality(G):\n",
    "    return nx.degree_centrality(G)\n",
    "\n",
    "# Function for Betweenness Centrality\n",
    "def get_betweenness_centrality(G):\n",
    "    return nx.betweenness_centrality(G)\n",
    "\n",
    "# Function for Closeness Centrality\n",
    "def get_closeness_centrality(G):\n",
    "    return nx.closeness_centrality(G)\n",
    "\n",
    "# Function for Eigenvector Centrality\n",
    "def get_eigenvector_centrality(G):\n",
    "    return nx.eigenvector_centrality(G)"
   ]
  },
  {
   "cell_type": "code",
   "execution_count": 32,
   "metadata": {
    "execution": {
     "iopub.execute_input": "2023-12-09T09:30:53.370730Z",
     "iopub.status.busy": "2023-12-09T09:30:53.370087Z",
     "iopub.status.idle": "2023-12-09T09:33:55.380082Z",
     "shell.execute_reply": "2023-12-09T09:33:55.378648Z",
     "shell.execute_reply.started": "2023-12-09T09:30:53.370672Z"
    },
    "tags": []
   },
   "outputs": [
    {
     "name": "stdout",
     "output_type": "stream",
     "text": [
      "                                  Node  Degree Centrality  \\\n",
      "0     %C3%81ed%C3%A1n_mac_Gabr%C3%A1in           0.002178   \n",
      "1                              Columba           0.005010   \n",
      "2                       D%C3%A1l_Riata           0.006970   \n",
      "3                        Great_Britain           0.046831   \n",
      "4                              Ireland           0.084949   \n",
      "...                                ...                ...   \n",
      "4587                      Yellowhammer           0.002832   \n",
      "4588                    Yotsuya_Kaidan           0.000436   \n",
      "4589            You%27re_Still_the_One           0.000436   \n",
      "4590                    Yungay%2C_Peru           0.000871   \n",
      "4591                        Zara_Yaqob           0.001307   \n",
      "\n",
      "      Betweenness Centrality  Closeness Centrality  Eigenvector Centrality  \n",
      "0                   0.000000              0.000000            4.240661e-24  \n",
      "1                   0.000041              0.331740            1.851423e-03  \n",
      "2                   0.000054              0.312937            9.743453e-04  \n",
      "3                   0.002783              0.453663            4.398665e-02  \n",
      "4                   0.005534              0.458159            4.318552e-02  \n",
      "...                      ...                   ...                     ...  \n",
      "4587                0.000000              0.000000            4.240661e-24  \n",
      "4588                0.000000              0.000000            4.240661e-24  \n",
      "4589                0.000000              0.000000            4.240661e-24  \n",
      "4590                0.000000              0.000000            4.240661e-24  \n",
      "4591                0.000000              0.000000            4.240661e-24  \n",
      "\n",
      "[4592 rows x 5 columns]\n"
     ]
    }
   ],
   "source": [
    "# Calculate centralities for wikipedia links\n",
    "degree_centrality_links = get_degree_centrality(G_link)\n",
    "betweenness_centrality_links = get_betweenness_centrality(G_link)\n",
    "closeness_centrality_links = get_closeness_centrality(G_link)\n",
    "eigenvector_centrality_links = get_eigenvector_centrality(G_link)\n",
    "\n",
    "# Create a DataFrame for players\n",
    "centrality_df_links = pd.DataFrame({\n",
    "    'Node': list(G_link.nodes()),\n",
    "    'Degree Centrality': [degree_centrality_links[node] for node in G_link.nodes()],\n",
    "    'Betweenness Centrality': [betweenness_centrality_links[node] for node in G_link.nodes()],\n",
    "    'Closeness Centrality': [closeness_centrality_links[node] for node in G_link.nodes()],\n",
    "    'Eigenvector Centrality': [eigenvector_centrality_links[node] for node in G_link.nodes()]\n",
    "})\n",
    "\n",
    "print(centrality_df_links)"
   ]
  },
  {
   "cell_type": "markdown",
   "metadata": {},
   "source": [
    "### Clustering Coefficients for Directed Graphs\n",
    "\n",
    "Clustering coefficients measure the likelihood that two neighbors of a node are also neighbors of each other, forming a triangle in the graph. For directed graphs, the concept is extended to account for the directionality of connections.\n",
    "\n",
    "#### Directed Clustering Coefficients\n",
    "\n",
    "For a directed graph \\( G = (V, E) \\), the clustering coefficient can be defined for each node based on the directed triangles they participate in. There are three types of directed triangles:\n",
    "\n",
    "- **Outgoing Triangles**: Triangles that a node \\( v \\) points to, i.e., \\( v \\) has directed edges going out to the other two nodes.\n",
    "- **Incoming Triangles**: Triangles that point to the node \\( v \\), i.e., the other two nodes have directed edges going into \\( v \\).\n",
    "- **Cyclic Triangles**: Triangles where the edges form a cycle, i.e., each node points to another node in a cyclic manner.\n",
    "\n",
    "The directed clustering coefficient for a node \\( v \\) is typically the average of the local clustering coefficients for each type of triangle:\n",
    "\n",
    "$$\n",
    "C_{dir}(v) = \\frac{1}{3} (C_{out}(v) + C_{in}(v) + C_{cycle}(v))\n",
    "$$\n",
    "\n",
    "where \\( C_{out}(v) \\), \\( C_{in}(v) \\), and \\( C_{cycle}(v) \\) are the local clustering coefficients for outgoing, incoming, and cyclic triangles respectively.\n",
    "\n",
    "The local clustering coefficient for each type of triangle is calculated as:\n",
    "\n",
    "$$\n",
    "C_{type}(v) = \\frac{\\text{Number of triangles of a given type including } v}{\\text{Number of possible triangles of that type for } v}\n",
    "$$"
   ]
  },
  {
   "cell_type": "code",
   "execution_count": 33,
   "metadata": {
    "execution": {
     "iopub.execute_input": "2023-12-09T09:33:55.382281Z",
     "iopub.status.busy": "2023-12-09T09:33:55.381976Z",
     "iopub.status.idle": "2023-12-09T09:34:00.303357Z",
     "shell.execute_reply": "2023-12-09T09:34:00.302135Z",
     "shell.execute_reply.started": "2023-12-09T09:33:55.382253Z"
    },
    "tags": []
   },
   "outputs": [],
   "source": [
    "# Calculate clustering coefficients according to formula above\n",
    "directed_clustering_coefficient = nx.clustering(G_link)\n",
    "# Put the coefficients in a list for plotting\n",
    "directed_clustering_values = list(directed_clustering_coefficient.values())\n"
   ]
  },
  {
   "cell_type": "code",
   "execution_count": 34,
   "metadata": {
    "execution": {
     "iopub.execute_input": "2023-12-09T09:34:00.304655Z",
     "iopub.status.busy": "2023-12-09T09:34:00.304386Z",
     "iopub.status.idle": "2023-12-09T09:34:00.318172Z",
     "shell.execute_reply": "2023-12-09T09:34:00.316859Z",
     "shell.execute_reply.started": "2023-12-09T09:34:00.304631Z"
    },
    "tags": []
   },
   "outputs": [
    {
     "name": "stdout",
     "output_type": "stream",
     "text": [
      "                               Node  Degree Centrality  \\\n",
      "0  %C3%81ed%C3%A1n_mac_Gabr%C3%A1in           0.002178   \n",
      "1                           Columba           0.005010   \n",
      "2                    D%C3%A1l_Riata           0.006970   \n",
      "3                     Great_Britain           0.046831   \n",
      "4                           Ireland           0.084949   \n",
      "\n",
      "   Betweenness Centrality  Closeness Centrality  Eigenvector Centrality  \\\n",
      "0                0.000000              0.000000            4.240661e-24   \n",
      "1                0.000041              0.331740            1.851423e-03   \n",
      "2                0.000054              0.312937            9.743453e-04   \n",
      "3                0.002783              0.453663            4.398665e-02   \n",
      "4                0.005534              0.458159            4.318552e-02   \n",
      "\n",
      "   Directed Clustering Coefficients  \n",
      "0                          0.488889  \n",
      "1                          0.222000  \n",
      "2                          0.192698  \n",
      "3                          0.051842  \n",
      "4                          0.035463  \n"
     ]
    }
   ],
   "source": [
    "\n",
    "# Convert the dictionary to a Series, aligning on the index with the DataFrame 'Node' column\n",
    "clustering_coefficients_series = pd.Series(directed_clustering_coefficient)\n",
    "\n",
    "# Set the 'Node' column as the index for proper alignment\n",
    "centrality_df_links.set_index('Node', inplace=True)\n",
    "\n",
    "# Add the Series as a new column to the DataFrame\n",
    "centrality_df_links['Directed Clustering Coefficients'] = clustering_coefficients_series\n",
    "\n",
    "# Reset the index if you want 'Node' to be a column again\n",
    "centrality_df_links.reset_index(inplace=True)\n",
    "\n",
    "# Now the DataFrame should have a new column with the clustering coefficients\n",
    "print(centrality_df_links.head())"
   ]
  },
  {
   "cell_type": "markdown",
   "metadata": {},
   "source": [
    "### Plot distribution of each centrality measure\n"
   ]
  },
  {
   "cell_type": "code",
   "execution_count": 35,
   "metadata": {
    "execution": {
     "iopub.execute_input": "2023-12-09T09:34:00.320035Z",
     "iopub.status.busy": "2023-12-09T09:34:00.319771Z",
     "iopub.status.idle": "2023-12-09T09:34:03.766098Z",
     "shell.execute_reply": "2023-12-09T09:34:03.764097Z",
     "shell.execute_reply.started": "2023-12-09T09:34:00.320011Z"
    },
    "tags": []
   },
   "outputs": [
    {
     "data": {
      "image/png": "[encoded data removed]",
      "text/plain": [
       "<Figure size 1400x1500 with 5 Axes>"
      ]
     },
     "metadata": {},
     "output_type": "display_data"
    }
   ],
   "source": [
    "# Plot distribution of each centrality measure\n",
    "\n",
    "# Set the size of the overall figure\n",
    "plt.figure(figsize=(14, 15))\n",
    "\n",
    "# Degree Centrality Distribution\n",
    "plt.subplot(3, 2, 1)\n",
    "plt.hist(centrality_df_links['Degree Centrality'], bins=30, color='blue', alpha=0.7,log=True)\n",
    "plt.title('Degree Centrality Distribution')\n",
    "plt.xlabel('Degree Centrality')\n",
    "plt.ylabel('Frequency')\n",
    "\n",
    "# Betweenness Centrality Distribution\n",
    "plt.subplot(3, 2, 2)\n",
    "plt.hist(centrality_df_links['Betweenness Centrality'], bins=30, color='red', alpha=0.7,log=True)\n",
    "plt.title('Betweenness Centrality Distribution')\n",
    "plt.xlabel('Betweenness Centrality')\n",
    "\n",
    "# Closeness Centrality Distribution\n",
    "plt.subplot(3, 2, 3)\n",
    "plt.hist(centrality_df_links['Closeness Centrality'], bins=30, color='green', alpha=0.7, log=True)\n",
    "plt.title('Closeness Centrality Distribution')\n",
    "plt.xlabel('Closeness Centrality')\n",
    "plt.ylabel('Frequency')\n",
    "\n",
    "# Eigenvector Centrality Distribution\n",
    "plt.subplot(3, 2, 4)\n",
    "plt.hist(centrality_df_links['Eigenvector Centrality'], bins=30, color='purple', alpha=0.7, log=True)\n",
    "plt.title('Eigenvector Centrality Distribution')\n",
    "plt.xlabel('Eigenvector Centrality')\n",
    "\n",
    "# Directed Clustering Coefficient Distribution\n",
    "plt.subplot(3, 2, 5)  # Adjust to a 3x2 subplot grid\n",
    "plt.hist(directed_clustering_values, bins=30, color='orange', alpha=0.7, log=True)\n",
    "plt.title('Directed Clustering Coefficient Distribution')\n",
    "plt.xlabel('Directed Clustering Coefficient')\n",
    "plt.ylabel('Frequency')\n",
    "\n",
    "# Adjust layout to prevent overlap\n",
    "plt.tight_layout()\n",
    "plt.show()\n"
   ]
  },
  {
   "cell_type": "code",
   "execution_count": 36,
   "metadata": {
    "execution": {
     "iopub.execute_input": "2023-12-09T09:38:00.308144Z",
     "iopub.status.busy": "2023-12-09T09:38:00.307450Z",
     "iopub.status.idle": "2023-12-09T09:38:00.342580Z",
     "shell.execute_reply": "2023-12-09T09:38:00.340606Z",
     "shell.execute_reply.started": "2023-12-09T09:38:00.308094Z"
    },
    "tags": []
   },
   "outputs": [
    {
     "name": "stdout",
     "output_type": "stream",
     "text": [
      "Degree Centrality                   0.017122\n",
      "Betweenness Centrality              0.001981\n",
      "Closeness Centrality                0.116919\n",
      "Eigenvector Centrality              0.013776\n",
      "Directed Clustering Coefficients    0.125167\n",
      "dtype: float64\n",
      "                               Node  Degree Centrality  \\\n",
      "0  %C3%81ed%C3%A1n_mac_Gabr%C3%A1in           0.002178   \n",
      "1                           Columba           0.005010   \n",
      "2                    D%C3%A1l_Riata           0.006970   \n",
      "3                     Great_Britain           0.046831   \n",
      "4                           Ireland           0.084949   \n",
      "\n",
      "   Betweenness Centrality  Closeness Centrality  Eigenvector Centrality  \\\n",
      "0                0.000000              0.000000            4.240661e-24   \n",
      "1                0.000041              0.331740            1.851423e-03   \n",
      "2                0.000054              0.312937            9.743453e-04   \n",
      "3                0.002783              0.453663            4.398665e-02   \n",
      "4                0.005534              0.458159            4.318552e-02   \n",
      "\n",
      "   Directed Clustering Coefficients  Degree Centrality Above Std  \\\n",
      "0                          0.488889                            0   \n",
      "1                          0.222000                            0   \n",
      "2                          0.192698                            0   \n",
      "3                          0.051842                            1   \n",
      "4                          0.035463                            1   \n",
      "\n",
      "   Betweenness Centrality Above Std  Closeness Centrality Above Std  \\\n",
      "0                                 0                               0   \n",
      "1                                 0                               1   \n",
      "2                                 0                               1   \n",
      "3                                 1                               1   \n",
      "4                                 1                               1   \n",
      "\n",
      "   Eigenvector Centrality Above Std  \\\n",
      "0                                 0   \n",
      "1                                 0   \n",
      "2                                 0   \n",
      "3                                 1   \n",
      "4                                 1   \n",
      "\n",
      "   Directed Clustering Coefficients Above Std  \n",
      "0                                           1  \n",
      "1                                           1  \n",
      "2                                           1  \n",
      "3                                           0  \n",
      "4                                           0  \n"
     ]
    }
   ],
   "source": [
    "# Calculate standard deviation for each centrality measure\n",
    "std_devs = centrality_df_links.iloc[:, 1:].std()\n",
    "print(std_devs)\n",
    "\n",
    "# Add new columns indicating whether the node's centrality is above the standard deviation (1 if it is, 0 if not)\n",
    "for centrality_measure in ['Degree Centrality', 'Betweenness Centrality', 'Closeness Centrality', 'Eigenvector Centrality', 'Directed Clustering Coefficients']:\n",
    "    centrality_df_links[centrality_measure + ' Above Std'] = (\n",
    "        centrality_df_links[centrality_measure] > std_devs[centrality_measure]).astype(int)\n",
    "\n",
    "# Now centrality_df_links has the additional columns with binary values for each centrality measure\n",
    "print(centrality_df_links.head())  # Displaying just the head for brevity"
   ]
  },
  {
   "cell_type": "code",
   "execution_count": 37,
   "metadata": {
    "execution": {
     "iopub.execute_input": "2023-12-09T09:38:31.529931Z",
     "iopub.status.busy": "2023-12-09T09:38:31.529034Z",
     "iopub.status.idle": "2023-12-09T09:38:31.540281Z",
     "shell.execute_reply": "2023-12-09T09:38:31.537615Z",
     "shell.execute_reply.started": "2023-12-09T09:38:31.529856Z"
    },
    "tags": []
   },
   "outputs": [],
   "source": [
    "df_player1 = finished_paths\n",
    "df_player2 = unfinished_paths"
   ]
  },
  {
   "cell_type": "code",
   "execution_count": 38,
   "metadata": {
    "execution": {
     "iopub.execute_input": "2023-12-09T09:38:43.592531Z",
     "iopub.status.busy": "2023-12-09T09:38:43.591219Z",
     "iopub.status.idle": "2023-12-09T09:38:43.804074Z",
     "shell.execute_reply": "2023-12-09T09:38:43.802722Z",
     "shell.execute_reply.started": "2023-12-09T09:38:43.592474Z"
    },
    "tags": []
   },
   "outputs": [],
   "source": [
    "# Define functions to extract the source and target from the path\n",
    "def extract_source(path):\n",
    "    return path.split(';')[0] if pd.notnull(path) else None\n",
    "\n",
    "def extract_target(path):\n",
    "    return path.split(';')[-1] if pd.notnull(path) else None\n",
    "\n",
    "# Apply these functions to the 'path' column of df_player1\n",
    "df_player1['source'] = df_player1['path'].apply(extract_source)\n",
    "df_player1['target'] = df_player1['path'].apply(extract_target)\n",
    "\n",
    "# Apply the source extraction function to the 'path' column of df_player2\n",
    "df_player2['source'] = df_player2['path'].apply(extract_source)\n"
   ]
  },
  {
   "cell_type": "code",
   "execution_count": 39,
   "metadata": {
    "execution": {
     "iopub.execute_input": "2023-12-09T09:38:55.514610Z",
     "iopub.status.busy": "2023-12-09T09:38:55.513278Z",
     "iopub.status.idle": "2023-12-09T09:38:55.566728Z",
     "shell.execute_reply": "2023-12-09T09:38:55.565150Z",
     "shell.execute_reply.started": "2023-12-09T09:38:55.514529Z"
    },
    "tags": []
   },
   "outputs": [
    {
     "name": "stdout",
     "output_type": "stream",
     "text": [
      "        hashedIpAddress   timestamp  durationInSec  \\\n",
      "5      36dabfa133b20e3c  1249525912            112   \n",
      "6      20418ff4797f96be  1229188046            139   \n",
      "7      08888b1b428dd90e  1232241510             74   \n",
      "8      08888b1b428dd90e  1232241601            167   \n",
      "9      4cb0068c36658716  1248654953            253   \n",
      "...                 ...         ...            ...   \n",
      "76186  109ed71f571d86e9  1389787605            180   \n",
      "76187  232f992e57d43e8d  1389787697              6   \n",
      "76188  2e09a7224600a7cd  1389798400           1900   \n",
      "76189  60af9e2138051b96  1389799481           1903   \n",
      "76190  1cf0cbb3281049ab  1389822841            352   \n",
      "\n",
      "                                                    path  rating  \\\n",
      "5                      14th_century;China;Gunpowder;Fire     2.0   \n",
      "6      14th_century;Time;Isaac_Newton;Light;Color;Rai...     1.0   \n",
      "7                        14th_century;Time;Light;Rainbow     3.0   \n",
      "8      14th_century;15th_century;Plato;Nature;Ultravi...     NaN   \n",
      "9      14th_century;Time;Science;Nature;Weather;Sunli...     3.0   \n",
      "...                                                  ...     ...   \n",
      "76186  Franz_Kafka;Tuberculosis;World_Health_Organiza...     NaN   \n",
      "76187                                     Modern_history     NaN   \n",
      "76188  Computer_programming;Linguistics;Culture;Popul...     NaN   \n",
      "76189  Jamaica;United_Kingdom;World_War_II;Battle_of_...     NaN   \n",
      "76190          Mark_Antony;Rome;Tennis;Hawk-Eye;Computer     NaN   \n",
      "\n",
      "                                          link_positions  avg_duration  \\\n",
      "5      [0.23953766440813073, 0.04771249846682203, 0.0...     28.000000   \n",
      "6      [0.09485850936628139, 0.0131067377449998, 0.04...     23.166667   \n",
      "7      [0.09485850936628139, 0.8127379854904004, 0.19...     18.500000   \n",
      "8      [0.036667995217218016, 0.53650998068255, 0.290...     23.857143   \n",
      "9                                                  [nan]     19.461538   \n",
      "...                                                  ...           ...   \n",
      "76186                                              [nan]     22.500000   \n",
      "76187                                              [nan]      6.000000   \n",
      "76188                                              [nan]    380.000000   \n",
      "76189  [0.022271304988036075, 0.11418921283819257, 0....    475.750000   \n",
      "76190  [0.9460089518836255, 0.9815434487085642, 0.286...     70.400000   \n",
      "\n",
      "       avg_position  max_position  avg_article_length  \\\n",
      "5          0.103473      0.239538         2544.250000   \n",
      "6          0.061306      0.129126         3727.833333   \n",
      "7          0.366163      0.812738         3251.250000   \n",
      "8          0.211931      0.536510         3251.428571   \n",
      "9               NaN           NaN         3476.250000   \n",
      "...             ...           ...                 ...   \n",
      "76186           NaN           NaN         3238.285714   \n",
      "76187           NaN           NaN         3773.000000   \n",
      "76188           NaN           NaN         2530.250000   \n",
      "76189      0.059351      0.114189         8661.250000   \n",
      "76190      0.578810      0.981543         4837.000000   \n",
      "\n",
      "       avg_target_source_ratio                source       target  \\\n",
      "5                     2.996277          14th_century         Fire   \n",
      "6                     2.473156          14th_century      Rainbow   \n",
      "7                     1.286801          14th_century      Rainbow   \n",
      "8                     2.514047          14th_century      Rainbow   \n",
      "9                          NaN          14th_century      Rainbow   \n",
      "...                        ...                   ...          ...   \n",
      "76186                      NaN           Franz_Kafka      Cholera   \n",
      "76187                 0.020000        Modern_history    Hollandic   \n",
      "76188                      NaN  Computer_programming  The_Beatles   \n",
      "76189                 3.654841               Jamaica  Alan_Turing   \n",
      "76190                 1.706934           Mark_Antony      Feather   \n",
      "\n",
      "       path_finished     type  \n",
      "5                  1      NaN  \n",
      "6                  1      NaN  \n",
      "7                  1      NaN  \n",
      "8                  1      NaN  \n",
      "9                  1      NaN  \n",
      "...              ...      ...  \n",
      "76186              0  restart  \n",
      "76187              0  restart  \n",
      "76188              0  timeout  \n",
      "76189              0  timeout  \n",
      "76190              0  restart  \n",
      "\n",
      "[76186 rows x 15 columns]\n"
     ]
    }
   ],
   "source": [
    "# Add the 'path_finished' column to each DataFrame before concatenating\n",
    "df_player1['path_finished'] = 1\n",
    "df_player2['path_finished'] = 0\n",
    "\n",
    "# Concatenate the two DataFrames into one\n",
    "df_player = pd.concat([df_player1, df_player2], ignore_index=True)\n",
    "df_player = df_player.iloc[5:]\n",
    "\n",
    "# Now df_player will have all the rows from both df_player1 and df_player2\n",
    "# with the 'path_finished' column indicating from which DataFrame the row came from\n",
    "print(df_player)\n"
   ]
  },
  {
   "cell_type": "code",
   "execution_count": 40,
   "metadata": {
    "execution": {
     "iopub.execute_input": "2023-12-09T09:39:11.155150Z",
     "iopub.status.busy": "2023-12-09T09:39:11.154469Z",
     "iopub.status.idle": "2023-12-09T09:39:12.106720Z",
     "shell.execute_reply": "2023-12-09T09:39:12.105231Z",
     "shell.execute_reply.started": "2023-12-09T09:39:11.155096Z"
    },
    "tags": []
   },
   "outputs": [],
   "source": [
    "# Define a function to count the number of hubs in a path\n",
    "def count_hubs(path, hubs_set):\n",
    "    # Split the path into individual nodes\n",
    "    nodes = path.split(';')\n",
    "    # Count the number of nodes in the path that are in the set of hubs\n",
    "    hub_count = sum(node in hubs_set for node in nodes)\n",
    "    return hub_count\n",
    "\n",
    "# Create sets of hubs for each centrality measure\n",
    "hubs_degree = set(centrality_df_links[centrality_df_links['Degree Centrality Above Std'] == 1]['Node'])\n",
    "hubs_betweenness = set(centrality_df_links[centrality_df_links['Betweenness Centrality Above Std'] == 1]['Node'])\n",
    "hubs_closeness = set(centrality_df_links[centrality_df_links['Closeness Centrality Above Std'] == 1]['Node'])\n",
    "hubs_eigenvector = set(centrality_df_links[centrality_df_links['Eigenvector Centrality Above Std'] == 1]['Node'])\n",
    "hubs_clustering = set(centrality_df_links[centrality_df_links['Directed Clustering Coefficients Above Std'] == 1]['Node'])\n",
    "\n",
    "# Add the hub count columns to df_player\n",
    "df_player['Degree Hub Count'] = df_player['path'].apply(lambda path: count_hubs(path, hubs_degree))\n",
    "df_player['Betweenness Hub Count'] = df_player['path'].apply(lambda path: count_hubs(path, hubs_betweenness))\n",
    "df_player['Closeness Hub Count'] = df_player['path'].apply(lambda path: count_hubs(path, hubs_closeness))\n",
    "df_player['Eigenvector Hub Count'] = df_player['path'].apply(lambda path: count_hubs(path, hubs_eigenvector))\n",
    "df_player['Clustering Hub Count'] = df_player['path'].apply(lambda path: count_hubs(path, hubs_clustering))\n"
   ]
  },
  {
   "cell_type": "markdown",
   "metadata": {},
   "source": [
    "### Get Shortest Path"
   ]
  },
  {
   "cell_type": "code",
   "execution_count": 41,
   "metadata": {
    "execution": {
     "iopub.execute_input": "2023-12-09T09:39:57.934183Z",
     "iopub.status.busy": "2023-12-09T09:39:57.933115Z",
     "iopub.status.idle": "2023-12-09T09:40:01.586961Z",
     "shell.execute_reply": "2023-12-09T09:40:01.585658Z",
     "shell.execute_reply.started": "2023-12-09T09:39:57.934120Z"
    },
    "tags": []
   },
   "outputs": [],
   "source": [
    "# Function to calculate the shortest path length\n",
    "def calculate_shortest_path_length(row, graph):\n",
    "    try:\n",
    "        # Compute the shortest path length between source and target\n",
    "        path_length = nx.shortest_path_length(graph, source=row['source'], target=row['target'])\n",
    "        return path_length\n",
    "    except nx.NetworkXNoPath:\n",
    "        # If there is no path between source and target, return None or some indicator like -1\n",
    "        return None\n",
    "    except nx.NodeNotFound:\n",
    "        # If the source or target node does not exist in the graph, return None or some indicator like -1\n",
    "        return None\n",
    "\n",
    "# Apply the function to each row in df_player to calculate the shortest path length\n",
    "df_player['shortest_path'] = df_player.apply(lambda row: calculate_shortest_path_length(row, G_link), axis=1)\n"
   ]
  },
  {
   "cell_type": "markdown",
   "metadata": {},
   "source": [
    "### Count number of different categories\n"
   ]
  },
  {
   "cell_type": "code",
   "execution_count": 42,
   "metadata": {
    "execution": {
     "iopub.execute_input": "2023-12-09T09:40:23.939196Z",
     "iopub.status.busy": "2023-12-09T09:40:23.937816Z",
     "iopub.status.idle": "2023-12-09T09:40:23.973830Z",
     "shell.execute_reply": "2023-12-09T09:40:23.972208Z",
     "shell.execute_reply.started": "2023-12-09T09:40:23.939132Z"
    },
    "tags": []
   },
   "outputs": [],
   "source": [
    "# Step 1: Rename 'article' column to 'Node'\n",
    "categories.rename(columns={'article': 'Node'}, inplace=True)\n",
    "\n",
    "# Step 2: Extract the last category element\n",
    "categories['category'] = categories['category'].apply(lambda x: x.split('.')[-1] if pd.notnull(x) else None)\n",
    "\n",
    "# Step 3: Create a mapping from 'Node' to 'category'\n",
    "category_mapping = categories.set_index('Node')['category'].to_dict()\n",
    "\n",
    "# Step 4: Map the category to the corresponding node in 'centrality_df_links'\n",
    "centrality_df_links['category'] = centrality_df_links['Node'].map(category_mapping)"
   ]
  },
  {
   "cell_type": "code",
   "execution_count": 43,
   "metadata": {
    "execution": {
     "iopub.execute_input": "2023-12-09T09:40:37.292757Z",
     "iopub.status.busy": "2023-12-09T09:40:37.291737Z",
     "iopub.status.idle": "2023-12-09T09:40:37.317450Z",
     "shell.execute_reply": "2023-12-09T09:40:37.315740Z",
     "shell.execute_reply.started": "2023-12-09T09:40:37.292669Z"
    },
    "tags": []
   },
   "outputs": [
    {
     "name": "stdout",
     "output_type": "stream",
     "text": [
      "                                  Node  Degree Centrality  \\\n",
      "0     %C3%81ed%C3%A1n_mac_Gabr%C3%A1in           0.002178   \n",
      "1                              Columba           0.005010   \n",
      "2                       D%C3%A1l_Riata           0.006970   \n",
      "3                        Great_Britain           0.046831   \n",
      "4                              Ireland           0.084949   \n",
      "...                                ...                ...   \n",
      "4587                      Yellowhammer           0.002832   \n",
      "4588                    Yotsuya_Kaidan           0.000436   \n",
      "4589            You%27re_Still_the_One           0.000436   \n",
      "4590                    Yungay%2C_Peru           0.000871   \n",
      "4591                        Zara_Yaqob           0.001307   \n",
      "\n",
      "      Betweenness Centrality  Closeness Centrality  Eigenvector Centrality  \\\n",
      "0                   0.000000              0.000000            4.240661e-24   \n",
      "1                   0.000041              0.331740            1.851423e-03   \n",
      "2                   0.000054              0.312937            9.743453e-04   \n",
      "3                   0.002783              0.453663            4.398665e-02   \n",
      "4                   0.005534              0.458159            4.318552e-02   \n",
      "...                      ...                   ...                     ...   \n",
      "4587                0.000000              0.000000            4.240661e-24   \n",
      "4588                0.000000              0.000000            4.240661e-24   \n",
      "4589                0.000000              0.000000            4.240661e-24   \n",
      "4590                0.000000              0.000000            4.240661e-24   \n",
      "4591                0.000000              0.000000            4.240661e-24   \n",
      "\n",
      "      Directed Clustering Coefficients  Degree Centrality Above Std  \\\n",
      "0                             0.488889                            0   \n",
      "1                             0.222000                            0   \n",
      "2                             0.192698                            0   \n",
      "3                             0.051842                            1   \n",
      "4                             0.035463                            1   \n",
      "...                                ...                          ...   \n",
      "4587                          0.211538                            0   \n",
      "4588                          1.000000                            0   \n",
      "4589                          0.000000                            0   \n",
      "4590                          0.583333                            0   \n",
      "4591                          0.533333                            0   \n",
      "\n",
      "      Betweenness Centrality Above Std  Closeness Centrality Above Std  \\\n",
      "0                                    0                               0   \n",
      "1                                    0                               1   \n",
      "2                                    0                               1   \n",
      "3                                    1                               1   \n",
      "4                                    1                               1   \n",
      "...                                ...                             ...   \n",
      "4587                                 0                               0   \n",
      "4588                                 0                               0   \n",
      "4589                                 0                               0   \n",
      "4590                                 0                               0   \n",
      "4591                                 0                               0   \n",
      "\n",
      "      Eigenvector Centrality Above Std  \\\n",
      "0                                    0   \n",
      "1                                    0   \n",
      "2                                    0   \n",
      "3                                    1   \n",
      "4                                    1   \n",
      "...                                ...   \n",
      "4587                                 0   \n",
      "4588                                 0   \n",
      "4589                                 0   \n",
      "4590                                 0   \n",
      "4591                                 0   \n",
      "\n",
      "      Directed Clustering Coefficients Above Std  \\\n",
      "0                                              1   \n",
      "1                                              1   \n",
      "2                                              1   \n",
      "3                                              0   \n",
      "4                                              0   \n",
      "...                                          ...   \n",
      "4587                                           1   \n",
      "4588                                           1   \n",
      "4589                                           0   \n",
      "4590                                           1   \n",
      "4591                                           1   \n",
      "\n",
      "                                               category  \n",
      "0                                    Historical_figures  \n",
      "1                         Religious_figures_and_leaders  \n",
      "2     British_History_1500_and_before_including_Roma...  \n",
      "3                               Politics_and_government  \n",
      "4                                    European_Countries  \n",
      "...                                                 ...  \n",
      "4587                                              Birds  \n",
      "4588                                 General_Literature  \n",
      "4589                Musical_Recordings_and_compositions  \n",
      "4590               Central_and_South_American_Geography  \n",
      "4591                                 Historical_figures  \n",
      "\n",
      "[4592 rows x 12 columns]\n"
     ]
    }
   ],
   "source": [
    "print(centrality_df_links)"
   ]
  },
  {
   "cell_type": "code",
   "execution_count": 44,
   "metadata": {
    "execution": {
     "iopub.execute_input": "2023-12-09T09:40:55.119929Z",
     "iopub.status.busy": "2023-12-09T09:40:55.119230Z",
     "iopub.status.idle": "2023-12-09T09:40:55.450676Z",
     "shell.execute_reply": "2023-12-09T09:40:55.449094Z",
     "shell.execute_reply.started": "2023-12-09T09:40:55.119868Z"
    },
    "tags": []
   },
   "outputs": [],
   "source": [
    "# Step 1: Create a mapping from nodes to categories.\n",
    "node_to_category = pd.Series(centrality_df_links['category'].values, index=centrality_df_links['Node']).to_dict()\n",
    "\n",
    "# Step 2: Define a function to count unique categories in a path.\n",
    "def count_unique_categories(path):\n",
    "    if pd.isna(path):\n",
    "        return 0\n",
    "    # Split the path into nodes.\n",
    "    nodes = path.split(';')\n",
    "    # Find the category for each node, count unique categories.\n",
    "    categories = [node_to_category.get(node) for node in nodes if node in node_to_category]\n",
    "    return len(set(categories))\n",
    "\n",
    "# Step 3: Apply the function to each row in df_player 'path' column.\n",
    "df_player['unique_categories'] = df_player['path'].apply(count_unique_categories)\n"
   ]
  },
  {
   "cell_type": "code",
   "execution_count": 45,
   "metadata": {
    "execution": {
     "iopub.execute_input": "2023-12-09T09:41:15.403835Z",
     "iopub.status.busy": "2023-12-09T09:41:15.403071Z",
     "iopub.status.idle": "2023-12-09T09:41:15.442817Z",
     "shell.execute_reply": "2023-12-09T09:41:15.441203Z",
     "shell.execute_reply.started": "2023-12-09T09:41:15.403774Z"
    },
    "tags": []
   },
   "outputs": [
    {
     "data": {
      "text/html": [
       "<div>\n",
       "<style scoped>\n",
       "    .dataframe tbody tr th:only-of-type {\n",
       "        vertical-align: middle;\n",
       "    }\n",
       "\n",
       "    .dataframe tbody tr th {\n",
       "        vertical-align: top;\n",
       "    }\n",
       "\n",
       "    .dataframe thead th {\n",
       "        text-align: right;\n",
       "    }\n",
       "</style>\n",
       "<table border=\"1\" class=\"dataframe\">\n",
       "  <thead>\n",
       "    <tr style=\"text-align: right;\">\n",
       "      <th></th>\n",
       "      <th>hashedIpAddress</th>\n",
       "      <th>timestamp</th>\n",
       "      <th>durationInSec</th>\n",
       "      <th>path</th>\n",
       "      <th>rating</th>\n",
       "      <th>link_positions</th>\n",
       "      <th>avg_duration</th>\n",
       "      <th>avg_position</th>\n",
       "      <th>max_position</th>\n",
       "      <th>avg_article_length</th>\n",
       "      <th>...</th>\n",
       "      <th>target</th>\n",
       "      <th>path_finished</th>\n",
       "      <th>type</th>\n",
       "      <th>Degree Hub Count</th>\n",
       "      <th>Betweenness Hub Count</th>\n",
       "      <th>Closeness Hub Count</th>\n",
       "      <th>Eigenvector Hub Count</th>\n",
       "      <th>Clustering Hub Count</th>\n",
       "      <th>shortest_path</th>\n",
       "      <th>unique_categories</th>\n",
       "    </tr>\n",
       "  </thead>\n",
       "  <tbody>\n",
       "    <tr>\n",
       "      <th>5</th>\n",
       "      <td>36dabfa133b20e3c</td>\n",
       "      <td>1249525912</td>\n",
       "      <td>112</td>\n",
       "      <td>14th_century;China;Gunpowder;Fire</td>\n",
       "      <td>2.0</td>\n",
       "      <td>[0.23953766440813073, 0.04771249846682203, 0.0...</td>\n",
       "      <td>28.000000</td>\n",
       "      <td>0.103473</td>\n",
       "      <td>0.239538</td>\n",
       "      <td>2544.250000</td>\n",
       "      <td>...</td>\n",
       "      <td>Fire</td>\n",
       "      <td>1</td>\n",
       "      <td>NaN</td>\n",
       "      <td>3</td>\n",
       "      <td>1</td>\n",
       "      <td>4</td>\n",
       "      <td>2</td>\n",
       "      <td>0</td>\n",
       "      <td>3.0</td>\n",
       "      <td>3</td>\n",
       "    </tr>\n",
       "    <tr>\n",
       "      <th>6</th>\n",
       "      <td>20418ff4797f96be</td>\n",
       "      <td>1229188046</td>\n",
       "      <td>139</td>\n",
       "      <td>14th_century;Time;Isaac_Newton;Light;Color;Rai...</td>\n",
       "      <td>1.0</td>\n",
       "      <td>[0.09485850936628139, 0.0131067377449998, 0.04...</td>\n",
       "      <td>23.166667</td>\n",
       "      <td>0.061306</td>\n",
       "      <td>0.129126</td>\n",
       "      <td>3727.833333</td>\n",
       "      <td>...</td>\n",
       "      <td>Rainbow</td>\n",
       "      <td>1</td>\n",
       "      <td>NaN</td>\n",
       "      <td>5</td>\n",
       "      <td>0</td>\n",
       "      <td>6</td>\n",
       "      <td>1</td>\n",
       "      <td>0</td>\n",
       "      <td>3.0</td>\n",
       "      <td>4</td>\n",
       "    </tr>\n",
       "    <tr>\n",
       "      <th>7</th>\n",
       "      <td>08888b1b428dd90e</td>\n",
       "      <td>1232241510</td>\n",
       "      <td>74</td>\n",
       "      <td>14th_century;Time;Light;Rainbow</td>\n",
       "      <td>3.0</td>\n",
       "      <td>[0.09485850936628139, 0.8127379854904004, 0.19...</td>\n",
       "      <td>18.500000</td>\n",
       "      <td>0.366163</td>\n",
       "      <td>0.812738</td>\n",
       "      <td>3251.250000</td>\n",
       "      <td>...</td>\n",
       "      <td>Rainbow</td>\n",
       "      <td>1</td>\n",
       "      <td>NaN</td>\n",
       "      <td>3</td>\n",
       "      <td>0</td>\n",
       "      <td>4</td>\n",
       "      <td>1</td>\n",
       "      <td>0</td>\n",
       "      <td>3.0</td>\n",
       "      <td>3</td>\n",
       "    </tr>\n",
       "    <tr>\n",
       "      <th>8</th>\n",
       "      <td>08888b1b428dd90e</td>\n",
       "      <td>1232241601</td>\n",
       "      <td>167</td>\n",
       "      <td>14th_century;15th_century;Plato;Nature;Ultravi...</td>\n",
       "      <td>NaN</td>\n",
       "      <td>[0.036667995217218016, 0.53650998068255, 0.290...</td>\n",
       "      <td>23.857143</td>\n",
       "      <td>0.211931</td>\n",
       "      <td>0.536510</td>\n",
       "      <td>3251.428571</td>\n",
       "      <td>...</td>\n",
       "      <td>Rainbow</td>\n",
       "      <td>1</td>\n",
       "      <td>NaN</td>\n",
       "      <td>6</td>\n",
       "      <td>0</td>\n",
       "      <td>7</td>\n",
       "      <td>2</td>\n",
       "      <td>0</td>\n",
       "      <td>3.0</td>\n",
       "      <td>5</td>\n",
       "    </tr>\n",
       "    <tr>\n",
       "      <th>9</th>\n",
       "      <td>4cb0068c36658716</td>\n",
       "      <td>1248654953</td>\n",
       "      <td>253</td>\n",
       "      <td>14th_century;Time;Science;Nature;Weather;Sunli...</td>\n",
       "      <td>3.0</td>\n",
       "      <td>[nan]</td>\n",
       "      <td>19.461538</td>\n",
       "      <td>NaN</td>\n",
       "      <td>NaN</td>\n",
       "      <td>3476.250000</td>\n",
       "      <td>...</td>\n",
       "      <td>Rainbow</td>\n",
       "      <td>1</td>\n",
       "      <td>NaN</td>\n",
       "      <td>10</td>\n",
       "      <td>2</td>\n",
       "      <td>12</td>\n",
       "      <td>2</td>\n",
       "      <td>0</td>\n",
       "      <td>3.0</td>\n",
       "      <td>6</td>\n",
       "    </tr>\n",
       "    <tr>\n",
       "      <th>...</th>\n",
       "      <td>...</td>\n",
       "      <td>...</td>\n",
       "      <td>...</td>\n",
       "      <td>...</td>\n",
       "      <td>...</td>\n",
       "      <td>...</td>\n",
       "      <td>...</td>\n",
       "      <td>...</td>\n",
       "      <td>...</td>\n",
       "      <td>...</td>\n",
       "      <td>...</td>\n",
       "      <td>...</td>\n",
       "      <td>...</td>\n",
       "      <td>...</td>\n",
       "      <td>...</td>\n",
       "      <td>...</td>\n",
       "      <td>...</td>\n",
       "      <td>...</td>\n",
       "      <td>...</td>\n",
       "      <td>...</td>\n",
       "      <td>...</td>\n",
       "    </tr>\n",
       "    <tr>\n",
       "      <th>76186</th>\n",
       "      <td>109ed71f571d86e9</td>\n",
       "      <td>1389787605</td>\n",
       "      <td>180</td>\n",
       "      <td>Franz_Kafka;Tuberculosis;World_Health_Organiza...</td>\n",
       "      <td>NaN</td>\n",
       "      <td>[nan]</td>\n",
       "      <td>22.500000</td>\n",
       "      <td>NaN</td>\n",
       "      <td>NaN</td>\n",
       "      <td>3238.285714</td>\n",
       "      <td>...</td>\n",
       "      <td>Cholera</td>\n",
       "      <td>0</td>\n",
       "      <td>restart</td>\n",
       "      <td>6</td>\n",
       "      <td>0</td>\n",
       "      <td>7</td>\n",
       "      <td>4</td>\n",
       "      <td>3</td>\n",
       "      <td>3.0</td>\n",
       "      <td>5</td>\n",
       "    </tr>\n",
       "    <tr>\n",
       "      <th>76187</th>\n",
       "      <td>232f992e57d43e8d</td>\n",
       "      <td>1389787697</td>\n",
       "      <td>6</td>\n",
       "      <td>Modern_history</td>\n",
       "      <td>NaN</td>\n",
       "      <td>[nan]</td>\n",
       "      <td>6.000000</td>\n",
       "      <td>NaN</td>\n",
       "      <td>NaN</td>\n",
       "      <td>3773.000000</td>\n",
       "      <td>...</td>\n",
       "      <td>Hollandic</td>\n",
       "      <td>0</td>\n",
       "      <td>restart</td>\n",
       "      <td>1</td>\n",
       "      <td>0</td>\n",
       "      <td>1</td>\n",
       "      <td>0</td>\n",
       "      <td>0</td>\n",
       "      <td>3.0</td>\n",
       "      <td>1</td>\n",
       "    </tr>\n",
       "    <tr>\n",
       "      <th>76188</th>\n",
       "      <td>2e09a7224600a7cd</td>\n",
       "      <td>1389798400</td>\n",
       "      <td>1900</td>\n",
       "      <td>Computer_programming;Linguistics;Culture;Popul...</td>\n",
       "      <td>NaN</td>\n",
       "      <td>[nan]</td>\n",
       "      <td>380.000000</td>\n",
       "      <td>NaN</td>\n",
       "      <td>NaN</td>\n",
       "      <td>2530.250000</td>\n",
       "      <td>...</td>\n",
       "      <td>The_Beatles</td>\n",
       "      <td>0</td>\n",
       "      <td>timeout</td>\n",
       "      <td>1</td>\n",
       "      <td>0</td>\n",
       "      <td>4</td>\n",
       "      <td>1</td>\n",
       "      <td>1</td>\n",
       "      <td>3.0</td>\n",
       "      <td>3</td>\n",
       "    </tr>\n",
       "    <tr>\n",
       "      <th>76189</th>\n",
       "      <td>60af9e2138051b96</td>\n",
       "      <td>1389799481</td>\n",
       "      <td>1903</td>\n",
       "      <td>Jamaica;United_Kingdom;World_War_II;Battle_of_...</td>\n",
       "      <td>NaN</td>\n",
       "      <td>[0.022271304988036075, 0.11418921283819257, 0....</td>\n",
       "      <td>475.750000</td>\n",
       "      <td>0.059351</td>\n",
       "      <td>0.114189</td>\n",
       "      <td>8661.250000</td>\n",
       "      <td>...</td>\n",
       "      <td>Alan_Turing</td>\n",
       "      <td>0</td>\n",
       "      <td>timeout</td>\n",
       "      <td>3</td>\n",
       "      <td>2</td>\n",
       "      <td>4</td>\n",
       "      <td>3</td>\n",
       "      <td>1</td>\n",
       "      <td>3.0</td>\n",
       "      <td>4</td>\n",
       "    </tr>\n",
       "    <tr>\n",
       "      <th>76190</th>\n",
       "      <td>1cf0cbb3281049ab</td>\n",
       "      <td>1389822841</td>\n",
       "      <td>352</td>\n",
       "      <td>Mark_Antony;Rome;Tennis;Hawk-Eye;Computer</td>\n",
       "      <td>NaN</td>\n",
       "      <td>[0.9460089518836255, 0.9815434487085642, 0.286...</td>\n",
       "      <td>70.400000</td>\n",
       "      <td>0.578810</td>\n",
       "      <td>0.981543</td>\n",
       "      <td>4837.000000</td>\n",
       "      <td>...</td>\n",
       "      <td>Feather</td>\n",
       "      <td>0</td>\n",
       "      <td>restart</td>\n",
       "      <td>3</td>\n",
       "      <td>3</td>\n",
       "      <td>5</td>\n",
       "      <td>3</td>\n",
       "      <td>2</td>\n",
       "      <td>3.0</td>\n",
       "      <td>4</td>\n",
       "    </tr>\n",
       "  </tbody>\n",
       "</table>\n",
       "<p>76186 rows × 22 columns</p>\n",
       "</div>"
      ],
      "text/plain": [
       "        hashedIpAddress   timestamp  durationInSec  \\\n",
       "5      36dabfa133b20e3c  1249525912            112   \n",
       "6      20418ff4797f96be  1229188046            139   \n",
       "7      08888b1b428dd90e  1232241510             74   \n",
       "8      08888b1b428dd90e  1232241601            167   \n",
       "9      4cb0068c36658716  1248654953            253   \n",
       "...                 ...         ...            ...   \n",
       "76186  109ed71f571d86e9  1389787605            180   \n",
       "76187  232f992e57d43e8d  1389787697              6   \n",
       "76188  2e09a7224600a7cd  1389798400           1900   \n",
       "76189  60af9e2138051b96  1389799481           1903   \n",
       "76190  1cf0cbb3281049ab  1389822841            352   \n",
       "\n",
       "                                                    path  rating  \\\n",
       "5                      14th_century;China;Gunpowder;Fire     2.0   \n",
       "6      14th_century;Time;Isaac_Newton;Light;Color;Rai...     1.0   \n",
       "7                        14th_century;Time;Light;Rainbow     3.0   \n",
       "8      14th_century;15th_century;Plato;Nature;Ultravi...     NaN   \n",
       "9      14th_century;Time;Science;Nature;Weather;Sunli...     3.0   \n",
       "...                                                  ...     ...   \n",
       "76186  Franz_Kafka;Tuberculosis;World_Health_Organiza...     NaN   \n",
       "76187                                     Modern_history     NaN   \n",
       "76188  Computer_programming;Linguistics;Culture;Popul...     NaN   \n",
       "76189  Jamaica;United_Kingdom;World_War_II;Battle_of_...     NaN   \n",
       "76190          Mark_Antony;Rome;Tennis;Hawk-Eye;Computer     NaN   \n",
       "\n",
       "                                          link_positions  avg_duration  \\\n",
       "5      [0.23953766440813073, 0.04771249846682203, 0.0...     28.000000   \n",
       "6      [0.09485850936628139, 0.0131067377449998, 0.04...     23.166667   \n",
       "7      [0.09485850936628139, 0.8127379854904004, 0.19...     18.500000   \n",
       "8      [0.036667995217218016, 0.53650998068255, 0.290...     23.857143   \n",
       "9                                                  [nan]     19.461538   \n",
       "...                                                  ...           ...   \n",
       "76186                                              [nan]     22.500000   \n",
       "76187                                              [nan]      6.000000   \n",
       "76188                                              [nan]    380.000000   \n",
       "76189  [0.022271304988036075, 0.11418921283819257, 0....    475.750000   \n",
       "76190  [0.9460089518836255, 0.9815434487085642, 0.286...     70.400000   \n",
       "\n",
       "       avg_position  max_position  avg_article_length  ...       target  \\\n",
       "5          0.103473      0.239538         2544.250000  ...         Fire   \n",
       "6          0.061306      0.129126         3727.833333  ...      Rainbow   \n",
       "7          0.366163      0.812738         3251.250000  ...      Rainbow   \n",
       "8          0.211931      0.536510         3251.428571  ...      Rainbow   \n",
       "9               NaN           NaN         3476.250000  ...      Rainbow   \n",
       "...             ...           ...                 ...  ...          ...   \n",
       "76186           NaN           NaN         3238.285714  ...      Cholera   \n",
       "76187           NaN           NaN         3773.000000  ...    Hollandic   \n",
       "76188           NaN           NaN         2530.250000  ...  The_Beatles   \n",
       "76189      0.059351      0.114189         8661.250000  ...  Alan_Turing   \n",
       "76190      0.578810      0.981543         4837.000000  ...      Feather   \n",
       "\n",
       "      path_finished     type  Degree Hub Count Betweenness Hub Count  \\\n",
       "5                 1      NaN                 3                     1   \n",
       "6                 1      NaN                 5                     0   \n",
       "7                 1      NaN                 3                     0   \n",
       "8                 1      NaN                 6                     0   \n",
       "9                 1      NaN                10                     2   \n",
       "...             ...      ...               ...                   ...   \n",
       "76186             0  restart                 6                     0   \n",
       "76187             0  restart                 1                     0   \n",
       "76188             0  timeout                 1                     0   \n",
       "76189             0  timeout                 3                     2   \n",
       "76190             0  restart                 3                     3   \n",
       "\n",
       "       Closeness Hub Count  Eigenvector Hub Count  Clustering Hub Count  \\\n",
       "5                        4                      2                     0   \n",
       "6                        6                      1                     0   \n",
       "7                        4                      1                     0   \n",
       "8                        7                      2                     0   \n",
       "9                       12                      2                     0   \n",
       "...                    ...                    ...                   ...   \n",
       "76186                    7                      4                     3   \n",
       "76187                    1                      0                     0   \n",
       "76188                    4                      1                     1   \n",
       "76189                    4                      3                     1   \n",
       "76190                    5                      3                     2   \n",
       "\n",
       "       shortest_path  unique_categories  \n",
       "5                3.0                  3  \n",
       "6                3.0                  4  \n",
       "7                3.0                  3  \n",
       "8                3.0                  5  \n",
       "9                3.0                  6  \n",
       "...              ...                ...  \n",
       "76186            3.0                  5  \n",
       "76187            3.0                  1  \n",
       "76188            3.0                  3  \n",
       "76189            3.0                  4  \n",
       "76190            3.0                  4  \n",
       "\n",
       "[76186 rows x 22 columns]"
      ]
     },
     "execution_count": 45,
     "metadata": {},
     "output_type": "execute_result"
    }
   ],
   "source": [
    "df_player"
   ]
  },
  {
   "cell_type": "code",
   "execution_count": null,
   "metadata": {},
   "outputs": [],
   "source": []
  },
  {
   "cell_type": "code",
   "execution_count": null,
   "metadata": {},
   "outputs": [],
   "source": []
  },
  {
   "cell_type": "code",
   "execution_count": null,
   "metadata": {},
   "outputs": [],
   "source": []
  },
  {
   "cell_type": "markdown",
   "metadata": {},
   "source": [
    "# More analysis of centrality measures and categories"
   ]
  },
  {
   "cell_type": "code",
   "execution_count": 46,
   "metadata": {},
   "outputs": [
    {
     "data": {
      "image/png": "[encoded data removed]",
      "text/plain": [
       "<Figure size 640x480 with 2 Axes>"
      ]
     },
     "metadata": {},
     "output_type": "display_data"
    }
   ],
   "source": [
    "centrality_cols = ['Degree Centrality', 'Betweenness Centrality', 'Closeness Centrality', 'Eigenvector Centrality', 'Directed Clustering Coefficients']\n",
    "correlation_matrix = centrality_df_links[centrality_cols].corr()\n",
    "\n",
    "# Plotting the correlation matrix\n",
    "sns.heatmap(correlation_matrix, annot=True)\n",
    "plt.title('Correlation between different centrality measures')\n",
    "plt.show()"
   ]
  },
  {
   "cell_type": "code",
   "execution_count": null,
   "metadata": {},
   "outputs": [],
   "source": []
  },
  {
   "cell_type": "markdown",
   "metadata": {},
   "source": [
    "Closeness centrality and directed clustering coefficients are notably different from the other three measures"
   ]
  },
  {
   "cell_type": "code",
   "execution_count": 47,
   "metadata": {},
   "outputs": [],
   "source": [
    "df_player['hashedIpAddress'] = df_player['hashedIpAddress'].astype(str)"
   ]
  },
  {
   "cell_type": "code",
   "execution_count": 48,
   "metadata": {},
   "outputs": [
    {
     "data": {
      "text/plain": [
       "5        3\n",
       "6        4\n",
       "7        3\n",
       "8        5\n",
       "9        6\n",
       "        ..\n",
       "76186    5\n",
       "76187    1\n",
       "76188    3\n",
       "76189    4\n",
       "76190    4\n",
       "Name: unique_categories, Length: 76186, dtype: int64"
      ]
     },
     "execution_count": 48,
     "metadata": {},
     "output_type": "execute_result"
    }
   ],
   "source": [
    "\n",
    "df_player['unique_categories']"
   ]
  },
  {
   "cell_type": "code",
   "execution_count": 49,
   "metadata": {},
   "outputs": [
    {
     "data": {
      "text/plain": [
       "5        36dabfa133b20e3c\n",
       "6        20418ff4797f96be\n",
       "7        08888b1b428dd90e\n",
       "8        08888b1b428dd90e\n",
       "9        4cb0068c36658716\n",
       "               ...       \n",
       "76186    109ed71f571d86e9\n",
       "76187    232f992e57d43e8d\n",
       "76188    2e09a7224600a7cd\n",
       "76189    60af9e2138051b96\n",
       "76190    1cf0cbb3281049ab\n",
       "Name: hashedIpAddress, Length: 76186, dtype: object"
      ]
     },
     "execution_count": 49,
     "metadata": {},
     "output_type": "execute_result"
    }
   ],
   "source": [
    "df_player[\"hashedIpAddress\"].apply(str)"
   ]
  },
  {
   "cell_type": "code",
   "execution_count": 133,
   "metadata": {
    "scrolled": false
   },
   "outputs": [
    {
     "name": "stdout",
     "output_type": "stream",
     "text": [
      "                            OLS Regression Results                            \n",
      "==============================================================================\n",
      "Dep. Variable:          path_finished   R-squared:                       0.026\n",
      "Model:                            OLS   Adj. R-squared:                  0.026\n",
      "Method:                 Least Squares   F-statistic:                     2052.\n",
      "Date:                Thu, 21 Dec 2023   Prob (F-statistic):               0.00\n",
      "Time:                        10:47:47   Log-Likelihood:                -49395.\n",
      "No. Observations:               76186   AIC:                         9.879e+04\n",
      "Df Residuals:                   76184   BIC:                         9.881e+04\n",
      "Df Model:                           1                                         \n",
      "Covariance Type:            nonrobust                                         \n",
      "===============================================================================================\n",
      "                                  coef    std err          t      P>|t|      [0.025      0.975]\n",
      "-----------------------------------------------------------------------------------------------\n",
      "Intercept                       0.5011      0.004    120.457      0.000       0.493       0.509\n",
      "Degree_Hub_Count_Percentage     0.3030      0.007     45.295      0.000       0.290       0.316\n",
      "==============================================================================\n",
      "Omnibus:                  1873566.630   Durbin-Watson:                   0.042\n",
      "Prob(Omnibus):                  0.000   Jarque-Bera (JB):            12660.089\n",
      "Skew:                          -0.745   Prob(JB):                         0.00\n",
      "Kurtosis:                       1.670   Cond. No.                         5.35\n",
      "==============================================================================\n",
      "\n",
      "Notes:\n",
      "[1] Standard Errors assume that the covariance matrix of the errors is correctly specified.\n",
      "                            OLS Regression Results                            \n",
      "==============================================================================\n",
      "Dep. Variable:          path_finished   R-squared:                       0.023\n",
      "Model:                            OLS   Adj. R-squared:                  0.023\n",
      "Method:                 Least Squares   F-statistic:                     1827.\n",
      "Date:                Thu, 21 Dec 2023   Prob (F-statistic):               0.00\n",
      "Time:                        10:47:47   Log-Likelihood:                -49505.\n",
      "No. Observations:               76186   AIC:                         9.901e+04\n",
      "Df Residuals:                   76184   BIC:                         9.903e+04\n",
      "Df Model:                           1                                         \n",
      "Covariance Type:            nonrobust                                         \n",
      "====================================================================================================\n",
      "                                       coef    std err          t      P>|t|      [0.025      0.975]\n",
      "----------------------------------------------------------------------------------------------------\n",
      "Intercept                            0.5655      0.003    186.326      0.000       0.560       0.571\n",
      "Betweenness_Hub_Count_Percentage     0.3202      0.007     42.742      0.000       0.305       0.335\n",
      "==============================================================================\n",
      "Omnibus:                  1442519.554   Durbin-Watson:                   0.039\n",
      "Prob(Omnibus):                  0.000   Jarque-Bera (JB):            12662.628\n",
      "Skew:                          -0.736   Prob(JB):                         0.00\n",
      "Kurtosis:                       1.650   Cond. No.                         4.99\n",
      "==============================================================================\n",
      "\n",
      "Notes:\n",
      "[1] Standard Errors assume that the covariance matrix of the errors is correctly specified.\n",
      "                            OLS Regression Results                            \n",
      "==============================================================================\n",
      "Dep. Variable:          path_finished   R-squared:                       0.008\n",
      "Model:                            OLS   Adj. R-squared:                  0.008\n",
      "Method:                 Least Squares   F-statistic:                     640.3\n",
      "Date:                Thu, 21 Dec 2023   Prob (F-statistic):          1.10e-140\n",
      "Time:                        10:47:47   Log-Likelihood:                -50088.\n",
      "No. Observations:               76186   AIC:                         1.002e+05\n",
      "Df Residuals:                   76184   BIC:                         1.002e+05\n",
      "Df Model:                           1                                         \n",
      "Covariance Type:            nonrobust                                         \n",
      "==================================================================================================\n",
      "                                     coef    std err          t      P>|t|      [0.025      0.975]\n",
      "--------------------------------------------------------------------------------------------------\n",
      "Intercept                          0.2180      0.018     12.055      0.000       0.183       0.253\n",
      "Closeness_Hub_Count_Percentage     0.4737      0.019     25.304      0.000       0.437       0.510\n",
      "==============================================================================\n",
      "Omnibus:                   631025.831   Durbin-Watson:                   0.015\n",
      "Prob(Omnibus):                  0.000   Jarque-Bera (JB):            13304.191\n",
      "Skew:                          -0.738   Prob(JB):                         0.00\n",
      "Kurtosis:                       1.582   Cond. No.                         21.3\n",
      "==============================================================================\n",
      "\n",
      "Notes:\n",
      "[1] Standard Errors assume that the covariance matrix of the errors is correctly specified.\n",
      "                            OLS Regression Results                            \n",
      "==============================================================================\n",
      "Dep. Variable:          path_finished   R-squared:                       0.016\n",
      "Model:                            OLS   Adj. R-squared:                  0.016\n",
      "Method:                 Least Squares   F-statistic:                     1266.\n",
      "Date:                Thu, 21 Dec 2023   Prob (F-statistic):          4.65e-275\n",
      "Time:                        10:47:47   Log-Likelihood:                -49779.\n",
      "No. Observations:               76186   AIC:                         9.956e+04\n",
      "Df Residuals:                   76184   BIC:                         9.958e+04\n",
      "Df Model:                           1                                         \n",
      "Covariance Type:            nonrobust                                         \n",
      "====================================================================================================\n",
      "                                       coef    std err          t      P>|t|      [0.025      0.975]\n",
      "----------------------------------------------------------------------------------------------------\n",
      "Intercept                            0.5847      0.003    194.078      0.000       0.579       0.591\n",
      "Eigenvector_Hub_Count_Percentage     0.2201      0.006     35.583      0.000       0.208       0.232\n",
      "==============================================================================\n",
      "Omnibus:                   780138.782   Durbin-Watson:                   0.025\n",
      "Prob(Omnibus):                  0.000   Jarque-Bera (JB):            12935.420\n",
      "Skew:                          -0.733   Prob(JB):                         0.00\n",
      "Kurtosis:                       1.612   Cond. No.                         4.31\n",
      "==============================================================================\n",
      "\n",
      "Notes:\n",
      "[1] Standard Errors assume that the covariance matrix of the errors is correctly specified.\n",
      "                            OLS Regression Results                            \n",
      "==============================================================================\n",
      "Dep. Variable:          path_finished   R-squared:                       0.002\n",
      "Model:                            OLS   Adj. R-squared:                  0.002\n",
      "Method:                 Least Squares   F-statistic:                     144.3\n",
      "Date:                Thu, 21 Dec 2023   Prob (F-statistic):           3.33e-33\n",
      "Time:                        10:47:47   Log-Likelihood:                -50335.\n",
      "No. Observations:               76186   AIC:                         1.007e+05\n",
      "Df Residuals:                   76184   BIC:                         1.007e+05\n",
      "Df Model:                           1                                         \n",
      "Covariance Type:            nonrobust                                         \n",
      "===================================================================================================\n",
      "                                      coef    std err          t      P>|t|      [0.025      0.975]\n",
      "---------------------------------------------------------------------------------------------------\n",
      "Intercept                           0.6978      0.003    264.484      0.000       0.693       0.703\n",
      "Clustering_Hub_Count_Percentage    -0.0850      0.007    -12.011      0.000      -0.099      -0.071\n",
      "==============================================================================\n",
      "Omnibus:                   560443.756   Durbin-Watson:                   0.003\n",
      "Prob(Omnibus):                  0.000   Jarque-Bera (JB):            13576.613\n",
      "Skew:                          -0.741   Prob(JB):                         0.00\n",
      "Kurtosis:                       1.557   Cond. No.                         4.53\n",
      "==============================================================================\n",
      "\n",
      "Notes:\n",
      "[1] Standard Errors assume that the covariance matrix of the errors is correctly specified.\n"
     ]
    },
    {
     "data": {
      "image/png": "[encoded data removed]",
      "text/plain": [
       "<Figure size 600x100 with 2 Axes>"
      ]
     },
     "metadata": {},
     "output_type": "display_data"
    }
   ],
   "source": [
    "\n",
    "df_player.columns = df_player.columns.str.replace(' ', '_')\n",
    "\n",
    "hub_counts = [\"Degree_Hub_Count\", \"Betweenness_Hub_Count\", \"Closeness_Hub_Count\", \n",
    "              \"Eigenvector_Hub_Count\", \"Clustering_Hub_Count\"]\n",
    "\n",
    "for hub_count in hub_counts:\n",
    "    df_player[hub_count + \"_Percentage\"] = df_player[hub_count] / df_player['path_length']\n",
    "\n",
    "\n",
    "coefficients = pd.DataFrame(columns=['coefficient'])\n",
    "\n",
    "for hub_count in hub_counts:\n",
    "    model = smf.ols(f\"path_finished ~ {hub_count}_Percentage\", df_player[df_player.path_finished<=1])\n",
    "    result = model.fit()\n",
    "    print(result.summary())\n",
    "    coefficients.loc[f'{hub_count}_Percentage', 'coefficient'] = result.params[f'{hub_count}_Percentage']\n",
    "coefficients['coefficient'] = coefficients['coefficient'].astype(float)\n",
    "coefficients_finish = coefficients\n",
    "plt.figure(figsize=(6, 1))\n",
    "sns.heatmap(coefficients.transpose(), annot=True, fmt=\".2f\")\n",
    "plt.title('Heatmap of Linear Regression Coefficients')\n",
    "plt.ylabel('Hub Count Metrics')\n",
    "plt.show()\n"
   ]
  },
  {
   "cell_type": "code",
   "execution_count": 177,
   "metadata": {},
   "outputs": [
    {
     "name": "stdout",
     "output_type": "stream",
     "text": [
      "                            OLS Regression Results                            \n",
      "==============================================================================\n",
      "Dep. Variable:          durationInSec   R-squared:                       0.005\n",
      "Model:                            OLS   Adj. R-squared:                  0.005\n",
      "Method:                 Least Squares   F-statistic:                     273.5\n",
      "Date:                Thu, 21 Dec 2023   Prob (F-statistic):           2.78e-61\n",
      "Time:                        11:00:31   Log-Likelihood:            -3.7482e+05\n",
      "No. Observations:               51312   AIC:                         7.496e+05\n",
      "Df Residuals:                   51310   BIC:                         7.497e+05\n",
      "Df Model:                           1                                         \n",
      "Covariance Type:            nonrobust                                         \n",
      "===============================================================================================\n",
      "                                  coef    std err          t      P>|t|      [0.025      0.975]\n",
      "-----------------------------------------------------------------------------------------------\n",
      "Intercept                     234.6978      4.886     48.035      0.000     225.121     244.274\n",
      "Degree_Hub_Count_Percentage  -127.9044      7.734    -16.539      0.000    -143.062    -112.747\n",
      "==============================================================================\n",
      "Omnibus:                   161841.824   Durbin-Watson:                   1.971\n",
      "Prob(Omnibus):                  0.000   Jarque-Bera (JB):      34072161785.770\n",
      "Skew:                          50.265   Prob(JB):                         0.00\n",
      "Kurtosis:                    3993.784   Cond. No.                         6.66\n",
      "==============================================================================\n",
      "\n",
      "Notes:\n",
      "[1] Standard Errors assume that the covariance matrix of the errors is correctly specified.\n",
      "                            OLS Regression Results                            \n",
      "==============================================================================\n",
      "Dep. Variable:          durationInSec   R-squared:                       0.004\n",
      "Model:                            OLS   Adj. R-squared:                  0.004\n",
      "Method:                 Least Squares   F-statistic:                     219.5\n",
      "Date:                Thu, 21 Dec 2023   Prob (F-statistic):           1.45e-49\n",
      "Time:                        11:00:31   Log-Likelihood:            -3.7485e+05\n",
      "No. Observations:               51312   AIC:                         7.497e+05\n",
      "Df Residuals:                   51310   BIC:                         7.497e+05\n",
      "Df Model:                           1                                         \n",
      "Covariance Type:            nonrobust                                         \n",
      "====================================================================================================\n",
      "                                       coef    std err          t      P>|t|      [0.025      0.975]\n",
      "----------------------------------------------------------------------------------------------------\n",
      "Intercept                          201.2627      3.308     60.842      0.000     194.779     207.746\n",
      "Betweenness_Hub_Count_Percentage  -118.9455      8.028    -14.817      0.000    -134.680    -103.211\n",
      "==============================================================================\n",
      "Omnibus:                   161785.164   Durbin-Watson:                   1.969\n",
      "Prob(Omnibus):                  0.000   Jarque-Bera (JB):      33989521759.681\n",
      "Skew:                          50.215   Prob(JB):                         0.00\n",
      "Kurtosis:                    3988.941   Cond. No.                         5.73\n",
      "==============================================================================\n",
      "\n",
      "Notes:\n",
      "[1] Standard Errors assume that the covariance matrix of the errors is correctly specified.\n",
      "                            OLS Regression Results                            \n",
      "==============================================================================\n",
      "Dep. Variable:          durationInSec   R-squared:                       0.022\n",
      "Model:                            OLS   Adj. R-squared:                  0.022\n",
      "Method:                 Least Squares   F-statistic:                     1160.\n",
      "Date:                Thu, 21 Dec 2023   Prob (F-statistic):          2.28e-251\n",
      "Time:                        11:00:31   Log-Likelihood:            -3.7439e+05\n",
      "No. Observations:               51312   AIC:                         7.488e+05\n",
      "Df Residuals:                   51310   BIC:                         7.488e+05\n",
      "Df Model:                           1                                         \n",
      "Covariance Type:            nonrobust                                         \n",
      "==================================================================================================\n",
      "                                     coef    std err          t      P>|t|      [0.025      0.975]\n",
      "--------------------------------------------------------------------------------------------------\n",
      "Intercept                        828.8445     19.754     41.958      0.000     790.126     867.563\n",
      "Closeness_Hub_Count_Percentage  -693.2262     20.357    -34.054      0.000    -733.125    -653.327\n",
      "==============================================================================\n",
      "Omnibus:                   163488.434   Durbin-Watson:                   1.972\n",
      "Prob(Omnibus):                  0.000   Jarque-Bera (JB):      36937250443.365\n",
      "Skew:                          51.735   Prob(JB):                         0.00\n",
      "Kurtosis:                    4158.218   Cond. No.                         25.1\n",
      "==============================================================================\n",
      "\n",
      "Notes:\n",
      "[1] Standard Errors assume that the covariance matrix of the errors is correctly specified.\n",
      "                            OLS Regression Results                            \n",
      "==============================================================================\n",
      "Dep. Variable:          durationInSec   R-squared:                       0.004\n",
      "Model:                            OLS   Adj. R-squared:                  0.004\n",
      "Method:                 Least Squares   F-statistic:                     186.8\n",
      "Date:                Thu, 21 Dec 2023   Prob (F-statistic):           1.86e-42\n",
      "Time:                        11:00:31   Log-Likelihood:            -3.7487e+05\n",
      "No. Observations:               51312   AIC:                         7.497e+05\n",
      "Df Residuals:                   51310   BIC:                         7.498e+05\n",
      "Df Model:                           1                                         \n",
      "Covariance Type:            nonrobust                                         \n",
      "====================================================================================================\n",
      "                                       coef    std err          t      P>|t|      [0.025      0.975]\n",
      "----------------------------------------------------------------------------------------------------\n",
      "Intercept                          195.5593      3.157     61.943      0.000     189.371     201.747\n",
      "Eigenvector_Hub_Count_Percentage   -87.1048      6.373    -13.668      0.000     -99.595     -74.614\n",
      "==============================================================================\n",
      "Omnibus:                   161773.774   Durbin-Watson:                   1.968\n",
      "Prob(Omnibus):                  0.000   Jarque-Bera (JB):      33979627391.732\n",
      "Skew:                          50.205   Prob(JB):                         0.00\n",
      "Kurtosis:                    3988.361   Cond. No.                         4.78\n",
      "==============================================================================\n",
      "\n",
      "Notes:\n",
      "[1] Standard Errors assume that the covariance matrix of the errors is correctly specified.\n",
      "                            OLS Regression Results                            \n",
      "==============================================================================\n",
      "Dep. Variable:          durationInSec   R-squared:                       0.000\n",
      "Model:                            OLS   Adj. R-squared:                  0.000\n",
      "Method:                 Least Squares   F-statistic:                     11.91\n",
      "Date:                Thu, 21 Dec 2023   Prob (F-statistic):           0.000557\n",
      "Time:                        11:00:31   Log-Likelihood:            -3.7495e+05\n",
      "No. Observations:               51312   AIC:                         7.499e+05\n",
      "Df Residuals:                   51310   BIC:                         7.499e+05\n",
      "Df Model:                           1                                         \n",
      "Covariance Type:            nonrobust                                         \n",
      "===================================================================================================\n",
      "                                      coef    std err          t      P>|t|      [0.025      0.975]\n",
      "---------------------------------------------------------------------------------------------------\n",
      "Intercept                         166.2528      2.806     59.258      0.000     160.754     171.752\n",
      "Clustering_Hub_Count_Percentage   -28.6528      8.301     -3.452      0.001     -44.923     -12.383\n",
      "==============================================================================\n",
      "Omnibus:                   161548.254   Durbin-Watson:                   1.964\n",
      "Prob(Omnibus):                  0.000   Jarque-Bera (JB):      33594375481.958\n",
      "Skew:                          50.007   Prob(JB):                         0.00\n",
      "Kurtosis:                    3965.700   Cond. No.                         5.63\n",
      "==============================================================================\n",
      "\n",
      "Notes:\n",
      "[1] Standard Errors assume that the covariance matrix of the errors is correctly specified.\n"
     ]
    },
    {
     "data": {
      "image/png": "[encoded data removed]",
      "text/plain": [
       "<Figure size 600x100 with 2 Axes>"
      ]
     },
     "metadata": {},
     "output_type": "display_data"
    }
   ],
   "source": [
    "\n",
    "df_player.columns = df_player.columns.str.replace(' ', '_')\n",
    "\n",
    "hub_counts = [\"Degree_Hub_Count\", \"Betweenness_Hub_Count\", \"Closeness_Hub_Count\", \n",
    "              \"Eigenvector_Hub_Count\", \"Clustering_Hub_Count\"]\n",
    "\n",
    "for hub_count in hub_counts:\n",
    "    df_player[hub_count + \"_Percentage\"] = df_player[hub_count] / df_player['path_length']\n",
    "\n",
    "\n",
    "coefficients = pd.DataFrame(columns=['coefficient'])\n",
    "\n",
    "for hub_count in hub_counts:\n",
    "    model = smf.ols(f\"durationInSec ~ {hub_count}_Percentage\", df_player[df_player.path_finished==1])\n",
    "    result = model.fit()\n",
    "    print(result.summary())\n",
    "    coefficients.loc[f'{hub_count}_Percentage', 'coefficient'] = result.params[f'{hub_count}_Percentage']\n",
    "coefficients['coefficient'] = coefficients['coefficient'].astype(float)\n",
    "coefficients_duration = coefficients\n",
    "plt.figure(figsize=(6, 1))\n",
    "sns.heatmap(coefficients.transpose(), annot=True, fmt=\".2f\")\n",
    "plt.title('Heatmap of Linear Regression Coefficients')\n",
    "plt.ylabel('Hub Count Metrics')\n",
    "plt.show()\n"
   ]
  },
  {
   "cell_type": "code",
   "execution_count": 181,
   "metadata": {},
   "outputs": [
    {
     "data": {
      "application/vnd.plotly.v1+json": {
       "config": {
        "plotlyServerURL": "https://plot.ly"
       },
       "data": [
        {
         "colorbar": {
          "len": 0.45,
          "y": 0.2
         },
         "reversescale": true,
         "text": [
          [
           -127.9,
           -118.95,
           -693.23,
           -87.1,
           -28.65
          ]
         ],
         "texttemplate": "%{text}",
         "type": "heatmap",
         "x": [
          "Degree Hub Percentage",
          "Betweenness Hub Percentage",
          "Closeness Hub Percentage",
          "Eigenvector Hub Percentage",
          "Clustering Hub Percentage"
         ],
         "xaxis": "x2",
         "y": [
          "coefficient"
         ],
         "yaxis": "y2",
         "z": [
          [
           -127.9044250224189,
           -118.94550612973453,
           -693.2261674272681,
           -87.10477461033764,
           -28.6528150607002
          ]
         ]
        },
        {
         "colorbar": {
          "len": 0.45,
          "y": 0.7
         },
         "text": [
          [
           0.3,
           0.32,
           0.47,
           0.22,
           -0.08
          ]
         ],
         "texttemplate": "%{text}",
         "type": "heatmap",
         "x": [
          "Degree Hub Percentage",
          "Betweenness Hub Percentage",
          "Closeness Hub Percentage",
          "Eigenvector Hub Percentage",
          "Clustering Hub Percentage"
         ],
         "xaxis": "x",
         "y": [
          ""
         ],
         "yaxis": "y",
         "z": [
          [
           0.30295039188751216,
           0.32018209762834793,
           0.47374825052735636,
           0.22009436982569852,
           -0.08497339679960998
          ]
         ]
        }
       ],
       "layout": {
        "annotations": [
         {
          "font": {
           "size": 16
          },
          "showarrow": false,
          "text": "Coefficients for Duration",
          "x": 0.5,
          "xanchor": "center",
          "xref": "paper",
          "y": 1,
          "yanchor": "bottom",
          "yref": "paper"
         },
         {
          "font": {
           "size": 16
          },
          "showarrow": false,
          "text": "Coefficients for Finished",
          "x": 0.5,
          "xanchor": "center",
          "xref": "paper",
          "y": 0.4,
          "yanchor": "bottom",
          "yref": "paper"
         }
        ],
        "height": 500,
        "template": {
         "data": {
          "bar": [
           {
            "error_x": {
             "color": "#2a3f5f"
            },
            "error_y": {
             "color": "#2a3f5f"
            },
            "marker": {
             "line": {
              "color": "#E5ECF6",
              "width": 0.5
             },
             "pattern": {
              "fillmode": "overlay",
              "size": 10,
              "solidity": 0.2
             }
            },
            "type": "bar"
           }
          ],
          "barpolar": [
           {
            "marker": {
             "line": {
              "color": "#E5ECF6",
              "width": 0.5
             },
             "pattern": {
              "fillmode": "overlay",
              "size": 10,
              "solidity": 0.2
             }
            },
            "type": "barpolar"
           }
          ],
          "carpet": [
           {
            "aaxis": {
             "endlinecolor": "#2a3f5f",
             "gridcolor": "white",
             "linecolor": "white",
             "minorgridcolor": "white",
             "startlinecolor": "#2a3f5f"
            },
            "baxis": {
             "endlinecolor": "#2a3f5f",
             "gridcolor": "white",
             "linecolor": "white",
             "minorgridcolor": "white",
             "startlinecolor": "#2a3f5f"
            },
            "type": "carpet"
           }
          ],
          "choropleth": [
           {
            "colorbar": {
             "outlinewidth": 0,
             "ticks": ""
            },
            "type": "choropleth"
           }
          ],
          "contour": [
           {
            "colorbar": {
             "outlinewidth": 0,
             "ticks": ""
            },
            "colorscale": [
             [
              0,
              "#0d0887"
             ],
             [
              0.1111111111111111,
              "#46039f"
             ],
             [
              0.2222222222222222,
              "#7201a8"
             ],
             [
              0.3333333333333333,
              "#9c179e"
             ],
             [
              0.4444444444444444,
              "#bd3786"
             ],
             [
              0.5555555555555556,
              "#d8576b"
             ],
             [
              0.6666666666666666,
              "#ed7953"
             ],
             [
              0.7777777777777778,
              "#fb9f3a"
             ],
             [
              0.8888888888888888,
              "#fdca26"
             ],
             [
              1,
              "#f0f921"
             ]
            ],
            "type": "contour"
           }
          ],
          "contourcarpet": [
           {
            "colorbar": {
             "outlinewidth": 0,
             "ticks": ""
            },
            "type": "contourcarpet"
           }
          ],
          "heatmap": [
           {
            "colorbar": {
             "outlinewidth": 0,
             "ticks": ""
            },
            "colorscale": [
             [
              0,
              "#0d0887"
             ],
             [
              0.1111111111111111,
              "#46039f"
             ],
             [
              0.2222222222222222,
              "#7201a8"
             ],
             [
              0.3333333333333333,
              "#9c179e"
             ],
             [
              0.4444444444444444,
              "#bd3786"
             ],
             [
              0.5555555555555556,
              "#d8576b"
             ],
             [
              0.6666666666666666,
              "#ed7953"
             ],
             [
              0.7777777777777778,
              "#fb9f3a"
             ],
             [
              0.8888888888888888,
              "#fdca26"
             ],
             [
              1,
              "#f0f921"
             ]
            ],
            "type": "heatmap"
           }
          ],
          "heatmapgl": [
           {
            "colorbar": {
             "outlinewidth": 0,
             "ticks": ""
            },
            "colorscale": [
             [
              0,
              "#0d0887"
             ],
             [
              0.1111111111111111,
              "#46039f"
             ],
             [
              0.2222222222222222,
              "#7201a8"
             ],
             [
              0.3333333333333333,
              "#9c179e"
             ],
             [
              0.4444444444444444,
              "#bd3786"
             ],
             [
              0.5555555555555556,
              "#d8576b"
             ],
             [
              0.6666666666666666,
              "#ed7953"
             ],
             [
              0.7777777777777778,
              "#fb9f3a"
             ],
             [
              0.8888888888888888,
              "#fdca26"
             ],
             [
              1,
              "#f0f921"
             ]
            ],
            "type": "heatmapgl"
           }
          ],
          "histogram": [
           {
            "marker": {
             "pattern": {
              "fillmode": "overlay",
              "size": 10,
              "solidity": 0.2
             }
            },
            "type": "histogram"
           }
          ],
          "histogram2d": [
           {
            "colorbar": {
             "outlinewidth": 0,
             "ticks": ""
            },
            "colorscale": [
             [
              0,
              "#0d0887"
             ],
             [
              0.1111111111111111,
              "#46039f"
             ],
             [
              0.2222222222222222,
              "#7201a8"
             ],
             [
              0.3333333333333333,
              "#9c179e"
             ],
             [
              0.4444444444444444,
              "#bd3786"
             ],
             [
              0.5555555555555556,
              "#d8576b"
             ],
             [
              0.6666666666666666,
              "#ed7953"
             ],
             [
              0.7777777777777778,
              "#fb9f3a"
             ],
             [
              0.8888888888888888,
              "#fdca26"
             ],
             [
              1,
              "#f0f921"
             ]
            ],
            "type": "histogram2d"
           }
          ],
          "histogram2dcontour": [
           {
            "colorbar": {
             "outlinewidth": 0,
             "ticks": ""
            },
            "colorscale": [
             [
              0,
              "#0d0887"
             ],
             [
              0.1111111111111111,
              "#46039f"
             ],
             [
              0.2222222222222222,
              "#7201a8"
             ],
             [
              0.3333333333333333,
              "#9c179e"
             ],
             [
              0.4444444444444444,
              "#bd3786"
             ],
             [
              0.5555555555555556,
              "#d8576b"
             ],
             [
              0.6666666666666666,
              "#ed7953"
             ],
             [
              0.7777777777777778,
              "#fb9f3a"
             ],
             [
              0.8888888888888888,
              "#fdca26"
             ],
             [
              1,
              "#f0f921"
             ]
            ],
            "type": "histogram2dcontour"
           }
          ],
          "mesh3d": [
           {
            "colorbar": {
             "outlinewidth": 0,
             "ticks": ""
            },
            "type": "mesh3d"
           }
          ],
          "parcoords": [
           {
            "line": {
             "colorbar": {
              "outlinewidth": 0,
              "ticks": ""
             }
            },
            "type": "parcoords"
           }
          ],
          "pie": [
           {
            "automargin": true,
            "type": "pie"
           }
          ],
          "scatter": [
           {
            "fillpattern": {
             "fillmode": "overlay",
             "size": 10,
             "solidity": 0.2
            },
            "type": "scatter"
           }
          ],
          "scatter3d": [
           {
            "line": {
             "colorbar": {
              "outlinewidth": 0,
              "ticks": ""
             }
            },
            "marker": {
             "colorbar": {
              "outlinewidth": 0,
              "ticks": ""
             }
            },
            "type": "scatter3d"
           }
          ],
          "scattercarpet": [
           {
            "marker": {
             "colorbar": {
              "outlinewidth": 0,
              "ticks": ""
             }
            },
            "type": "scattercarpet"
           }
          ],
          "scattergeo": [
           {
            "marker": {
             "colorbar": {
              "outlinewidth": 0,
              "ticks": ""
             }
            },
            "type": "scattergeo"
           }
          ],
          "scattergl": [
           {
            "marker": {
             "colorbar": {
              "outlinewidth": 0,
              "ticks": ""
             }
            },
            "type": "scattergl"
           }
          ],
          "scattermapbox": [
           {
            "marker": {
             "colorbar": {
              "outlinewidth": 0,
              "ticks": ""
             }
            },
            "type": "scattermapbox"
           }
          ],
          "scatterpolar": [
           {
            "marker": {
             "colorbar": {
              "outlinewidth": 0,
              "ticks": ""
             }
            },
            "type": "scatterpolar"
           }
          ],
          "scatterpolargl": [
           {
            "marker": {
             "colorbar": {
              "outlinewidth": 0,
              "ticks": ""
             }
            },
            "type": "scatterpolargl"
           }
          ],
          "scatterternary": [
           {
            "marker": {
             "colorbar": {
              "outlinewidth": 0,
              "ticks": ""
             }
            },
            "type": "scatterternary"
           }
          ],
          "surface": [
           {
            "colorbar": {
             "outlinewidth": 0,
             "ticks": ""
            },
            "colorscale": [
             [
              0,
              "#0d0887"
             ],
             [
              0.1111111111111111,
              "#46039f"
             ],
             [
              0.2222222222222222,
              "#7201a8"
             ],
             [
              0.3333333333333333,
              "#9c179e"
             ],
             [
              0.4444444444444444,
              "#bd3786"
             ],
             [
              0.5555555555555556,
              "#d8576b"
             ],
             [
              0.6666666666666666,
              "#ed7953"
             ],
             [
              0.7777777777777778,
              "#fb9f3a"
             ],
             [
              0.8888888888888888,
              "#fdca26"
             ],
             [
              1,
              "#f0f921"
             ]
            ],
            "type": "surface"
           }
          ],
          "table": [
           {
            "cells": {
             "fill": {
              "color": "#EBF0F8"
             },
             "line": {
              "color": "white"
             }
            },
            "header": {
             "fill": {
              "color": "#C8D4E3"
             },
             "line": {
              "color": "white"
             }
            },
            "type": "table"
           }
          ]
         },
         "layout": {
          "annotationdefaults": {
           "arrowcolor": "#2a3f5f",
           "arrowhead": 0,
           "arrowwidth": 1
          },
          "autotypenumbers": "strict",
          "coloraxis": {
           "colorbar": {
            "outlinewidth": 0,
            "ticks": ""
           }
          },
          "colorscale": {
           "diverging": [
            [
             0,
             "#8e0152"
            ],
            [
             0.1,
             "#c51b7d"
            ],
            [
             0.2,
             "#de77ae"
            ],
            [
             0.3,
             "#f1b6da"
            ],
            [
             0.4,
             "#fde0ef"
            ],
            [
             0.5,
             "#f7f7f7"
            ],
            [
             0.6,
             "#e6f5d0"
            ],
            [
             0.7,
             "#b8e186"
            ],
            [
             0.8,
             "#7fbc41"
            ],
            [
             0.9,
             "#4d9221"
            ],
            [
             1,
             "#276419"
            ]
           ],
           "sequential": [
            [
             0,
             "#0d0887"
            ],
            [
             0.1111111111111111,
             "#46039f"
            ],
            [
             0.2222222222222222,
             "#7201a8"
            ],
            [
             0.3333333333333333,
             "#9c179e"
            ],
            [
             0.4444444444444444,
             "#bd3786"
            ],
            [
             0.5555555555555556,
             "#d8576b"
            ],
            [
             0.6666666666666666,
             "#ed7953"
            ],
            [
             0.7777777777777778,
             "#fb9f3a"
            ],
            [
             0.8888888888888888,
             "#fdca26"
            ],
            [
             1,
             "#f0f921"
            ]
           ],
           "sequentialminus": [
            [
             0,
             "#0d0887"
            ],
            [
             0.1111111111111111,
             "#46039f"
            ],
            [
             0.2222222222222222,
             "#7201a8"
            ],
            [
             0.3333333333333333,
             "#9c179e"
            ],
            [
             0.4444444444444444,
             "#bd3786"
            ],
            [
             0.5555555555555556,
             "#d8576b"
            ],
            [
             0.6666666666666666,
             "#ed7953"
            ],
            [
             0.7777777777777778,
             "#fb9f3a"
            ],
            [
             0.8888888888888888,
             "#fdca26"
            ],
            [
             1,
             "#f0f921"
            ]
           ]
          },
          "colorway": [
           "#636efa",
           "#EF553B",
           "#00cc96",
           "#ab63fa",
           "#FFA15A",
           "#19d3f3",
           "#FF6692",
           "#B6E880",
           "#FF97FF",
           "#FECB52"
          ],
          "font": {
           "color": "#2a3f5f"
          },
          "geo": {
           "bgcolor": "white",
           "lakecolor": "white",
           "landcolor": "#E5ECF6",
           "showlakes": true,
           "showland": true,
           "subunitcolor": "white"
          },
          "hoverlabel": {
           "align": "left"
          },
          "hovermode": "closest",
          "mapbox": {
           "style": "light"
          },
          "paper_bgcolor": "white",
          "plot_bgcolor": "#E5ECF6",
          "polar": {
           "angularaxis": {
            "gridcolor": "white",
            "linecolor": "white",
            "ticks": ""
           },
           "bgcolor": "#E5ECF6",
           "radialaxis": {
            "gridcolor": "white",
            "linecolor": "white",
            "ticks": ""
           }
          },
          "scene": {
           "xaxis": {
            "backgroundcolor": "#E5ECF6",
            "gridcolor": "white",
            "gridwidth": 2,
            "linecolor": "white",
            "showbackground": true,
            "ticks": "",
            "zerolinecolor": "white"
           },
           "yaxis": {
            "backgroundcolor": "#E5ECF6",
            "gridcolor": "white",
            "gridwidth": 2,
            "linecolor": "white",
            "showbackground": true,
            "ticks": "",
            "zerolinecolor": "white"
           },
           "zaxis": {
            "backgroundcolor": "#E5ECF6",
            "gridcolor": "white",
            "gridwidth": 2,
            "linecolor": "white",
            "showbackground": true,
            "ticks": "",
            "zerolinecolor": "white"
           }
          },
          "shapedefaults": {
           "line": {
            "color": "#2a3f5f"
           }
          },
          "ternary": {
           "aaxis": {
            "gridcolor": "white",
            "linecolor": "white",
            "ticks": ""
           },
           "baxis": {
            "gridcolor": "white",
            "linecolor": "white",
            "ticks": ""
           },
           "bgcolor": "#E5ECF6",
           "caxis": {
            "gridcolor": "white",
            "linecolor": "white",
            "ticks": ""
           }
          },
          "title": {
           "x": 0.05
          },
          "xaxis": {
           "automargin": true,
           "gridcolor": "white",
           "linecolor": "white",
           "ticks": "",
           "title": {
            "standoff": 15
           },
           "zerolinecolor": "white",
           "zerolinewidth": 2
          },
          "yaxis": {
           "automargin": true,
           "gridcolor": "white",
           "linecolor": "white",
           "ticks": "",
           "title": {
            "standoff": 15
           },
           "zerolinecolor": "white",
           "zerolinewidth": 2
          }
         }
        },
        "title": {
         "text": "Heatmap of Linear Regression Coefficients"
        },
        "width": 800,
        "xaxis": {
         "anchor": "y",
         "domain": [
          0,
          1
         ],
         "matches": "x2",
         "showticklabels": false
        },
        "xaxis2": {
         "anchor": "y2",
         "domain": [
          0,
          1
         ]
        },
        "yaxis": {
         "anchor": "x",
         "domain": [
          0.6000000000000001,
          1
         ]
        },
        "yaxis2": {
         "anchor": "x2",
         "domain": [
          0,
          0.4
         ]
        }
       }
      },
      "text/html": [
       "<div>                            <div id=\"0d1f0b13-f7cc-4135-b773-d94f44dd2c43\" class=\"plotly-graph-div\" style=\"height:500px; width:800px;\"></div>            <script type=\"text/javascript\">                require([\"plotly\"], function(Plotly) {                    window.PLOTLYENV=window.PLOTLYENV || {};                                    if (document.getElementById(\"0d1f0b13-f7cc-4135-b773-d94f44dd2c43\")) {                    Plotly.newPlot(                        \"0d1f0b13-f7cc-4135-b773-d94f44dd2c43\",                        [{\"colorbar\":{\"len\":0.45,\"y\":0.2},\"reversescale\":true,\"text\":[[-127.9,-118.95,-693.23,-87.1,-28.65]],\"texttemplate\":\"%{text}\",\"x\":[\"Degree Hub Percentage\",\"Betweenness Hub Percentage\",\"Closeness Hub Percentage\",\"Eigenvector Hub Percentage\",\"Clustering Hub Percentage\"],\"y\":[\"coefficient\"],\"z\":[[-127.9044250224189,-118.94550612973453,-693.2261674272681,-87.10477461033764,-28.6528150607002]],\"type\":\"heatmap\",\"xaxis\":\"x2\",\"yaxis\":\"y2\"},{\"colorbar\":{\"len\":0.45,\"y\":0.7},\"text\":[[0.3,0.32,0.47,0.22,-0.08]],\"texttemplate\":\"%{text}\",\"x\":[\"Degree Hub Percentage\",\"Betweenness Hub Percentage\",\"Closeness Hub Percentage\",\"Eigenvector Hub Percentage\",\"Clustering Hub Percentage\"],\"y\":[\"\"],\"z\":[[0.30295039188751216,0.32018209762834793,0.47374825052735636,0.22009436982569852,-0.08497339679960998]],\"type\":\"heatmap\",\"xaxis\":\"x\",\"yaxis\":\"y\"}],                        {\"template\":{\"data\":{\"histogram2dcontour\":[{\"type\":\"histogram2dcontour\",\"colorbar\":{\"outlinewidth\":0,\"ticks\":\"\"},\"colorscale\":[[0.0,\"#0d0887\"],[0.1111111111111111,\"#46039f\"],[0.2222222222222222,\"#7201a8\"],[0.3333333333333333,\"#9c179e\"],[0.4444444444444444,\"#bd3786\"],[0.5555555555555556,\"#d8576b\"],[0.6666666666666666,\"#ed7953\"],[0.7777777777777778,\"#fb9f3a\"],[0.8888888888888888,\"#fdca26\"],[1.0,\"#f0f921\"]]}],\"choropleth\":[{\"type\":\"choropleth\",\"colorbar\":{\"outlinewidth\":0,\"ticks\":\"\"}}],\"histogram2d\":[{\"type\":\"histogram2d\",\"colorbar\":{\"outlinewidth\":0,\"ticks\":\"\"},\"colorscale\":[[0.0,\"#0d0887\"],[0.1111111111111111,\"#46039f\"],[0.2222222222222222,\"#7201a8\"],[0.3333333333333333,\"#9c179e\"],[0.4444444444444444,\"#bd3786\"],[0.5555555555555556,\"#d8576b\"],[0.6666666666666666,\"#ed7953\"],[0.7777777777777778,\"#fb9f3a\"],[0.8888888888888888,\"#fdca26\"],[1.0,\"#f0f921\"]]}],\"heatmap\":[{\"type\":\"heatmap\",\"colorbar\":{\"outlinewidth\":0,\"ticks\":\"\"},\"colorscale\":[[0.0,\"#0d0887\"],[0.1111111111111111,\"#46039f\"],[0.2222222222222222,\"#7201a8\"],[0.3333333333333333,\"#9c179e\"],[0.4444444444444444,\"#bd3786\"],[0.5555555555555556,\"#d8576b\"],[0.6666666666666666,\"#ed7953\"],[0.7777777777777778,\"#fb9f3a\"],[0.8888888888888888,\"#fdca26\"],[1.0,\"#f0f921\"]]}],\"heatmapgl\":[{\"type\":\"heatmapgl\",\"colorbar\":{\"outlinewidth\":0,\"ticks\":\"\"},\"colorscale\":[[0.0,\"#0d0887\"],[0.1111111111111111,\"#46039f\"],[0.2222222222222222,\"#7201a8\"],[0.3333333333333333,\"#9c179e\"],[0.4444444444444444,\"#bd3786\"],[0.5555555555555556,\"#d8576b\"],[0.6666666666666666,\"#ed7953\"],[0.7777777777777778,\"#fb9f3a\"],[0.8888888888888888,\"#fdca26\"],[1.0,\"#f0f921\"]]}],\"contourcarpet\":[{\"type\":\"contourcarpet\",\"colorbar\":{\"outlinewidth\":0,\"ticks\":\"\"}}],\"contour\":[{\"type\":\"contour\",\"colorbar\":{\"outlinewidth\":0,\"ticks\":\"\"},\"colorscale\":[[0.0,\"#0d0887\"],[0.1111111111111111,\"#46039f\"],[0.2222222222222222,\"#7201a8\"],[0.3333333333333333,\"#9c179e\"],[0.4444444444444444,\"#bd3786\"],[0.5555555555555556,\"#d8576b\"],[0.6666666666666666,\"#ed7953\"],[0.7777777777777778,\"#fb9f3a\"],[0.8888888888888888,\"#fdca26\"],[1.0,\"#f0f921\"]]}],\"surface\":[{\"type\":\"surface\",\"colorbar\":{\"outlinewidth\":0,\"ticks\":\"\"},\"colorscale\":[[0.0,\"#0d0887\"],[0.1111111111111111,\"#46039f\"],[0.2222222222222222,\"#7201a8\"],[0.3333333333333333,\"#9c179e\"],[0.4444444444444444,\"#bd3786\"],[0.5555555555555556,\"#d8576b\"],[0.6666666666666666,\"#ed7953\"],[0.7777777777777778,\"#fb9f3a\"],[0.8888888888888888,\"#fdca26\"],[1.0,\"#f0f921\"]]}],\"mesh3d\":[{\"type\":\"mesh3d\",\"colorbar\":{\"outlinewidth\":0,\"ticks\":\"\"}}],\"scatter\":[{\"fillpattern\":{\"fillmode\":\"overlay\",\"size\":10,\"solidity\":0.2},\"type\":\"scatter\"}],\"parcoords\":[{\"type\":\"parcoords\",\"line\":{\"colorbar\":{\"outlinewidth\":0,\"ticks\":\"\"}}}],\"scatterpolargl\":[{\"type\":\"scatterpolargl\",\"marker\":{\"colorbar\":{\"outlinewidth\":0,\"ticks\":\"\"}}}],\"bar\":[{\"error_x\":{\"color\":\"#2a3f5f\"},\"error_y\":{\"color\":\"#2a3f5f\"},\"marker\":{\"line\":{\"color\":\"#E5ECF6\",\"width\":0.5},\"pattern\":{\"fillmode\":\"overlay\",\"size\":10,\"solidity\":0.2}},\"type\":\"bar\"}],\"scattergeo\":[{\"type\":\"scattergeo\",\"marker\":{\"colorbar\":{\"outlinewidth\":0,\"ticks\":\"\"}}}],\"scatterpolar\":[{\"type\":\"scatterpolar\",\"marker\":{\"colorbar\":{\"outlinewidth\":0,\"ticks\":\"\"}}}],\"histogram\":[{\"marker\":{\"pattern\":{\"fillmode\":\"overlay\",\"size\":10,\"solidity\":0.2}},\"type\":\"histogram\"}],\"scattergl\":[{\"type\":\"scattergl\",\"marker\":{\"colorbar\":{\"outlinewidth\":0,\"ticks\":\"\"}}}],\"scatter3d\":[{\"type\":\"scatter3d\",\"line\":{\"colorbar\":{\"outlinewidth\":0,\"ticks\":\"\"}},\"marker\":{\"colorbar\":{\"outlinewidth\":0,\"ticks\":\"\"}}}],\"scattermapbox\":[{\"type\":\"scattermapbox\",\"marker\":{\"colorbar\":{\"outlinewidth\":0,\"ticks\":\"\"}}}],\"scatterternary\":[{\"type\":\"scatterternary\",\"marker\":{\"colorbar\":{\"outlinewidth\":0,\"ticks\":\"\"}}}],\"scattercarpet\":[{\"type\":\"scattercarpet\",\"marker\":{\"colorbar\":{\"outlinewidth\":0,\"ticks\":\"\"}}}],\"carpet\":[{\"aaxis\":{\"endlinecolor\":\"#2a3f5f\",\"gridcolor\":\"white\",\"linecolor\":\"white\",\"minorgridcolor\":\"white\",\"startlinecolor\":\"#2a3f5f\"},\"baxis\":{\"endlinecolor\":\"#2a3f5f\",\"gridcolor\":\"white\",\"linecolor\":\"white\",\"minorgridcolor\":\"white\",\"startlinecolor\":\"#2a3f5f\"},\"type\":\"carpet\"}],\"table\":[{\"cells\":{\"fill\":{\"color\":\"#EBF0F8\"},\"line\":{\"color\":\"white\"}},\"header\":{\"fill\":{\"color\":\"#C8D4E3\"},\"line\":{\"color\":\"white\"}},\"type\":\"table\"}],\"barpolar\":[{\"marker\":{\"line\":{\"color\":\"#E5ECF6\",\"width\":0.5},\"pattern\":{\"fillmode\":\"overlay\",\"size\":10,\"solidity\":0.2}},\"type\":\"barpolar\"}],\"pie\":[{\"automargin\":true,\"type\":\"pie\"}]},\"layout\":{\"autotypenumbers\":\"strict\",\"colorway\":[\"#636efa\",\"#EF553B\",\"#00cc96\",\"#ab63fa\",\"#FFA15A\",\"#19d3f3\",\"#FF6692\",\"#B6E880\",\"#FF97FF\",\"#FECB52\"],\"font\":{\"color\":\"#2a3f5f\"},\"hovermode\":\"closest\",\"hoverlabel\":{\"align\":\"left\"},\"paper_bgcolor\":\"white\",\"plot_bgcolor\":\"#E5ECF6\",\"polar\":{\"bgcolor\":\"#E5ECF6\",\"angularaxis\":{\"gridcolor\":\"white\",\"linecolor\":\"white\",\"ticks\":\"\"},\"radialaxis\":{\"gridcolor\":\"white\",\"linecolor\":\"white\",\"ticks\":\"\"}},\"ternary\":{\"bgcolor\":\"#E5ECF6\",\"aaxis\":{\"gridcolor\":\"white\",\"linecolor\":\"white\",\"ticks\":\"\"},\"baxis\":{\"gridcolor\":\"white\",\"linecolor\":\"white\",\"ticks\":\"\"},\"caxis\":{\"gridcolor\":\"white\",\"linecolor\":\"white\",\"ticks\":\"\"}},\"coloraxis\":{\"colorbar\":{\"outlinewidth\":0,\"ticks\":\"\"}},\"colorscale\":{\"sequential\":[[0.0,\"#0d0887\"],[0.1111111111111111,\"#46039f\"],[0.2222222222222222,\"#7201a8\"],[0.3333333333333333,\"#9c179e\"],[0.4444444444444444,\"#bd3786\"],[0.5555555555555556,\"#d8576b\"],[0.6666666666666666,\"#ed7953\"],[0.7777777777777778,\"#fb9f3a\"],[0.8888888888888888,\"#fdca26\"],[1.0,\"#f0f921\"]],\"sequentialminus\":[[0.0,\"#0d0887\"],[0.1111111111111111,\"#46039f\"],[0.2222222222222222,\"#7201a8\"],[0.3333333333333333,\"#9c179e\"],[0.4444444444444444,\"#bd3786\"],[0.5555555555555556,\"#d8576b\"],[0.6666666666666666,\"#ed7953\"],[0.7777777777777778,\"#fb9f3a\"],[0.8888888888888888,\"#fdca26\"],[1.0,\"#f0f921\"]],\"diverging\":[[0,\"#8e0152\"],[0.1,\"#c51b7d\"],[0.2,\"#de77ae\"],[0.3,\"#f1b6da\"],[0.4,\"#fde0ef\"],[0.5,\"#f7f7f7\"],[0.6,\"#e6f5d0\"],[0.7,\"#b8e186\"],[0.8,\"#7fbc41\"],[0.9,\"#4d9221\"],[1,\"#276419\"]]},\"xaxis\":{\"gridcolor\":\"white\",\"linecolor\":\"white\",\"ticks\":\"\",\"title\":{\"standoff\":15},\"zerolinecolor\":\"white\",\"automargin\":true,\"zerolinewidth\":2},\"yaxis\":{\"gridcolor\":\"white\",\"linecolor\":\"white\",\"ticks\":\"\",\"title\":{\"standoff\":15},\"zerolinecolor\":\"white\",\"automargin\":true,\"zerolinewidth\":2},\"scene\":{\"xaxis\":{\"backgroundcolor\":\"#E5ECF6\",\"gridcolor\":\"white\",\"linecolor\":\"white\",\"showbackground\":true,\"ticks\":\"\",\"zerolinecolor\":\"white\",\"gridwidth\":2},\"yaxis\":{\"backgroundcolor\":\"#E5ECF6\",\"gridcolor\":\"white\",\"linecolor\":\"white\",\"showbackground\":true,\"ticks\":\"\",\"zerolinecolor\":\"white\",\"gridwidth\":2},\"zaxis\":{\"backgroundcolor\":\"#E5ECF6\",\"gridcolor\":\"white\",\"linecolor\":\"white\",\"showbackground\":true,\"ticks\":\"\",\"zerolinecolor\":\"white\",\"gridwidth\":2}},\"shapedefaults\":{\"line\":{\"color\":\"#2a3f5f\"}},\"annotationdefaults\":{\"arrowcolor\":\"#2a3f5f\",\"arrowhead\":0,\"arrowwidth\":1},\"geo\":{\"bgcolor\":\"white\",\"landcolor\":\"#E5ECF6\",\"subunitcolor\":\"white\",\"showland\":true,\"showlakes\":true,\"lakecolor\":\"white\"},\"title\":{\"x\":0.05},\"mapbox\":{\"style\":\"light\"}}},\"xaxis\":{\"anchor\":\"y\",\"domain\":[0.0,1.0],\"matches\":\"x2\",\"showticklabels\":false},\"yaxis\":{\"anchor\":\"x\",\"domain\":[0.6000000000000001,1.0]},\"xaxis2\":{\"anchor\":\"y2\",\"domain\":[0.0,1.0]},\"yaxis2\":{\"anchor\":\"x2\",\"domain\":[0.0,0.4]},\"annotations\":[{\"font\":{\"size\":16},\"showarrow\":false,\"text\":\"Coefficients for Duration\",\"x\":0.5,\"xanchor\":\"center\",\"xref\":\"paper\",\"y\":1.0,\"yanchor\":\"bottom\",\"yref\":\"paper\"},{\"font\":{\"size\":16},\"showarrow\":false,\"text\":\"Coefficients for Finished\",\"x\":0.5,\"xanchor\":\"center\",\"xref\":\"paper\",\"y\":0.4,\"yanchor\":\"bottom\",\"yref\":\"paper\"}],\"title\":{\"text\":\"Heatmap of Linear Regression Coefficients\"},\"width\":800,\"height\":500},                        {\"responsive\": true}                    ).then(function(){\n",
       "                            \n",
       "var gd = document.getElementById('0d1f0b13-f7cc-4135-b773-d94f44dd2c43');\n",
       "var x = new MutationObserver(function (mutations, observer) {{\n",
       "        var display = window.getComputedStyle(gd).display;\n",
       "        if (!display || display === 'none') {{\n",
       "            console.log([gd, 'removed!']);\n",
       "            Plotly.purge(gd);\n",
       "            observer.disconnect();\n",
       "        }}\n",
       "}});\n",
       "\n",
       "// Listen for the removal of the full notebook cells\n",
       "var notebookContainer = gd.closest('#notebook-container');\n",
       "if (notebookContainer) {{\n",
       "    x.observe(notebookContainer, {childList: true});\n",
       "}}\n",
       "\n",
       "// Listen for the clearing of the current output cell\n",
       "var outputEl = gd.closest('.output');\n",
       "if (outputEl) {{\n",
       "    x.observe(outputEl, {childList: true});\n",
       "}}\n",
       "\n",
       "                        })                };                });            </script>        </div>"
      ]
     },
     "metadata": {},
     "output_type": "display_data"
    }
   ],
   "source": [
    "import plotly.graph_objs as go\n",
    "from plotly.subplots import make_subplots\n",
    "\n",
    "# Assuming coefficients_duration and coefficients_finished are already defined\n",
    "# Improve x-axis labels\n",
    "new_labels_duration = [label.replace(\"_Count\", \"\").replace(\"_\", \" \") for label in coefficients_duration.index]\n",
    "new_labels_finished = [label.replace(\"_Count\", \"\").replace(\"_\", \" \") for label in coefficients_finish.index]\n",
    "\n",
    "# Create subplots\n",
    "fig = make_subplots(rows=2, cols=1, shared_xaxes=True,vertical_spacing=0.2,\n",
    "                    subplot_titles=['Coefficients for Duration', 'Coefficients for Finished'])\n",
    "\n",
    "# Add the first heatmap for duration coefficients\n",
    "fig.add_trace(\n",
    "    go.Heatmap(\n",
    "        z=coefficients_duration.values.T,\n",
    "        y=coefficients_duration.columns,\n",
    "        x=new_labels_duration,\n",
    "        colorbar_len=0.45,\n",
    "        colorbar_y=0.2,\n",
    "        text=np.around(coefficients_duration.values.T, decimals=2),\n",
    "        texttemplate=\"%{text}\",reversescale=True\n",
    "    ), \n",
    "    row=2, col=1\n",
    ")\n",
    "\n",
    "# Add the second heatmap for finished coefficients\n",
    "fig.add_trace(\n",
    "    go.Heatmap(\n",
    "        z=coefficients_finish.values.T,\n",
    "        y=coefficients_finish.columns,\n",
    "        x=new_labels_finished,\n",
    "        colorbar_len=0.45,\n",
    "        colorbar_y=0.7,\n",
    "        text=np.around(coefficients_finish.values.T, decimals=2),\n",
    "        texttemplate=\"%{text}\"\n",
    "    ), \n",
    "    row=1, col=1\n",
    ")\n",
    "\n",
    "# Update layout\n",
    "fig.update_layout(\n",
    "    title='Heatmap of Linear Regression Coefficients',\n",
    "    width=800,\n",
    "    height=500,\n",
    ")\n",
    "\n",
    "fig.show()\n"
   ]
  },
  {
   "cell_type": "code",
   "execution_count": 158,
   "metadata": {},
   "outputs": [],
   "source": [
    "# Renaming the columns of coefficients_duration and coefficients_finished\n",
    "coefficients_duration.columns = [col.replace(\"coefficient\", \"\") for col in coefficients_duration.columns]\n",
    "coefficients_finish.columns = [col.replace(\"coefficient\", \"\") for col in coefficients_finish.columns]\n",
    "\n"
   ]
  },
  {
   "cell_type": "code",
   "execution_count": 51,
   "metadata": {},
   "outputs": [
    {
     "name": "stdout",
     "output_type": "stream",
     "text": [
      "           Mixed Linear Model Regression Results\n",
      "============================================================\n",
      "Model:             MixedLM Dependent Variable: path_finished\n",
      "No. Observations:  76186   Method:             REML         \n",
      "No. Groups:        20867   Scale:              0.1413       \n",
      "Min. group size:   1       Log-Likelihood:     -41694.8982  \n",
      "Max. group size:   4865    Converged:          Yes          \n",
      "Mean group size:   3.7                                      \n",
      "------------------------------------------------------------\n",
      "                  Coef. Std.Err.    z    P>|z| [0.025 0.975]\n",
      "------------------------------------------------------------\n",
      "Intercept         0.430    0.004 110.877 0.000  0.422  0.438\n",
      "unique_categories 0.041    0.001  58.553 0.000  0.039  0.042\n",
      "Group Var         0.072    0.004                            \n",
      "============================================================\n",
      "\n"
     ]
    }
   ],
   "source": [
    "model = smf.mixedlm(\"path_finished ~ unique_categories\", df_player, groups=df_player[\"hashedIpAddress\"])\n",
    "result = model.fit()\n",
    "print(result.summary())"
   ]
  },
  {
   "cell_type": "code",
   "execution_count": 73,
   "metadata": {},
   "outputs": [],
   "source": [
    "df_player['path_length'] = df_player['path'].apply(lambda x: len(x.split(';')))"
   ]
  },
  {
   "cell_type": "code",
   "execution_count": 53,
   "metadata": {},
   "outputs": [
    {
     "name": "stdout",
     "output_type": "stream",
     "text": [
      "           Mixed Linear Model Regression Results\n",
      "===========================================================\n",
      "Model:            MixedLM Dependent Variable: path_finished\n",
      "No. Observations: 76148   Method:             REML         \n",
      "No. Groups:       20859   Scale:              0.1380       \n",
      "Min. group size:  1       Log-Likelihood:     -41345.0678  \n",
      "Max. group size:  4865    Converged:          Yes          \n",
      "Mean group size:  3.7                                      \n",
      "-----------------------------------------------------------\n",
      "                Coef.  Std.Err.    z    P>|z| [0.025 0.975]\n",
      "-----------------------------------------------------------\n",
      "Intercept        0.985    0.007 147.490 0.000  0.972  0.998\n",
      "shortest_path   -0.129    0.002 -63.965 0.000 -0.133 -0.125\n",
      "Group Var        0.078    0.005                            \n",
      "===========================================================\n",
      "\n"
     ]
    }
   ],
   "source": [
    "model = smf.mixedlm(\"path_finished ~ shortest_path\", df_player_cleaned, groups=df_player_cleaned[\"hashedIpAddress\"])\n",
    "result = model.fit()\n",
    "print(result.summary())"
   ]
  },
  {
   "cell_type": "code",
   "execution_count": 54,
   "metadata": {},
   "outputs": [
    {
     "name": "stdout",
     "output_type": "stream",
     "text": [
      "             Mixed Linear Model Regression Results\n",
      "================================================================\n",
      "Model:               MixedLM  Dependent Variable:  path_finished\n",
      "No. Observations:    76186    Method:              REML         \n",
      "No. Groups:          20867    Scale:               0.1413       \n",
      "Min. group size:     1        Log-Likelihood:      -41700.2555  \n",
      "Max. group size:     4865     Converged:           Yes          \n",
      "Mean group size:     3.7                                        \n",
      "----------------------------------------------------------------\n",
      "                      Coef. Std.Err.    z    P>|z| [0.025 0.975]\n",
      "----------------------------------------------------------------\n",
      "Intercept             0.430    0.004 110.785 0.000  0.423  0.438\n",
      "unique_categories     0.040    0.001  44.067 0.000  0.038  0.042\n",
      "Betweenness_Hub_Count 0.001    0.001   1.002 0.316 -0.001  0.003\n",
      "Group Var             0.072    0.004                            \n",
      "================================================================\n",
      "\n"
     ]
    }
   ],
   "source": [
    "model = smf.mixedlm(\"path_finished ~ unique_categories + Betweenness_Hub_Count\", df_player, groups=df_player[\"hashedIpAddress\"])\n",
    "result = model.fit()\n",
    "print(result.summary())"
   ]
  },
  {
   "cell_type": "code",
   "execution_count": 57,
   "metadata": {},
   "outputs": [
    {
     "data": {
      "text/plain": [
       "Index(['hashedIpAddress', 'timestamp', 'durationInSec', 'path', 'rating',\n",
       "       'link_positions', 'avg_duration', 'avg_position', 'max_position',\n",
       "       'avg_article_length', 'avg_target_source_ratio', 'source', 'target',\n",
       "       'path_finished', 'type', 'Degree_Hub_Count', 'Betweenness_Hub_Count',\n",
       "       'Closeness_Hub_Count', 'Eigenvector_Hub_Count', 'Clustering_Hub_Count',\n",
       "       'shortest_path', 'unique_categories', 'same_category'],\n",
       "      dtype='object')"
      ]
     },
     "execution_count": 57,
     "metadata": {},
     "output_type": "execute_result"
    }
   ],
   "source": [
    "df_player.columns"
   ]
  },
  {
   "cell_type": "code",
   "execution_count": null,
   "metadata": {},
   "outputs": [],
   "source": []
  },
  {
   "cell_type": "code",
   "execution_count": null,
   "metadata": {},
   "outputs": [],
   "source": []
  },
  {
   "cell_type": "code",
   "execution_count": 56,
   "metadata": {},
   "outputs": [],
   "source": [
    "article_to_categories = categories.groupby('Node')['main_cat'].apply(list).to_dict()\n",
    "\n",
    "def have_common_category(start, target):\n",
    "    start_categories = set(article_to_categories.get(start, []))\n",
    "    target_categories = set(article_to_categories.get(target, []))\n",
    "    return int(len(start_categories.intersection(target_categories)) > 0)\n",
    "\n",
    "df_player.loc[:, 'same_category'] = df_player.apply(\n",
    "    lambda row: have_common_category(row['source'], row['target']), axis=1)\n"
   ]
  },
  {
   "cell_type": "code",
   "execution_count": 115,
   "metadata": {},
   "outputs": [
    {
     "name": "stdout",
     "output_type": "stream",
     "text": [
      "                            OLS Regression Results                            \n",
      "==============================================================================\n",
      "Dep. Variable:          path_finished   R-squared:                       0.065\n",
      "Model:                            OLS   Adj. R-squared:                  0.065\n",
      "Method:                 Least Squares   F-statistic:                     2630.\n",
      "Date:                Thu, 21 Dec 2023   Prob (F-statistic):               0.00\n",
      "Time:                        09:40:11   Log-Likelihood:                -47819.\n",
      "No. Observations:               76148   AIC:                         9.564e+04\n",
      "Df Residuals:                   76145   BIC:                         9.567e+04\n",
      "Df Model:                           2                                         \n",
      "Covariance Type:            nonrobust                                         \n",
      "==================================================================================================\n",
      "                                     coef    std err          t      P>|t|      [0.025      0.975]\n",
      "--------------------------------------------------------------------------------------------------\n",
      "Intercept                          0.7878      0.019     40.436      0.000       0.750       0.826\n",
      "Closeness_Hub_Count_Percentage     0.3494      0.018     19.102      0.000       0.314       0.385\n",
      "shortest_path                     -0.1514      0.002    -67.719      0.000      -0.156      -0.147\n",
      "==============================================================================\n",
      "Omnibus:                   147186.415   Durbin-Watson:                   0.091\n",
      "Prob(Omnibus):                  0.000   Jarque-Bera (JB):            10932.356\n",
      "Skew:                          -0.680   Prob(JB):                         0.00\n",
      "Kurtosis:                       1.736   Cond. No.                         53.6\n",
      "==============================================================================\n",
      "\n",
      "Notes:\n",
      "[1] Standard Errors assume that the covariance matrix of the errors is correctly specified.\n"
     ]
    }
   ],
   "source": [
    "model = smf.ols(\"path_finished ~ Closeness_Hub_Count_Percentage + shortest_path\", df_player)\n",
    "result = model.fit()\n",
    "print(result.summary())"
   ]
  },
  {
   "cell_type": "code",
   "execution_count": 116,
   "metadata": {},
   "outputs": [
    {
     "name": "stdout",
     "output_type": "stream",
     "text": [
      "                            OLS Regression Results                            \n",
      "==============================================================================\n",
      "Dep. Variable:          durationInSec   R-squared:                       0.034\n",
      "Model:                            OLS   Adj. R-squared:                  0.034\n",
      "Method:                 Least Squares   F-statistic:                     892.8\n",
      "Date:                Thu, 21 Dec 2023   Prob (F-statistic):               0.00\n",
      "Time:                        09:42:19   Log-Likelihood:            -3.7407e+05\n",
      "No. Observations:               51311   AIC:                         7.482e+05\n",
      "Df Residuals:                   51308   BIC:                         7.482e+05\n",
      "Df Model:                           2                                         \n",
      "Covariance Type:            nonrobust                                         \n",
      "==================================================================================================\n",
      "                                     coef    std err          t      P>|t|      [0.025      0.975]\n",
      "--------------------------------------------------------------------------------------------------\n",
      "Intercept                        616.8289     21.448     28.759      0.000     574.790     658.868\n",
      "Closeness_Hub_Count_Percentage  -637.5085     20.372    -31.293      0.000    -677.438    -597.578\n",
      "shortest_path                     55.5715      2.249     24.710      0.000      51.164      59.979\n",
      "==============================================================================\n",
      "Omnibus:                   164369.873   Durbin-Watson:                   1.980\n",
      "Prob(Omnibus):                  0.000   Jarque-Bera (JB):      38568229512.306\n",
      "Skew:                          52.539   Prob(JB):                         0.00\n",
      "Kurtosis:                    4249.022   Cond. No.                         60.3\n",
      "==============================================================================\n",
      "\n",
      "Notes:\n",
      "[1] Standard Errors assume that the covariance matrix of the errors is correctly specified.\n"
     ]
    }
   ],
   "source": [
    "model = smf.ols(\"durationInSec ~ Closeness_Hub_Count_Percentage + shortest_path\", df_player[df_player.path_finished == 1])\n",
    "result = model.fit()\n",
    "print(result.summary())"
   ]
  },
  {
   "cell_type": "code",
   "execution_count": 197,
   "metadata": {},
   "outputs": [
    {
     "name": "stdout",
     "output_type": "stream",
     "text": [
      "                          Metrics  With same_category Without same_category  \\\n",
      "0                       R-squared            0.065138              0.064621   \n",
      "1  Closeness_Hub_Count_Percentage            0.349084               0.34945   \n",
      "2                   shortest_path           -0.149759             -0.151442   \n",
      "3                   same_category            0.029218                   N/A   \n",
      "\n",
      "  P-value (With) P-value (Without)  \n",
      "0            N/A               N/A  \n",
      "1            0.0               0.0  \n",
      "2            0.0               0.0  \n",
      "3            0.0               N/A  \n"
     ]
    }
   ],
   "source": [
    "import statsmodels.formula.api as smf\n",
    "import pandas as pd\n",
    "\n",
    "# Fit the first model (including same_category)\n",
    "model_with = smf.ols(\"path_finished ~ Closeness_Hub_Count_Percentage + shortest_path + same_category\", df_player)\n",
    "result_with = model_with.fit()\n",
    "\n",
    "# Fit the second model (excluding same_category)\n",
    "model_without = smf.ols(\"path_finished ~ Closeness_Hub_Count_Percentage + shortest_path\", df_player)\n",
    "result_without = model_without.fit()\n",
    "\n",
    "# Extract R-squared, coefficients and p-values\n",
    "data = {\n",
    "    'Metrics': ['R-squared', 'Closeness_Hub_Count_Percentage', 'shortest_path', 'same_category'],\n",
    "    'With same_category': [\n",
    "        result_with.rsquared, \n",
    "        result_with.params['Closeness_Hub_Count_Percentage'], \n",
    "        result_with.params['shortest_path'], \n",
    "        result_with.params.get('same_category', 'N/A')  # 'N/A' if same_category is not in the model\n",
    "    ],\n",
    "    'Without same_category': [\n",
    "        result_without.rsquared, \n",
    "        result_without.params['Closeness_Hub_Count_Percentage'], \n",
    "        result_without.params['shortest_path'],\n",
    "        'N/A'  # same_category is not in this model\n",
    "    ],\n",
    "    'P-value (With)': [\n",
    "        'N/A',\n",
    "        result_with.pvalues['Closeness_Hub_Count_Percentage'],\n",
    "        result_with.pvalues['shortest_path'],\n",
    "        result_with.pvalues.get('same_category', 'N/A')\n",
    "    ],\n",
    "    'P-value (Without)': [\n",
    "        'N/A',\n",
    "        result_without.pvalues['Closeness_Hub_Count_Percentage'],\n",
    "        result_without.pvalues['shortest_path'],\n",
    "        'N/A'\n",
    "    ]\n",
    "}\n",
    "\n",
    "comparison_table = pd.DataFrame(data)\n",
    "\n",
    "# Display the table\n",
    "print(comparison_table)\n"
   ]
  },
  {
   "cell_type": "code",
   "execution_count": 198,
   "metadata": {},
   "outputs": [
    {
     "data": {
      "text/html": [
       "<div>\n",
       "<style scoped>\n",
       "    .dataframe tbody tr th:only-of-type {\n",
       "        vertical-align: middle;\n",
       "    }\n",
       "\n",
       "    .dataframe tbody tr th {\n",
       "        vertical-align: top;\n",
       "    }\n",
       "\n",
       "    .dataframe thead th {\n",
       "        text-align: right;\n",
       "    }\n",
       "</style>\n",
       "<table border=\"1\" class=\"dataframe\">\n",
       "  <thead>\n",
       "    <tr style=\"text-align: right;\">\n",
       "      <th></th>\n",
       "      <th>Metrics</th>\n",
       "      <th>With same_category</th>\n",
       "      <th>Without same_category</th>\n",
       "      <th>P-value (With)</th>\n",
       "      <th>P-value (Without)</th>\n",
       "    </tr>\n",
       "  </thead>\n",
       "  <tbody>\n",
       "    <tr>\n",
       "      <th>0</th>\n",
       "      <td>R-squared</td>\n",
       "      <td>0.065</td>\n",
       "      <td>0.064621</td>\n",
       "      <td>N/A</td>\n",
       "      <td>N/A</td>\n",
       "    </tr>\n",
       "    <tr>\n",
       "      <th>1</th>\n",
       "      <td>Closeness_Hub_Count_Percentage</td>\n",
       "      <td>0.349</td>\n",
       "      <td>0.34945</td>\n",
       "      <td>0.0</td>\n",
       "      <td>0.0</td>\n",
       "    </tr>\n",
       "    <tr>\n",
       "      <th>2</th>\n",
       "      <td>shortest_path</td>\n",
       "      <td>-0.150</td>\n",
       "      <td>-0.151442</td>\n",
       "      <td>0.0</td>\n",
       "      <td>0.0</td>\n",
       "    </tr>\n",
       "    <tr>\n",
       "      <th>3</th>\n",
       "      <td>same_category</td>\n",
       "      <td>0.029</td>\n",
       "      <td>N/A</td>\n",
       "      <td>0.0</td>\n",
       "      <td>N/A</td>\n",
       "    </tr>\n",
       "  </tbody>\n",
       "</table>\n",
       "</div>"
      ],
      "text/plain": [
       "                          Metrics  With same_category Without same_category  \\\n",
       "0                       R-squared               0.065              0.064621   \n",
       "1  Closeness_Hub_Count_Percentage               0.349               0.34945   \n",
       "2                   shortest_path              -0.150             -0.151442   \n",
       "3                   same_category               0.029                   N/A   \n",
       "\n",
       "  P-value (With) P-value (Without)  \n",
       "0            N/A               N/A  \n",
       "1            0.0               0.0  \n",
       "2            0.0               0.0  \n",
       "3            0.0               N/A  "
      ]
     },
     "execution_count": 198,
     "metadata": {},
     "output_type": "execute_result"
    }
   ],
   "source": [
    "comparison_table_rounded"
   ]
  },
  {
   "cell_type": "code",
   "execution_count": 202,
   "metadata": {},
   "outputs": [
    {
     "data": {
      "application/vnd.plotly.v1+json": {
       "config": {
        "plotlyServerURL": "https://plot.ly"
       },
       "data": [
        {
         "cells": {
          "align": "left",
          "fill": {
           "color": "lavender"
          },
          "height": 40,
          "values": [
           [
            "R-squared",
            "Closeness Hub Percentage",
            "Shortest path",
            "In same category"
           ],
           [
            0.065,
            0.349,
            -0.15,
            0.029
           ],
           [
            0.064621,
            0.34945,
            -0.151442,
            "N/A"
           ],
           [
            "N/A",
            "0.00",
            "0.00",
            "0.00"
           ],
           [
            "N/A",
            "0.00",
            "0.00",
            "N/A"
           ]
          ]
         },
         "header": {
          "align": "left",
          "fill": {
           "color": "paleturquoise"
          },
          "height": 30,
          "values": [
           "Metrics",
           "With category",
           "Without category",
           "P-value (With)",
           "P-value (Without)"
          ]
         },
         "type": "table"
        }
       ],
       "layout": {
        "height": 500,
        "template": {
         "data": {
          "bar": [
           {
            "error_x": {
             "color": "#2a3f5f"
            },
            "error_y": {
             "color": "#2a3f5f"
            },
            "marker": {
             "line": {
              "color": "#E5ECF6",
              "width": 0.5
             },
             "pattern": {
              "fillmode": "overlay",
              "size": 10,
              "solidity": 0.2
             }
            },
            "type": "bar"
           }
          ],
          "barpolar": [
           {
            "marker": {
             "line": {
              "color": "#E5ECF6",
              "width": 0.5
             },
             "pattern": {
              "fillmode": "overlay",
              "size": 10,
              "solidity": 0.2
             }
            },
            "type": "barpolar"
           }
          ],
          "carpet": [
           {
            "aaxis": {
             "endlinecolor": "#2a3f5f",
             "gridcolor": "white",
             "linecolor": "white",
             "minorgridcolor": "white",
             "startlinecolor": "#2a3f5f"
            },
            "baxis": {
             "endlinecolor": "#2a3f5f",
             "gridcolor": "white",
             "linecolor": "white",
             "minorgridcolor": "white",
             "startlinecolor": "#2a3f5f"
            },
            "type": "carpet"
           }
          ],
          "choropleth": [
           {
            "colorbar": {
             "outlinewidth": 0,
             "ticks": ""
            },
            "type": "choropleth"
           }
          ],
          "contour": [
           {
            "colorbar": {
             "outlinewidth": 0,
             "ticks": ""
            },
            "colorscale": [
             [
              0,
              "#0d0887"
             ],
             [
              0.1111111111111111,
              "#46039f"
             ],
             [
              0.2222222222222222,
              "#7201a8"
             ],
             [
              0.3333333333333333,
              "#9c179e"
             ],
             [
              0.4444444444444444,
              "#bd3786"
             ],
             [
              0.5555555555555556,
              "#d8576b"
             ],
             [
              0.6666666666666666,
              "#ed7953"
             ],
             [
              0.7777777777777778,
              "#fb9f3a"
             ],
             [
              0.8888888888888888,
              "#fdca26"
             ],
             [
              1,
              "#f0f921"
             ]
            ],
            "type": "contour"
           }
          ],
          "contourcarpet": [
           {
            "colorbar": {
             "outlinewidth": 0,
             "ticks": ""
            },
            "type": "contourcarpet"
           }
          ],
          "heatmap": [
           {
            "colorbar": {
             "outlinewidth": 0,
             "ticks": ""
            },
            "colorscale": [
             [
              0,
              "#0d0887"
             ],
             [
              0.1111111111111111,
              "#46039f"
             ],
             [
              0.2222222222222222,
              "#7201a8"
             ],
             [
              0.3333333333333333,
              "#9c179e"
             ],
             [
              0.4444444444444444,
              "#bd3786"
             ],
             [
              0.5555555555555556,
              "#d8576b"
             ],
             [
              0.6666666666666666,
              "#ed7953"
             ],
             [
              0.7777777777777778,
              "#fb9f3a"
             ],
             [
              0.8888888888888888,
              "#fdca26"
             ],
             [
              1,
              "#f0f921"
             ]
            ],
            "type": "heatmap"
           }
          ],
          "heatmapgl": [
           {
            "colorbar": {
             "outlinewidth": 0,
             "ticks": ""
            },
            "colorscale": [
             [
              0,
              "#0d0887"
             ],
             [
              0.1111111111111111,
              "#46039f"
             ],
             [
              0.2222222222222222,
              "#7201a8"
             ],
             [
              0.3333333333333333,
              "#9c179e"
             ],
             [
              0.4444444444444444,
              "#bd3786"
             ],
             [
              0.5555555555555556,
              "#d8576b"
             ],
             [
              0.6666666666666666,
              "#ed7953"
             ],
             [
              0.7777777777777778,
              "#fb9f3a"
             ],
             [
              0.8888888888888888,
              "#fdca26"
             ],
             [
              1,
              "#f0f921"
             ]
            ],
            "type": "heatmapgl"
           }
          ],
          "histogram": [
           {
            "marker": {
             "pattern": {
              "fillmode": "overlay",
              "size": 10,
              "solidity": 0.2
             }
            },
            "type": "histogram"
           }
          ],
          "histogram2d": [
           {
            "colorbar": {
             "outlinewidth": 0,
             "ticks": ""
            },
            "colorscale": [
             [
              0,
              "#0d0887"
             ],
             [
              0.1111111111111111,
              "#46039f"
             ],
             [
              0.2222222222222222,
              "#7201a8"
             ],
             [
              0.3333333333333333,
              "#9c179e"
             ],
             [
              0.4444444444444444,
              "#bd3786"
             ],
             [
              0.5555555555555556,
              "#d8576b"
             ],
             [
              0.6666666666666666,
              "#ed7953"
             ],
             [
              0.7777777777777778,
              "#fb9f3a"
             ],
             [
              0.8888888888888888,
              "#fdca26"
             ],
             [
              1,
              "#f0f921"
             ]
            ],
            "type": "histogram2d"
           }
          ],
          "histogram2dcontour": [
           {
            "colorbar": {
             "outlinewidth": 0,
             "ticks": ""
            },
            "colorscale": [
             [
              0,
              "#0d0887"
             ],
             [
              0.1111111111111111,
              "#46039f"
             ],
             [
              0.2222222222222222,
              "#7201a8"
             ],
             [
              0.3333333333333333,
              "#9c179e"
             ],
             [
              0.4444444444444444,
              "#bd3786"
             ],
             [
              0.5555555555555556,
              "#d8576b"
             ],
             [
              0.6666666666666666,
              "#ed7953"
             ],
             [
              0.7777777777777778,
              "#fb9f3a"
             ],
             [
              0.8888888888888888,
              "#fdca26"
             ],
             [
              1,
              "#f0f921"
             ]
            ],
            "type": "histogram2dcontour"
           }
          ],
          "mesh3d": [
           {
            "colorbar": {
             "outlinewidth": 0,
             "ticks": ""
            },
            "type": "mesh3d"
           }
          ],
          "parcoords": [
           {
            "line": {
             "colorbar": {
              "outlinewidth": 0,
              "ticks": ""
             }
            },
            "type": "parcoords"
           }
          ],
          "pie": [
           {
            "automargin": true,
            "type": "pie"
           }
          ],
          "scatter": [
           {
            "fillpattern": {
             "fillmode": "overlay",
             "size": 10,
             "solidity": 0.2
            },
            "type": "scatter"
           }
          ],
          "scatter3d": [
           {
            "line": {
             "colorbar": {
              "outlinewidth": 0,
              "ticks": ""
             }
            },
            "marker": {
             "colorbar": {
              "outlinewidth": 0,
              "ticks": ""
             }
            },
            "type": "scatter3d"
           }
          ],
          "scattercarpet": [
           {
            "marker": {
             "colorbar": {
              "outlinewidth": 0,
              "ticks": ""
             }
            },
            "type": "scattercarpet"
           }
          ],
          "scattergeo": [
           {
            "marker": {
             "colorbar": {
              "outlinewidth": 0,
              "ticks": ""
             }
            },
            "type": "scattergeo"
           }
          ],
          "scattergl": [
           {
            "marker": {
             "colorbar": {
              "outlinewidth": 0,
              "ticks": ""
             }
            },
            "type": "scattergl"
           }
          ],
          "scattermapbox": [
           {
            "marker": {
             "colorbar": {
              "outlinewidth": 0,
              "ticks": ""
             }
            },
            "type": "scattermapbox"
           }
          ],
          "scatterpolar": [
           {
            "marker": {
             "colorbar": {
              "outlinewidth": 0,
              "ticks": ""
             }
            },
            "type": "scatterpolar"
           }
          ],
          "scatterpolargl": [
           {
            "marker": {
             "colorbar": {
              "outlinewidth": 0,
              "ticks": ""
             }
            },
            "type": "scatterpolargl"
           }
          ],
          "scatterternary": [
           {
            "marker": {
             "colorbar": {
              "outlinewidth": 0,
              "ticks": ""
             }
            },
            "type": "scatterternary"
           }
          ],
          "surface": [
           {
            "colorbar": {
             "outlinewidth": 0,
             "ticks": ""
            },
            "colorscale": [
             [
              0,
              "#0d0887"
             ],
             [
              0.1111111111111111,
              "#46039f"
             ],
             [
              0.2222222222222222,
              "#7201a8"
             ],
             [
              0.3333333333333333,
              "#9c179e"
             ],
             [
              0.4444444444444444,
              "#bd3786"
             ],
             [
              0.5555555555555556,
              "#d8576b"
             ],
             [
              0.6666666666666666,
              "#ed7953"
             ],
             [
              0.7777777777777778,
              "#fb9f3a"
             ],
             [
              0.8888888888888888,
              "#fdca26"
             ],
             [
              1,
              "#f0f921"
             ]
            ],
            "type": "surface"
           }
          ],
          "table": [
           {
            "cells": {
             "fill": {
              "color": "#EBF0F8"
             },
             "line": {
              "color": "white"
             }
            },
            "header": {
             "fill": {
              "color": "#C8D4E3"
             },
             "line": {
              "color": "white"
             }
            },
            "type": "table"
           }
          ]
         },
         "layout": {
          "annotationdefaults": {
           "arrowcolor": "#2a3f5f",
           "arrowhead": 0,
           "arrowwidth": 1
          },
          "autotypenumbers": "strict",
          "coloraxis": {
           "colorbar": {
            "outlinewidth": 0,
            "ticks": ""
           }
          },
          "colorscale": {
           "diverging": [
            [
             0,
             "#8e0152"
            ],
            [
             0.1,
             "#c51b7d"
            ],
            [
             0.2,
             "#de77ae"
            ],
            [
             0.3,
             "#f1b6da"
            ],
            [
             0.4,
             "#fde0ef"
            ],
            [
             0.5,
             "#f7f7f7"
            ],
            [
             0.6,
             "#e6f5d0"
            ],
            [
             0.7,
             "#b8e186"
            ],
            [
             0.8,
             "#7fbc41"
            ],
            [
             0.9,
             "#4d9221"
            ],
            [
             1,
             "#276419"
            ]
           ],
           "sequential": [
            [
             0,
             "#0d0887"
            ],
            [
             0.1111111111111111,
             "#46039f"
            ],
            [
             0.2222222222222222,
             "#7201a8"
            ],
            [
             0.3333333333333333,
             "#9c179e"
            ],
            [
             0.4444444444444444,
             "#bd3786"
            ],
            [
             0.5555555555555556,
             "#d8576b"
            ],
            [
             0.6666666666666666,
             "#ed7953"
            ],
            [
             0.7777777777777778,
             "#fb9f3a"
            ],
            [
             0.8888888888888888,
             "#fdca26"
            ],
            [
             1,
             "#f0f921"
            ]
           ],
           "sequentialminus": [
            [
             0,
             "#0d0887"
            ],
            [
             0.1111111111111111,
             "#46039f"
            ],
            [
             0.2222222222222222,
             "#7201a8"
            ],
            [
             0.3333333333333333,
             "#9c179e"
            ],
            [
             0.4444444444444444,
             "#bd3786"
            ],
            [
             0.5555555555555556,
             "#d8576b"
            ],
            [
             0.6666666666666666,
             "#ed7953"
            ],
            [
             0.7777777777777778,
             "#fb9f3a"
            ],
            [
             0.8888888888888888,
             "#fdca26"
            ],
            [
             1,
             "#f0f921"
            ]
           ]
          },
          "colorway": [
           "#636efa",
           "#EF553B",
           "#00cc96",
           "#ab63fa",
           "#FFA15A",
           "#19d3f3",
           "#FF6692",
           "#B6E880",
           "#FF97FF",
           "#FECB52"
          ],
          "font": {
           "color": "#2a3f5f"
          },
          "geo": {
           "bgcolor": "white",
           "lakecolor": "white",
           "landcolor": "#E5ECF6",
           "showlakes": true,
           "showland": true,
           "subunitcolor": "white"
          },
          "hoverlabel": {
           "align": "left"
          },
          "hovermode": "closest",
          "mapbox": {
           "style": "light"
          },
          "paper_bgcolor": "white",
          "plot_bgcolor": "#E5ECF6",
          "polar": {
           "angularaxis": {
            "gridcolor": "white",
            "linecolor": "white",
            "ticks": ""
           },
           "bgcolor": "#E5ECF6",
           "radialaxis": {
            "gridcolor": "white",
            "linecolor": "white",
            "ticks": ""
           }
          },
          "scene": {
           "xaxis": {
            "backgroundcolor": "#E5ECF6",
            "gridcolor": "white",
            "gridwidth": 2,
            "linecolor": "white",
            "showbackground": true,
            "ticks": "",
            "zerolinecolor": "white"
           },
           "yaxis": {
            "backgroundcolor": "#E5ECF6",
            "gridcolor": "white",
            "gridwidth": 2,
            "linecolor": "white",
            "showbackground": true,
            "ticks": "",
            "zerolinecolor": "white"
           },
           "zaxis": {
            "backgroundcolor": "#E5ECF6",
            "gridcolor": "white",
            "gridwidth": 2,
            "linecolor": "white",
            "showbackground": true,
            "ticks": "",
            "zerolinecolor": "white"
           }
          },
          "shapedefaults": {
           "line": {
            "color": "#2a3f5f"
           }
          },
          "ternary": {
           "aaxis": {
            "gridcolor": "white",
            "linecolor": "white",
            "ticks": ""
           },
           "baxis": {
            "gridcolor": "white",
            "linecolor": "white",
            "ticks": ""
           },
           "bgcolor": "#E5ECF6",
           "caxis": {
            "gridcolor": "white",
            "linecolor": "white",
            "ticks": ""
           }
          },
          "title": {
           "x": 0.05
          },
          "xaxis": {
           "automargin": true,
           "gridcolor": "white",
           "linecolor": "white",
           "ticks": "",
           "title": {
            "standoff": 15
           },
           "zerolinecolor": "white",
           "zerolinewidth": 2
          },
          "yaxis": {
           "automargin": true,
           "gridcolor": "white",
           "linecolor": "white",
           "ticks": "",
           "title": {
            "standoff": 15
           },
           "zerolinecolor": "white",
           "zerolinewidth": 2
          }
         }
        },
        "title": {
         "text": "Model Comparison Table"
        },
        "width": 800
       }
      },
      "text/html": [
       "<div>                            <div id=\"e2a80afa-28a2-4c00-9c0b-2fc0919cfc93\" class=\"plotly-graph-div\" style=\"height:500px; width:800px;\"></div>            <script type=\"text/javascript\">                require([\"plotly\"], function(Plotly) {                    window.PLOTLYENV=window.PLOTLYENV || {};                                    if (document.getElementById(\"e2a80afa-28a2-4c00-9c0b-2fc0919cfc93\")) {                    Plotly.newPlot(                        \"e2a80afa-28a2-4c00-9c0b-2fc0919cfc93\",                        [{\"cells\":{\"align\":\"left\",\"fill\":{\"color\":\"lavender\"},\"height\":40,\"values\":[[\"R-squared\",\"Closeness Hub Percentage\",\"Shortest path\",\"In same category\"],[0.065,0.349,-0.15,0.029],[0.064621,0.34945,-0.151442,\"N/A\"],[\"N/A\",\"0.00\",\"0.00\",\"0.00\"],[\"N/A\",\"0.00\",\"0.00\",\"N/A\"]]},\"header\":{\"align\":\"left\",\"fill\":{\"color\":\"paleturquoise\"},\"height\":30,\"values\":[\"Metrics\",\"With category\",\"Without category\",\"P-value (With)\",\"P-value (Without)\"]},\"type\":\"table\"}],                        {\"template\":{\"data\":{\"histogram2dcontour\":[{\"type\":\"histogram2dcontour\",\"colorbar\":{\"outlinewidth\":0,\"ticks\":\"\"},\"colorscale\":[[0.0,\"#0d0887\"],[0.1111111111111111,\"#46039f\"],[0.2222222222222222,\"#7201a8\"],[0.3333333333333333,\"#9c179e\"],[0.4444444444444444,\"#bd3786\"],[0.5555555555555556,\"#d8576b\"],[0.6666666666666666,\"#ed7953\"],[0.7777777777777778,\"#fb9f3a\"],[0.8888888888888888,\"#fdca26\"],[1.0,\"#f0f921\"]]}],\"choropleth\":[{\"type\":\"choropleth\",\"colorbar\":{\"outlinewidth\":0,\"ticks\":\"\"}}],\"histogram2d\":[{\"type\":\"histogram2d\",\"colorbar\":{\"outlinewidth\":0,\"ticks\":\"\"},\"colorscale\":[[0.0,\"#0d0887\"],[0.1111111111111111,\"#46039f\"],[0.2222222222222222,\"#7201a8\"],[0.3333333333333333,\"#9c179e\"],[0.4444444444444444,\"#bd3786\"],[0.5555555555555556,\"#d8576b\"],[0.6666666666666666,\"#ed7953\"],[0.7777777777777778,\"#fb9f3a\"],[0.8888888888888888,\"#fdca26\"],[1.0,\"#f0f921\"]]}],\"heatmap\":[{\"type\":\"heatmap\",\"colorbar\":{\"outlinewidth\":0,\"ticks\":\"\"},\"colorscale\":[[0.0,\"#0d0887\"],[0.1111111111111111,\"#46039f\"],[0.2222222222222222,\"#7201a8\"],[0.3333333333333333,\"#9c179e\"],[0.4444444444444444,\"#bd3786\"],[0.5555555555555556,\"#d8576b\"],[0.6666666666666666,\"#ed7953\"],[0.7777777777777778,\"#fb9f3a\"],[0.8888888888888888,\"#fdca26\"],[1.0,\"#f0f921\"]]}],\"heatmapgl\":[{\"type\":\"heatmapgl\",\"colorbar\":{\"outlinewidth\":0,\"ticks\":\"\"},\"colorscale\":[[0.0,\"#0d0887\"],[0.1111111111111111,\"#46039f\"],[0.2222222222222222,\"#7201a8\"],[0.3333333333333333,\"#9c179e\"],[0.4444444444444444,\"#bd3786\"],[0.5555555555555556,\"#d8576b\"],[0.6666666666666666,\"#ed7953\"],[0.7777777777777778,\"#fb9f3a\"],[0.8888888888888888,\"#fdca26\"],[1.0,\"#f0f921\"]]}],\"contourcarpet\":[{\"type\":\"contourcarpet\",\"colorbar\":{\"outlinewidth\":0,\"ticks\":\"\"}}],\"contour\":[{\"type\":\"contour\",\"colorbar\":{\"outlinewidth\":0,\"ticks\":\"\"},\"colorscale\":[[0.0,\"#0d0887\"],[0.1111111111111111,\"#46039f\"],[0.2222222222222222,\"#7201a8\"],[0.3333333333333333,\"#9c179e\"],[0.4444444444444444,\"#bd3786\"],[0.5555555555555556,\"#d8576b\"],[0.6666666666666666,\"#ed7953\"],[0.7777777777777778,\"#fb9f3a\"],[0.8888888888888888,\"#fdca26\"],[1.0,\"#f0f921\"]]}],\"surface\":[{\"type\":\"surface\",\"colorbar\":{\"outlinewidth\":0,\"ticks\":\"\"},\"colorscale\":[[0.0,\"#0d0887\"],[0.1111111111111111,\"#46039f\"],[0.2222222222222222,\"#7201a8\"],[0.3333333333333333,\"#9c179e\"],[0.4444444444444444,\"#bd3786\"],[0.5555555555555556,\"#d8576b\"],[0.6666666666666666,\"#ed7953\"],[0.7777777777777778,\"#fb9f3a\"],[0.8888888888888888,\"#fdca26\"],[1.0,\"#f0f921\"]]}],\"mesh3d\":[{\"type\":\"mesh3d\",\"colorbar\":{\"outlinewidth\":0,\"ticks\":\"\"}}],\"scatter\":[{\"fillpattern\":{\"fillmode\":\"overlay\",\"size\":10,\"solidity\":0.2},\"type\":\"scatter\"}],\"parcoords\":[{\"type\":\"parcoords\",\"line\":{\"colorbar\":{\"outlinewidth\":0,\"ticks\":\"\"}}}],\"scatterpolargl\":[{\"type\":\"scatterpolargl\",\"marker\":{\"colorbar\":{\"outlinewidth\":0,\"ticks\":\"\"}}}],\"bar\":[{\"error_x\":{\"color\":\"#2a3f5f\"},\"error_y\":{\"color\":\"#2a3f5f\"},\"marker\":{\"line\":{\"color\":\"#E5ECF6\",\"width\":0.5},\"pattern\":{\"fillmode\":\"overlay\",\"size\":10,\"solidity\":0.2}},\"type\":\"bar\"}],\"scattergeo\":[{\"type\":\"scattergeo\",\"marker\":{\"colorbar\":{\"outlinewidth\":0,\"ticks\":\"\"}}}],\"scatterpolar\":[{\"type\":\"scatterpolar\",\"marker\":{\"colorbar\":{\"outlinewidth\":0,\"ticks\":\"\"}}}],\"histogram\":[{\"marker\":{\"pattern\":{\"fillmode\":\"overlay\",\"size\":10,\"solidity\":0.2}},\"type\":\"histogram\"}],\"scattergl\":[{\"type\":\"scattergl\",\"marker\":{\"colorbar\":{\"outlinewidth\":0,\"ticks\":\"\"}}}],\"scatter3d\":[{\"type\":\"scatter3d\",\"line\":{\"colorbar\":{\"outlinewidth\":0,\"ticks\":\"\"}},\"marker\":{\"colorbar\":{\"outlinewidth\":0,\"ticks\":\"\"}}}],\"scattermapbox\":[{\"type\":\"scattermapbox\",\"marker\":{\"colorbar\":{\"outlinewidth\":0,\"ticks\":\"\"}}}],\"scatterternary\":[{\"type\":\"scatterternary\",\"marker\":{\"colorbar\":{\"outlinewidth\":0,\"ticks\":\"\"}}}],\"scattercarpet\":[{\"type\":\"scattercarpet\",\"marker\":{\"colorbar\":{\"outlinewidth\":0,\"ticks\":\"\"}}}],\"carpet\":[{\"aaxis\":{\"endlinecolor\":\"#2a3f5f\",\"gridcolor\":\"white\",\"linecolor\":\"white\",\"minorgridcolor\":\"white\",\"startlinecolor\":\"#2a3f5f\"},\"baxis\":{\"endlinecolor\":\"#2a3f5f\",\"gridcolor\":\"white\",\"linecolor\":\"white\",\"minorgridcolor\":\"white\",\"startlinecolor\":\"#2a3f5f\"},\"type\":\"carpet\"}],\"table\":[{\"cells\":{\"fill\":{\"color\":\"#EBF0F8\"},\"line\":{\"color\":\"white\"}},\"header\":{\"fill\":{\"color\":\"#C8D4E3\"},\"line\":{\"color\":\"white\"}},\"type\":\"table\"}],\"barpolar\":[{\"marker\":{\"line\":{\"color\":\"#E5ECF6\",\"width\":0.5},\"pattern\":{\"fillmode\":\"overlay\",\"size\":10,\"solidity\":0.2}},\"type\":\"barpolar\"}],\"pie\":[{\"automargin\":true,\"type\":\"pie\"}]},\"layout\":{\"autotypenumbers\":\"strict\",\"colorway\":[\"#636efa\",\"#EF553B\",\"#00cc96\",\"#ab63fa\",\"#FFA15A\",\"#19d3f3\",\"#FF6692\",\"#B6E880\",\"#FF97FF\",\"#FECB52\"],\"font\":{\"color\":\"#2a3f5f\"},\"hovermode\":\"closest\",\"hoverlabel\":{\"align\":\"left\"},\"paper_bgcolor\":\"white\",\"plot_bgcolor\":\"#E5ECF6\",\"polar\":{\"bgcolor\":\"#E5ECF6\",\"angularaxis\":{\"gridcolor\":\"white\",\"linecolor\":\"white\",\"ticks\":\"\"},\"radialaxis\":{\"gridcolor\":\"white\",\"linecolor\":\"white\",\"ticks\":\"\"}},\"ternary\":{\"bgcolor\":\"#E5ECF6\",\"aaxis\":{\"gridcolor\":\"white\",\"linecolor\":\"white\",\"ticks\":\"\"},\"baxis\":{\"gridcolor\":\"white\",\"linecolor\":\"white\",\"ticks\":\"\"},\"caxis\":{\"gridcolor\":\"white\",\"linecolor\":\"white\",\"ticks\":\"\"}},\"coloraxis\":{\"colorbar\":{\"outlinewidth\":0,\"ticks\":\"\"}},\"colorscale\":{\"sequential\":[[0.0,\"#0d0887\"],[0.1111111111111111,\"#46039f\"],[0.2222222222222222,\"#7201a8\"],[0.3333333333333333,\"#9c179e\"],[0.4444444444444444,\"#bd3786\"],[0.5555555555555556,\"#d8576b\"],[0.6666666666666666,\"#ed7953\"],[0.7777777777777778,\"#fb9f3a\"],[0.8888888888888888,\"#fdca26\"],[1.0,\"#f0f921\"]],\"sequentialminus\":[[0.0,\"#0d0887\"],[0.1111111111111111,\"#46039f\"],[0.2222222222222222,\"#7201a8\"],[0.3333333333333333,\"#9c179e\"],[0.4444444444444444,\"#bd3786\"],[0.5555555555555556,\"#d8576b\"],[0.6666666666666666,\"#ed7953\"],[0.7777777777777778,\"#fb9f3a\"],[0.8888888888888888,\"#fdca26\"],[1.0,\"#f0f921\"]],\"diverging\":[[0,\"#8e0152\"],[0.1,\"#c51b7d\"],[0.2,\"#de77ae\"],[0.3,\"#f1b6da\"],[0.4,\"#fde0ef\"],[0.5,\"#f7f7f7\"],[0.6,\"#e6f5d0\"],[0.7,\"#b8e186\"],[0.8,\"#7fbc41\"],[0.9,\"#4d9221\"],[1,\"#276419\"]]},\"xaxis\":{\"gridcolor\":\"white\",\"linecolor\":\"white\",\"ticks\":\"\",\"title\":{\"standoff\":15},\"zerolinecolor\":\"white\",\"automargin\":true,\"zerolinewidth\":2},\"yaxis\":{\"gridcolor\":\"white\",\"linecolor\":\"white\",\"ticks\":\"\",\"title\":{\"standoff\":15},\"zerolinecolor\":\"white\",\"automargin\":true,\"zerolinewidth\":2},\"scene\":{\"xaxis\":{\"backgroundcolor\":\"#E5ECF6\",\"gridcolor\":\"white\",\"linecolor\":\"white\",\"showbackground\":true,\"ticks\":\"\",\"zerolinecolor\":\"white\",\"gridwidth\":2},\"yaxis\":{\"backgroundcolor\":\"#E5ECF6\",\"gridcolor\":\"white\",\"linecolor\":\"white\",\"showbackground\":true,\"ticks\":\"\",\"zerolinecolor\":\"white\",\"gridwidth\":2},\"zaxis\":{\"backgroundcolor\":\"#E5ECF6\",\"gridcolor\":\"white\",\"linecolor\":\"white\",\"showbackground\":true,\"ticks\":\"\",\"zerolinecolor\":\"white\",\"gridwidth\":2}},\"shapedefaults\":{\"line\":{\"color\":\"#2a3f5f\"}},\"annotationdefaults\":{\"arrowcolor\":\"#2a3f5f\",\"arrowhead\":0,\"arrowwidth\":1},\"geo\":{\"bgcolor\":\"white\",\"landcolor\":\"#E5ECF6\",\"subunitcolor\":\"white\",\"showland\":true,\"showlakes\":true,\"lakecolor\":\"white\"},\"title\":{\"x\":0.05},\"mapbox\":{\"style\":\"light\"}}},\"title\":{\"text\":\"Model Comparison Table\"},\"width\":800,\"height\":500},                        {\"responsive\": true}                    ).then(function(){\n",
       "                            \n",
       "var gd = document.getElementById('e2a80afa-28a2-4c00-9c0b-2fc0919cfc93');\n",
       "var x = new MutationObserver(function (mutations, observer) {{\n",
       "        var display = window.getComputedStyle(gd).display;\n",
       "        if (!display || display === 'none') {{\n",
       "            console.log([gd, 'removed!']);\n",
       "            Plotly.purge(gd);\n",
       "            observer.disconnect();\n",
       "        }}\n",
       "}});\n",
       "\n",
       "// Listen for the removal of the full notebook cells\n",
       "var notebookContainer = gd.closest('#notebook-container');\n",
       "if (notebookContainer) {{\n",
       "    x.observe(notebookContainer, {childList: true});\n",
       "}}\n",
       "\n",
       "// Listen for the clearing of the current output cell\n",
       "var outputEl = gd.closest('.output');\n",
       "if (outputEl) {{\n",
       "    x.observe(outputEl, {childList: true});\n",
       "}}\n",
       "\n",
       "                        })                };                });            </script>        </div>"
      ]
     },
     "metadata": {},
     "output_type": "display_data"
    }
   ],
   "source": [
    "import plotly.graph_objects as go\n",
    "import pandas as pd\n",
    "\n",
    "# Create a DataFrame from the provided data\n",
    "data = {\n",
    "    'Metrics': ['R-squared', 'Closeness Hub Percentage', 'Shortest path', 'In same category'],\n",
    "    'With category': [0.065, 0.349, -0.150, 0.029],\n",
    "    'Without category': [0.064621, 0.34945, -0.151442, 'N/A'],\n",
    "    'P-value (With)': ['N/A', '0.00', '0.00', '0.00'],\n",
    "    'P-value (Without)': ['N/A', '0.00', '0.00', 'N/A']\n",
    "}\n",
    "df = pd.DataFrame(data)\n",
    "\n",
    "# Create an interactive table with Plotly\n",
    "fig = go.Figure(data=[go.Table(\n",
    "    header=dict(values=list(df.columns),\n",
    "                fill_color='paleturquoise',\n",
    "                align='left',\n",
    "                height=30),\n",
    "    cells=dict(values=[df[k].tolist() for k in df.columns],\n",
    "               fill_color='lavender',\n",
    "               align='left',\n",
    "               height=40))\n",
    "])\n",
    "\n",
    "# Update layout for better display\n",
    "fig.update_layout(\n",
    "    width=800,\n",
    "    height=500,\n",
    "    title_text=\"Model Comparison Table\"\n",
    ")\n",
    "\n",
    "fig.show()\n"
   ]
  }
 ],
 "metadata": {
  "kernelspec": {
   "display_name": "Python 3 (ipykernel)",
   "language": "python",
   "name": "python3"
  },
  "language_info": {
   "codemirror_mode": {
    "name": "ipython",
    "version": 3
   },
   "file_extension": ".py",
   "mimetype": "text/x-python",
   "name": "python",
   "nbconvert_exporter": "python",
   "pygments_lexer": "ipython3",
   "version": "3.11.5"
  }
 },
 "nbformat": 4,
 "nbformat_minor": 4
}
