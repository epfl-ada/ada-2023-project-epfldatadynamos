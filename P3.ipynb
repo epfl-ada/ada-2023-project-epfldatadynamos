{
 "cells": [
  {
   "cell_type": "code",
   "execution_count": 68,
   "metadata": {},
   "outputs": [],
   "source": [
    "import numpy as np\n",
    "import seaborn as sns\n",
    "import pandas as pd\n",
    "import networkx as nx\n",
    "import matplotlib.pyplot as plt\n",
    "import statsmodels.formula.api as smf\n",
    "import statsmodels.api as sm\n",
    "from scipy.stats import norm\n",
    "from sklearn.linear_model import LinearRegression, LogisticRegression\n",
    "from sklearn.model_selection import cross_val_predict\n",
    "from sklearn.model_selection import cross_val_score\n",
    "from sklearn.metrics import mean_squared_error, auc, roc_curve\n",
    "\n",
    "import html\n",
    "import urllib\n",
    "\n",
    "from helper_functions import *"
   ]
  },
  {
   "cell_type": "markdown",
   "metadata": {},
   "source": [
    "Reading data\n",
    "------------"
   ]
  },
  {
   "cell_type": "code",
   "execution_count": 2,
   "metadata": {},
   "outputs": [],
   "source": [
    "graphs_path = './data/wikispeedia_paths-and-graph/'"
   ]
  },
  {
   "cell_type": "code",
   "execution_count": 3,
   "metadata": {},
   "outputs": [],
   "source": [
    "link_network = read_tsv('links', names=['source', 'target'])\n",
    "categories = read_tsv('categories')\n",
    "finished_paths = read_tsv('paths_finished')\n",
    "unfinished_paths = read_tsv('paths_unfinished')\n",
    "articles = read_tsv('articles')"
   ]
  },
  {
   "cell_type": "markdown",
   "metadata": {},
   "source": [
    "Functions\n",
    "------------"
   ]
  },
  {
   "cell_type": "code",
   "execution_count": 39,
   "metadata": {},
   "outputs": [],
   "source": [
    "def article_length(article_name):\n",
    "    ''' Compute the average length of an article, i.e. the number of words'''\n",
    "    article_path = './data/plaintext_articles/'\n",
    "    article = article_path + article_name + '.txt'\n",
    "    \n",
    "    nb_words = 0\n",
    "    with open(article) as f:\n",
    "        for line in f:\n",
    "            nb_words += len(line.split())\n",
    "    return nb_words\n",
    "\n",
    "def get_avg_duration(row):\n",
    "    ''' Compute the average duration spent per articles'''\n",
    "    num_steps = len(row['path'].split(';')) - 1\n",
    "    return np.nan if num_steps <= 0 else row['durationInSec'] / num_steps\n",
    "\n",
    "def avg_article_length(path):\n",
    "    '''Compute the average article lenght (i.e. nb of words) along a path of articles'''\n",
    "    avg_article_length = []\n",
    "    for index, row in path.iterrows():\n",
    "        articles = row['path'].split(';')\n",
    "        articles_length = []\n",
    "        for art in articles:\n",
    "            if art != '<': #Not considering backcliks\n",
    "                articles_length.append(article_length(art))\n",
    "        avg_article_length.append(np.mean(articles_length))\n",
    "    return avg_article_length\n",
    "\n",
    "def avg_target_source_ratio(path):\n",
    "    ''' Compute the average ratio of incoming and outgoing links in articles along a path'''\n",
    "    avg_target_source_ratio = []\n",
    "    for index, row in path.iterrows():\n",
    "        articles = row['path'].split(';')\n",
    "        target_source_ratio = []\n",
    "        if '<' in articles: #Not considering backcliks\n",
    "            target_source_ratio.append(float('nan'))\n",
    "        else:\n",
    "            for art in articles:\n",
    "                if art in list(link_counts['article']):\n",
    "                    target_source_ratio.append(link_counts[link_counts['article']==art]['target_source_ratio'].values[0])\n",
    "                else:\n",
    "                    target_source_ratio.append(float('nan'))\n",
    "        avg_target_source_ratio.append(np.nanmean(target_source_ratio))\n",
    "    \n",
    "    return avg_target_source_ratio\n",
    "\n",
    "def calculate_positions(arts):\n",
    "    ''' Compute the relative position of links clicked in a path'''\n",
    "    # ignore backclicks\n",
    "    if '<' in arts: return [float('nan')]\n",
    "    \n",
    "    articles = arts.split(';')\n",
    "    \n",
    "    # ignore paths without actual steps\n",
    "    if len(articles) < 2: return [float('nan')]\n",
    "    \n",
    "    positions = []\n",
    "    \n",
    "    art_idx = 0\n",
    "    \n",
    "    for idx, art in enumerate(articles[1:]):\n",
    "        art0 = articles[art_idx]\n",
    "        try:          \n",
    "            positions.append(link_network_pos[(link_network_pos['source'] == art0)\n",
    "                            & (link_network_pos['target'] == art)]['position'].values[0])\n",
    "            art_idx = idx+1\n",
    "        except:\n",
    "            print(art0, art, arts)\n",
    "            return [float('nan')]\n",
    "    \n",
    "    return positions\n",
    "\n",
    "def normalize(data, column_name):\n",
    "    ''' Normalize a column in a dataframe '''\n",
    "    return (data[column_name] - data[column_name].mean())/data[column_name].std()\n",
    "\n",
    "def get_similarity(propensity_score1, propensity_score2):\n",
    "    '''Calculate similarity for instances with given propensity scores'''\n",
    "    return 1-np.abs(propensity_score1-propensity_score2)"
   ]
  },
  {
   "cell_type": "markdown",
   "metadata": {},
   "source": [
    "Phase 2: Exploratory Data Analysis\n",
    "------------"
   ]
  },
  {
   "cell_type": "markdown",
   "metadata": {},
   "source": [
    "### Article metrics"
   ]
  },
  {
   "cell_type": "code",
   "execution_count": 5,
   "metadata": {},
   "outputs": [],
   "source": [
    "# Ratio of of incoming and outgoing links for each article: \n",
    "source_counts = link_network['source'].value_counts().rename_axis('article').reset_index(name='source_count')\n",
    "target_counts = link_network['target'].value_counts().rename_axis('article').reset_index(name='target_count')\n",
    "\n",
    "link_counts = pd.merge(source_counts, target_counts, how='outer')\n",
    "link_counts.fillna(0, inplace=True)\n",
    "\n",
    "link_counts['target_source_ratio'] = link_counts['target_count'] / link_counts['source_count']\n",
    "link_counts['target_source_ratio'].replace([np.inf], np.nan, inplace=True)"
   ]
  },
  {
   "cell_type": "code",
   "execution_count": 6,
   "metadata": {
    "scrolled": false
   },
   "outputs": [
    {
     "data": {
      "text/html": [
       "<div>\n",
       "<style scoped>\n",
       "    .dataframe tbody tr th:only-of-type {\n",
       "        vertical-align: middle;\n",
       "    }\n",
       "\n",
       "    .dataframe tbody tr th {\n",
       "        vertical-align: top;\n",
       "    }\n",
       "\n",
       "    .dataframe thead th {\n",
       "        text-align: right;\n",
       "    }\n",
       "</style>\n",
       "<table border=\"1\" class=\"dataframe\">\n",
       "  <thead>\n",
       "    <tr style=\"text-align: right;\">\n",
       "      <th></th>\n",
       "      <th>article</th>\n",
       "      <th>source_count</th>\n",
       "      <th>target_count</th>\n",
       "      <th>target_source_ratio</th>\n",
       "    </tr>\n",
       "  </thead>\n",
       "  <tbody>\n",
       "    <tr>\n",
       "      <th>0</th>\n",
       "      <td>United_States</td>\n",
       "      <td>294.0</td>\n",
       "      <td>1551.0</td>\n",
       "      <td>5.275510</td>\n",
       "    </tr>\n",
       "    <tr>\n",
       "      <th>1</th>\n",
       "      <td>Driving_on_the_left_or_right</td>\n",
       "      <td>255.0</td>\n",
       "      <td>0.0</td>\n",
       "      <td>0.000000</td>\n",
       "    </tr>\n",
       "    <tr>\n",
       "      <th>2</th>\n",
       "      <td>List_of_countries</td>\n",
       "      <td>244.0</td>\n",
       "      <td>63.0</td>\n",
       "      <td>0.258197</td>\n",
       "    </tr>\n",
       "    <tr>\n",
       "      <th>3</th>\n",
       "      <td>List_of_circulating_currencies</td>\n",
       "      <td>236.0</td>\n",
       "      <td>8.0</td>\n",
       "      <td>0.033898</td>\n",
       "    </tr>\n",
       "    <tr>\n",
       "      <th>4</th>\n",
       "      <td>List_of_sovereign_states</td>\n",
       "      <td>216.0</td>\n",
       "      <td>43.0</td>\n",
       "      <td>0.199074</td>\n",
       "    </tr>\n",
       "  </tbody>\n",
       "</table>\n",
       "</div>"
      ],
      "text/plain": [
       "                          article  source_count  target_count  \\\n",
       "0                   United_States         294.0        1551.0   \n",
       "1    Driving_on_the_left_or_right         255.0           0.0   \n",
       "2               List_of_countries         244.0          63.0   \n",
       "3  List_of_circulating_currencies         236.0           8.0   \n",
       "4        List_of_sovereign_states         216.0          43.0   \n",
       "\n",
       "   target_source_ratio  \n",
       "0             5.275510  \n",
       "1             0.000000  \n",
       "2             0.258197  \n",
       "3             0.033898  \n",
       "4             0.199074  "
      ]
     },
     "metadata": {},
     "output_type": "display_data"
    },
    {
     "data": {
      "text/plain": [
       "(4592, 4)"
      ]
     },
     "execution_count": 6,
     "metadata": {},
     "output_type": "execute_result"
    }
   ],
   "source": [
    "display(link_counts.head(5))\n",
    "link_counts.shape"
   ]
  },
  {
   "cell_type": "code",
   "execution_count": 7,
   "metadata": {},
   "outputs": [],
   "source": [
    "# Length of articles (i.e. nb of words):\n",
    "link_counts['article_length'] = link_counts['article'].apply(lambda x: article_length(x))"
   ]
  },
  {
   "cell_type": "code",
   "execution_count": 8,
   "metadata": {
    "scrolled": false
   },
   "outputs": [
    {
     "data": {
      "text/html": [
       "<div>\n",
       "<style scoped>\n",
       "    .dataframe tbody tr th:only-of-type {\n",
       "        vertical-align: middle;\n",
       "    }\n",
       "\n",
       "    .dataframe tbody tr th {\n",
       "        vertical-align: top;\n",
       "    }\n",
       "\n",
       "    .dataframe thead th {\n",
       "        text-align: right;\n",
       "    }\n",
       "</style>\n",
       "<table border=\"1\" class=\"dataframe\">\n",
       "  <thead>\n",
       "    <tr style=\"text-align: right;\">\n",
       "      <th></th>\n",
       "      <th>article</th>\n",
       "      <th>source_count</th>\n",
       "      <th>target_count</th>\n",
       "      <th>target_source_ratio</th>\n",
       "      <th>article_length</th>\n",
       "    </tr>\n",
       "  </thead>\n",
       "  <tbody>\n",
       "    <tr>\n",
       "      <th>0</th>\n",
       "      <td>United_States</td>\n",
       "      <td>294.0</td>\n",
       "      <td>1551.0</td>\n",
       "      <td>5.275510</td>\n",
       "      <td>9773</td>\n",
       "    </tr>\n",
       "    <tr>\n",
       "      <th>1</th>\n",
       "      <td>Driving_on_the_left_or_right</td>\n",
       "      <td>255.0</td>\n",
       "      <td>0.0</td>\n",
       "      <td>0.000000</td>\n",
       "      <td>7995</td>\n",
       "    </tr>\n",
       "    <tr>\n",
       "      <th>2</th>\n",
       "      <td>List_of_countries</td>\n",
       "      <td>244.0</td>\n",
       "      <td>63.0</td>\n",
       "      <td>0.258197</td>\n",
       "      <td>3162</td>\n",
       "    </tr>\n",
       "    <tr>\n",
       "      <th>3</th>\n",
       "      <td>List_of_circulating_currencies</td>\n",
       "      <td>236.0</td>\n",
       "      <td>8.0</td>\n",
       "      <td>0.033898</td>\n",
       "      <td>3019</td>\n",
       "    </tr>\n",
       "    <tr>\n",
       "      <th>4</th>\n",
       "      <td>List_of_sovereign_states</td>\n",
       "      <td>216.0</td>\n",
       "      <td>43.0</td>\n",
       "      <td>0.199074</td>\n",
       "      <td>5586</td>\n",
       "    </tr>\n",
       "  </tbody>\n",
       "</table>\n",
       "</div>"
      ],
      "text/plain": [
       "                          article  source_count  target_count  \\\n",
       "0                   United_States         294.0        1551.0   \n",
       "1    Driving_on_the_left_or_right         255.0           0.0   \n",
       "2               List_of_countries         244.0          63.0   \n",
       "3  List_of_circulating_currencies         236.0           8.0   \n",
       "4        List_of_sovereign_states         216.0          43.0   \n",
       "\n",
       "   target_source_ratio  article_length  \n",
       "0             5.275510            9773  \n",
       "1             0.000000            7995  \n",
       "2             0.258197            3162  \n",
       "3             0.033898            3019  \n",
       "4             0.199074            5586  "
      ]
     },
     "metadata": {},
     "output_type": "display_data"
    },
    {
     "data": {
      "text/plain": [
       "(4592, 5)"
      ]
     },
     "execution_count": 8,
     "metadata": {},
     "output_type": "execute_result"
    }
   ],
   "source": [
    "display(link_counts.head(5))\n",
    "link_counts.shape"
   ]
  },
  {
   "cell_type": "code",
   "execution_count": null,
   "metadata": {},
   "outputs": [],
   "source": [
    "# Positions of links within the articles: (takes time to compute, load the dataframe instead)\n",
    "\n",
    "# Remove links to and from non-Wikipedia articles (donation pages)\n",
    "#link_network = filter_rows_by_values(link_network, 'source', ['Friend_Directdebit', 'Sponsorship_Directdebit'])\n",
    "#link_network_targets = link_network.groupby('source')['target'].apply(list).reset_index()\n",
    "\n",
    "# Add the 'html_position' column to the DataFrame\n",
    "#link_network_targets['html_position'] = link_network_targets.apply(\n",
    "#    lambda row: find_html_position(row['source'], row['target']), axis=1\n",
    "#)\n",
    "\n",
    "#display(link_network_targets.head(5))\n",
    "#link_network_targets.shape"
   ]
  },
  {
   "cell_type": "code",
   "execution_count": 9,
   "metadata": {},
   "outputs": [],
   "source": [
    "# Load the data (postisions of link already computed) \n",
    "link_network_pos = pd.read_pickle('link_network_w_position.df')"
   ]
  },
  {
   "cell_type": "code",
   "execution_count": 10,
   "metadata": {},
   "outputs": [
    {
     "data": {
      "text/html": [
       "<div>\n",
       "<style scoped>\n",
       "    .dataframe tbody tr th:only-of-type {\n",
       "        vertical-align: middle;\n",
       "    }\n",
       "\n",
       "    .dataframe tbody tr th {\n",
       "        vertical-align: top;\n",
       "    }\n",
       "\n",
       "    .dataframe thead th {\n",
       "        text-align: right;\n",
       "    }\n",
       "</style>\n",
       "<table border=\"1\" class=\"dataframe\">\n",
       "  <thead>\n",
       "    <tr style=\"text-align: right;\">\n",
       "      <th></th>\n",
       "      <th>source</th>\n",
       "      <th>target</th>\n",
       "      <th>position</th>\n",
       "    </tr>\n",
       "  </thead>\n",
       "  <tbody>\n",
       "    <tr>\n",
       "      <th>0</th>\n",
       "      <td>%C3%81ed%C3%A1n_mac_Gabr%C3%A1in</td>\n",
       "      <td>Columba</td>\n",
       "      <td>0.037459</td>\n",
       "    </tr>\n",
       "    <tr>\n",
       "      <th>1</th>\n",
       "      <td>%C3%81ed%C3%A1n_mac_Gabr%C3%A1in</td>\n",
       "      <td>D%C3%A1l_Riata</td>\n",
       "      <td>0.025523</td>\n",
       "    </tr>\n",
       "    <tr>\n",
       "      <th>2</th>\n",
       "      <td>%C3%81ed%C3%A1n_mac_Gabr%C3%A1in</td>\n",
       "      <td>Great_Britain</td>\n",
       "      <td>0.058024</td>\n",
       "    </tr>\n",
       "    <tr>\n",
       "      <th>3</th>\n",
       "      <td>%C3%81ed%C3%A1n_mac_Gabr%C3%A1in</td>\n",
       "      <td>Ireland</td>\n",
       "      <td>0.032042</td>\n",
       "    </tr>\n",
       "    <tr>\n",
       "      <th>4</th>\n",
       "      <td>%C3%81ed%C3%A1n_mac_Gabr%C3%A1in</td>\n",
       "      <td>Isle_of_Man</td>\n",
       "      <td>0.063349</td>\n",
       "    </tr>\n",
       "  </tbody>\n",
       "</table>\n",
       "</div>"
      ],
      "text/plain": [
       "                             source          target  position\n",
       "0  %C3%81ed%C3%A1n_mac_Gabr%C3%A1in         Columba  0.037459\n",
       "1  %C3%81ed%C3%A1n_mac_Gabr%C3%A1in  D%C3%A1l_Riata  0.025523\n",
       "2  %C3%81ed%C3%A1n_mac_Gabr%C3%A1in   Great_Britain  0.058024\n",
       "3  %C3%81ed%C3%A1n_mac_Gabr%C3%A1in         Ireland  0.032042\n",
       "4  %C3%81ed%C3%A1n_mac_Gabr%C3%A1in     Isle_of_Man  0.063349"
      ]
     },
     "metadata": {},
     "output_type": "display_data"
    },
    {
     "data": {
      "text/plain": [
       "(119878, 3)"
      ]
     },
     "execution_count": 10,
     "metadata": {},
     "output_type": "execute_result"
    }
   ],
   "source": [
    "display(link_network_pos.head(5))\n",
    "link_network_pos.shape"
   ]
  },
  {
   "cell_type": "code",
   "execution_count": 11,
   "metadata": {},
   "outputs": [],
   "source": [
    "# Identify main categories and sublevels of categories:\n",
    "main_cat_set = set()\n",
    "sec_cat_set = set()\n",
    "thrd_cat_set = set()\n",
    "\n",
    "for cat in categories['category']:\n",
    "    levels = cat.split('.')\n",
    "    if len(levels) > 1:\n",
    "        main_cat_set.add(levels[1])\n",
    "    if len(levels) > 2:\n",
    "        sec_cat_set.add(levels[2])\n",
    "    if len(levels) > 3:\n",
    "        thrd_cat_set.add(levels[3])"
   ]
  },
  {
   "cell_type": "code",
   "execution_count": 12,
   "metadata": {},
   "outputs": [
    {
     "name": "stdout",
     "output_type": "stream",
     "text": [
      "There are 15 unique main categories, 101 unique second level categories, and 27 unique third level categories.\n"
     ]
    }
   ],
   "source": [
    "print(f'There are {len(main_cat_set)} unique main categories, {len(sec_cat_set)} unique second level categories, and {len(thrd_cat_set)} unique third level categories.')"
   ]
  },
  {
   "cell_type": "markdown",
   "metadata": {},
   "source": [
    "### Player path specific metrics"
   ]
  },
  {
   "cell_type": "code",
   "execution_count": null,
   "metadata": {},
   "outputs": [],
   "source": [
    "# These steps take time to execute, load the dataframes to have the already computed values"
   ]
  },
  {
   "cell_type": "code",
   "execution_count": 13,
   "metadata": {},
   "outputs": [],
   "source": [
    "# Average duration per articles:\n",
    "#finished_paths['avg_duration'] = finished_paths.apply(get_avg_duration, axis=1)\n",
    "#unfinished_paths['avg_duration'] = unfinished_paths.apply(get_avg_duration, axis=1)"
   ]
  },
  {
   "cell_type": "code",
   "execution_count": null,
   "metadata": {},
   "outputs": [],
   "source": [
    "# Position of links:\n",
    "#finished_paths['link_positions'] = finished_paths['path'].apply(calculate_positions)\n",
    "#unfinished_paths['link_positions'] = unfinished_paths['path'].apply(calculate_positions)"
   ]
  },
  {
   "cell_type": "code",
   "execution_count": null,
   "metadata": {},
   "outputs": [],
   "source": [
    "# Average positions of links clicked for each path:\n",
    "#finished_paths['avg_position'] = finished_paths['link_positions'].apply(\n",
    "#    lambda x: np.mean(x) if x else np.nan)\n",
    "#unfinished_paths['avg_position'] = unfinished_paths['link_positions'].apply(\n",
    "#    lambda x: np.mean(x) if x else np.nan)"
   ]
  },
  {
   "cell_type": "code",
   "execution_count": null,
   "metadata": {},
   "outputs": [],
   "source": [
    "# Average article length:\n",
    "#finished_paths['avg_article_length'] = avg_article_length(finished_paths)\n",
    "#unfinished_paths['avg_article_length'] = avg_article_length(unfinished_paths)"
   ]
  },
  {
   "cell_type": "code",
   "execution_count": null,
   "metadata": {},
   "outputs": [],
   "source": [
    "# Average ratio of incoming and outgoing links for all article in paths\n",
    "#finished_paths['avg_target_source_ratio'] = avg_target_source_ratio(finished_paths)\n",
    "#unfinished_paths['avg_target_source_ratio'] = avg_target_source_ratio(unfinished_paths)"
   ]
  },
  {
   "cell_type": "code",
   "execution_count": 215,
   "metadata": {},
   "outputs": [],
   "source": [
    "#finished_paths.to_pickle('finished_paths_w_positions.df')\n",
    "#unfinished_paths.to_pickle('unfinished_paths_w_positions.df')"
   ]
  },
  {
   "cell_type": "code",
   "execution_count": 13,
   "metadata": {},
   "outputs": [],
   "source": [
    "# Load data with positions\n",
    "finished_paths = pd.read_pickle('finished_paths_w_positions.df')\n",
    "unfinished_paths = pd.read_pickle('unfinished_paths_w_positions.df')"
   ]
  },
  {
   "cell_type": "code",
   "execution_count": 14,
   "metadata": {},
   "outputs": [
    {
     "data": {
      "text/html": [
       "<div>\n",
       "<style scoped>\n",
       "    .dataframe tbody tr th:only-of-type {\n",
       "        vertical-align: middle;\n",
       "    }\n",
       "\n",
       "    .dataframe tbody tr th {\n",
       "        vertical-align: top;\n",
       "    }\n",
       "\n",
       "    .dataframe thead th {\n",
       "        text-align: right;\n",
       "    }\n",
       "</style>\n",
       "<table border=\"1\" class=\"dataframe\">\n",
       "  <thead>\n",
       "    <tr style=\"text-align: right;\">\n",
       "      <th></th>\n",
       "      <th>hashedIpAddress</th>\n",
       "      <th>timestamp</th>\n",
       "      <th>durationInSec</th>\n",
       "      <th>path</th>\n",
       "      <th>rating</th>\n",
       "      <th>link_positions</th>\n",
       "      <th>avg_duration</th>\n",
       "      <th>avg_position</th>\n",
       "      <th>max_position</th>\n",
       "      <th>avg_article_length</th>\n",
       "      <th>avg_target_source_ratio</th>\n",
       "    </tr>\n",
       "  </thead>\n",
       "  <tbody>\n",
       "    <tr>\n",
       "      <th>0</th>\n",
       "      <td>3824310e536af032</td>\n",
       "      <td>1344753412</td>\n",
       "      <td>88</td>\n",
       "      <td>14th_century;Europe;Africa;Atlantic_slave_trad...</td>\n",
       "      <td>3.0</td>\n",
       "      <td>[0.16301315265045835, 0.0320129127715381, 0.23...</td>\n",
       "      <td>17.600000</td>\n",
       "      <td>0.161321</td>\n",
       "      <td>0.238708</td>\n",
       "      <td>4322.400000</td>\n",
       "      <td>2.191707</td>\n",
       "    </tr>\n",
       "    <tr>\n",
       "      <th>1</th>\n",
       "      <td>415612e93584d30e</td>\n",
       "      <td>1349298640</td>\n",
       "      <td>138</td>\n",
       "      <td>14th_century;Niger;Nigeria;British_Empire;Slav...</td>\n",
       "      <td>NaN</td>\n",
       "      <td>[0.38341968911917096, 0.04472755782046257, 0.0...</td>\n",
       "      <td>17.250000</td>\n",
       "      <td>0.189159</td>\n",
       "      <td>0.383420</td>\n",
       "      <td>5570.875000</td>\n",
       "      <td>1.300951</td>\n",
       "    </tr>\n",
       "    <tr>\n",
       "      <th>2</th>\n",
       "      <td>64dd5cd342e3780c</td>\n",
       "      <td>1265613925</td>\n",
       "      <td>37</td>\n",
       "      <td>14th_century;Renaissance;Ancient_Greece;Greece</td>\n",
       "      <td>NaN</td>\n",
       "      <td>[0.43304105221203665, 0.2143170488534397, 0.04...</td>\n",
       "      <td>9.250000</td>\n",
       "      <td>0.229568</td>\n",
       "      <td>0.433041</td>\n",
       "      <td>4011.000000</td>\n",
       "      <td>2.223104</td>\n",
       "    </tr>\n",
       "    <tr>\n",
       "      <th>3</th>\n",
       "      <td>015245d773376aab</td>\n",
       "      <td>1366730828</td>\n",
       "      <td>175</td>\n",
       "      <td>14th_century;Italy;Roman_Catholic_Church;HIV;R...</td>\n",
       "      <td>3.0</td>\n",
       "      <td>[0.14806695894778796, 0.055970351133474004, 0....</td>\n",
       "      <td>25.000000</td>\n",
       "      <td>0.284119</td>\n",
       "      <td>0.983090</td>\n",
       "      <td>6885.714286</td>\n",
       "      <td>2.969612</td>\n",
       "    </tr>\n",
       "    <tr>\n",
       "      <th>4</th>\n",
       "      <td>5295bca242be81fe</td>\n",
       "      <td>1372890414</td>\n",
       "      <td>110</td>\n",
       "      <td>14th_century;Europe;North_America;United_State...</td>\n",
       "      <td>NaN</td>\n",
       "      <td>[0.16301315265045835, 0.3061066648732262, 0.43...</td>\n",
       "      <td>18.333333</td>\n",
       "      <td>0.263157</td>\n",
       "      <td>0.432730</td>\n",
       "      <td>4909.000000</td>\n",
       "      <td>3.750072</td>\n",
       "    </tr>\n",
       "  </tbody>\n",
       "</table>\n",
       "</div>"
      ],
      "text/plain": [
       "    hashedIpAddress   timestamp  durationInSec  \\\n",
       "0  3824310e536af032  1344753412             88   \n",
       "1  415612e93584d30e  1349298640            138   \n",
       "2  64dd5cd342e3780c  1265613925             37   \n",
       "3  015245d773376aab  1366730828            175   \n",
       "4  5295bca242be81fe  1372890414            110   \n",
       "\n",
       "                                                path  rating  \\\n",
       "0  14th_century;Europe;Africa;Atlantic_slave_trad...     3.0   \n",
       "1  14th_century;Niger;Nigeria;British_Empire;Slav...     NaN   \n",
       "2     14th_century;Renaissance;Ancient_Greece;Greece     NaN   \n",
       "3  14th_century;Italy;Roman_Catholic_Church;HIV;R...     3.0   \n",
       "4  14th_century;Europe;North_America;United_State...     NaN   \n",
       "\n",
       "                                      link_positions  avg_duration  \\\n",
       "0  [0.16301315265045835, 0.0320129127715381, 0.23...     17.600000   \n",
       "1  [0.38341968911917096, 0.04472755782046257, 0.0...     17.250000   \n",
       "2  [0.43304105221203665, 0.2143170488534397, 0.04...      9.250000   \n",
       "3  [0.14806695894778796, 0.055970351133474004, 0....     25.000000   \n",
       "4  [0.16301315265045835, 0.3061066648732262, 0.43...     18.333333   \n",
       "\n",
       "   avg_position  max_position  avg_article_length  avg_target_source_ratio  \n",
       "0      0.161321      0.238708         4322.400000                 2.191707  \n",
       "1      0.189159      0.383420         5570.875000                 1.300951  \n",
       "2      0.229568      0.433041         4011.000000                 2.223104  \n",
       "3      0.284119      0.983090         6885.714286                 2.969612  \n",
       "4      0.263157      0.432730         4909.000000                 3.750072  "
      ]
     },
     "metadata": {},
     "output_type": "display_data"
    },
    {
     "data": {
      "text/html": [
       "<div>\n",
       "<style scoped>\n",
       "    .dataframe tbody tr th:only-of-type {\n",
       "        vertical-align: middle;\n",
       "    }\n",
       "\n",
       "    .dataframe tbody tr th {\n",
       "        vertical-align: top;\n",
       "    }\n",
       "\n",
       "    .dataframe thead th {\n",
       "        text-align: right;\n",
       "    }\n",
       "</style>\n",
       "<table border=\"1\" class=\"dataframe\">\n",
       "  <thead>\n",
       "    <tr style=\"text-align: right;\">\n",
       "      <th></th>\n",
       "      <th>hashedIpAddress</th>\n",
       "      <th>timestamp</th>\n",
       "      <th>durationInSec</th>\n",
       "      <th>path</th>\n",
       "      <th>target</th>\n",
       "      <th>type</th>\n",
       "      <th>link_positions</th>\n",
       "      <th>avg_duration</th>\n",
       "      <th>max_position</th>\n",
       "      <th>avg_position</th>\n",
       "      <th>avg_article_length</th>\n",
       "      <th>avg_target_source_ratio</th>\n",
       "    </tr>\n",
       "  </thead>\n",
       "  <tbody>\n",
       "    <tr>\n",
       "      <th>0</th>\n",
       "      <td>26141fd878806294</td>\n",
       "      <td>1297055651</td>\n",
       "      <td>1805</td>\n",
       "      <td>Julius_Caesar</td>\n",
       "      <td>Caracas</td>\n",
       "      <td>timeout</td>\n",
       "      <td>[nan]</td>\n",
       "      <td>1805.00</td>\n",
       "      <td>NaN</td>\n",
       "      <td>NaN</td>\n",
       "      <td>7586.0</td>\n",
       "      <td>2.333333</td>\n",
       "    </tr>\n",
       "    <tr>\n",
       "      <th>1</th>\n",
       "      <td>2b015fb8181c48f2</td>\n",
       "      <td>1297090819</td>\n",
       "      <td>1818</td>\n",
       "      <td>Malawi;Democracy;Alexander_the_Great</td>\n",
       "      <td>First_Crusade</td>\n",
       "      <td>timeout</td>\n",
       "      <td>[0.020996711358461928, 0.24676118775557]</td>\n",
       "      <td>606.00</td>\n",
       "      <td>0.246761</td>\n",
       "      <td>0.133879</td>\n",
       "      <td>5604.0</td>\n",
       "      <td>1.773224</td>\n",
       "    </tr>\n",
       "    <tr>\n",
       "      <th>2</th>\n",
       "      <td>53a53bc244e08a6a</td>\n",
       "      <td>1297094761</td>\n",
       "      <td>49</td>\n",
       "      <td>Paraguay</td>\n",
       "      <td>Mount_St._Helens</td>\n",
       "      <td>restart</td>\n",
       "      <td>[nan]</td>\n",
       "      <td>49.00</td>\n",
       "      <td>NaN</td>\n",
       "      <td>NaN</td>\n",
       "      <td>1327.0</td>\n",
       "      <td>1.950000</td>\n",
       "    </tr>\n",
       "    <tr>\n",
       "      <th>3</th>\n",
       "      <td>53a53bc244e08a6a</td>\n",
       "      <td>1297099105</td>\n",
       "      <td>1808</td>\n",
       "      <td>Paraguay;Bolivia</td>\n",
       "      <td>Mount_St._Helens</td>\n",
       "      <td>timeout</td>\n",
       "      <td>[0.16173641173641173]</td>\n",
       "      <td>904.00</td>\n",
       "      <td>0.161736</td>\n",
       "      <td>0.161736</td>\n",
       "      <td>3352.0</td>\n",
       "      <td>1.532377</td>\n",
       "    </tr>\n",
       "    <tr>\n",
       "      <th>4</th>\n",
       "      <td>131600803df4895e</td>\n",
       "      <td>1297100557</td>\n",
       "      <td>2009</td>\n",
       "      <td>Agriculture;History_of_the_world;China;Yangtze...</td>\n",
       "      <td>Grand_Canal_of_China</td>\n",
       "      <td>timeout</td>\n",
       "      <td>[0.0487655079228596, 0.12396390951476428, 0.50...</td>\n",
       "      <td>502.25</td>\n",
       "      <td>0.507053</td>\n",
       "      <td>0.226594</td>\n",
       "      <td>4338.0</td>\n",
       "      <td>2.724478</td>\n",
       "    </tr>\n",
       "  </tbody>\n",
       "</table>\n",
       "</div>"
      ],
      "text/plain": [
       "    hashedIpAddress   timestamp  durationInSec  \\\n",
       "0  26141fd878806294  1297055651           1805   \n",
       "1  2b015fb8181c48f2  1297090819           1818   \n",
       "2  53a53bc244e08a6a  1297094761             49   \n",
       "3  53a53bc244e08a6a  1297099105           1808   \n",
       "4  131600803df4895e  1297100557           2009   \n",
       "\n",
       "                                                path                target  \\\n",
       "0                                      Julius_Caesar               Caracas   \n",
       "1               Malawi;Democracy;Alexander_the_Great         First_Crusade   \n",
       "2                                           Paraguay      Mount_St._Helens   \n",
       "3                                   Paraguay;Bolivia      Mount_St._Helens   \n",
       "4  Agriculture;History_of_the_world;China;Yangtze...  Grand_Canal_of_China   \n",
       "\n",
       "      type                                     link_positions  avg_duration  \\\n",
       "0  timeout                                              [nan]       1805.00   \n",
       "1  timeout           [0.020996711358461928, 0.24676118775557]        606.00   \n",
       "2  restart                                              [nan]         49.00   \n",
       "3  timeout                              [0.16173641173641173]        904.00   \n",
       "4  timeout  [0.0487655079228596, 0.12396390951476428, 0.50...        502.25   \n",
       "\n",
       "   max_position  avg_position  avg_article_length  avg_target_source_ratio  \n",
       "0           NaN           NaN              7586.0                 2.333333  \n",
       "1      0.246761      0.133879              5604.0                 1.773224  \n",
       "2           NaN           NaN              1327.0                 1.950000  \n",
       "3      0.161736      0.161736              3352.0                 1.532377  \n",
       "4      0.507053      0.226594              4338.0                 2.724478  "
      ]
     },
     "metadata": {},
     "output_type": "display_data"
    },
    {
     "data": {
      "text/plain": [
       "(24874, 12)"
      ]
     },
     "execution_count": 14,
     "metadata": {},
     "output_type": "execute_result"
    }
   ],
   "source": [
    "display(finished_paths.head(5))\n",
    "finished_paths.shape\n",
    "display(unfinished_paths.head(5))\n",
    "unfinished_paths.shape"
   ]
  },
  {
   "cell_type": "markdown",
   "metadata": {},
   "source": [
    "### Player specific information"
   ]
  },
  {
   "cell_type": "code",
   "execution_count": 15,
   "metadata": {},
   "outputs": [],
   "source": [
    "players = pd.concat([unfinished_paths, finished_paths])"
   ]
  },
  {
   "cell_type": "code",
   "execution_count": 16,
   "metadata": {},
   "outputs": [],
   "source": [
    "# Number of games per player\n",
    "player_game_counts = players.groupby('hashedIpAddress')['path'].count().reset_index()\n",
    "player_game_counts.columns = ['player_hash', 'games_count']"
   ]
  },
  {
   "cell_type": "code",
   "execution_count": 17,
   "metadata": {},
   "outputs": [],
   "source": [
    "# Win rate:\n",
    "player_game_counts['finished_paths_count'] = player_game_counts['player_hash']\\\n",
    "                                             .map(finished_paths['hashedIpAddress']\\\n",
    "                                             .value_counts().fillna(0))\n",
    "player_game_counts['win_rate'] = player_game_counts['finished_paths_count'] / player_game_counts['games_count']\n",
    "player_game_counts['win_rate'].fillna(0, inplace=True)"
   ]
  },
  {
   "cell_type": "code",
   "execution_count": 18,
   "metadata": {},
   "outputs": [
    {
     "data": {
      "text/html": [
       "<div>\n",
       "<style scoped>\n",
       "    .dataframe tbody tr th:only-of-type {\n",
       "        vertical-align: middle;\n",
       "    }\n",
       "\n",
       "    .dataframe tbody tr th {\n",
       "        vertical-align: top;\n",
       "    }\n",
       "\n",
       "    .dataframe thead th {\n",
       "        text-align: right;\n",
       "    }\n",
       "</style>\n",
       "<table border=\"1\" class=\"dataframe\">\n",
       "  <thead>\n",
       "    <tr style=\"text-align: right;\">\n",
       "      <th></th>\n",
       "      <th>player_hash</th>\n",
       "      <th>games_count</th>\n",
       "      <th>finished_paths_count</th>\n",
       "      <th>win_rate</th>\n",
       "    </tr>\n",
       "  </thead>\n",
       "  <tbody>\n",
       "    <tr>\n",
       "      <th>0</th>\n",
       "      <td>000386124f307de8</td>\n",
       "      <td>2</td>\n",
       "      <td>1.0</td>\n",
       "      <td>0.5</td>\n",
       "    </tr>\n",
       "    <tr>\n",
       "      <th>1</th>\n",
       "      <td>0007183207b6008f</td>\n",
       "      <td>3</td>\n",
       "      <td>3.0</td>\n",
       "      <td>1.0</td>\n",
       "    </tr>\n",
       "    <tr>\n",
       "      <th>2</th>\n",
       "      <td>000a09e202e88d10</td>\n",
       "      <td>1</td>\n",
       "      <td>1.0</td>\n",
       "      <td>1.0</td>\n",
       "    </tr>\n",
       "    <tr>\n",
       "      <th>3</th>\n",
       "      <td>000a5bac5b7781ea</td>\n",
       "      <td>1</td>\n",
       "      <td>1.0</td>\n",
       "      <td>1.0</td>\n",
       "    </tr>\n",
       "    <tr>\n",
       "      <th>4</th>\n",
       "      <td>000a6e585b776c96</td>\n",
       "      <td>1</td>\n",
       "      <td>NaN</td>\n",
       "      <td>0.0</td>\n",
       "    </tr>\n",
       "  </tbody>\n",
       "</table>\n",
       "</div>"
      ],
      "text/plain": [
       "        player_hash  games_count  finished_paths_count  win_rate\n",
       "0  000386124f307de8            2                   1.0       0.5\n",
       "1  0007183207b6008f            3                   3.0       1.0\n",
       "2  000a09e202e88d10            1                   1.0       1.0\n",
       "3  000a5bac5b7781ea            1                   1.0       1.0\n",
       "4  000a6e585b776c96            1                   NaN       0.0"
      ]
     },
     "metadata": {},
     "output_type": "display_data"
    },
    {
     "data": {
      "text/plain": [
       "(20866, 4)"
      ]
     },
     "execution_count": 18,
     "metadata": {},
     "output_type": "execute_result"
    }
   ],
   "source": [
    "display(player_game_counts.head(5))\n",
    "player_game_counts.shape"
   ]
  },
  {
   "cell_type": "markdown",
   "metadata": {},
   "source": [
    "Phase 4:  Comparative Analysis and Statistical Modeling\n",
    "------------"
   ]
  },
  {
   "cell_type": "markdown",
   "metadata": {},
   "source": [
    "### Feature Impact Assessment"
   ]
  },
  {
   "cell_type": "markdown",
   "metadata": {},
   "source": [
    "The features to consider are: the average length of articles in each path (`avg_article_length`), the average position of links used along a path (`avg_position`) and the average ratio of incoming and outgoing links for each article in the path (`avg_target_source_ratio`).  "
   ]
  },
  {
   "cell_type": "code",
   "execution_count": 19,
   "metadata": {},
   "outputs": [],
   "source": [
    "# Binary indicator of whether a player completed a path (1) or not (0):\n",
    "paths = pd.concat([finished_paths, unfinished_paths])\n",
    "paths['completion'] = [1]*len(finished_paths) + [0]*len(unfinished_paths)"
   ]
  },
  {
   "cell_type": "code",
   "execution_count": 20,
   "metadata": {},
   "outputs": [],
   "source": [
    "# Standardize the countinuous features\n",
    "paths_normalized = paths.copy()\n",
    "paths_normalized['avg_article_length'] = normalize(paths_normalized, 'avg_article_length')\n",
    "paths_normalized['avg_position'] = normalize(paths_normalized, 'avg_position')\n",
    "paths_normalized['avg_target_source_ratio'] = normalize(paths_normalized, 'avg_target_source_ratio')"
   ]
  },
  {
   "cell_type": "markdown",
   "metadata": {},
   "source": [
    "#### Model 1:"
   ]
  },
  {
   "cell_type": "code",
   "execution_count": 80,
   "metadata": {
    "scrolled": false
   },
   "outputs": [
    {
     "name": "stdout",
     "output_type": "stream",
     "text": [
      "Optimization terminated successfully.\n",
      "         Current function value: 0.565335\n",
      "         Iterations 5\n",
      "                           Logit Regression Results                           \n",
      "==============================================================================\n",
      "Dep. Variable:             completion   No. Observations:                56710\n",
      "Model:                          Logit   Df Residuals:                    56706\n",
      "Method:                           MLE   Df Model:                            3\n",
      "Date:                Fri, 15 Dec 2023   Pseudo R-squ.:                0.002341\n",
      "Time:                        19:56:37   Log-Likelihood:                -32060.\n",
      "converged:                       True   LL-Null:                       -32135.\n",
      "Covariance Type:            nonrobust   LLR p-value:                 2.127e-32\n",
      "===========================================================================================\n",
      "                              coef    std err          z      P>|z|      [0.025      0.975]\n",
      "-------------------------------------------------------------------------------------------\n",
      "Intercept                   1.0873      0.010    111.560      0.000       1.068       1.106\n",
      "avg_article_length          0.0426      0.010      4.212      0.000       0.023       0.062\n",
      "avg_position               -0.0029      0.010     -0.300      0.764      -0.022       0.016\n",
      "avg_target_source_ratio    -0.1186      0.010    -11.851      0.000      -0.138      -0.099\n",
      "===========================================================================================\n"
     ]
    }
   ],
   "source": [
    "# Model 1: dependent variable = completion, so logistic regression (binary outcome)\n",
    "mod1 = smf.logit(formula='completion ~  avg_article_length + avg_position + avg_target_source_ratio', \n",
    "                 data=paths_normalized)\n",
    "res1 = mod1.fit()\n",
    "mod1_propensity_score = res1.predict()\n",
    "\n",
    "print(res1.summary())"
   ]
  },
  {
   "cell_type": "markdown",
   "metadata": {},
   "source": [
    "**I** The pseudo R-squared is very low, meaning that the model does not fit well the data. Our features does not seem to explain well the completion variable. This result show that the global architecture of the articles along a Wikispeedia path does not really impact the completion of the path.  "
   ]
  },
  {
   "cell_type": "code",
   "execution_count": 22,
   "metadata": {
    "scrolled": true
   },
   "outputs": [
    {
     "data": {
      "text/html": [
       "<div>\n",
       "<style scoped>\n",
       "    .dataframe tbody tr th:only-of-type {\n",
       "        vertical-align: middle;\n",
       "    }\n",
       "\n",
       "    .dataframe tbody tr th {\n",
       "        vertical-align: top;\n",
       "    }\n",
       "\n",
       "    .dataframe thead th {\n",
       "        text-align: right;\n",
       "    }\n",
       "</style>\n",
       "<table border=\"1\" class=\"dataframe\">\n",
       "  <thead>\n",
       "    <tr style=\"text-align: right;\">\n",
       "      <th></th>\n",
       "      <th>0</th>\n",
       "      <th>1</th>\n",
       "    </tr>\n",
       "  </thead>\n",
       "  <tbody>\n",
       "    <tr>\n",
       "      <th>Intercept</th>\n",
       "      <td>1.068209</td>\n",
       "      <td>1.106414</td>\n",
       "    </tr>\n",
       "    <tr>\n",
       "      <th>avg_article_length</th>\n",
       "      <td>0.022764</td>\n",
       "      <td>0.062388</td>\n",
       "    </tr>\n",
       "    <tr>\n",
       "      <th>avg_position</th>\n",
       "      <td>-0.021980</td>\n",
       "      <td>0.016150</td>\n",
       "    </tr>\n",
       "    <tr>\n",
       "      <th>avg_target_source_ratio</th>\n",
       "      <td>-0.138252</td>\n",
       "      <td>-0.099012</td>\n",
       "    </tr>\n",
       "  </tbody>\n",
       "</table>\n",
       "</div>"
      ],
      "text/plain": [
       "                                0         1\n",
       "Intercept                1.068209  1.106414\n",
       "avg_article_length       0.022764  0.062388\n",
       "avg_position            -0.021980  0.016150\n",
       "avg_target_source_ratio -0.138252 -0.099012"
      ]
     },
     "execution_count": 22,
     "metadata": {},
     "output_type": "execute_result"
    }
   ],
   "source": [
    "# Visualisation of the influence of each feature\n",
    "variables_model1 = res1.params.index #features\n",
    "coefficients_model1 = res1.params.values\n",
    "p_values_model1 = res1.pvalues\n",
    "standard_errors_model1 = res1.bse.values\n",
    "res1.conf_int() #confidence intervals"
   ]
  },
  {
   "cell_type": "code",
   "execution_count": 23,
   "metadata": {
    "scrolled": false
   },
   "outputs": [
    {
     "data": {
      "image/png": "[encoded data removed]",
      "text/plain": [
       "<Figure size 640x480 with 1 Axes>"
      ]
     },
     "metadata": {},
     "output_type": "display_data"
    }
   ],
   "source": [
    "# Sort by coefficients\n",
    "l1, l2, l3, l4 = zip(*sorted(zip(coefficients_model1[1:], variables_model1[1:], \n",
    "                                 standard_errors_model1[1:], p_values_model1[1:])))\n",
    "\n",
    "# Plotting\n",
    "plt.errorbar(l1, np.array(range(len(l1))), xerr= 2*np.array(l3), linewidth = 1,\n",
    "             linestyle = 'none',marker = 'o',markersize= 3,\n",
    "             markerfacecolor = 'black',markeredgecolor = 'black', capsize= 5)\n",
    "plt.vlines(0,0, len(l1), linestyle = '--')\n",
    "plt.yticks(range(len(l2)),l2);"
   ]
  },
  {
   "cell_type": "markdown",
   "metadata": {},
   "source": [
    "**I** The `avg_position` has almost no contribution to the completion variable. However, the higher the `avg_article_length` and the lower the `avg_target_source_ratio`, the more likely the path is completed."
   ]
  },
  {
   "cell_type": "markdown",
   "metadata": {},
   "source": [
    "#### Model 2:"
   ]
  },
  {
   "cell_type": "code",
   "execution_count": 25,
   "metadata": {
    "scrolled": false
   },
   "outputs": [
    {
     "name": "stdout",
     "output_type": "stream",
     "text": [
      "Intel MKL WARNING: Support of Intel(R) Streaming SIMD Extensions 4.2 (Intel(R) SSE4.2) enabled only processors has been deprecated. Intel oneAPI Math Kernel Library 2025.0 will require Intel(R) Advanced Vector Extensions (Intel(R) AVX) instructions.\n",
      "                            OLS Regression Results                            \n",
      "==============================================================================\n",
      "Dep. Variable:           avg_duration   R-squared:                       0.001\n",
      "Model:                            OLS   Adj. R-squared:                  0.001\n",
      "Method:                 Least Squares   F-statistic:                     18.25\n",
      "Date:                Fri, 15 Dec 2023   Prob (F-statistic):           7.81e-12\n",
      "Time:                        18:35:39   Log-Likelihood:            -3.7537e+05\n",
      "No. Observations:               56710   AIC:                         7.508e+05\n",
      "Df Residuals:                   56706   BIC:                         7.508e+05\n",
      "Df Model:                           3                                         \n",
      "Covariance Type:            nonrobust                                         \n",
      "===========================================================================================\n",
      "                              coef    std err          t      P>|t|      [0.025      0.975]\n",
      "-------------------------------------------------------------------------------------------\n",
      "Intercept                  76.4740      0.765     99.916      0.000      74.974      77.974\n",
      "avg_article_length          0.3015      0.795      0.379      0.705      -1.257       1.860\n",
      "avg_position                5.6046      0.767      7.312      0.000       4.102       7.107\n",
      "avg_target_source_ratio     1.3580      0.825      1.646      0.100      -0.259       2.975\n",
      "==============================================================================\n",
      "Omnibus:                    50906.553   Durbin-Watson:                   1.341\n",
      "Prob(Omnibus):                  0.000   Jarque-Bera (JB):          2443417.024\n",
      "Skew:                           4.223   Prob(JB):                         0.00\n",
      "Kurtosis:                      34.028   Cond. No.                         1.19\n",
      "==============================================================================\n",
      "\n",
      "Notes:\n",
      "[1] Standard Errors assume that the covariance matrix of the errors is correctly specified.\n"
     ]
    }
   ],
   "source": [
    "# Model 2: dependent variable = avg_duration, so linear regression (continuous outcome)\n",
    "mod2 = smf.ols(formula='avg_duration ~  avg_article_length + avg_position + avg_target_source_ratio', \n",
    "                 data=paths_normalized)\n",
    "res2 = mod2.fit()\n",
    "print(res2.summary())"
   ]
  },
  {
   "cell_type": "markdown",
   "metadata": {},
   "source": [
    "**I** The R-squared is also very low, our features does not explain a lot of the variability in the average duration of games.  "
   ]
  },
  {
   "cell_type": "code",
   "execution_count": 26,
   "metadata": {},
   "outputs": [
    {
     "data": {
      "text/html": [
       "<div>\n",
       "<style scoped>\n",
       "    .dataframe tbody tr th:only-of-type {\n",
       "        vertical-align: middle;\n",
       "    }\n",
       "\n",
       "    .dataframe tbody tr th {\n",
       "        vertical-align: top;\n",
       "    }\n",
       "\n",
       "    .dataframe thead th {\n",
       "        text-align: right;\n",
       "    }\n",
       "</style>\n",
       "<table border=\"1\" class=\"dataframe\">\n",
       "  <thead>\n",
       "    <tr style=\"text-align: right;\">\n",
       "      <th></th>\n",
       "      <th>0</th>\n",
       "      <th>1</th>\n",
       "    </tr>\n",
       "  </thead>\n",
       "  <tbody>\n",
       "    <tr>\n",
       "      <th>Intercept</th>\n",
       "      <td>74.973875</td>\n",
       "      <td>77.974198</td>\n",
       "    </tr>\n",
       "    <tr>\n",
       "      <th>avg_article_length</th>\n",
       "      <td>-1.257313</td>\n",
       "      <td>1.860246</td>\n",
       "    </tr>\n",
       "    <tr>\n",
       "      <th>avg_position</th>\n",
       "      <td>4.102241</td>\n",
       "      <td>7.107048</td>\n",
       "    </tr>\n",
       "    <tr>\n",
       "      <th>avg_target_source_ratio</th>\n",
       "      <td>-0.258993</td>\n",
       "      <td>2.975030</td>\n",
       "    </tr>\n",
       "  </tbody>\n",
       "</table>\n",
       "</div>"
      ],
      "text/plain": [
       "                                 0          1\n",
       "Intercept                74.973875  77.974198\n",
       "avg_article_length       -1.257313   1.860246\n",
       "avg_position              4.102241   7.107048\n",
       "avg_target_source_ratio  -0.258993   2.975030"
      ]
     },
     "execution_count": 26,
     "metadata": {},
     "output_type": "execute_result"
    }
   ],
   "source": [
    "# Visualization of the contributiono of each feature\n",
    "variables_model2 = res2.params.index #features\n",
    "coefficients_model2 = res2.params.values\n",
    "p_values_model2 = res2.pvalues\n",
    "standard_errors_model2 = res2.bse.values\n",
    "res2.conf_int() #confidence intervals"
   ]
  },
  {
   "cell_type": "code",
   "execution_count": 27,
   "metadata": {},
   "outputs": [
    {
     "data": {
      "image/png": "[encoded data removed]",
      "text/plain": [
       "<Figure size 640x480 with 1 Axes>"
      ]
     },
     "metadata": {},
     "output_type": "display_data"
    }
   ],
   "source": [
    "# Sort by coefficients\n",
    "l1, l2, l3, l4 = zip(*sorted(zip(coefficients_model2[1:], variables_model2[1:], \n",
    "                                 standard_errors_model2[1:], p_values_model2[1:])))\n",
    "\n",
    "# Plotting\n",
    "plt.errorbar(l1, np.array(range(len(l1))), xerr= 2*np.array(l3), linewidth = 1,\n",
    "             linestyle = 'none',marker = 'o',markersize= 3,\n",
    "             markerfacecolor = 'black',markeredgecolor = 'black', capsize= 5)\n",
    "plt.vlines(0,0, len(l1), linestyle = '--')\n",
    "plt.yticks(range(len(l2)),l2);"
   ]
  },
  {
   "cell_type": "markdown",
   "metadata": {},
   "source": [
    "**I** The `avg_article_length` almost not contribute to the `avg_duration` of the game while the `avg_position` contributes the most. The higher `avg_position` and `avg_target_source ratio`, the higher the time spend in each article. "
   ]
  },
  {
   "cell_type": "code",
   "execution_count": 28,
   "metadata": {},
   "outputs": [
    {
     "data": {
      "image/png": "[encoded data removed]",
      "text/plain": [
       "<Figure size 640x480 with 1 Axes>"
      ]
     },
     "metadata": {},
     "output_type": "display_data"
    }
   ],
   "source": [
    "# Test normality of the residuals\n",
    "fig = sm.graphics.qqplot(res2.resid, dist=norm, line='45', fit=True)"
   ]
  },
  {
   "cell_type": "markdown",
   "metadata": {},
   "source": [
    "The normality of residuals is clearly not respected. We try to log-transform the dependent variable (`avg_duration`) to improve the model and makes the residuals more normal. "
   ]
  },
  {
   "cell_type": "markdown",
   "metadata": {},
   "source": [
    "#### Model 2, but with log_avg_duration:"
   ]
  },
  {
   "cell_type": "markdown",
   "metadata": {},
   "source": [
    "The model 2 is then re-run but this time the log of the `avg_duration`. "
   ]
  },
  {
   "cell_type": "code",
   "execution_count": 29,
   "metadata": {
    "scrolled": false
   },
   "outputs": [
    {
     "name": "stdout",
     "output_type": "stream",
     "text": [
      "Intel MKL WARNING: Support of Intel(R) Streaming SIMD Extensions 4.2 (Intel(R) SSE4.2) enabled only processors has been deprecated. Intel oneAPI Math Kernel Library 2025.0 will require Intel(R) Advanced Vector Extensions (Intel(R) AVX) instructions.\n",
      "                            OLS Regression Results                            \n",
      "==============================================================================\n",
      "Dep. Variable:       log_avg_duration   R-squared:                       0.021\n",
      "Model:                            OLS   Adj. R-squared:                  0.021\n",
      "Method:                 Least Squares   F-statistic:                     400.6\n",
      "Date:                Fri, 15 Dec 2023   Prob (F-statistic):          1.58e-257\n",
      "Time:                        18:35:46   Log-Likelihood:                -90248.\n",
      "No. Observations:               56710   AIC:                         1.805e+05\n",
      "Df Residuals:                   56706   BIC:                         1.805e+05\n",
      "Df Model:                           3                                         \n",
      "Covariance Type:            nonrobust                                         \n",
      "===========================================================================================\n",
      "                              coef    std err          t      P>|t|      [0.025      0.975]\n",
      "-------------------------------------------------------------------------------------------\n",
      "Intercept                   3.2394      0.005    645.837      0.000       3.230       3.249\n",
      "avg_article_length          0.0316      0.005      6.070      0.000       0.021       0.042\n",
      "avg_position                0.1733      0.005     34.506      0.000       0.163       0.183\n",
      "avg_target_source_ratio     0.0181      0.005      3.342      0.001       0.007       0.029\n",
      "==============================================================================\n",
      "Omnibus:                    13699.318   Durbin-Watson:                   1.085\n",
      "Prob(Omnibus):                  0.000   Jarque-Bera (JB):            29304.417\n",
      "Skew:                           1.414   Prob(JB):                         0.00\n",
      "Kurtosis:                       5.098   Cond. No.                         1.19\n",
      "==============================================================================\n",
      "\n",
      "Notes:\n",
      "[1] Standard Errors assume that the covariance matrix of the errors is correctly specified.\n"
     ]
    },
    {
     "name": "stderr",
     "output_type": "stream",
     "text": [
      "/Users/marielouhirschy/anaconda3/envs/ada/lib/python3.9/site-packages/pandas/core/arraylike.py:396: RuntimeWarning: divide by zero encountered in log\n",
      "  result = getattr(ufunc, method)(*inputs, **kwargs)\n"
     ]
    }
   ],
   "source": [
    "# Model 2 but with log of avg_duration:\n",
    "paths_normalized['log_avg_duration'] = np.log(paths_normalized['avg_duration'])\n",
    "\n",
    "mod2_log = smf.ols(formula='log_avg_duration ~  avg_article_length + avg_position + avg_target_source_ratio', \n",
    "                   data=paths_normalized)\n",
    "res2_log = mod2_log.fit()\n",
    "print(res2_log.summary())"
   ]
  },
  {
   "cell_type": "markdown",
   "metadata": {},
   "source": [
    "**I** The R-squared increased compared to without the log transform, but not much. "
   ]
  },
  {
   "cell_type": "code",
   "execution_count": 30,
   "metadata": {},
   "outputs": [
    {
     "data": {
      "text/html": [
       "<div>\n",
       "<style scoped>\n",
       "    .dataframe tbody tr th:only-of-type {\n",
       "        vertical-align: middle;\n",
       "    }\n",
       "\n",
       "    .dataframe tbody tr th {\n",
       "        vertical-align: top;\n",
       "    }\n",
       "\n",
       "    .dataframe thead th {\n",
       "        text-align: right;\n",
       "    }\n",
       "</style>\n",
       "<table border=\"1\" class=\"dataframe\">\n",
       "  <thead>\n",
       "    <tr style=\"text-align: right;\">\n",
       "      <th></th>\n",
       "      <th>0</th>\n",
       "      <th>1</th>\n",
       "    </tr>\n",
       "  </thead>\n",
       "  <tbody>\n",
       "    <tr>\n",
       "      <th>Intercept</th>\n",
       "      <td>3.229529</td>\n",
       "      <td>3.249190</td>\n",
       "    </tr>\n",
       "    <tr>\n",
       "      <th>avg_article_length</th>\n",
       "      <td>0.021420</td>\n",
       "      <td>0.041850</td>\n",
       "    </tr>\n",
       "    <tr>\n",
       "      <th>avg_position</th>\n",
       "      <td>0.163486</td>\n",
       "      <td>0.183177</td>\n",
       "    </tr>\n",
       "    <tr>\n",
       "      <th>avg_target_source_ratio</th>\n",
       "      <td>0.007470</td>\n",
       "      <td>0.028664</td>\n",
       "    </tr>\n",
       "  </tbody>\n",
       "</table>\n",
       "</div>"
      ],
      "text/plain": [
       "                                0         1\n",
       "Intercept                3.229529  3.249190\n",
       "avg_article_length       0.021420  0.041850\n",
       "avg_position             0.163486  0.183177\n",
       "avg_target_source_ratio  0.007470  0.028664"
      ]
     },
     "execution_count": 30,
     "metadata": {},
     "output_type": "execute_result"
    }
   ],
   "source": [
    "# Visualization of the contribution of each feature \n",
    "variables_model2_log = res2_log.params.index #features\n",
    "coefficients_model2_log = res2_log.params.values\n",
    "p_values_model2_log = res2_log.pvalues\n",
    "standard_errors_model2_log = res2_log.bse.values\n",
    "res2_log.conf_int() #confidence intervals"
   ]
  },
  {
   "cell_type": "code",
   "execution_count": 31,
   "metadata": {},
   "outputs": [
    {
     "data": {
      "image/png": "[encoded data removed]",
      "text/plain": [
       "<Figure size 640x480 with 1 Axes>"
      ]
     },
     "metadata": {},
     "output_type": "display_data"
    }
   ],
   "source": [
    "# Sort by coefficients\n",
    "l1, l2, l3, l4 = zip(*sorted(zip(coefficients_model2_log[1:], variables_model2_log[1:], \n",
    "                                 standard_errors_model2_log[1:], p_values_model2_log[1:])))\n",
    "\n",
    "# Plotting\n",
    "plt.errorbar(l1, np.array(range(len(l1))), xerr= 2*np.array(l3), linewidth = 1,\n",
    "             linestyle = 'none',marker = 'o',markersize= 3,\n",
    "             markerfacecolor = 'black',markeredgecolor = 'black', capsize= 5)\n",
    "plt.vlines(0,0, len(l1), linestyle = '--')\n",
    "plt.yticks(range(len(l2)),l2);"
   ]
  },
  {
   "cell_type": "code",
   "execution_count": 32,
   "metadata": {},
   "outputs": [
    {
     "data": {
      "image/png": "[encoded data removed]",
      "text/plain": [
       "<Figure size 640x480 with 1 Axes>"
      ]
     },
     "metadata": {},
     "output_type": "display_data"
    }
   ],
   "source": [
    "# Test normality of the residuals\n",
    "fig = sm.graphics.qqplot(res2_log.resid, dist=norm, line='45', fit=True)"
   ]
  },
  {
   "cell_type": "markdown",
   "metadata": {},
   "source": [
    "Actually, normality is still not respected but it improved with the log-transform. "
   ]
  },
  {
   "cell_type": "markdown",
   "metadata": {},
   "source": [
    "Let's try the model 2 but with all the variables log-transformed."
   ]
  },
  {
   "cell_type": "markdown",
   "metadata": {},
   "source": [
    "#### Model 2, with all variables log-transformed:"
   ]
  },
  {
   "cell_type": "code",
   "execution_count": 33,
   "metadata": {
    "scrolled": true
   },
   "outputs": [
    {
     "name": "stdout",
     "output_type": "stream",
     "text": [
      "Intel MKL WARNING: Support of Intel(R) Streaming SIMD Extensions 4.2 (Intel(R) SSE4.2) enabled only processors has been deprecated. Intel oneAPI Math Kernel Library 2025.0 will require Intel(R) Advanced Vector Extensions (Intel(R) AVX) instructions.\n"
     ]
    },
    {
     "name": "stderr",
     "output_type": "stream",
     "text": [
      "/Users/marielouhirschy/anaconda3/envs/ada/lib/python3.9/site-packages/pandas/core/arraylike.py:396: RuntimeWarning: invalid value encountered in log\n",
      "  result = getattr(ufunc, method)(*inputs, **kwargs)\n",
      "/Users/marielouhirschy/anaconda3/envs/ada/lib/python3.9/site-packages/pandas/core/arraylike.py:396: RuntimeWarning: invalid value encountered in log\n",
      "  result = getattr(ufunc, method)(*inputs, **kwargs)\n",
      "/Users/marielouhirschy/anaconda3/envs/ada/lib/python3.9/site-packages/pandas/core/arraylike.py:396: RuntimeWarning: invalid value encountered in log\n",
      "  result = getattr(ufunc, method)(*inputs, **kwargs)\n"
     ]
    }
   ],
   "source": [
    "# Model 2 with all variables log-transformed\n",
    "paths_normalized['log_avg_article_length'] = np.log(paths_normalized['avg_article_length'])\n",
    "paths_normalized['log_avg_position'] = np.log(paths_normalized['avg_position'])\n",
    "paths_normalized['log_avg_target_source_ratio'] = np.log(paths_normalized['avg_target_source_ratio'])\n",
    "\n",
    "mod2_loglog = smf.ols(formula='log_avg_duration ~  log_avg_article_length + log_avg_position +\\\n",
    "                               log_avg_target_source_ratio', \n",
    "                   data=paths_normalized)\n",
    "res2_loglog = mod2_loglog.fit()\n",
    "#print(res2_loglog.summary())"
   ]
  },
  {
   "cell_type": "markdown",
   "metadata": {},
   "source": [
    "This time, the R-squared actually decreases, so our model does not improve compared to the model 2 using only the avg_duration log transformed. "
   ]
  },
  {
   "cell_type": "markdown",
   "metadata": {},
   "source": [
    "# Test on the logistic regression model (model 1)"
   ]
  },
  {
   "cell_type": "code",
   "execution_count": 72,
   "metadata": {},
   "outputs": [
    {
     "name": "stdout",
     "output_type": "stream",
     "text": [
      "Precision: 0.67 (+/- 0.00)\n",
      "Recall: 1.00 (+/- 0.00)\n",
      "Accuracy: 0.67 (+/- 0.00)\n",
      "F1-score: 0.80 (+/- 0.00)\n"
     ]
    }
   ],
   "source": [
    "# Features vector\n",
    "X = paths_normalized[['avg_article_length', 'avg_position', 'avg_target_source_ratio']]\n",
    "X = X.fillna(X.mean()) # replace missing values with the mean\n",
    "\n",
    "# Label\n",
    "y = paths_normalized['completion']\n",
    "\n",
    "# Train the model\n",
    "logistic = LogisticRegression(solver='lbfgs')\n",
    "precision = cross_val_score(logistic, X, y, cv=10, scoring=\"precision\")\n",
    "recall = cross_val_score(logistic, X, y, cv=10, scoring=\"recall\")\n",
    "accuracy = cross_val_score(logistic, X, y, cv=10, scoring=\"accuracy\")\n",
    "f1_score = cross_val_score(logistic, X, y, cv=10, scoring=\"f1\")\n",
    "\n",
    "print(\"Precision: %0.2f (+/- %0.2f)\" % (precision.mean(), precision.std() * 2))\n",
    "print(\"Recall: %0.2f (+/- %0.2f)\" % (recall.mean(), recall.std() * 2))\n",
    "print(\"Accuracy: %0.2f (+/- %0.2f)\" % (accuracy.mean(), accuracy.std() * 2))\n",
    "print(\"F1-score: %0.2f (+/- %0.2f)\" % (f1_score.mean(), f1_score.std() * 2))"
   ]
  },
  {
   "cell_type": "code",
   "execution_count": 77,
   "metadata": {},
   "outputs": [
    {
     "data": {
      "image/png": "[encoded data removed]",
      "text/plain": [
       "<Figure size 640x480 with 1 Axes>"
      ]
     },
     "metadata": {},
     "output_type": "display_data"
    }
   ],
   "source": [
    "means = [precision.mean(), recall.mean(), accuracy.mean(), f1_score.mean()]\n",
    "stds = [precision.std(), recall.std(), accuracy.std(), f1_score.std()]\n",
    "\n",
    "# Create bar plot\n",
    "fig, ax = plt.subplots()\n",
    "ax.bar(np.arange(4), means, yerr=stds, align='center', alpha=0.5, ecolor='black', capsize=10)\n",
    "ax.set_ylabel('performance')\n",
    "ax.set_xticks(np.arange(4))\n",
    "ax.set_xticklabels(['precision', 'recall', 'accuracy', 'f1_score'])\n",
    "ax.set_title('Logistic regression performance')\n",
    "\n",
    "#Remove spines\n",
    "ax.spines['right'].set_visible(False)\n",
    "ax.spines['top'].set_visible(False)\n",
    "\n",
    "ax.yaxis.grid(True, linewidth=0.2)\n",
    "# Save the figure and show\n",
    "plt.tight_layout()"
   ]
  },
  {
   "cell_type": "code",
   "execution_count": 78,
   "metadata": {},
   "outputs": [],
   "source": [
    "# Predict the probabilities with a cross validationn\n",
    "y_pred = cross_val_predict(logistic, X, y, cv=10, method=\"predict_proba\")\n",
    "# Compute the False Positive Rate and True Positive Rate\n",
    "fpr, tpr, _ = roc_curve(y, y_pred[:, 1])\n",
    "# Compute the area under the fpt-tpf curve\n",
    "auc_score = auc(fpr, tpr)"
   ]
  },
  {
   "cell_type": "code",
   "execution_count": 79,
   "metadata": {},
   "outputs": [
    {
     "data": {
      "image/png": "[encoded data removed]",
      "text/plain": [
       "<Figure size 640x480 with 1 Axes>"
      ]
     },
     "metadata": {},
     "output_type": "display_data"
    }
   ],
   "source": [
    "fig, ax = plt.subplots()\n",
    "\n",
    "ax.plot(fpr, tpr)\n",
    "ax.plot([0, 1], [0, 1],'r--')\n",
    "ax.set_xlabel(\"False Positive Rate\")\n",
    "ax.set_ylabel(\"True Positive Rate\")\n",
    "ax.set_title(\"ROC Curve - Area = {:.5f}\".format(auc_score));\n",
    "ax.spines['right'].set_visible(False)\n",
    "ax.spines['top'].set_visible(False)"
   ]
  },
  {
   "cell_type": "markdown",
   "metadata": {},
   "source": [
    "# Test on the linear regression model (model 2 but with log_avg_duration)"
   ]
  },
  {
   "cell_type": "code",
   "execution_count": 110,
   "metadata": {},
   "outputs": [],
   "source": [
    "# Features vector\n",
    "X = paths_normalized[['avg_article_length', 'avg_position', 'avg_target_source_ratio']]\n",
    "X = X.fillna(X.mean()) # replace missing values with the mean\n",
    "\n",
    "# Label\n",
    "y = paths_normalized['log_avg_duration']\n",
    "y.replace(-np.inf, y.min(), inplace=True) #replace -inf value by the minimum value\n"
   ]
  },
  {
   "cell_type": "code",
   "execution_count": 111,
   "metadata": {},
   "outputs": [
    {
     "data": {
      "image/png": "[encoded data removed]",
      "text/plain": [
       "<Figure size 1200x800 with 1 Axes>"
      ]
     },
     "metadata": {},
     "output_type": "display_data"
    }
   ],
   "source": [
    "# Train the model\n",
    "linear = LinearRegression()\n",
    "predicted = cross_val_predict(linear, X, y, cv=10)\n",
    "\n",
    "# Plot the results\n",
    "fig, ax = plt.subplots(figsize=(12, 8))\n",
    "ax.scatter(y, predicted, edgecolors=(0, 0, 0))\n",
    "ax.plot([min(y), max(y)], [min(y), max(y)], 'r--', lw=4)\n",
    "ax.set_xlabel('Original')\n",
    "ax.set_ylabel('Predicted')\n",
    "plt.show()"
   ]
  }
 ],
 "metadata": {
  "kernelspec": {
   "display_name": "Python 3 (ipykernel)",
   "language": "python",
   "name": "python3"
  },
  "language_info": {
   "codemirror_mode": {
    "name": "ipython",
    "version": 3
   },
   "file_extension": ".py",
   "mimetype": "text/x-python",
   "name": "python",
   "nbconvert_exporter": "python",
   "pygments_lexer": "ipython3",
   "version": "3.9.18"
  }
 },
 "nbformat": 4,
 "nbformat_minor": 4
}
