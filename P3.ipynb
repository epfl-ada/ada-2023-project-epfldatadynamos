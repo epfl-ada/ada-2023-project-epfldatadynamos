{
 "cells": [
  {
   "cell_type": "code",
   "execution_count": 13,
   "metadata": {
    "execution": {
     "iopub.execute_input": "2023-12-09T09:18:06.340663Z",
     "iopub.status.busy": "2023-12-09T09:18:06.340018Z",
     "iopub.status.idle": "2023-12-09T09:18:06.350114Z",
     "shell.execute_reply": "2023-12-09T09:18:06.348639Z",
     "shell.execute_reply.started": "2023-12-09T09:18:06.340608Z"
    },
    "tags": []
   },
   "outputs": [],
   "source": [
    "import numpy as np\n",
    "import seaborn as sns\n",
    "import pandas as pd\n",
    "import networkx as nx\n",
    "import matplotlib.pyplot as plt\n",
    "import statsmodels.formula.api as smf\n",
    "\n",
    "import html\n",
    "import urllib\n",
    "\n",
    "#from helper_functions import *"
   ]
  },
  {
   "cell_type": "markdown",
   "metadata": {},
   "source": [
    "Reading data\n",
    "------------"
   ]
  },
  {
   "cell_type": "code",
   "execution_count": 20,
   "metadata": {
    "execution": {
     "iopub.execute_input": "2023-12-09T09:22:00.140321Z",
     "iopub.status.busy": "2023-12-09T09:22:00.138644Z",
     "iopub.status.idle": "2023-12-09T09:22:00.149560Z",
     "shell.execute_reply": "2023-12-09T09:22:00.147731Z",
     "shell.execute_reply.started": "2023-12-09T09:22:00.140255Z"
    },
    "tags": []
   },
   "outputs": [],
   "source": [
    "# Marie-Lou's path\n",
    "graphs_path = './data/wikispeedia_paths-and-graph/'"
   ]
  },
  {
   "cell_type": "code",
   "execution_count": 30,
   "metadata": {
    "execution": {
     "iopub.execute_input": "2023-12-09T09:26:10.026172Z",
     "iopub.status.busy": "2023-12-09T09:26:10.024409Z",
     "iopub.status.idle": "2023-12-09T09:26:10.170287Z",
     "shell.execute_reply": "2023-12-09T09:26:10.168079Z",
     "shell.execute_reply.started": "2023-12-09T09:26:10.026097Z"
    },
    "tags": []
   },
   "outputs": [
    {
     "name": "stdout",
     "output_type": "stream",
     "text": [
      "articles.tsv\tlinks.tsv\t    paths_unfinished.tsv\n",
      "categories.tsv\tpaths_finished.tsv\n"
     ]
    }
   ],
   "source": [
    "!ls ./data/wikispeedia_paths-and-graph/"
   ]
  },
  {
   "cell_type": "code",
   "execution_count": 31,
   "metadata": {
    "execution": {
     "iopub.execute_input": "2023-12-09T09:26:51.270107Z",
     "iopub.status.busy": "2023-12-09T09:26:51.268614Z",
     "iopub.status.idle": "2023-12-09T09:26:51.280302Z",
     "shell.execute_reply": "2023-12-09T09:26:51.277529Z",
     "shell.execute_reply.started": "2023-12-09T09:26:51.270037Z"
    },
    "tags": []
   },
   "outputs": [],
   "source": [
    "# Matthew's Path\n",
    "# graphs_path = '../ADA_Project_Milestone_2_final/data/wikispeedia_paths-and-graph/'"
   ]
  },
  {
   "cell_type": "code",
   "execution_count": 32,
   "metadata": {
    "execution": {
     "iopub.execute_input": "2023-12-09T09:26:52.993500Z",
     "iopub.status.busy": "2023-12-09T09:26:52.992811Z",
     "iopub.status.idle": "2023-12-09T09:26:53.006785Z",
     "shell.execute_reply": "2023-12-09T09:26:53.004947Z",
     "shell.execute_reply.started": "2023-12-09T09:26:52.993445Z"
    },
    "tags": []
   },
   "outputs": [],
   "source": [
    "def read_tsv(file_name, names=None):\n",
    "    \n",
    "    file_path = graphs_path + f'{file_name}.tsv'\n",
    "    \n",
    "    if not names:\n",
    "        with open(file_path, 'r') as file:\n",
    "            for line in file:\n",
    "                if 'FORMAT' in line:\n",
    "                    format_line = line\n",
    "                    break\n",
    "\n",
    "        names = format_line.split()[2:]\n",
    "    \n",
    "    return pd.read_csv(file_path,\n",
    "                           delimiter='\\t', comment='#', header=0, names=names)"
   ]
  },
  {
   "cell_type": "code",
   "execution_count": 33,
   "metadata": {
    "execution": {
     "iopub.execute_input": "2023-12-09T09:26:53.649201Z",
     "iopub.status.busy": "2023-12-09T09:26:53.648509Z",
     "iopub.status.idle": "2023-12-09T09:26:54.802967Z",
     "shell.execute_reply": "2023-12-09T09:26:54.801351Z",
     "shell.execute_reply.started": "2023-12-09T09:26:53.649112Z"
    },
    "tags": []
   },
   "outputs": [],
   "source": [
    "link_network = read_tsv('links', names=['source', 'target'])\n",
    "categories = read_tsv('categories')\n",
    "finished_paths = read_tsv('paths_finished')\n",
    "unfinished_paths = read_tsv('paths_unfinished')\n",
    "articles = read_tsv('articles')"
   ]
  },
  {
   "cell_type": "markdown",
   "metadata": {},
   "source": [
    "Functions\n",
    "------------"
   ]
  },
  {
   "cell_type": "code",
   "execution_count": 34,
   "metadata": {
    "execution": {
     "iopub.execute_input": "2023-12-09T09:26:58.166842Z",
     "iopub.status.busy": "2023-12-09T09:26:58.166180Z",
     "iopub.status.idle": "2023-12-09T09:26:58.190860Z",
     "shell.execute_reply": "2023-12-09T09:26:58.188796Z",
     "shell.execute_reply.started": "2023-12-09T09:26:58.166785Z"
    },
    "tags": []
   },
   "outputs": [],
   "source": [
    "def article_length(article_name):\n",
    "    ''' Compute the average length of an article, i.e. the number of words'''\n",
    "    article_path = './data/plaintext_articles/'\n",
    "    article = article_path + article_name + '.txt'\n",
    "    \n",
    "    nb_words = 0\n",
    "    with open(article) as f:\n",
    "        for line in f:\n",
    "            nb_words += len(line.split())\n",
    "    return nb_words\n",
    "\n",
    "def get_avg_duration(row):\n",
    "    ''' Compute the average duration spent per articles'''\n",
    "    num_steps = len(row['path'].split(';')) - 1\n",
    "    return np.nan if num_steps <= 0 else row['durationInSec'] / num_steps\n",
    "\n",
    "def avg_article_length(path):\n",
    "    '''Compute the average article lenght (i.e. nb of words) along a path of articles'''\n",
    "    avg_article_length = []\n",
    "    for index, row in path.iterrows():\n",
    "        articles = row['path'].split(';')\n",
    "        articles_length = []\n",
    "        for art in articles:\n",
    "            if art != '<': #Not considering backcliks\n",
    "                articles_length.append(article_length(art))\n",
    "        avg_article_length.append(np.mean(articles_length))\n",
    "    return avg_article_length\n",
    "\n",
    "def avg_target_source_ratio(path):\n",
    "    ''' Compute the average ratio of incoming and outgoing links in articles along a path'''\n",
    "    avg_target_source_ratio = []\n",
    "    for index, row in path.iterrows():\n",
    "        articles = row['path'].split(';')\n",
    "        target_source_ratio = []\n",
    "        if '<' in articles: #Not considering backcliks\n",
    "            target_source_ratio.append(float('nan'))\n",
    "        else:\n",
    "            for art in articles:\n",
    "                if art in list(link_counts['article']):\n",
    "                    target_source_ratio.append(link_counts[link_counts['article']==art]['target_source_ratio'].values[0])\n",
    "                else:\n",
    "                    target_source_ratio.append(float('nan'))\n",
    "        avg_target_source_ratio.append(np.nanmean(target_source_ratio))\n",
    "    \n",
    "    return avg_target_source_ratio\n",
    "\n",
    "def calculate_positions(arts):\n",
    "    ''' Compute the relative position of links clicked in a path'''\n",
    "    # ignore backclicks\n",
    "    if '<' in arts: return [float('nan')]\n",
    "    \n",
    "    articles = arts.split(';')\n",
    "    \n",
    "    # ignore paths without actual steps\n",
    "    if len(articles) < 2: return [float('nan')]\n",
    "    \n",
    "    positions = []\n",
    "    \n",
    "    art_idx = 0\n",
    "    \n",
    "    for idx, art in enumerate(articles[1:]):\n",
    "        art0 = articles[art_idx]\n",
    "        try:          \n",
    "            positions.append(link_network_pos[(link_network_pos['source'] == art0)\n",
    "                            & (link_network_pos['target'] == art)]['position'].values[0])\n",
    "            art_idx = idx+1\n",
    "        except:\n",
    "            print(art0, art, arts)\n",
    "            return [float('nan')]\n",
    "    \n",
    "    return positions\n",
    "\n",
    "def normalize(data, column_name):\n",
    "    ''' Normalize a column in a dataframe '''\n",
    "    return (data[column_name] - data[column_name].mean())/data[column_name].std()"
   ]
  },
  {
   "cell_type": "markdown",
   "metadata": {},
   "source": [
    "Phase 2: Exploratory Data Analysis\n",
    "------------"
   ]
  },
  {
   "cell_type": "markdown",
   "metadata": {},
   "source": [
    "### Article metrics"
   ]
  },
  {
   "cell_type": "code",
   "execution_count": 35,
   "metadata": {
    "execution": {
     "iopub.execute_input": "2023-12-09T09:27:02.695120Z",
     "iopub.status.busy": "2023-12-09T09:27:02.694464Z",
     "iopub.status.idle": "2023-12-09T09:27:02.774363Z",
     "shell.execute_reply": "2023-12-09T09:27:02.772521Z",
     "shell.execute_reply.started": "2023-12-09T09:27:02.695066Z"
    },
    "tags": []
   },
   "outputs": [],
   "source": [
    "# Ratio of of incoming and outgoing links for each article: \n",
    "source_counts = link_network['source'].value_counts().rename_axis('article').reset_index(name='source_count')\n",
    "target_counts = link_network['target'].value_counts().rename_axis('article').reset_index(name='target_count')\n",
    "\n",
    "link_counts = pd.merge(source_counts, target_counts, how='outer')\n",
    "link_counts.fillna(0, inplace=True)\n",
    "\n",
    "link_counts['target_source_ratio'] = link_counts['target_count'] / link_counts['source_count']\n",
    "link_counts['target_source_ratio'].replace([np.inf], np.nan, inplace=True)"
   ]
  },
  {
   "cell_type": "code",
   "execution_count": 36,
   "metadata": {
    "execution": {
     "iopub.execute_input": "2023-12-09T09:27:03.529802Z",
     "iopub.status.busy": "2023-12-09T09:27:03.529103Z",
     "iopub.status.idle": "2023-12-09T09:27:03.564439Z",
     "shell.execute_reply": "2023-12-09T09:27:03.563079Z",
     "shell.execute_reply.started": "2023-12-09T09:27:03.529748Z"
    },
    "tags": []
   },
   "outputs": [
    {
     "data": {
      "text/html": [
       "<div>\n",
       "<style scoped>\n",
       "    .dataframe tbody tr th:only-of-type {\n",
       "        vertical-align: middle;\n",
       "    }\n",
       "\n",
       "    .dataframe tbody tr th {\n",
       "        vertical-align: top;\n",
       "    }\n",
       "\n",
       "    .dataframe thead th {\n",
       "        text-align: right;\n",
       "    }\n",
       "</style>\n",
       "<table border=\"1\" class=\"dataframe\">\n",
       "  <thead>\n",
       "    <tr style=\"text-align: right;\">\n",
       "      <th></th>\n",
       "      <th>article</th>\n",
       "      <th>source_count</th>\n",
       "      <th>target_count</th>\n",
       "      <th>target_source_ratio</th>\n",
       "    </tr>\n",
       "  </thead>\n",
       "  <tbody>\n",
       "    <tr>\n",
       "      <th>0</th>\n",
       "      <td>United_States</td>\n",
       "      <td>294.0</td>\n",
       "      <td>1551.0</td>\n",
       "      <td>5.275510</td>\n",
       "    </tr>\n",
       "    <tr>\n",
       "      <th>1</th>\n",
       "      <td>Driving_on_the_left_or_right</td>\n",
       "      <td>255.0</td>\n",
       "      <td>0.0</td>\n",
       "      <td>0.000000</td>\n",
       "    </tr>\n",
       "    <tr>\n",
       "      <th>2</th>\n",
       "      <td>List_of_countries</td>\n",
       "      <td>244.0</td>\n",
       "      <td>63.0</td>\n",
       "      <td>0.258197</td>\n",
       "    </tr>\n",
       "    <tr>\n",
       "      <th>3</th>\n",
       "      <td>List_of_circulating_currencies</td>\n",
       "      <td>236.0</td>\n",
       "      <td>8.0</td>\n",
       "      <td>0.033898</td>\n",
       "    </tr>\n",
       "    <tr>\n",
       "      <th>4</th>\n",
       "      <td>List_of_sovereign_states</td>\n",
       "      <td>216.0</td>\n",
       "      <td>43.0</td>\n",
       "      <td>0.199074</td>\n",
       "    </tr>\n",
       "  </tbody>\n",
       "</table>\n",
       "</div>"
      ],
      "text/plain": [
       "                          article  source_count  target_count  \\\n",
       "0                   United_States         294.0        1551.0   \n",
       "1    Driving_on_the_left_or_right         255.0           0.0   \n",
       "2               List_of_countries         244.0          63.0   \n",
       "3  List_of_circulating_currencies         236.0           8.0   \n",
       "4        List_of_sovereign_states         216.0          43.0   \n",
       "\n",
       "   target_source_ratio  \n",
       "0             5.275510  \n",
       "1             0.000000  \n",
       "2             0.258197  \n",
       "3             0.033898  \n",
       "4             0.199074  "
      ]
     },
     "metadata": {},
     "output_type": "display_data"
    },
    {
     "data": {
      "text/plain": [
       "(4594, 4)"
      ]
     },
     "execution_count": 36,
     "metadata": {},
     "output_type": "execute_result"
    }
   ],
   "source": [
    "display(link_counts.head(5))\n",
    "link_counts.shape"
   ]
  },
  {
   "cell_type": "code",
   "execution_count": 37,
   "metadata": {
    "execution": {
     "iopub.execute_input": "2023-12-09T09:27:05.479711Z",
     "iopub.status.busy": "2023-12-09T09:27:05.479074Z",
     "iopub.status.idle": "2023-12-09T09:27:05.977899Z",
     "shell.execute_reply": "2023-12-09T09:27:05.967127Z",
     "shell.execute_reply.started": "2023-12-09T09:27:05.479657Z"
    },
    "tags": []
   },
   "outputs": [
    {
     "ename": "FileNotFoundError",
     "evalue": "[Errno 2] No such file or directory: './data/plaintext_articles/United_States.txt'",
     "output_type": "error",
     "traceback": [
      "\u001b[0;31m---------------------------------------------------------------------------\u001b[0m",
      "\u001b[0;31mFileNotFoundError\u001b[0m                         Traceback (most recent call last)",
      "Cell \u001b[0;32mIn[37], line 2\u001b[0m\n\u001b[1;32m      1\u001b[0m \u001b[38;5;66;03m# Length of articles (i.e. nb of words):\u001b[39;00m\n\u001b[0;32m----> 2\u001b[0m link_counts[\u001b[38;5;124m'\u001b[39m\u001b[38;5;124marticle_length\u001b[39m\u001b[38;5;124m'\u001b[39m] \u001b[38;5;241m=\u001b[39m \u001b[43mlink_counts\u001b[49m\u001b[43m[\u001b[49m\u001b[38;5;124;43m'\u001b[39;49m\u001b[38;5;124;43marticle\u001b[39;49m\u001b[38;5;124;43m'\u001b[39;49m\u001b[43m]\u001b[49m\u001b[38;5;241;43m.\u001b[39;49m\u001b[43mapply\u001b[49m\u001b[43m(\u001b[49m\u001b[38;5;28;43;01mlambda\u001b[39;49;00m\u001b[43m \u001b[49m\u001b[43mx\u001b[49m\u001b[43m:\u001b[49m\u001b[43m \u001b[49m\u001b[43marticle_length\u001b[49m\u001b[43m(\u001b[49m\u001b[43mx\u001b[49m\u001b[43m)\u001b[49m\u001b[43m)\u001b[49m\n",
      "File \u001b[0;32m/opt/jlab-env/lib/python3.11/site-packages/pandas/core/series.py:4630\u001b[0m, in \u001b[0;36mSeries.apply\u001b[0;34m(self, func, convert_dtype, args, **kwargs)\u001b[0m\n\u001b[1;32m   4520\u001b[0m \u001b[38;5;28;01mdef\u001b[39;00m \u001b[38;5;21mapply\u001b[39m(\n\u001b[1;32m   4521\u001b[0m     \u001b[38;5;28mself\u001b[39m,\n\u001b[1;32m   4522\u001b[0m     func: AggFuncType,\n\u001b[0;32m   (...)\u001b[0m\n\u001b[1;32m   4525\u001b[0m     \u001b[38;5;241m*\u001b[39m\u001b[38;5;241m*\u001b[39mkwargs,\n\u001b[1;32m   4526\u001b[0m ) \u001b[38;5;241m-\u001b[39m\u001b[38;5;241m>\u001b[39m DataFrame \u001b[38;5;241m|\u001b[39m Series:\n\u001b[1;32m   4527\u001b[0m \u001b[38;5;250m    \u001b[39m\u001b[38;5;124;03m\"\"\"\u001b[39;00m\n\u001b[1;32m   4528\u001b[0m \u001b[38;5;124;03m    Invoke function on values of Series.\u001b[39;00m\n\u001b[1;32m   4529\u001b[0m \n\u001b[0;32m   (...)\u001b[0m\n\u001b[1;32m   4628\u001b[0m \u001b[38;5;124;03m    dtype: float64\u001b[39;00m\n\u001b[1;32m   4629\u001b[0m \u001b[38;5;124;03m    \"\"\"\u001b[39;00m\n\u001b[0;32m-> 4630\u001b[0m     \u001b[38;5;28;01mreturn\u001b[39;00m \u001b[43mSeriesApply\u001b[49m\u001b[43m(\u001b[49m\u001b[38;5;28;43mself\u001b[39;49m\u001b[43m,\u001b[49m\u001b[43m \u001b[49m\u001b[43mfunc\u001b[49m\u001b[43m,\u001b[49m\u001b[43m \u001b[49m\u001b[43mconvert_dtype\u001b[49m\u001b[43m,\u001b[49m\u001b[43m \u001b[49m\u001b[43margs\u001b[49m\u001b[43m,\u001b[49m\u001b[43m \u001b[49m\u001b[43mkwargs\u001b[49m\u001b[43m)\u001b[49m\u001b[38;5;241;43m.\u001b[39;49m\u001b[43mapply\u001b[49m\u001b[43m(\u001b[49m\u001b[43m)\u001b[49m\n",
      "File \u001b[0;32m/opt/jlab-env/lib/python3.11/site-packages/pandas/core/apply.py:1025\u001b[0m, in \u001b[0;36mSeriesApply.apply\u001b[0;34m(self)\u001b[0m\n\u001b[1;32m   1022\u001b[0m     \u001b[38;5;28;01mreturn\u001b[39;00m \u001b[38;5;28mself\u001b[39m\u001b[38;5;241m.\u001b[39mapply_str()\n\u001b[1;32m   1024\u001b[0m \u001b[38;5;66;03m# self.f is Callable\u001b[39;00m\n\u001b[0;32m-> 1025\u001b[0m \u001b[38;5;28;01mreturn\u001b[39;00m \u001b[38;5;28;43mself\u001b[39;49m\u001b[38;5;241;43m.\u001b[39;49m\u001b[43mapply_standard\u001b[49m\u001b[43m(\u001b[49m\u001b[43m)\u001b[49m\n",
      "File \u001b[0;32m/opt/jlab-env/lib/python3.11/site-packages/pandas/core/apply.py:1076\u001b[0m, in \u001b[0;36mSeriesApply.apply_standard\u001b[0;34m(self)\u001b[0m\n\u001b[1;32m   1074\u001b[0m     \u001b[38;5;28;01melse\u001b[39;00m:\n\u001b[1;32m   1075\u001b[0m         values \u001b[38;5;241m=\u001b[39m obj\u001b[38;5;241m.\u001b[39mastype(\u001b[38;5;28mobject\u001b[39m)\u001b[38;5;241m.\u001b[39m_values\n\u001b[0;32m-> 1076\u001b[0m         mapped \u001b[38;5;241m=\u001b[39m \u001b[43mlib\u001b[49m\u001b[38;5;241;43m.\u001b[39;49m\u001b[43mmap_infer\u001b[49m\u001b[43m(\u001b[49m\n\u001b[1;32m   1077\u001b[0m \u001b[43m            \u001b[49m\u001b[43mvalues\u001b[49m\u001b[43m,\u001b[49m\n\u001b[1;32m   1078\u001b[0m \u001b[43m            \u001b[49m\u001b[43mf\u001b[49m\u001b[43m,\u001b[49m\n\u001b[1;32m   1079\u001b[0m \u001b[43m            \u001b[49m\u001b[43mconvert\u001b[49m\u001b[38;5;241;43m=\u001b[39;49m\u001b[38;5;28;43mself\u001b[39;49m\u001b[38;5;241;43m.\u001b[39;49m\u001b[43mconvert_dtype\u001b[49m\u001b[43m,\u001b[49m\n\u001b[1;32m   1080\u001b[0m \u001b[43m        \u001b[49m\u001b[43m)\u001b[49m\n\u001b[1;32m   1082\u001b[0m \u001b[38;5;28;01mif\u001b[39;00m \u001b[38;5;28mlen\u001b[39m(mapped) \u001b[38;5;129;01mand\u001b[39;00m \u001b[38;5;28misinstance\u001b[39m(mapped[\u001b[38;5;241m0\u001b[39m], ABCSeries):\n\u001b[1;32m   1083\u001b[0m     \u001b[38;5;66;03m# GH#43986 Need to do list(mapped) in order to get treated as nested\u001b[39;00m\n\u001b[1;32m   1084\u001b[0m     \u001b[38;5;66;03m#  See also GH#25959 regarding EA support\u001b[39;00m\n\u001b[1;32m   1085\u001b[0m     \u001b[38;5;28;01mreturn\u001b[39;00m obj\u001b[38;5;241m.\u001b[39m_constructor_expanddim(\u001b[38;5;28mlist\u001b[39m(mapped), index\u001b[38;5;241m=\u001b[39mobj\u001b[38;5;241m.\u001b[39mindex)\n",
      "File \u001b[0;32m/opt/jlab-env/lib/python3.11/site-packages/pandas/_libs/lib.pyx:2834\u001b[0m, in \u001b[0;36mpandas._libs.lib.map_infer\u001b[0;34m()\u001b[0m\n",
      "Cell \u001b[0;32mIn[37], line 2\u001b[0m, in \u001b[0;36m<lambda>\u001b[0;34m(x)\u001b[0m\n\u001b[1;32m      1\u001b[0m \u001b[38;5;66;03m# Length of articles (i.e. nb of words):\u001b[39;00m\n\u001b[0;32m----> 2\u001b[0m link_counts[\u001b[38;5;124m'\u001b[39m\u001b[38;5;124marticle_length\u001b[39m\u001b[38;5;124m'\u001b[39m] \u001b[38;5;241m=\u001b[39m link_counts[\u001b[38;5;124m'\u001b[39m\u001b[38;5;124marticle\u001b[39m\u001b[38;5;124m'\u001b[39m]\u001b[38;5;241m.\u001b[39mapply(\u001b[38;5;28;01mlambda\u001b[39;00m x: \u001b[43marticle_length\u001b[49m\u001b[43m(\u001b[49m\u001b[43mx\u001b[49m\u001b[43m)\u001b[49m)\n",
      "Cell \u001b[0;32mIn[34], line 7\u001b[0m, in \u001b[0;36marticle_length\u001b[0;34m(article_name)\u001b[0m\n\u001b[1;32m      4\u001b[0m article \u001b[38;5;241m=\u001b[39m article_path \u001b[38;5;241m+\u001b[39m article_name \u001b[38;5;241m+\u001b[39m \u001b[38;5;124m'\u001b[39m\u001b[38;5;124m.txt\u001b[39m\u001b[38;5;124m'\u001b[39m\n\u001b[1;32m      6\u001b[0m nb_words \u001b[38;5;241m=\u001b[39m \u001b[38;5;241m0\u001b[39m\n\u001b[0;32m----> 7\u001b[0m \u001b[38;5;28;01mwith\u001b[39;00m \u001b[38;5;28;43mopen\u001b[39;49m\u001b[43m(\u001b[49m\u001b[43marticle\u001b[49m\u001b[43m)\u001b[49m \u001b[38;5;28;01mas\u001b[39;00m f:\n\u001b[1;32m      8\u001b[0m     \u001b[38;5;28;01mfor\u001b[39;00m line \u001b[38;5;129;01min\u001b[39;00m f:\n\u001b[1;32m      9\u001b[0m         nb_words \u001b[38;5;241m+\u001b[39m\u001b[38;5;241m=\u001b[39m \u001b[38;5;28mlen\u001b[39m(line\u001b[38;5;241m.\u001b[39msplit())\n",
      "File \u001b[0;32m/opt/jlab-env/lib/python3.11/site-packages/IPython/core/interactiveshell.py:286\u001b[0m, in \u001b[0;36m_modified_open\u001b[0;34m(file, *args, **kwargs)\u001b[0m\n\u001b[1;32m    279\u001b[0m \u001b[38;5;28;01mif\u001b[39;00m file \u001b[38;5;129;01min\u001b[39;00m {\u001b[38;5;241m0\u001b[39m, \u001b[38;5;241m1\u001b[39m, \u001b[38;5;241m2\u001b[39m}:\n\u001b[1;32m    280\u001b[0m     \u001b[38;5;28;01mraise\u001b[39;00m \u001b[38;5;167;01mValueError\u001b[39;00m(\n\u001b[1;32m    281\u001b[0m         \u001b[38;5;124mf\u001b[39m\u001b[38;5;124m\"\u001b[39m\u001b[38;5;124mIPython won\u001b[39m\u001b[38;5;124m'\u001b[39m\u001b[38;5;124mt let you open fd=\u001b[39m\u001b[38;5;132;01m{\u001b[39;00mfile\u001b[38;5;132;01m}\u001b[39;00m\u001b[38;5;124m by default \u001b[39m\u001b[38;5;124m\"\u001b[39m\n\u001b[1;32m    282\u001b[0m         \u001b[38;5;124m\"\u001b[39m\u001b[38;5;124mas it is likely to crash IPython. If you know what you are doing, \u001b[39m\u001b[38;5;124m\"\u001b[39m\n\u001b[1;32m    283\u001b[0m         \u001b[38;5;124m\"\u001b[39m\u001b[38;5;124myou can use builtins\u001b[39m\u001b[38;5;124m'\u001b[39m\u001b[38;5;124m open.\u001b[39m\u001b[38;5;124m\"\u001b[39m\n\u001b[1;32m    284\u001b[0m     )\n\u001b[0;32m--> 286\u001b[0m \u001b[38;5;28;01mreturn\u001b[39;00m \u001b[43mio_open\u001b[49m\u001b[43m(\u001b[49m\u001b[43mfile\u001b[49m\u001b[43m,\u001b[49m\u001b[43m \u001b[49m\u001b[38;5;241;43m*\u001b[39;49m\u001b[43margs\u001b[49m\u001b[43m,\u001b[49m\u001b[43m \u001b[49m\u001b[38;5;241;43m*\u001b[39;49m\u001b[38;5;241;43m*\u001b[39;49m\u001b[43mkwargs\u001b[49m\u001b[43m)\u001b[49m\n",
      "\u001b[0;31mFileNotFoundError\u001b[0m: [Errno 2] No such file or directory: './data/plaintext_articles/United_States.txt'"
     ]
    }
   ],
   "source": [
    "# Length of articles (i.e. nb of words):\n",
    "link_counts['article_length'] = link_counts['article'].apply(lambda x: article_length(x))"
   ]
  },
  {
   "cell_type": "code",
   "execution_count": null,
   "metadata": {
    "execution": {
     "iopub.status.busy": "2023-12-09T09:27:05.978875Z",
     "iopub.status.idle": "2023-12-09T09:27:05.979312Z",
     "shell.execute_reply": "2023-12-09T09:27:05.979121Z",
     "shell.execute_reply.started": "2023-12-09T09:27:05.979099Z"
    },
    "tags": []
   },
   "outputs": [],
   "source": [
    "display(link_counts.head(5))\n",
    "link_counts.shape"
   ]
  },
  {
   "cell_type": "code",
   "execution_count": null,
   "metadata": {},
   "outputs": [],
   "source": [
    "# Positions of links within the articles:\n",
    "\n",
    "# Remove links to and from non-Wikipedia articles (donation pages)\n",
    "#link_network = filter_rows_by_values(link_network, 'source', ['Friend_Directdebit', 'Sponsorship_Directdebit'])\n",
    "#link_network_targets = link_network.groupby('source')['target'].apply(list).reset_index()\n",
    "\n",
    "# Add the 'html_position' column to the DataFrame\n",
    "#link_network_targets['html_position'] = link_network_targets.apply(\n",
    "#    lambda row: find_html_position(row['source'], row['target']), axis=1\n",
    "#)\n",
    "\n",
    "#display(link_network_targets.head(5))\n",
    "#link_network_targets.shape"
   ]
  },
  {
   "cell_type": "code",
   "execution_count": 9,
   "metadata": {},
   "outputs": [],
   "source": [
    "# Load the data \n",
    "link_network_pos = pd.read_pickle('link_network_w_position.df')"
   ]
  },
  {
   "cell_type": "code",
   "execution_count": 10,
   "metadata": {},
   "outputs": [
    {
     "data": {
      "text/html": [
       "<div>\n",
       "<style scoped>\n",
       "    .dataframe tbody tr th:only-of-type {\n",
       "        vertical-align: middle;\n",
       "    }\n",
       "\n",
       "    .dataframe tbody tr th {\n",
       "        vertical-align: top;\n",
       "    }\n",
       "\n",
       "    .dataframe thead th {\n",
       "        text-align: right;\n",
       "    }\n",
       "</style>\n",
       "<table border=\"1\" class=\"dataframe\">\n",
       "  <thead>\n",
       "    <tr style=\"text-align: right;\">\n",
       "      <th></th>\n",
       "      <th>source</th>\n",
       "      <th>target</th>\n",
       "      <th>position</th>\n",
       "    </tr>\n",
       "  </thead>\n",
       "  <tbody>\n",
       "    <tr>\n",
       "      <th>0</th>\n",
       "      <td>%C3%81ed%C3%A1n_mac_Gabr%C3%A1in</td>\n",
       "      <td>Columba</td>\n",
       "      <td>0.037459</td>\n",
       "    </tr>\n",
       "    <tr>\n",
       "      <th>1</th>\n",
       "      <td>%C3%81ed%C3%A1n_mac_Gabr%C3%A1in</td>\n",
       "      <td>D%C3%A1l_Riata</td>\n",
       "      <td>0.025523</td>\n",
       "    </tr>\n",
       "    <tr>\n",
       "      <th>2</th>\n",
       "      <td>%C3%81ed%C3%A1n_mac_Gabr%C3%A1in</td>\n",
       "      <td>Great_Britain</td>\n",
       "      <td>0.058024</td>\n",
       "    </tr>\n",
       "    <tr>\n",
       "      <th>3</th>\n",
       "      <td>%C3%81ed%C3%A1n_mac_Gabr%C3%A1in</td>\n",
       "      <td>Ireland</td>\n",
       "      <td>0.032042</td>\n",
       "    </tr>\n",
       "    <tr>\n",
       "      <th>4</th>\n",
       "      <td>%C3%81ed%C3%A1n_mac_Gabr%C3%A1in</td>\n",
       "      <td>Isle_of_Man</td>\n",
       "      <td>0.063349</td>\n",
       "    </tr>\n",
       "  </tbody>\n",
       "</table>\n",
       "</div>"
      ],
      "text/plain": [
       "                             source          target  position\n",
       "0  %C3%81ed%C3%A1n_mac_Gabr%C3%A1in         Columba  0.037459\n",
       "1  %C3%81ed%C3%A1n_mac_Gabr%C3%A1in  D%C3%A1l_Riata  0.025523\n",
       "2  %C3%81ed%C3%A1n_mac_Gabr%C3%A1in   Great_Britain  0.058024\n",
       "3  %C3%81ed%C3%A1n_mac_Gabr%C3%A1in         Ireland  0.032042\n",
       "4  %C3%81ed%C3%A1n_mac_Gabr%C3%A1in     Isle_of_Man  0.063349"
      ]
     },
     "metadata": {},
     "output_type": "display_data"
    },
    {
     "data": {
      "text/plain": [
       "(119878, 3)"
      ]
     },
     "execution_count": 10,
     "metadata": {},
     "output_type": "execute_result"
    }
   ],
   "source": [
    "display(link_network_pos.head(5))\n",
    "link_network_pos.shape"
   ]
  },
  {
   "cell_type": "code",
   "execution_count": 11,
   "metadata": {},
   "outputs": [],
   "source": [
    "# Identify main categories and sublevels of categories:\n",
    "main_cat_set = set()\n",
    "sec_cat_set = set()\n",
    "thrd_cat_set = set()\n",
    "\n",
    "for cat in categories['category']:\n",
    "    levels = cat.split('.')\n",
    "    if len(levels) > 1:\n",
    "        main_cat_set.add(levels[1])\n",
    "    if len(levels) > 2:\n",
    "        sec_cat_set.add(levels[2])\n",
    "    if len(levels) > 3:\n",
    "        thrd_cat_set.add(levels[3])"
   ]
  },
  {
   "cell_type": "code",
   "execution_count": 12,
   "metadata": {},
   "outputs": [
    {
     "name": "stdout",
     "output_type": "stream",
     "text": [
      "There are 15 unique main categories, 101 unique second level categories, and 27 unique third level categories.\n"
     ]
    }
   ],
   "source": [
    "print(f'There are {len(main_cat_set)} unique main categories, {len(sec_cat_set)} unique second level categories, and {len(thrd_cat_set)} unique third level categories.')"
   ]
  },
  {
   "cell_type": "markdown",
   "metadata": {},
   "source": [
    "### Player path specific metrics"
   ]
  },
  {
   "cell_type": "code",
   "execution_count": 13,
   "metadata": {},
   "outputs": [],
   "source": [
    "# Average duration per articles:\n",
    "#finished_paths['avg_duration'] = finished_paths.apply(get_avg_duration, axis=1)\n",
    "#unfinished_paths['avg_duration'] = unfinished_paths.apply(get_avg_duration, axis=1)"
   ]
  },
  {
   "cell_type": "code",
   "execution_count": null,
   "metadata": {},
   "outputs": [],
   "source": [
    "# Position of links:\n",
    "#finished_paths['link_positions'] = finished_paths['path'].apply(calculate_positions)\n",
    "#unfinished_paths['link_positions'] = unfinished_paths['path'].apply(calculate_positions)"
   ]
  },
  {
   "cell_type": "code",
   "execution_count": null,
   "metadata": {},
   "outputs": [],
   "source": [
    "# Average positions of links clicked for each path:\n",
    "#finished_paths['avg_position'] = finished_paths['link_positions'].apply(\n",
    "#    lambda x: np.mean(x) if x else np.nan)\n",
    "#unfinished_paths['avg_position'] = unfinished_paths['link_positions'].apply(\n",
    "#    lambda x: np.mean(x) if x else np.nan)"
   ]
  },
  {
   "cell_type": "code",
   "execution_count": null,
   "metadata": {},
   "outputs": [],
   "source": [
    "# Average article length:\n",
    "#finished_paths['avg_article_length'] = avg_article_length(finished_paths)\n",
    "#unfinished_paths['avg_article_length'] = avg_article_length(unfinished_paths)"
   ]
  },
  {
   "cell_type": "code",
   "execution_count": null,
   "metadata": {},
   "outputs": [],
   "source": [
    "# Average ratio of incoming and outgoing links for all article in paths\n",
    "#finished_paths['avg_target_source_ratio'] = avg_target_source_ratio(finished_paths)\n",
    "#unfinished_paths['avg_target_source_ratio'] = avg_target_source_ratio(unfinished_paths)"
   ]
  },
  {
   "cell_type": "code",
   "execution_count": 215,
   "metadata": {},
   "outputs": [],
   "source": [
    "#finished_paths.to_pickle('finished_paths_w_positions.df')\n",
    "#unfinished_paths.to_pickle('unfinished_paths_w_positions.df')"
   ]
  },
  {
   "cell_type": "code",
   "execution_count": 13,
   "metadata": {},
   "outputs": [],
   "source": [
    "# Load data with positions\n",
    "finished_paths = pd.read_pickle('finished_paths_w_positions.df')\n",
    "unfinished_paths = pd.read_pickle('unfinished_paths_w_positions.df')"
   ]
  },
  {
   "cell_type": "code",
   "execution_count": 14,
   "metadata": {},
   "outputs": [
    {
     "data": {
      "text/html": [
       "<div>\n",
       "<style scoped>\n",
       "    .dataframe tbody tr th:only-of-type {\n",
       "        vertical-align: middle;\n",
       "    }\n",
       "\n",
       "    .dataframe tbody tr th {\n",
       "        vertical-align: top;\n",
       "    }\n",
       "\n",
       "    .dataframe thead th {\n",
       "        text-align: right;\n",
       "    }\n",
       "</style>\n",
       "<table border=\"1\" class=\"dataframe\">\n",
       "  <thead>\n",
       "    <tr style=\"text-align: right;\">\n",
       "      <th></th>\n",
       "      <th>hashedIpAddress</th>\n",
       "      <th>timestamp</th>\n",
       "      <th>durationInSec</th>\n",
       "      <th>path</th>\n",
       "      <th>rating</th>\n",
       "      <th>link_positions</th>\n",
       "      <th>avg_duration</th>\n",
       "      <th>avg_position</th>\n",
       "      <th>max_position</th>\n",
       "      <th>avg_article_length</th>\n",
       "      <th>avg_target_source_ratio</th>\n",
       "    </tr>\n",
       "  </thead>\n",
       "  <tbody>\n",
       "    <tr>\n",
       "      <th>0</th>\n",
       "      <td>3824310e536af032</td>\n",
       "      <td>1344753412</td>\n",
       "      <td>88</td>\n",
       "      <td>14th_century;Europe;Africa;Atlantic_slave_trad...</td>\n",
       "      <td>3.0</td>\n",
       "      <td>[0.16301315265045835, 0.0320129127715381, 0.23...</td>\n",
       "      <td>17.600000</td>\n",
       "      <td>0.161321</td>\n",
       "      <td>0.238708</td>\n",
       "      <td>4322.400000</td>\n",
       "      <td>2.191707</td>\n",
       "    </tr>\n",
       "    <tr>\n",
       "      <th>1</th>\n",
       "      <td>415612e93584d30e</td>\n",
       "      <td>1349298640</td>\n",
       "      <td>138</td>\n",
       "      <td>14th_century;Niger;Nigeria;British_Empire;Slav...</td>\n",
       "      <td>NaN</td>\n",
       "      <td>[0.38341968911917096, 0.04472755782046257, 0.0...</td>\n",
       "      <td>17.250000</td>\n",
       "      <td>0.189159</td>\n",
       "      <td>0.383420</td>\n",
       "      <td>5570.875000</td>\n",
       "      <td>1.300951</td>\n",
       "    </tr>\n",
       "    <tr>\n",
       "      <th>2</th>\n",
       "      <td>64dd5cd342e3780c</td>\n",
       "      <td>1265613925</td>\n",
       "      <td>37</td>\n",
       "      <td>14th_century;Renaissance;Ancient_Greece;Greece</td>\n",
       "      <td>NaN</td>\n",
       "      <td>[0.43304105221203665, 0.2143170488534397, 0.04...</td>\n",
       "      <td>9.250000</td>\n",
       "      <td>0.229568</td>\n",
       "      <td>0.433041</td>\n",
       "      <td>4011.000000</td>\n",
       "      <td>2.223104</td>\n",
       "    </tr>\n",
       "    <tr>\n",
       "      <th>3</th>\n",
       "      <td>015245d773376aab</td>\n",
       "      <td>1366730828</td>\n",
       "      <td>175</td>\n",
       "      <td>14th_century;Italy;Roman_Catholic_Church;HIV;R...</td>\n",
       "      <td>3.0</td>\n",
       "      <td>[0.14806695894778796, 0.055970351133474004, 0....</td>\n",
       "      <td>25.000000</td>\n",
       "      <td>0.284119</td>\n",
       "      <td>0.983090</td>\n",
       "      <td>6885.714286</td>\n",
       "      <td>2.969612</td>\n",
       "    </tr>\n",
       "    <tr>\n",
       "      <th>4</th>\n",
       "      <td>5295bca242be81fe</td>\n",
       "      <td>1372890414</td>\n",
       "      <td>110</td>\n",
       "      <td>14th_century;Europe;North_America;United_State...</td>\n",
       "      <td>NaN</td>\n",
       "      <td>[0.16301315265045835, 0.3061066648732262, 0.43...</td>\n",
       "      <td>18.333333</td>\n",
       "      <td>0.263157</td>\n",
       "      <td>0.432730</td>\n",
       "      <td>4909.000000</td>\n",
       "      <td>3.750072</td>\n",
       "    </tr>\n",
       "  </tbody>\n",
       "</table>\n",
       "</div>"
      ],
      "text/plain": [
       "    hashedIpAddress   timestamp  durationInSec  \\\n",
       "0  3824310e536af032  1344753412             88   \n",
       "1  415612e93584d30e  1349298640            138   \n",
       "2  64dd5cd342e3780c  1265613925             37   \n",
       "3  015245d773376aab  1366730828            175   \n",
       "4  5295bca242be81fe  1372890414            110   \n",
       "\n",
       "                                                path  rating  \\\n",
       "0  14th_century;Europe;Africa;Atlantic_slave_trad...     3.0   \n",
       "1  14th_century;Niger;Nigeria;British_Empire;Slav...     NaN   \n",
       "2     14th_century;Renaissance;Ancient_Greece;Greece     NaN   \n",
       "3  14th_century;Italy;Roman_Catholic_Church;HIV;R...     3.0   \n",
       "4  14th_century;Europe;North_America;United_State...     NaN   \n",
       "\n",
       "                                      link_positions  avg_duration  \\\n",
       "0  [0.16301315265045835, 0.0320129127715381, 0.23...     17.600000   \n",
       "1  [0.38341968911917096, 0.04472755782046257, 0.0...     17.250000   \n",
       "2  [0.43304105221203665, 0.2143170488534397, 0.04...      9.250000   \n",
       "3  [0.14806695894778796, 0.055970351133474004, 0....     25.000000   \n",
       "4  [0.16301315265045835, 0.3061066648732262, 0.43...     18.333333   \n",
       "\n",
       "   avg_position  max_position  avg_article_length  avg_target_source_ratio  \n",
       "0      0.161321      0.238708         4322.400000                 2.191707  \n",
       "1      0.189159      0.383420         5570.875000                 1.300951  \n",
       "2      0.229568      0.433041         4011.000000                 2.223104  \n",
       "3      0.284119      0.983090         6885.714286                 2.969612  \n",
       "4      0.263157      0.432730         4909.000000                 3.750072  "
      ]
     },
     "metadata": {},
     "output_type": "display_data"
    },
    {
     "data": {
      "text/html": [
       "<div>\n",
       "<style scoped>\n",
       "    .dataframe tbody tr th:only-of-type {\n",
       "        vertical-align: middle;\n",
       "    }\n",
       "\n",
       "    .dataframe tbody tr th {\n",
       "        vertical-align: top;\n",
       "    }\n",
       "\n",
       "    .dataframe thead th {\n",
       "        text-align: right;\n",
       "    }\n",
       "</style>\n",
       "<table border=\"1\" class=\"dataframe\">\n",
       "  <thead>\n",
       "    <tr style=\"text-align: right;\">\n",
       "      <th></th>\n",
       "      <th>hashedIpAddress</th>\n",
       "      <th>timestamp</th>\n",
       "      <th>durationInSec</th>\n",
       "      <th>path</th>\n",
       "      <th>target</th>\n",
       "      <th>type</th>\n",
       "      <th>link_positions</th>\n",
       "      <th>avg_duration</th>\n",
       "      <th>max_position</th>\n",
       "      <th>avg_position</th>\n",
       "      <th>avg_article_length</th>\n",
       "      <th>avg_target_source_ratio</th>\n",
       "    </tr>\n",
       "  </thead>\n",
       "  <tbody>\n",
       "    <tr>\n",
       "      <th>0</th>\n",
       "      <td>26141fd878806294</td>\n",
       "      <td>1297055651</td>\n",
       "      <td>1805</td>\n",
       "      <td>Julius_Caesar</td>\n",
       "      <td>Caracas</td>\n",
       "      <td>timeout</td>\n",
       "      <td>[nan]</td>\n",
       "      <td>1805.00</td>\n",
       "      <td>NaN</td>\n",
       "      <td>NaN</td>\n",
       "      <td>7586.0</td>\n",
       "      <td>2.333333</td>\n",
       "    </tr>\n",
       "    <tr>\n",
       "      <th>1</th>\n",
       "      <td>2b015fb8181c48f2</td>\n",
       "      <td>1297090819</td>\n",
       "      <td>1818</td>\n",
       "      <td>Malawi;Democracy;Alexander_the_Great</td>\n",
       "      <td>First_Crusade</td>\n",
       "      <td>timeout</td>\n",
       "      <td>[0.020996711358461928, 0.24676118775557]</td>\n",
       "      <td>606.00</td>\n",
       "      <td>0.246761</td>\n",
       "      <td>0.133879</td>\n",
       "      <td>5604.0</td>\n",
       "      <td>1.773224</td>\n",
       "    </tr>\n",
       "    <tr>\n",
       "      <th>2</th>\n",
       "      <td>53a53bc244e08a6a</td>\n",
       "      <td>1297094761</td>\n",
       "      <td>49</td>\n",
       "      <td>Paraguay</td>\n",
       "      <td>Mount_St._Helens</td>\n",
       "      <td>restart</td>\n",
       "      <td>[nan]</td>\n",
       "      <td>49.00</td>\n",
       "      <td>NaN</td>\n",
       "      <td>NaN</td>\n",
       "      <td>1327.0</td>\n",
       "      <td>1.950000</td>\n",
       "    </tr>\n",
       "    <tr>\n",
       "      <th>3</th>\n",
       "      <td>53a53bc244e08a6a</td>\n",
       "      <td>1297099105</td>\n",
       "      <td>1808</td>\n",
       "      <td>Paraguay;Bolivia</td>\n",
       "      <td>Mount_St._Helens</td>\n",
       "      <td>timeout</td>\n",
       "      <td>[0.16173641173641173]</td>\n",
       "      <td>904.00</td>\n",
       "      <td>0.161736</td>\n",
       "      <td>0.161736</td>\n",
       "      <td>3352.0</td>\n",
       "      <td>1.532377</td>\n",
       "    </tr>\n",
       "    <tr>\n",
       "      <th>4</th>\n",
       "      <td>131600803df4895e</td>\n",
       "      <td>1297100557</td>\n",
       "      <td>2009</td>\n",
       "      <td>Agriculture;History_of_the_world;China;Yangtze...</td>\n",
       "      <td>Grand_Canal_of_China</td>\n",
       "      <td>timeout</td>\n",
       "      <td>[0.0487655079228596, 0.12396390951476428, 0.50...</td>\n",
       "      <td>502.25</td>\n",
       "      <td>0.507053</td>\n",
       "      <td>0.226594</td>\n",
       "      <td>4338.0</td>\n",
       "      <td>2.724478</td>\n",
       "    </tr>\n",
       "  </tbody>\n",
       "</table>\n",
       "</div>"
      ],
      "text/plain": [
       "    hashedIpAddress   timestamp  durationInSec  \\\n",
       "0  26141fd878806294  1297055651           1805   \n",
       "1  2b015fb8181c48f2  1297090819           1818   \n",
       "2  53a53bc244e08a6a  1297094761             49   \n",
       "3  53a53bc244e08a6a  1297099105           1808   \n",
       "4  131600803df4895e  1297100557           2009   \n",
       "\n",
       "                                                path                target  \\\n",
       "0                                      Julius_Caesar               Caracas   \n",
       "1               Malawi;Democracy;Alexander_the_Great         First_Crusade   \n",
       "2                                           Paraguay      Mount_St._Helens   \n",
       "3                                   Paraguay;Bolivia      Mount_St._Helens   \n",
       "4  Agriculture;History_of_the_world;China;Yangtze...  Grand_Canal_of_China   \n",
       "\n",
       "      type                                     link_positions  avg_duration  \\\n",
       "0  timeout                                              [nan]       1805.00   \n",
       "1  timeout           [0.020996711358461928, 0.24676118775557]        606.00   \n",
       "2  restart                                              [nan]         49.00   \n",
       "3  timeout                              [0.16173641173641173]        904.00   \n",
       "4  timeout  [0.0487655079228596, 0.12396390951476428, 0.50...        502.25   \n",
       "\n",
       "   max_position  avg_position  avg_article_length  avg_target_source_ratio  \n",
       "0           NaN           NaN              7586.0                 2.333333  \n",
       "1      0.246761      0.133879              5604.0                 1.773224  \n",
       "2           NaN           NaN              1327.0                 1.950000  \n",
       "3      0.161736      0.161736              3352.0                 1.532377  \n",
       "4      0.507053      0.226594              4338.0                 2.724478  "
      ]
     },
     "metadata": {},
     "output_type": "display_data"
    },
    {
     "data": {
      "text/plain": [
       "(24874, 12)"
      ]
     },
     "execution_count": 14,
     "metadata": {},
     "output_type": "execute_result"
    }
   ],
   "source": [
    "display(finished_paths.head(5))\n",
    "finished_paths.shape\n",
    "display(unfinished_paths.head(5))\n",
    "unfinished_paths.shape"
   ]
  },
  {
   "cell_type": "markdown",
   "metadata": {},
   "source": [
    "### Player specific information"
   ]
  },
  {
   "cell_type": "code",
   "execution_count": 15,
   "metadata": {},
   "outputs": [],
   "source": [
    "players = pd.concat([unfinished_paths, finished_paths])"
   ]
  },
  {
   "cell_type": "code",
   "execution_count": 16,
   "metadata": {},
   "outputs": [],
   "source": [
    "# Number of games per player\n",
    "player_game_counts = players.groupby('hashedIpAddress')['path'].count().reset_index()\n",
    "player_game_counts.columns = ['player_hash', 'games_count']"
   ]
  },
  {
   "cell_type": "code",
   "execution_count": 17,
   "metadata": {},
   "outputs": [],
   "source": [
    "# Win rate:\n",
    "player_game_counts['finished_paths_count'] = player_game_counts['player_hash']\\\n",
    "                                             .map(finished_paths['hashedIpAddress']\\\n",
    "                                             .value_counts().fillna(0))\n",
    "player_game_counts['win_rate'] = player_game_counts['finished_paths_count'] / player_game_counts['games_count']\n",
    "player_game_counts['win_rate'].fillna(0, inplace=True)"
   ]
  },
  {
   "cell_type": "code",
   "execution_count": 18,
   "metadata": {},
   "outputs": [
    {
     "data": {
      "text/html": [
       "<div>\n",
       "<style scoped>\n",
       "    .dataframe tbody tr th:only-of-type {\n",
       "        vertical-align: middle;\n",
       "    }\n",
       "\n",
       "    .dataframe tbody tr th {\n",
       "        vertical-align: top;\n",
       "    }\n",
       "\n",
       "    .dataframe thead th {\n",
       "        text-align: right;\n",
       "    }\n",
       "</style>\n",
       "<table border=\"1\" class=\"dataframe\">\n",
       "  <thead>\n",
       "    <tr style=\"text-align: right;\">\n",
       "      <th></th>\n",
       "      <th>player_hash</th>\n",
       "      <th>games_count</th>\n",
       "      <th>finished_paths_count</th>\n",
       "      <th>win_rate</th>\n",
       "    </tr>\n",
       "  </thead>\n",
       "  <tbody>\n",
       "    <tr>\n",
       "      <th>0</th>\n",
       "      <td>000386124f307de8</td>\n",
       "      <td>2</td>\n",
       "      <td>1.0</td>\n",
       "      <td>0.5</td>\n",
       "    </tr>\n",
       "    <tr>\n",
       "      <th>1</th>\n",
       "      <td>0007183207b6008f</td>\n",
       "      <td>3</td>\n",
       "      <td>3.0</td>\n",
       "      <td>1.0</td>\n",
       "    </tr>\n",
       "    <tr>\n",
       "      <th>2</th>\n",
       "      <td>000a09e202e88d10</td>\n",
       "      <td>1</td>\n",
       "      <td>1.0</td>\n",
       "      <td>1.0</td>\n",
       "    </tr>\n",
       "    <tr>\n",
       "      <th>3</th>\n",
       "      <td>000a5bac5b7781ea</td>\n",
       "      <td>1</td>\n",
       "      <td>1.0</td>\n",
       "      <td>1.0</td>\n",
       "    </tr>\n",
       "    <tr>\n",
       "      <th>4</th>\n",
       "      <td>000a6e585b776c96</td>\n",
       "      <td>1</td>\n",
       "      <td>NaN</td>\n",
       "      <td>0.0</td>\n",
       "    </tr>\n",
       "  </tbody>\n",
       "</table>\n",
       "</div>"
      ],
      "text/plain": [
       "        player_hash  games_count  finished_paths_count  win_rate\n",
       "0  000386124f307de8            2                   1.0       0.5\n",
       "1  0007183207b6008f            3                   3.0       1.0\n",
       "2  000a09e202e88d10            1                   1.0       1.0\n",
       "3  000a5bac5b7781ea            1                   1.0       1.0\n",
       "4  000a6e585b776c96            1                   NaN       0.0"
      ]
     },
     "metadata": {},
     "output_type": "display_data"
    },
    {
     "data": {
      "text/plain": [
       "(20866, 4)"
      ]
     },
     "execution_count": 18,
     "metadata": {},
     "output_type": "execute_result"
    }
   ],
   "source": [
    "display(player_game_counts.head(5))\n",
    "player_game_counts.shape"
   ]
  },
  {
   "cell_type": "markdown",
   "metadata": {},
   "source": [
    "Phase 4:  Comparative Analysis and Statistical Modeling\n",
    "------------"
   ]
  },
  {
   "cell_type": "markdown",
   "metadata": {},
   "source": [
    "### Feature Impact Assessment"
   ]
  },
  {
   "cell_type": "code",
   "execution_count": 25,
   "metadata": {},
   "outputs": [],
   "source": [
    "#features = ['avg_article_length', 'avg_position', 'avg_target_source_ratio']"
   ]
  },
  {
   "cell_type": "code",
   "execution_count": 32,
   "metadata": {},
   "outputs": [],
   "source": [
    "# Binary indicator of whether a player completed a path (1) or not (0):\n",
    "paths = pd.concat([finished_paths, unfinished_paths])\n",
    "paths['completion'] = [1]*len(finished_paths) + [0]*len(unfinished_paths)"
   ]
  },
  {
   "cell_type": "code",
   "execution_count": 33,
   "metadata": {},
   "outputs": [],
   "source": [
    "# Standardize the countinuous features\n",
    "paths_normalized = paths.copy()\n",
    "paths_normalized['avg_article_length'] = normalize(paths_normalized, 'avg_article_length')\n",
    "paths_normalized['avg_position'] = normalize(paths_normalized, 'avg_position')\n",
    "paths_normalized['avg_target_source_ratio'] = normalize(paths_normalized, 'avg_target_source_ratio')"
   ]
  },
  {
   "cell_type": "code",
   "execution_count": 34,
   "metadata": {
    "scrolled": true
   },
   "outputs": [
    {
     "name": "stdout",
     "output_type": "stream",
     "text": [
      "Optimization terminated successfully.\n",
      "         Current function value: 0.565335\n",
      "         Iterations 5\n",
      "                           Logit Regression Results                           \n",
      "==============================================================================\n",
      "Dep. Variable:             completion   No. Observations:                56710\n",
      "Model:                          Logit   Df Residuals:                    56706\n",
      "Method:                           MLE   Df Model:                            3\n",
      "Date:                Tue, 05 Dec 2023   Pseudo R-squ.:                0.002341\n",
      "Time:                        17:57:36   Log-Likelihood:                -32060.\n",
      "converged:                       True   LL-Null:                       -32135.\n",
      "Covariance Type:            nonrobust   LLR p-value:                 2.127e-32\n",
      "===========================================================================================\n",
      "                              coef    std err          z      P>|z|      [0.025      0.975]\n",
      "-------------------------------------------------------------------------------------------\n",
      "Intercept                   1.0873      0.010    111.560      0.000       1.068       1.106\n",
      "avg_article_length          0.0426      0.010      4.212      0.000       0.023       0.062\n",
      "avg_position               -0.0029      0.010     -0.300      0.764      -0.022       0.016\n",
      "avg_target_source_ratio    -0.1186      0.010    -11.851      0.000      -0.138      -0.099\n",
      "===========================================================================================\n"
     ]
    }
   ],
   "source": [
    "# Model 1: dependent variable = completion, so logistic regression (binary outcome)\n",
    "mod1 = smf.logit(formula='completion ~  avg_article_length + avg_position + avg_target_source_ratio', \n",
    "                 data=paths_normalized)\n",
    "res1 = mod1.fit()\n",
    "print(res1.summary())"
   ]
  },
  {
   "cell_type": "code",
   "execution_count": 35,
   "metadata": {
    "scrolled": true
   },
   "outputs": [
    {
     "data": {
      "text/html": [
       "<div>\n",
       "<style scoped>\n",
       "    .dataframe tbody tr th:only-of-type {\n",
       "        vertical-align: middle;\n",
       "    }\n",
       "\n",
       "    .dataframe tbody tr th {\n",
       "        vertical-align: top;\n",
       "    }\n",
       "\n",
       "    .dataframe thead th {\n",
       "        text-align: right;\n",
       "    }\n",
       "</style>\n",
       "<table border=\"1\" class=\"dataframe\">\n",
       "  <thead>\n",
       "    <tr style=\"text-align: right;\">\n",
       "      <th></th>\n",
       "      <th>0</th>\n",
       "      <th>1</th>\n",
       "    </tr>\n",
       "  </thead>\n",
       "  <tbody>\n",
       "    <tr>\n",
       "      <th>Intercept</th>\n",
       "      <td>1.068209</td>\n",
       "      <td>1.106414</td>\n",
       "    </tr>\n",
       "    <tr>\n",
       "      <th>avg_article_length</th>\n",
       "      <td>0.022764</td>\n",
       "      <td>0.062388</td>\n",
       "    </tr>\n",
       "    <tr>\n",
       "      <th>avg_position</th>\n",
       "      <td>-0.021980</td>\n",
       "      <td>0.016150</td>\n",
       "    </tr>\n",
       "    <tr>\n",
       "      <th>avg_target_source_ratio</th>\n",
       "      <td>-0.138252</td>\n",
       "      <td>-0.099012</td>\n",
       "    </tr>\n",
       "  </tbody>\n",
       "</table>\n",
       "</div>"
      ],
      "text/plain": [
       "                                0         1\n",
       "Intercept                1.068209  1.106414\n",
       "avg_article_length       0.022764  0.062388\n",
       "avg_position            -0.021980  0.016150\n",
       "avg_target_source_ratio -0.138252 -0.099012"
      ]
     },
     "execution_count": 35,
     "metadata": {},
     "output_type": "execute_result"
    }
   ],
   "source": [
    "variables_model1 = res1.params.index #features\n",
    "coefficients_model1 = res1.params.values\n",
    "p_values_model1 = res1.pvalues\n",
    "standard_errors_model1 = res1.bse.values\n",
    "res1.conf_int() #confidence intervals"
   ]
  },
  {
   "cell_type": "code",
   "execution_count": 36,
   "metadata": {},
   "outputs": [
    {
     "data": {
      "image/png": "[encoded data removed]",
      "text/plain": [
       "<Figure size 640x480 with 1 Axes>"
      ]
     },
     "metadata": {},
     "output_type": "display_data"
    }
   ],
   "source": [
    "# Sort by coefficients\n",
    "l1, l2, l3, l4 = zip(*sorted(zip(coefficients_model1[1:], variables_model1[1:], \n",
    "                                 standard_errors_model1[1:], p_values_model1[1:])))\n",
    "\n",
    "# Plotting\n",
    "plt.errorbar(l1, np.array(range(len(l1))), xerr= 2*np.array(l3), linewidth = 1,\n",
    "             linestyle = 'none',marker = 'o',markersize= 3,\n",
    "             markerfacecolor = 'black',markeredgecolor = 'black', capsize= 5)\n",
    "plt.vlines(0,0, len(l1), linestyle = '--')\n",
    "plt.yticks(range(len(l2)),l2);"
   ]
  },
  {
   "cell_type": "code",
   "execution_count": 37,
   "metadata": {},
   "outputs": [
    {
     "name": "stdout",
     "output_type": "stream",
     "text": [
      "Intel MKL WARNING: Support of Intel(R) Streaming SIMD Extensions 4.2 (Intel(R) SSE4.2) enabled only processors has been deprecated. Intel oneAPI Math Kernel Library 2025.0 will require Intel(R) Advanced Vector Extensions (Intel(R) AVX) instructions.\n",
      "                            OLS Regression Results                            \n",
      "==============================================================================\n",
      "Dep. Variable:           avg_duration   R-squared:                       0.001\n",
      "Model:                            OLS   Adj. R-squared:                  0.001\n",
      "Method:                 Least Squares   F-statistic:                     18.25\n",
      "Date:                Tue, 05 Dec 2023   Prob (F-statistic):           7.81e-12\n",
      "Time:                        17:57:42   Log-Likelihood:            -3.7537e+05\n",
      "No. Observations:               56710   AIC:                         7.508e+05\n",
      "Df Residuals:                   56706   BIC:                         7.508e+05\n",
      "Df Model:                           3                                         \n",
      "Covariance Type:            nonrobust                                         \n",
      "===========================================================================================\n",
      "                              coef    std err          t      P>|t|      [0.025      0.975]\n",
      "-------------------------------------------------------------------------------------------\n",
      "Intercept                  76.4740      0.765     99.916      0.000      74.974      77.974\n",
      "avg_article_length          0.3015      0.795      0.379      0.705      -1.257       1.860\n",
      "avg_position                5.6046      0.767      7.312      0.000       4.102       7.107\n",
      "avg_target_source_ratio     1.3580      0.825      1.646      0.100      -0.259       2.975\n",
      "==============================================================================\n",
      "Omnibus:                    50906.553   Durbin-Watson:                   1.341\n",
      "Prob(Omnibus):                  0.000   Jarque-Bera (JB):          2443417.024\n",
      "Skew:                           4.223   Prob(JB):                         0.00\n",
      "Kurtosis:                      34.028   Cond. No.                         1.19\n",
      "==============================================================================\n",
      "\n",
      "Notes:\n",
      "[1] Standard Errors assume that the covariance matrix of the errors is correctly specified.\n"
     ]
    }
   ],
   "source": [
    "# Model 2: dependent variable = avg_duration, so linear regression (continuous outcome)\n",
    "mod2 = smf.ols(formula='avg_duration ~  avg_article_length + avg_position + avg_target_source_ratio', \n",
    "                 data=paths_normalized)\n",
    "res2 = mod2.fit()\n",
    "print(res2.summary())"
   ]
  },
  {
   "cell_type": "code",
   "execution_count": 38,
   "metadata": {},
   "outputs": [
    {
     "data": {
      "text/html": [
       "<div>\n",
       "<style scoped>\n",
       "    .dataframe tbody tr th:only-of-type {\n",
       "        vertical-align: middle;\n",
       "    }\n",
       "\n",
       "    .dataframe tbody tr th {\n",
       "        vertical-align: top;\n",
       "    }\n",
       "\n",
       "    .dataframe thead th {\n",
       "        text-align: right;\n",
       "    }\n",
       "</style>\n",
       "<table border=\"1\" class=\"dataframe\">\n",
       "  <thead>\n",
       "    <tr style=\"text-align: right;\">\n",
       "      <th></th>\n",
       "      <th>0</th>\n",
       "      <th>1</th>\n",
       "    </tr>\n",
       "  </thead>\n",
       "  <tbody>\n",
       "    <tr>\n",
       "      <th>Intercept</th>\n",
       "      <td>74.973875</td>\n",
       "      <td>77.974198</td>\n",
       "    </tr>\n",
       "    <tr>\n",
       "      <th>avg_article_length</th>\n",
       "      <td>-1.257313</td>\n",
       "      <td>1.860246</td>\n",
       "    </tr>\n",
       "    <tr>\n",
       "      <th>avg_position</th>\n",
       "      <td>4.102241</td>\n",
       "      <td>7.107048</td>\n",
       "    </tr>\n",
       "    <tr>\n",
       "      <th>avg_target_source_ratio</th>\n",
       "      <td>-0.258993</td>\n",
       "      <td>2.975030</td>\n",
       "    </tr>\n",
       "  </tbody>\n",
       "</table>\n",
       "</div>"
      ],
      "text/plain": [
       "                                 0          1\n",
       "Intercept                74.973875  77.974198\n",
       "avg_article_length       -1.257313   1.860246\n",
       "avg_position              4.102241   7.107048\n",
       "avg_target_source_ratio  -0.258993   2.975030"
      ]
     },
     "execution_count": 38,
     "metadata": {},
     "output_type": "execute_result"
    }
   ],
   "source": [
    "variables_model2 = res2.params.index #features\n",
    "coefficients_model2 = res2.params.values\n",
    "p_values_model2 = res2.pvalues\n",
    "standard_errors_model2 = res2.bse.values\n",
    "res2.conf_int() #confidence intervals"
   ]
  },
  {
   "cell_type": "code",
   "execution_count": 39,
   "metadata": {},
   "outputs": [
    {
     "data": {
      "image/png": "[encoded data removed]",
      "text/plain": [
       "<Figure size 640x480 with 1 Axes>"
      ]
     },
     "metadata": {},
     "output_type": "display_data"
    }
   ],
   "source": [
    "# Sort by coefficients\n",
    "l1, l2, l3, l4 = zip(*sorted(zip(coefficients_model2[1:], variables_model2[1:], \n",
    "                                 standard_errors_model2[1:], p_values_model2[1:])))\n",
    "\n",
    "# Plotting\n",
    "plt.errorbar(l1, np.array(range(len(l1))), xerr= 2*np.array(l3), linewidth = 1,\n",
    "             linestyle = 'none',marker = 'o',markersize= 3,\n",
    "             markerfacecolor = 'black',markeredgecolor = 'black', capsize= 5)\n",
    "plt.vlines(0,0, len(l1), linestyle = '--')\n",
    "plt.yticks(range(len(l2)),l2);"
   ]
  },
  {
   "cell_type": "code",
   "execution_count": 40,
   "metadata": {},
   "outputs": [
    {
     "name": "stdout",
     "output_type": "stream",
     "text": [
      "Intel MKL WARNING: Support of Intel(R) Streaming SIMD Extensions 4.2 (Intel(R) SSE4.2) enabled only processors has been deprecated. Intel oneAPI Math Kernel Library 2025.0 will require Intel(R) Advanced Vector Extensions (Intel(R) AVX) instructions.\n",
      "                            OLS Regression Results                            \n",
      "==============================================================================\n",
      "Dep. Variable:       log_avg_duration   R-squared:                       0.021\n",
      "Model:                            OLS   Adj. R-squared:                  0.021\n",
      "Method:                 Least Squares   F-statistic:                     400.6\n",
      "Date:                Tue, 05 Dec 2023   Prob (F-statistic):          1.58e-257\n",
      "Time:                        17:59:19   Log-Likelihood:                -90248.\n",
      "No. Observations:               56710   AIC:                         1.805e+05\n",
      "Df Residuals:                   56706   BIC:                         1.805e+05\n",
      "Df Model:                           3                                         \n",
      "Covariance Type:            nonrobust                                         \n",
      "===========================================================================================\n",
      "                              coef    std err          t      P>|t|      [0.025      0.975]\n",
      "-------------------------------------------------------------------------------------------\n",
      "Intercept                   3.2394      0.005    645.837      0.000       3.230       3.249\n",
      "avg_article_length          0.0316      0.005      6.070      0.000       0.021       0.042\n",
      "avg_position                0.1733      0.005     34.506      0.000       0.163       0.183\n",
      "avg_target_source_ratio     0.0181      0.005      3.342      0.001       0.007       0.029\n",
      "==============================================================================\n",
      "Omnibus:                    13699.318   Durbin-Watson:                   1.085\n",
      "Prob(Omnibus):                  0.000   Jarque-Bera (JB):            29304.417\n",
      "Skew:                           1.414   Prob(JB):                         0.00\n",
      "Kurtosis:                       5.098   Cond. No.                         1.19\n",
      "==============================================================================\n",
      "\n",
      "Notes:\n",
      "[1] Standard Errors assume that the covariance matrix of the errors is correctly specified.\n"
     ]
    },
    {
     "name": "stderr",
     "output_type": "stream",
     "text": [
      "/Users/marielouhirschy/anaconda3/envs/ada/lib/python3.9/site-packages/pandas/core/arraylike.py:396: RuntimeWarning: divide by zero encountered in log\n",
      "  result = getattr(ufunc, method)(*inputs, **kwargs)\n"
     ]
    }
   ],
   "source": [
    "# Model 2 but with log of avg_duration:\n",
    "paths_normalized['log_avg_duration'] = np.log(paths_normalized['avg_duration'])\n",
    "\n",
    "mod2_log = smf.ols(formula='log_avg_duration ~  avg_article_length + avg_position + avg_target_source_ratio', \n",
    "                   data=paths_normalized)\n",
    "res2_log = mod2_log.fit()\n",
    "print(res2_log.summary())"
   ]
  },
  {
   "cell_type": "code",
   "execution_count": 41,
   "metadata": {},
   "outputs": [
    {
     "data": {
      "text/html": [
       "<div>\n",
       "<style scoped>\n",
       "    .dataframe tbody tr th:only-of-type {\n",
       "        vertical-align: middle;\n",
       "    }\n",
       "\n",
       "    .dataframe tbody tr th {\n",
       "        vertical-align: top;\n",
       "    }\n",
       "\n",
       "    .dataframe thead th {\n",
       "        text-align: right;\n",
       "    }\n",
       "</style>\n",
       "<table border=\"1\" class=\"dataframe\">\n",
       "  <thead>\n",
       "    <tr style=\"text-align: right;\">\n",
       "      <th></th>\n",
       "      <th>0</th>\n",
       "      <th>1</th>\n",
       "    </tr>\n",
       "  </thead>\n",
       "  <tbody>\n",
       "    <tr>\n",
       "      <th>Intercept</th>\n",
       "      <td>3.229529</td>\n",
       "      <td>3.249190</td>\n",
       "    </tr>\n",
       "    <tr>\n",
       "      <th>avg_article_length</th>\n",
       "      <td>0.021420</td>\n",
       "      <td>0.041850</td>\n",
       "    </tr>\n",
       "    <tr>\n",
       "      <th>avg_position</th>\n",
       "      <td>0.163486</td>\n",
       "      <td>0.183177</td>\n",
       "    </tr>\n",
       "    <tr>\n",
       "      <th>avg_target_source_ratio</th>\n",
       "      <td>0.007470</td>\n",
       "      <td>0.028664</td>\n",
       "    </tr>\n",
       "  </tbody>\n",
       "</table>\n",
       "</div>"
      ],
      "text/plain": [
       "                                0         1\n",
       "Intercept                3.229529  3.249190\n",
       "avg_article_length       0.021420  0.041850\n",
       "avg_position             0.163486  0.183177\n",
       "avg_target_source_ratio  0.007470  0.028664"
      ]
     },
     "execution_count": 41,
     "metadata": {},
     "output_type": "execute_result"
    }
   ],
   "source": [
    "variables_model2_log = res2_log.params.index #features\n",
    "coefficients_model2_log = res2_log.params.values\n",
    "p_values_model2_log = res2_log.pvalues\n",
    "standard_errors_model2_log = res2_log.bse.values\n",
    "res2_log.conf_int() #confidence intervals"
   ]
  },
  {
   "cell_type": "code",
   "execution_count": 42,
   "metadata": {},
   "outputs": [
    {
     "data": {
      "image/png": "[encoded data removed]",
      "text/plain": [
       "<Figure size 640x480 with 1 Axes>"
      ]
     },
     "metadata": {},
     "output_type": "display_data"
    }
   ],
   "source": [
    "# Sort by coefficients\n",
    "l1, l2, l3, l4 = zip(*sorted(zip(coefficients_model2_log[1:], variables_model2_log[1:], \n",
    "                                 standard_errors_model2_log[1:], p_values_model2_log[1:])))\n",
    "\n",
    "# Plotting\n",
    "plt.errorbar(l1, np.array(range(len(l1))), xerr= 2*np.array(l3), linewidth = 1,\n",
    "             linestyle = 'none',marker = 'o',markersize= 3,\n",
    "             markerfacecolor = 'black',markeredgecolor = 'black', capsize= 5)\n",
    "plt.vlines(0,0, len(l1), linestyle = '--')\n",
    "plt.yticks(range(len(l2)),l2);"
   ]
  },
  {
   "cell_type": "markdown",
   "metadata": {},
   "source": [
    "# Hub Characterization Measures"
   ]
  },
  {
   "cell_type": "code",
   "execution_count": 40,
   "metadata": {
    "execution": {
     "iopub.execute_input": "2023-12-09T09:29:19.212065Z",
     "iopub.status.busy": "2023-12-09T09:29:19.211441Z",
     "iopub.status.idle": "2023-12-09T09:29:19.496652Z",
     "shell.execute_reply": "2023-12-09T09:29:19.495464Z",
     "shell.execute_reply.started": "2023-12-09T09:29:19.212012Z"
    },
    "tags": []
   },
   "outputs": [
    {
     "data": {
      "text/plain": [
       "<networkx.classes.digraph.DiGraph at 0x7f4a77d39410>"
      ]
     },
     "execution_count": 40,
     "metadata": {},
     "output_type": "execute_result"
    }
   ],
   "source": [
    "# Create graph of wikispeedia with nodes being articles and edges being links\n",
    "G_link = nx.from_pandas_edgelist(link_network, 'source', 'target', create_using=nx.DiGraph())\n"
   ]
  },
  {
   "cell_type": "markdown",
   "metadata": {},
   "source": [
    "### Centrality Measures\n",
    "\n",
    "#### Degree Centrality\n",
    "Degree centrality measures the number of edges that connect to a node (i.e., the degree of the node). The more connections a node has, the more central it is.\n",
    "\n",
    "For a graph \\( G = (V, E) \\) with \\( n \\) vertices, the degree centrality \\( C_D(v) \\) for a vertex \\( v \\) is defined as:\n",
    "$$\n",
    "C_D(v) = \\frac{deg(v)}{n - 1}\n",
    "$$\n",
    "where \\( deg(v) \\) is the degree of \\( v \\), and \\( n - 1 \\) is the maximum possible degree of any vertex in a simple graph.\n",
    "\n",
    "#### Betweenness Centrality\n",
    "Betweenness centrality measures the extent to which a node lies on paths between other nodes. Nodes that frequently act as bridges between other nodes have higher betweenness centrality.\n",
    "\n",
    "For a graph \\( G = (V, E) \\), the betweenness centrality \\( C_B(v) \\) for a vertex \\( v \\) is defined as:\n",
    "$$\n",
    "C_B(v) = \\sum_{s \\neq v \\neq t \\in V} \\frac{\\sigma_{st}(v)}{\\sigma_{st}}\n",
    "$$\n",
    "where \\( \\sigma_{st} \\) is the total number of shortest paths from node \\( s \\) to node \\( t \\) and \\( \\sigma_{st}(v) \\) is the number of those paths that pass through \\( v \\).\n",
    "\n",
    "#### Closeness Centrality\n",
    "Closeness centrality measures how close a node is to all other nodes in the graph (the sum of the shortest paths from this node to all other nodes). The idea is that nodes closer to others can spread information more efficiently.\n",
    "\n",
    "For a connected graph \\( G = (V, E) \\), the closeness centrality \\( C_C(v) \\) for a vertex \\( v \\) is defined as:\n",
    "$$\n",
    "C_C(v) = \\frac{n - 1}{\\sum_{u \\in V \\setminus \\{v\\}} d(v, u)}\n",
    "$$\n",
    "where \\( d(v, u) \\) is the shortest-path distance between \\( v \\) and \\( u \\), and \\( n - 1 \\) is the number of nodes excluding \\( v \\) itself.\n",
    "\n",
    "#### Eigenvector Centrality\n",
    "Eigenvector centrality assigns relative scores to all nodes in the network based on the principle that connections to high-scoring nodes contribute more to the score of a node than equal connections to low-scoring nodes.\n",
    "\n",
    "It is calculated by finding the eigenvector associated with the largest eigenvalue of the adjacency matrix \\( A \\) of the graph \\( G \\). If \\( x \\) is the eigenvector centrality of \\( G \\) and \\( \\lambda \\) is the largest eigenvalue, then:\n",
    "$$\n",
    "Ax = \\lambda x\n",
    "$$\n",
    "The centrality \\( x_i \\) of the node \\( i \\) is the \\( i \\)th element of the eigenvector \\( x \\).\n"
   ]
  },
  {
   "cell_type": "code",
   "execution_count": 41,
   "metadata": {
    "execution": {
     "iopub.execute_input": "2023-12-09T09:30:37.444310Z",
     "iopub.status.busy": "2023-12-09T09:30:37.443649Z",
     "iopub.status.idle": "2023-12-09T09:30:37.455212Z",
     "shell.execute_reply": "2023-12-09T09:30:37.453656Z",
     "shell.execute_reply.started": "2023-12-09T09:30:37.444257Z"
    },
    "tags": []
   },
   "outputs": [],
   "source": [
    "# Calculating centrality measurement\n",
    "\n",
    "# Function for Degree Centrality\n",
    "def get_degree_centrality(G):\n",
    "    return nx.degree_centrality(G)\n",
    "\n",
    "# Function for Betweenness Centrality\n",
    "def get_betweenness_centrality(G):\n",
    "    return nx.betweenness_centrality(G)\n",
    "\n",
    "# Function for Closeness Centrality\n",
    "def get_closeness_centrality(G):\n",
    "    return nx.closeness_centrality(G)\n",
    "\n",
    "# Function for Eigenvector Centrality\n",
    "def get_eigenvector_centrality(G):\n",
    "    return nx.eigenvector_centrality(G)"
   ]
  },
  {
   "cell_type": "code",
   "execution_count": 42,
   "metadata": {
    "execution": {
     "iopub.execute_input": "2023-12-09T09:30:53.370730Z",
     "iopub.status.busy": "2023-12-09T09:30:53.370087Z",
     "iopub.status.idle": "2023-12-09T09:33:55.380082Z",
     "shell.execute_reply": "2023-12-09T09:33:55.378648Z",
     "shell.execute_reply.started": "2023-12-09T09:30:53.370672Z"
    },
    "tags": []
   },
   "outputs": [
    {
     "name": "stdout",
     "output_type": "stream",
     "text": [
      "                                  Node  Degree Centrality  \\\n",
      "0                           linkSource           0.000218   \n",
      "1                           linkTarget           0.000218   \n",
      "2     %C3%81ed%C3%A1n_mac_Gabr%C3%A1in           0.002395   \n",
      "3                                 Bede           0.008491   \n",
      "4                              Columba           0.005008   \n",
      "...                                ...                ...   \n",
      "4589                      Yellowhammer           0.002830   \n",
      "4590                    Yotsuya_Kaidan           0.000435   \n",
      "4591            You%27re_Still_the_One           0.000435   \n",
      "4592                    Yungay%2C_Peru           0.000871   \n",
      "4593                        Zara_Yaqob           0.001306   \n",
      "\n",
      "      Betweenness Centrality  Closeness Centrality  Eigenvector Centrality  \n",
      "0                   0.000000              0.000000            4.240657e-24  \n",
      "1                   0.000000              0.000218            5.512854e-23  \n",
      "2                   0.000000              0.000000            4.240657e-24  \n",
      "3                   0.000136              0.355010            3.588548e-03  \n",
      "4                   0.000041              0.331595            1.851423e-03  \n",
      "...                      ...                   ...                     ...  \n",
      "4589                0.000000              0.000000            4.240657e-24  \n",
      "4590                0.000000              0.000000            4.240657e-24  \n",
      "4591                0.000000              0.000000            4.240657e-24  \n",
      "4592                0.000000              0.000000            4.240657e-24  \n",
      "4593                0.000000              0.000000            4.240657e-24  \n",
      "\n",
      "[4594 rows x 5 columns]\n"
     ]
    }
   ],
   "source": [
    "# Calculate centralities for wikipedia links\n",
    "degree_centrality_links = get_degree_centrality(G_link)\n",
    "betweenness_centrality_links = get_betweenness_centrality(G_link)\n",
    "closeness_centrality_links = get_closeness_centrality(G_link)\n",
    "eigenvector_centrality_links = get_eigenvector_centrality(G_link)\n",
    "\n",
    "# Create a DataFrame for players\n",
    "centrality_df_links = pd.DataFrame({\n",
    "    'Node': list(G_link.nodes()),\n",
    "    'Degree Centrality': [degree_centrality_links[node] for node in G_link.nodes()],\n",
    "    'Betweenness Centrality': [betweenness_centrality_links[node] for node in G_link.nodes()],\n",
    "    'Closeness Centrality': [closeness_centrality_links[node] for node in G_link.nodes()],\n",
    "    'Eigenvector Centrality': [eigenvector_centrality_links[node] for node in G_link.nodes()]\n",
    "})\n",
    "\n",
    "print(centrality_df_links)"
   ]
  },
  {
   "cell_type": "markdown",
   "metadata": {},
   "source": [
    "### Clustering Coefficients for Directed Graphs\n",
    "\n",
    "Clustering coefficients measure the likelihood that two neighbors of a node are also neighbors of each other, forming a triangle in the graph. For directed graphs, the concept is extended to account for the directionality of connections.\n",
    "\n",
    "#### Directed Clustering Coefficients\n",
    "\n",
    "For a directed graph \\( G = (V, E) \\), the clustering coefficient can be defined for each node based on the directed triangles they participate in. There are three types of directed triangles:\n",
    "\n",
    "- **Outgoing Triangles**: Triangles that a node \\( v \\) points to, i.e., \\( v \\) has directed edges going out to the other two nodes.\n",
    "- **Incoming Triangles**: Triangles that point to the node \\( v \\), i.e., the other two nodes have directed edges going into \\( v \\).\n",
    "- **Cyclic Triangles**: Triangles where the edges form a cycle, i.e., each node points to another node in a cyclic manner.\n",
    "\n",
    "The directed clustering coefficient for a node \\( v \\) is typically the average of the local clustering coefficients for each type of triangle:\n",
    "\n",
    "$$\n",
    "C_{dir}(v) = \\frac{1}{3} (C_{out}(v) + C_{in}(v) + C_{cycle}(v))\n",
    "$$\n",
    "\n",
    "where \\( C_{out}(v) \\), \\( C_{in}(v) \\), and \\( C_{cycle}(v) \\) are the local clustering coefficients for outgoing, incoming, and cyclic triangles respectively.\n",
    "\n",
    "The local clustering coefficient for each type of triangle is calculated as:\n",
    "\n",
    "$$\n",
    "C_{type}(v) = \\frac{\\text{Number of triangles of a given type including } v}{\\text{Number of possible triangles of that type for } v}\n",
    "$$"
   ]
  },
  {
   "cell_type": "code",
   "execution_count": 43,
   "metadata": {
    "execution": {
     "iopub.execute_input": "2023-12-09T09:33:55.382281Z",
     "iopub.status.busy": "2023-12-09T09:33:55.381976Z",
     "iopub.status.idle": "2023-12-09T09:34:00.303357Z",
     "shell.execute_reply": "2023-12-09T09:34:00.302135Z",
     "shell.execute_reply.started": "2023-12-09T09:33:55.382253Z"
    },
    "tags": []
   },
   "outputs": [],
   "source": [
    "# Calculate clustering coefficients according to formula above\n",
    "directed_clustering_coefficient = nx.clustering(G_link)\n",
    "# Put the coefficients in a list for plotting\n",
    "directed_clustering_values = list(directed_clustering_coefficient.values())\n"
   ]
  },
  {
   "cell_type": "code",
   "execution_count": 44,
   "metadata": {
    "execution": {
     "iopub.execute_input": "2023-12-09T09:34:00.304655Z",
     "iopub.status.busy": "2023-12-09T09:34:00.304386Z",
     "iopub.status.idle": "2023-12-09T09:34:00.318172Z",
     "shell.execute_reply": "2023-12-09T09:34:00.316859Z",
     "shell.execute_reply.started": "2023-12-09T09:34:00.304631Z"
    },
    "tags": []
   },
   "outputs": [
    {
     "name": "stdout",
     "output_type": "stream",
     "text": [
      "                               Node  Degree Centrality  \\\n",
      "0                        linkSource           0.000218   \n",
      "1                        linkTarget           0.000218   \n",
      "2  %C3%81ed%C3%A1n_mac_Gabr%C3%A1in           0.002395   \n",
      "3                              Bede           0.008491   \n",
      "4                           Columba           0.005008   \n",
      "\n",
      "   Betweenness Centrality  Closeness Centrality  Eigenvector Centrality  \\\n",
      "0                0.000000              0.000000            4.240657e-24   \n",
      "1                0.000000              0.000218            5.512854e-23   \n",
      "2                0.000000              0.000000            4.240657e-24   \n",
      "3                0.000136              0.355010            3.588548e-03   \n",
      "4                0.000041              0.331595            1.851423e-03   \n",
      "\n",
      "   Directed Clustering Coefficients  \n",
      "0                          0.000000  \n",
      "1                          0.000000  \n",
      "2                          0.436364  \n",
      "3                          0.098782  \n",
      "4                          0.222000  \n"
     ]
    }
   ],
   "source": [
    "\n",
    "# Convert the dictionary to a Series, aligning on the index with the DataFrame 'Node' column\n",
    "clustering_coefficients_series = pd.Series(directed_clustering_coefficient)\n",
    "\n",
    "# Set the 'Node' column as the index for proper alignment\n",
    "centrality_df_links.set_index('Node', inplace=True)\n",
    "\n",
    "# Add the Series as a new column to the DataFrame\n",
    "centrality_df_links['Directed Clustering Coefficients'] = clustering_coefficients_series\n",
    "\n",
    "# Reset the index if you want 'Node' to be a column again\n",
    "centrality_df_links.reset_index(inplace=True)\n",
    "\n",
    "# Now the DataFrame should have a new column with the clustering coefficients\n",
    "print(centrality_df_links.head())"
   ]
  },
  {
   "cell_type": "markdown",
   "metadata": {},
   "source": [
    "### Plot distribution of each centrality measure\n"
   ]
  },
  {
   "cell_type": "code",
   "execution_count": 45,
   "metadata": {
    "execution": {
     "iopub.execute_input": "2023-12-09T09:34:00.320035Z",
     "iopub.status.busy": "2023-12-09T09:34:00.319771Z",
     "iopub.status.idle": "2023-12-09T09:34:03.766098Z",
     "shell.execute_reply": "2023-12-09T09:34:03.764097Z",
     "shell.execute_reply.started": "2023-12-09T09:34:00.320011Z"
    },
    "tags": []
   },
   "outputs": [
    {
     "data": {
      "image/png": "[encoded data removed]",
      "text/plain": [
       "<Figure size 1400x1500 with 5 Axes>"
      ]
     },
     "metadata": {},
     "output_type": "display_data"
    }
   ],
   "source": [
    "# Plot distribution of each centrality measure\n",
    "\n",
    "# Set the size of the overall figure\n",
    "plt.figure(figsize=(14, 15))\n",
    "\n",
    "# Degree Centrality Distribution\n",
    "plt.subplot(3, 2, 1)\n",
    "plt.hist(centrality_df_links['Degree Centrality'], bins=30, color='blue', alpha=0.7,log=True)\n",
    "plt.title('Degree Centrality Distribution')\n",
    "plt.xlabel('Degree Centrality')\n",
    "plt.ylabel('Frequency')\n",
    "\n",
    "# Betweenness Centrality Distribution\n",
    "plt.subplot(3, 2, 2)\n",
    "plt.hist(centrality_df_links['Betweenness Centrality'], bins=30, color='red', alpha=0.7,log=True)\n",
    "plt.title('Betweenness Centrality Distribution')\n",
    "plt.xlabel('Betweenness Centrality')\n",
    "\n",
    "# Closeness Centrality Distribution\n",
    "plt.subplot(3, 2, 3)\n",
    "plt.hist(centrality_df_links['Closeness Centrality'], bins=30, color='green', alpha=0.7, log=True)\n",
    "plt.title('Closeness Centrality Distribution')\n",
    "plt.xlabel('Closeness Centrality')\n",
    "plt.ylabel('Frequency')\n",
    "\n",
    "# Eigenvector Centrality Distribution\n",
    "plt.subplot(3, 2, 4)\n",
    "plt.hist(centrality_df_links['Eigenvector Centrality'], bins=30, color='purple', alpha=0.7, log=True)\n",
    "plt.title('Eigenvector Centrality Distribution')\n",
    "plt.xlabel('Eigenvector Centrality')\n",
    "\n",
    "# Directed Clustering Coefficient Distribution\n",
    "plt.subplot(3, 2, 5)  # Adjust to a 3x2 subplot grid\n",
    "plt.hist(directed_clustering_values, bins=30, color='orange', alpha=0.7, log=True)\n",
    "plt.title('Directed Clustering Coefficient Distribution')\n",
    "plt.xlabel('Directed Clustering Coefficient')\n",
    "plt.ylabel('Frequency')\n",
    "\n",
    "# Adjust layout to prevent overlap\n",
    "plt.tight_layout()\n",
    "plt.show()\n"
   ]
  },
  {
   "cell_type": "code",
   "execution_count": 46,
   "metadata": {
    "execution": {
     "iopub.execute_input": "2023-12-09T09:38:00.308144Z",
     "iopub.status.busy": "2023-12-09T09:38:00.307450Z",
     "iopub.status.idle": "2023-12-09T09:38:00.342580Z",
     "shell.execute_reply": "2023-12-09T09:38:00.340606Z",
     "shell.execute_reply.started": "2023-12-09T09:38:00.308094Z"
    },
    "tags": []
   },
   "outputs": [
    {
     "name": "stdout",
     "output_type": "stream",
     "text": [
      "Degree Centrality                   0.017113\n",
      "Betweenness Centrality              0.001979\n",
      "Closeness Centrality                0.116993\n",
      "Eigenvector Centrality              0.013774\n",
      "Directed Clustering Coefficients    0.125182\n",
      "dtype: float64\n",
      "                               Node  Degree Centrality  \\\n",
      "0                        linkSource           0.000218   \n",
      "1                        linkTarget           0.000218   \n",
      "2  %C3%81ed%C3%A1n_mac_Gabr%C3%A1in           0.002395   \n",
      "3                              Bede           0.008491   \n",
      "4                           Columba           0.005008   \n",
      "\n",
      "   Betweenness Centrality  Closeness Centrality  Eigenvector Centrality  \\\n",
      "0                0.000000              0.000000            4.240657e-24   \n",
      "1                0.000000              0.000218            5.512854e-23   \n",
      "2                0.000000              0.000000            4.240657e-24   \n",
      "3                0.000136              0.355010            3.588548e-03   \n",
      "4                0.000041              0.331595            1.851423e-03   \n",
      "\n",
      "   Directed Clustering Coefficients  Degree Centrality Above Std  \\\n",
      "0                          0.000000                            0   \n",
      "1                          0.000000                            0   \n",
      "2                          0.436364                            0   \n",
      "3                          0.098782                            0   \n",
      "4                          0.222000                            0   \n",
      "\n",
      "   Betweenness Centrality Above Std  Closeness Centrality Above Std  \\\n",
      "0                                 0                               0   \n",
      "1                                 0                               0   \n",
      "2                                 0                               0   \n",
      "3                                 0                               1   \n",
      "4                                 0                               1   \n",
      "\n",
      "   Eigenvector Centrality Above Std  \\\n",
      "0                                 0   \n",
      "1                                 0   \n",
      "2                                 0   \n",
      "3                                 0   \n",
      "4                                 0   \n",
      "\n",
      "   Directed Clustering Coefficients Above Std  \n",
      "0                                           0  \n",
      "1                                           0  \n",
      "2                                           1  \n",
      "3                                           0  \n",
      "4                                           1  \n"
     ]
    }
   ],
   "source": [
    "# Calculate standard deviation for each centrality measure\n",
    "std_devs = centrality_df_links.iloc[:, 1:].std()\n",
    "print(std_devs)\n",
    "\n",
    "# Add new columns indicating whether the node's centrality is above the standard deviation (1 if it is, 0 if not)\n",
    "for centrality_measure in ['Degree Centrality', 'Betweenness Centrality', 'Closeness Centrality', 'Eigenvector Centrality', 'Directed Clustering Coefficients']:\n",
    "    centrality_df_links[centrality_measure + ' Above Std'] = (\n",
    "        centrality_df_links[centrality_measure] > std_devs[centrality_measure]).astype(int)\n",
    "\n",
    "# Now centrality_df_links has the additional columns with binary values for each centrality measure\n",
    "print(centrality_df_links.head())  # Displaying just the head for brevity"
   ]
  },
  {
   "cell_type": "code",
   "execution_count": 47,
   "metadata": {
    "execution": {
     "iopub.execute_input": "2023-12-09T09:38:31.529931Z",
     "iopub.status.busy": "2023-12-09T09:38:31.529034Z",
     "iopub.status.idle": "2023-12-09T09:38:31.540281Z",
     "shell.execute_reply": "2023-12-09T09:38:31.537615Z",
     "shell.execute_reply.started": "2023-12-09T09:38:31.529856Z"
    },
    "tags": []
   },
   "outputs": [],
   "source": [
    "df_player1 = finished_paths\n",
    "df_player2 = unfinished_paths"
   ]
  },
  {
   "cell_type": "code",
   "execution_count": 48,
   "metadata": {
    "execution": {
     "iopub.execute_input": "2023-12-09T09:38:43.592531Z",
     "iopub.status.busy": "2023-12-09T09:38:43.591219Z",
     "iopub.status.idle": "2023-12-09T09:38:43.804074Z",
     "shell.execute_reply": "2023-12-09T09:38:43.802722Z",
     "shell.execute_reply.started": "2023-12-09T09:38:43.592474Z"
    },
    "tags": []
   },
   "outputs": [],
   "source": [
    "# Define functions to extract the source and target from the path\n",
    "def extract_source(path):\n",
    "    return path.split(';')[0] if pd.notnull(path) else None\n",
    "\n",
    "def extract_target(path):\n",
    "    return path.split(';')[-1] if pd.notnull(path) else None\n",
    "\n",
    "# Apply these functions to the 'path' column of df_player1\n",
    "df_player1['source'] = df_player1['path'].apply(extract_source)\n",
    "df_player1['target'] = df_player1['path'].apply(extract_target)\n",
    "\n",
    "# Apply the source extraction function to the 'path' column of df_player2\n",
    "df_player2['source'] = df_player2['path'].apply(extract_source)\n"
   ]
  },
  {
   "cell_type": "code",
   "execution_count": 49,
   "metadata": {
    "execution": {
     "iopub.execute_input": "2023-12-09T09:38:55.514610Z",
     "iopub.status.busy": "2023-12-09T09:38:55.513278Z",
     "iopub.status.idle": "2023-12-09T09:38:55.566728Z",
     "shell.execute_reply": "2023-12-09T09:38:55.565150Z",
     "shell.execute_reply.started": "2023-12-09T09:38:55.514529Z"
    },
    "tags": []
   },
   "outputs": [
    {
     "name": "stdout",
     "output_type": "stream",
     "text": [
      "        hashedIpAddress   timestamp durationInSec  \\\n",
      "5      6a3701d319fc3754  1297740409           166   \n",
      "6      3824310e536af032  1344753412            88   \n",
      "7      415612e93584d30e  1349298640           138   \n",
      "8      64dd5cd342e3780c  1265613925            37   \n",
      "9      015245d773376aab  1366730828           175   \n",
      "...                 ...         ...           ...   \n",
      "76192  109ed71f571d86e9  1389787605           180   \n",
      "76193  232f992e57d43e8d  1389787697             6   \n",
      "76194  2e09a7224600a7cd  1389798400          1900   \n",
      "76195  60af9e2138051b96  1389799481          1903   \n",
      "76196  1cf0cbb3281049ab  1389822841           352   \n",
      "\n",
      "                                                    path rating  \\\n",
      "5      14th_century;15th_century;16th_century;Pacific...    NaN   \n",
      "6      14th_century;Europe;Africa;Atlantic_slave_trad...      3   \n",
      "7      14th_century;Niger;Nigeria;British_Empire;Slav...    NaN   \n",
      "8         14th_century;Renaissance;Ancient_Greece;Greece    NaN   \n",
      "9      14th_century;Italy;Roman_Catholic_Church;HIV;R...      3   \n",
      "...                                                  ...    ...   \n",
      "76192  Franz_Kafka;Tuberculosis;World_Health_Organiza...    NaN   \n",
      "76193                                     Modern_history    NaN   \n",
      "76194  Computer_programming;Linguistics;Culture;Popul...    NaN   \n",
      "76195  Jamaica;United_Kingdom;World_War_II;Battle_of_...    NaN   \n",
      "76196          Mark_Antony;Rome;Tennis;Hawk-Eye;Computer    NaN   \n",
      "\n",
      "                     source               target  path_finished     type  \n",
      "5              14th_century  African_slave_trade              1      NaN  \n",
      "6              14th_century  African_slave_trade              1      NaN  \n",
      "7              14th_century  African_slave_trade              1      NaN  \n",
      "8              14th_century               Greece              1      NaN  \n",
      "9              14th_century      John_F._Kennedy              1      NaN  \n",
      "...                     ...                  ...            ...      ...  \n",
      "76192           Franz_Kafka              Cholera              0  restart  \n",
      "76193        Modern_history            Hollandic              0  restart  \n",
      "76194  Computer_programming          The_Beatles              0  timeout  \n",
      "76195               Jamaica          Alan_Turing              0  timeout  \n",
      "76196           Mark_Antony              Feather              0  restart  \n",
      "\n",
      "[76192 rows x 9 columns]\n"
     ]
    }
   ],
   "source": [
    "# Add the 'path_finished' column to each DataFrame before concatenating\n",
    "df_player1['path_finished'] = 1\n",
    "df_player2['path_finished'] = 0\n",
    "\n",
    "# Concatenate the two DataFrames into one\n",
    "df_player = pd.concat([df_player1, df_player2], ignore_index=True)\n",
    "df_player = df_player.iloc[5:]\n",
    "\n",
    "# Now df_player will have all the rows from both df_player1 and df_player2\n",
    "# with the 'path_finished' column indicating from which DataFrame the row came from\n",
    "print(df_player)\n"
   ]
  },
  {
   "cell_type": "code",
   "execution_count": 50,
   "metadata": {
    "execution": {
     "iopub.execute_input": "2023-12-09T09:39:11.155150Z",
     "iopub.status.busy": "2023-12-09T09:39:11.154469Z",
     "iopub.status.idle": "2023-12-09T09:39:12.106720Z",
     "shell.execute_reply": "2023-12-09T09:39:12.105231Z",
     "shell.execute_reply.started": "2023-12-09T09:39:11.155096Z"
    },
    "tags": []
   },
   "outputs": [],
   "source": [
    "# Define a function to count the number of hubs in a path\n",
    "def count_hubs(path, hubs_set):\n",
    "    # Split the path into individual nodes\n",
    "    nodes = path.split(';')\n",
    "    # Count the number of nodes in the path that are in the set of hubs\n",
    "    hub_count = sum(node in hubs_set for node in nodes)\n",
    "    return hub_count\n",
    "\n",
    "# Create sets of hubs for each centrality measure\n",
    "hubs_degree = set(centrality_df_links[centrality_df_links['Degree Centrality Above Std'] == 1]['Node'])\n",
    "hubs_betweenness = set(centrality_df_links[centrality_df_links['Betweenness Centrality Above Std'] == 1]['Node'])\n",
    "hubs_closeness = set(centrality_df_links[centrality_df_links['Closeness Centrality Above Std'] == 1]['Node'])\n",
    "hubs_eigenvector = set(centrality_df_links[centrality_df_links['Eigenvector Centrality Above Std'] == 1]['Node'])\n",
    "hubs_clustering = set(centrality_df_links[centrality_df_links['Directed Clustering Coefficients Above Std'] == 1]['Node'])\n",
    "\n",
    "# Add the hub count columns to df_player\n",
    "df_player['Degree Hub Count'] = df_player['path'].apply(lambda path: count_hubs(path, hubs_degree))\n",
    "df_player['Betweenness Hub Count'] = df_player['path'].apply(lambda path: count_hubs(path, hubs_betweenness))\n",
    "df_player['Closeness Hub Count'] = df_player['path'].apply(lambda path: count_hubs(path, hubs_closeness))\n",
    "df_player['Eigenvector Hub Count'] = df_player['path'].apply(lambda path: count_hubs(path, hubs_eigenvector))\n",
    "df_player['Clustering Hub Count'] = df_player['path'].apply(lambda path: count_hubs(path, hubs_clustering))\n"
   ]
  },
  {
   "cell_type": "markdown",
   "metadata": {},
   "source": [
    "### Get Shortest Path"
   ]
  },
  {
   "cell_type": "code",
   "execution_count": 51,
   "metadata": {
    "execution": {
     "iopub.execute_input": "2023-12-09T09:39:57.934183Z",
     "iopub.status.busy": "2023-12-09T09:39:57.933115Z",
     "iopub.status.idle": "2023-12-09T09:40:01.586961Z",
     "shell.execute_reply": "2023-12-09T09:40:01.585658Z",
     "shell.execute_reply.started": "2023-12-09T09:39:57.934120Z"
    },
    "tags": []
   },
   "outputs": [],
   "source": [
    "# Function to calculate the shortest path length\n",
    "def calculate_shortest_path_length(row, graph):\n",
    "    try:\n",
    "        # Compute the shortest path length between source and target\n",
    "        path_length = nx.shortest_path_length(graph, source=row['source'], target=row['target'])\n",
    "        return path_length\n",
    "    except nx.NetworkXNoPath:\n",
    "        # If there is no path between source and target, return None or some indicator like -1\n",
    "        return None\n",
    "    except nx.NodeNotFound:\n",
    "        # If the source or target node does not exist in the graph, return None or some indicator like -1\n",
    "        return None\n",
    "\n",
    "# Apply the function to each row in df_player to calculate the shortest path length\n",
    "df_player['shortest_path'] = df_player.apply(lambda row: calculate_shortest_path_length(row, G_link), axis=1)\n"
   ]
  },
  {
   "cell_type": "markdown",
   "metadata": {},
   "source": [
    "### Count number of different categories\n"
   ]
  },
  {
   "cell_type": "code",
   "execution_count": 52,
   "metadata": {
    "execution": {
     "iopub.execute_input": "2023-12-09T09:40:23.939196Z",
     "iopub.status.busy": "2023-12-09T09:40:23.937816Z",
     "iopub.status.idle": "2023-12-09T09:40:23.973830Z",
     "shell.execute_reply": "2023-12-09T09:40:23.972208Z",
     "shell.execute_reply.started": "2023-12-09T09:40:23.939132Z"
    },
    "tags": []
   },
   "outputs": [],
   "source": [
    "# Step 1: Rename 'article' column to 'Node'\n",
    "categories.rename(columns={'article': 'Node'}, inplace=True)\n",
    "\n",
    "# Step 2: Extract the last category element\n",
    "categories['category'] = categories['category'].apply(lambda x: x.split('.')[-1] if pd.notnull(x) else None)\n",
    "\n",
    "# Step 3: Create a mapping from 'Node' to 'category'\n",
    "category_mapping = categories.set_index('Node')['category'].to_dict()\n",
    "\n",
    "# Step 4: Map the category to the corresponding node in 'centrality_df_links'\n",
    "centrality_df_links['category'] = centrality_df_links['Node'].map(category_mapping)"
   ]
  },
  {
   "cell_type": "code",
   "execution_count": 53,
   "metadata": {
    "execution": {
     "iopub.execute_input": "2023-12-09T09:40:37.292757Z",
     "iopub.status.busy": "2023-12-09T09:40:37.291737Z",
     "iopub.status.idle": "2023-12-09T09:40:37.317450Z",
     "shell.execute_reply": "2023-12-09T09:40:37.315740Z",
     "shell.execute_reply.started": "2023-12-09T09:40:37.292669Z"
    },
    "tags": []
   },
   "outputs": [
    {
     "name": "stdout",
     "output_type": "stream",
     "text": [
      "                                  Node  Degree Centrality  \\\n",
      "0                           linkSource           0.000218   \n",
      "1                           linkTarget           0.000218   \n",
      "2     %C3%81ed%C3%A1n_mac_Gabr%C3%A1in           0.002395   \n",
      "3                                 Bede           0.008491   \n",
      "4                              Columba           0.005008   \n",
      "...                                ...                ...   \n",
      "4589                      Yellowhammer           0.002830   \n",
      "4590                    Yotsuya_Kaidan           0.000435   \n",
      "4591            You%27re_Still_the_One           0.000435   \n",
      "4592                    Yungay%2C_Peru           0.000871   \n",
      "4593                        Zara_Yaqob           0.001306   \n",
      "\n",
      "      Betweenness Centrality  Closeness Centrality  Eigenvector Centrality  \\\n",
      "0                   0.000000              0.000000            4.240657e-24   \n",
      "1                   0.000000              0.000218            5.512854e-23   \n",
      "2                   0.000000              0.000000            4.240657e-24   \n",
      "3                   0.000136              0.355010            3.588548e-03   \n",
      "4                   0.000041              0.331595            1.851423e-03   \n",
      "...                      ...                   ...                     ...   \n",
      "4589                0.000000              0.000000            4.240657e-24   \n",
      "4590                0.000000              0.000000            4.240657e-24   \n",
      "4591                0.000000              0.000000            4.240657e-24   \n",
      "4592                0.000000              0.000000            4.240657e-24   \n",
      "4593                0.000000              0.000000            4.240657e-24   \n",
      "\n",
      "      Directed Clustering Coefficients  Degree Centrality Above Std  \\\n",
      "0                             0.000000                            0   \n",
      "1                             0.000000                            0   \n",
      "2                             0.436364                            0   \n",
      "3                             0.098782                            0   \n",
      "4                             0.222000                            0   \n",
      "...                                ...                          ...   \n",
      "4589                          0.211538                            0   \n",
      "4590                          1.000000                            0   \n",
      "4591                          0.000000                            0   \n",
      "4592                          0.583333                            0   \n",
      "4593                          0.533333                            0   \n",
      "\n",
      "      Betweenness Centrality Above Std  Closeness Centrality Above Std  \\\n",
      "0                                    0                               0   \n",
      "1                                    0                               0   \n",
      "2                                    0                               0   \n",
      "3                                    0                               1   \n",
      "4                                    0                               1   \n",
      "...                                ...                             ...   \n",
      "4589                                 0                               0   \n",
      "4590                                 0                               0   \n",
      "4591                                 0                               0   \n",
      "4592                                 0                               0   \n",
      "4593                                 0                               0   \n",
      "\n",
      "      Eigenvector Centrality Above Std  \\\n",
      "0                                    0   \n",
      "1                                    0   \n",
      "2                                    0   \n",
      "3                                    0   \n",
      "4                                    0   \n",
      "...                                ...   \n",
      "4589                                 0   \n",
      "4590                                 0   \n",
      "4591                                 0   \n",
      "4592                                 0   \n",
      "4593                                 0   \n",
      "\n",
      "      Directed Clustering Coefficients Above Std  \\\n",
      "0                                              0   \n",
      "1                                              0   \n",
      "2                                              1   \n",
      "3                                              0   \n",
      "4                                              1   \n",
      "...                                          ...   \n",
      "4589                                           1   \n",
      "4590                                           1   \n",
      "4591                                           0   \n",
      "4592                                           1   \n",
      "4593                                           1   \n",
      "\n",
      "                                      category  \n",
      "0                                          NaN  \n",
      "1                                          NaN  \n",
      "2                           Historical_figures  \n",
      "3     Historians_chroniclers_and_history_books  \n",
      "4                Religious_figures_and_leaders  \n",
      "...                                        ...  \n",
      "4589                                     Birds  \n",
      "4590                        General_Literature  \n",
      "4591       Musical_Recordings_and_compositions  \n",
      "4592      Central_and_South_American_Geography  \n",
      "4593                        Historical_figures  \n",
      "\n",
      "[4594 rows x 12 columns]\n"
     ]
    }
   ],
   "source": [
    "print(centrality_df_links)"
   ]
  },
  {
   "cell_type": "code",
   "execution_count": 54,
   "metadata": {
    "execution": {
     "iopub.execute_input": "2023-12-09T09:40:55.119929Z",
     "iopub.status.busy": "2023-12-09T09:40:55.119230Z",
     "iopub.status.idle": "2023-12-09T09:40:55.450676Z",
     "shell.execute_reply": "2023-12-09T09:40:55.449094Z",
     "shell.execute_reply.started": "2023-12-09T09:40:55.119868Z"
    },
    "tags": []
   },
   "outputs": [],
   "source": [
    "# Step 1: Create a mapping from nodes to categories.\n",
    "node_to_category = pd.Series(centrality_df_links['category'].values, index=centrality_df_links['Node']).to_dict()\n",
    "\n",
    "# Step 2: Define a function to count unique categories in a path.\n",
    "def count_unique_categories(path):\n",
    "    if pd.isna(path):\n",
    "        return 0\n",
    "    # Split the path into nodes.\n",
    "    nodes = path.split(';')\n",
    "    # Find the category for each node, count unique categories.\n",
    "    categories = [node_to_category.get(node) for node in nodes if node in node_to_category]\n",
    "    return len(set(categories))\n",
    "\n",
    "# Step 3: Apply the function to each row in df_player 'path' column.\n",
    "df_player['unique_categories'] = df_player['path'].apply(count_unique_categories)\n"
   ]
  },
  {
   "cell_type": "code",
   "execution_count": 55,
   "metadata": {
    "execution": {
     "iopub.execute_input": "2023-12-09T09:41:15.403835Z",
     "iopub.status.busy": "2023-12-09T09:41:15.403071Z",
     "iopub.status.idle": "2023-12-09T09:41:15.442817Z",
     "shell.execute_reply": "2023-12-09T09:41:15.441203Z",
     "shell.execute_reply.started": "2023-12-09T09:41:15.403774Z"
    },
    "tags": []
   },
   "outputs": [
    {
     "data": {
      "text/html": [
       "<div>\n",
       "<style scoped>\n",
       "    .dataframe tbody tr th:only-of-type {\n",
       "        vertical-align: middle;\n",
       "    }\n",
       "\n",
       "    .dataframe tbody tr th {\n",
       "        vertical-align: top;\n",
       "    }\n",
       "\n",
       "    .dataframe thead th {\n",
       "        text-align: right;\n",
       "    }\n",
       "</style>\n",
       "<table border=\"1\" class=\"dataframe\">\n",
       "  <thead>\n",
       "    <tr style=\"text-align: right;\">\n",
       "      <th></th>\n",
       "      <th>hashedIpAddress</th>\n",
       "      <th>timestamp</th>\n",
       "      <th>durationInSec</th>\n",
       "      <th>path</th>\n",
       "      <th>rating</th>\n",
       "      <th>source</th>\n",
       "      <th>target</th>\n",
       "      <th>path_finished</th>\n",
       "      <th>type</th>\n",
       "      <th>Degree Hub Count</th>\n",
       "      <th>Betweenness Hub Count</th>\n",
       "      <th>Closeness Hub Count</th>\n",
       "      <th>Eigenvector Hub Count</th>\n",
       "      <th>Clustering Hub Count</th>\n",
       "      <th>shortest_path</th>\n",
       "      <th>unique_categories</th>\n",
       "    </tr>\n",
       "  </thead>\n",
       "  <tbody>\n",
       "    <tr>\n",
       "      <th>5</th>\n",
       "      <td>6a3701d319fc3754</td>\n",
       "      <td>1297740409</td>\n",
       "      <td>166</td>\n",
       "      <td>14th_century;15th_century;16th_century;Pacific...</td>\n",
       "      <td>NaN</td>\n",
       "      <td>14th_century</td>\n",
       "      <td>African_slave_trade</td>\n",
       "      <td>1</td>\n",
       "      <td>NaN</td>\n",
       "      <td>6</td>\n",
       "      <td>4</td>\n",
       "      <td>9</td>\n",
       "      <td>6</td>\n",
       "      <td>3</td>\n",
       "      <td>3.0</td>\n",
       "      <td>4</td>\n",
       "    </tr>\n",
       "    <tr>\n",
       "      <th>6</th>\n",
       "      <td>3824310e536af032</td>\n",
       "      <td>1344753412</td>\n",
       "      <td>88</td>\n",
       "      <td>14th_century;Europe;Africa;Atlantic_slave_trad...</td>\n",
       "      <td>3</td>\n",
       "      <td>14th_century</td>\n",
       "      <td>African_slave_trade</td>\n",
       "      <td>1</td>\n",
       "      <td>NaN</td>\n",
       "      <td>3</td>\n",
       "      <td>2</td>\n",
       "      <td>5</td>\n",
       "      <td>3</td>\n",
       "      <td>2</td>\n",
       "      <td>3.0</td>\n",
       "      <td>4</td>\n",
       "    </tr>\n",
       "    <tr>\n",
       "      <th>7</th>\n",
       "      <td>415612e93584d30e</td>\n",
       "      <td>1349298640</td>\n",
       "      <td>138</td>\n",
       "      <td>14th_century;Niger;Nigeria;British_Empire;Slav...</td>\n",
       "      <td>NaN</td>\n",
       "      <td>14th_century</td>\n",
       "      <td>African_slave_trade</td>\n",
       "      <td>1</td>\n",
       "      <td>NaN</td>\n",
       "      <td>6</td>\n",
       "      <td>3</td>\n",
       "      <td>8</td>\n",
       "      <td>6</td>\n",
       "      <td>4</td>\n",
       "      <td>3.0</td>\n",
       "      <td>6</td>\n",
       "    </tr>\n",
       "    <tr>\n",
       "      <th>8</th>\n",
       "      <td>64dd5cd342e3780c</td>\n",
       "      <td>1265613925</td>\n",
       "      <td>37</td>\n",
       "      <td>14th_century;Renaissance;Ancient_Greece;Greece</td>\n",
       "      <td>NaN</td>\n",
       "      <td>14th_century</td>\n",
       "      <td>Greece</td>\n",
       "      <td>1</td>\n",
       "      <td>NaN</td>\n",
       "      <td>4</td>\n",
       "      <td>2</td>\n",
       "      <td>4</td>\n",
       "      <td>4</td>\n",
       "      <td>0</td>\n",
       "      <td>2.0</td>\n",
       "      <td>3</td>\n",
       "    </tr>\n",
       "    <tr>\n",
       "      <th>9</th>\n",
       "      <td>015245d773376aab</td>\n",
       "      <td>1366730828</td>\n",
       "      <td>175</td>\n",
       "      <td>14th_century;Italy;Roman_Catholic_Church;HIV;R...</td>\n",
       "      <td>3</td>\n",
       "      <td>14th_century</td>\n",
       "      <td>John_F._Kennedy</td>\n",
       "      <td>1</td>\n",
       "      <td>NaN</td>\n",
       "      <td>6</td>\n",
       "      <td>3</td>\n",
       "      <td>7</td>\n",
       "      <td>4</td>\n",
       "      <td>0</td>\n",
       "      <td>3.0</td>\n",
       "      <td>6</td>\n",
       "    </tr>\n",
       "    <tr>\n",
       "      <th>...</th>\n",
       "      <td>...</td>\n",
       "      <td>...</td>\n",
       "      <td>...</td>\n",
       "      <td>...</td>\n",
       "      <td>...</td>\n",
       "      <td>...</td>\n",
       "      <td>...</td>\n",
       "      <td>...</td>\n",
       "      <td>...</td>\n",
       "      <td>...</td>\n",
       "      <td>...</td>\n",
       "      <td>...</td>\n",
       "      <td>...</td>\n",
       "      <td>...</td>\n",
       "      <td>...</td>\n",
       "      <td>...</td>\n",
       "    </tr>\n",
       "    <tr>\n",
       "      <th>76192</th>\n",
       "      <td>109ed71f571d86e9</td>\n",
       "      <td>1389787605</td>\n",
       "      <td>180</td>\n",
       "      <td>Franz_Kafka;Tuberculosis;World_Health_Organiza...</td>\n",
       "      <td>NaN</td>\n",
       "      <td>Franz_Kafka</td>\n",
       "      <td>Cholera</td>\n",
       "      <td>0</td>\n",
       "      <td>restart</td>\n",
       "      <td>6</td>\n",
       "      <td>0</td>\n",
       "      <td>7</td>\n",
       "      <td>4</td>\n",
       "      <td>3</td>\n",
       "      <td>3.0</td>\n",
       "      <td>5</td>\n",
       "    </tr>\n",
       "    <tr>\n",
       "      <th>76193</th>\n",
       "      <td>232f992e57d43e8d</td>\n",
       "      <td>1389787697</td>\n",
       "      <td>6</td>\n",
       "      <td>Modern_history</td>\n",
       "      <td>NaN</td>\n",
       "      <td>Modern_history</td>\n",
       "      <td>Hollandic</td>\n",
       "      <td>0</td>\n",
       "      <td>restart</td>\n",
       "      <td>1</td>\n",
       "      <td>0</td>\n",
       "      <td>1</td>\n",
       "      <td>0</td>\n",
       "      <td>0</td>\n",
       "      <td>3.0</td>\n",
       "      <td>1</td>\n",
       "    </tr>\n",
       "    <tr>\n",
       "      <th>76194</th>\n",
       "      <td>2e09a7224600a7cd</td>\n",
       "      <td>1389798400</td>\n",
       "      <td>1900</td>\n",
       "      <td>Computer_programming;Linguistics;Culture;Popul...</td>\n",
       "      <td>NaN</td>\n",
       "      <td>Computer_programming</td>\n",
       "      <td>The_Beatles</td>\n",
       "      <td>0</td>\n",
       "      <td>timeout</td>\n",
       "      <td>1</td>\n",
       "      <td>0</td>\n",
       "      <td>4</td>\n",
       "      <td>1</td>\n",
       "      <td>1</td>\n",
       "      <td>3.0</td>\n",
       "      <td>3</td>\n",
       "    </tr>\n",
       "    <tr>\n",
       "      <th>76195</th>\n",
       "      <td>60af9e2138051b96</td>\n",
       "      <td>1389799481</td>\n",
       "      <td>1903</td>\n",
       "      <td>Jamaica;United_Kingdom;World_War_II;Battle_of_...</td>\n",
       "      <td>NaN</td>\n",
       "      <td>Jamaica</td>\n",
       "      <td>Alan_Turing</td>\n",
       "      <td>0</td>\n",
       "      <td>timeout</td>\n",
       "      <td>3</td>\n",
       "      <td>2</td>\n",
       "      <td>4</td>\n",
       "      <td>3</td>\n",
       "      <td>1</td>\n",
       "      <td>3.0</td>\n",
       "      <td>4</td>\n",
       "    </tr>\n",
       "    <tr>\n",
       "      <th>76196</th>\n",
       "      <td>1cf0cbb3281049ab</td>\n",
       "      <td>1389822841</td>\n",
       "      <td>352</td>\n",
       "      <td>Mark_Antony;Rome;Tennis;Hawk-Eye;Computer</td>\n",
       "      <td>NaN</td>\n",
       "      <td>Mark_Antony</td>\n",
       "      <td>Feather</td>\n",
       "      <td>0</td>\n",
       "      <td>restart</td>\n",
       "      <td>3</td>\n",
       "      <td>3</td>\n",
       "      <td>5</td>\n",
       "      <td>3</td>\n",
       "      <td>2</td>\n",
       "      <td>3.0</td>\n",
       "      <td>4</td>\n",
       "    </tr>\n",
       "  </tbody>\n",
       "</table>\n",
       "<p>76192 rows × 16 columns</p>\n",
       "</div>"
      ],
      "text/plain": [
       "        hashedIpAddress   timestamp durationInSec  \\\n",
       "5      6a3701d319fc3754  1297740409           166   \n",
       "6      3824310e536af032  1344753412            88   \n",
       "7      415612e93584d30e  1349298640           138   \n",
       "8      64dd5cd342e3780c  1265613925            37   \n",
       "9      015245d773376aab  1366730828           175   \n",
       "...                 ...         ...           ...   \n",
       "76192  109ed71f571d86e9  1389787605           180   \n",
       "76193  232f992e57d43e8d  1389787697             6   \n",
       "76194  2e09a7224600a7cd  1389798400          1900   \n",
       "76195  60af9e2138051b96  1389799481          1903   \n",
       "76196  1cf0cbb3281049ab  1389822841           352   \n",
       "\n",
       "                                                    path rating  \\\n",
       "5      14th_century;15th_century;16th_century;Pacific...    NaN   \n",
       "6      14th_century;Europe;Africa;Atlantic_slave_trad...      3   \n",
       "7      14th_century;Niger;Nigeria;British_Empire;Slav...    NaN   \n",
       "8         14th_century;Renaissance;Ancient_Greece;Greece    NaN   \n",
       "9      14th_century;Italy;Roman_Catholic_Church;HIV;R...      3   \n",
       "...                                                  ...    ...   \n",
       "76192  Franz_Kafka;Tuberculosis;World_Health_Organiza...    NaN   \n",
       "76193                                     Modern_history    NaN   \n",
       "76194  Computer_programming;Linguistics;Culture;Popul...    NaN   \n",
       "76195  Jamaica;United_Kingdom;World_War_II;Battle_of_...    NaN   \n",
       "76196          Mark_Antony;Rome;Tennis;Hawk-Eye;Computer    NaN   \n",
       "\n",
       "                     source               target  path_finished     type  \\\n",
       "5              14th_century  African_slave_trade              1      NaN   \n",
       "6              14th_century  African_slave_trade              1      NaN   \n",
       "7              14th_century  African_slave_trade              1      NaN   \n",
       "8              14th_century               Greece              1      NaN   \n",
       "9              14th_century      John_F._Kennedy              1      NaN   \n",
       "...                     ...                  ...            ...      ...   \n",
       "76192           Franz_Kafka              Cholera              0  restart   \n",
       "76193        Modern_history            Hollandic              0  restart   \n",
       "76194  Computer_programming          The_Beatles              0  timeout   \n",
       "76195               Jamaica          Alan_Turing              0  timeout   \n",
       "76196           Mark_Antony              Feather              0  restart   \n",
       "\n",
       "       Degree Hub Count  Betweenness Hub Count  Closeness Hub Count  \\\n",
       "5                     6                      4                    9   \n",
       "6                     3                      2                    5   \n",
       "7                     6                      3                    8   \n",
       "8                     4                      2                    4   \n",
       "9                     6                      3                    7   \n",
       "...                 ...                    ...                  ...   \n",
       "76192                 6                      0                    7   \n",
       "76193                 1                      0                    1   \n",
       "76194                 1                      0                    4   \n",
       "76195                 3                      2                    4   \n",
       "76196                 3                      3                    5   \n",
       "\n",
       "       Eigenvector Hub Count  Clustering Hub Count  shortest_path  \\\n",
       "5                          6                     3            3.0   \n",
       "6                          3                     2            3.0   \n",
       "7                          6                     4            3.0   \n",
       "8                          4                     0            2.0   \n",
       "9                          4                     0            3.0   \n",
       "...                      ...                   ...            ...   \n",
       "76192                      4                     3            3.0   \n",
       "76193                      0                     0            3.0   \n",
       "76194                      1                     1            3.0   \n",
       "76195                      3                     1            3.0   \n",
       "76196                      3                     2            3.0   \n",
       "\n",
       "       unique_categories  \n",
       "5                      4  \n",
       "6                      4  \n",
       "7                      6  \n",
       "8                      3  \n",
       "9                      6  \n",
       "...                  ...  \n",
       "76192                  5  \n",
       "76193                  1  \n",
       "76194                  3  \n",
       "76195                  4  \n",
       "76196                  4  \n",
       "\n",
       "[76192 rows x 16 columns]"
      ]
     },
     "execution_count": 55,
     "metadata": {},
     "output_type": "execute_result"
    }
   ],
   "source": [
    "df_player"
   ]
  },
  {
   "cell_type": "code",
   "execution_count": null,
   "metadata": {},
   "outputs": [],
   "source": []
  }
 ],
 "metadata": {
  "kernelspec": {
   "display_name": "Python3",
   "language": "python",
   "name": "python3"
  },
  "language_info": {
   "codemirror_mode": {
    "name": "ipython",
    "version": 3
   },
   "file_extension": ".py",
   "mimetype": "text/x-python",
   "name": "python",
   "nbconvert_exporter": "python",
   "pygments_lexer": "ipython3",
   "version": "3.11.5"
  }
 },
 "nbformat": 4,
 "nbformat_minor": 4
}
