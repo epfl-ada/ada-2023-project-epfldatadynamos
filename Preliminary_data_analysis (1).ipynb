{
  "cells": [
    {
      "cell_type": "markdown",
      "source": [
        "# Matthew's Part - Getting Hub Centrality"
      ],
      "metadata": {
        "id": "TBqQ7cdB8fjF"
      },
      "id": "TBqQ7cdB8fjF"
    },
    {
      "cell_type": "markdown",
      "source": [
        "### Import Libraries & Datasets"
      ],
      "metadata": {
        "id": "k8-EMMMU8p_y"
      },
      "id": "k8-EMMMU8p_y"
    },
    {
      "cell_type": "code",
      "execution_count": 1,
      "id": "1f8a5a3a-0e86-4fe2-99ef-261c4509592b",
      "metadata": {
        "tags": [],
        "id": "1f8a5a3a-0e86-4fe2-99ef-261c4509592b"
      },
      "outputs": [],
      "source": [
        "import pandas as pd\n",
        "import numpy as np\n",
        "import networkx as nx\n",
        "import matplotlib.pyplot as plt"
      ]
    },
    {
      "cell_type": "code",
      "execution_count": 2,
      "id": "9fa453c7-df2f-4acf-9114-fb34d7b5ed75",
      "metadata": {
        "id": "9fa453c7-df2f-4acf-9114-fb34d7b5ed75",
        "colab": {
          "base_uri": "https://localhost:8080/",
          "height": 417
        },
        "outputId": "308db657-7aa0-4c76-d11e-b8ceb6b65bf2"
      },
      "outputs": [
        {
          "output_type": "error",
          "ename": "FileNotFoundError",
          "evalue": "ignored",
          "traceback": [
            "\u001b[0;31m---------------------------------------------------------------------------\u001b[0m",
            "\u001b[0;31mFileNotFoundError\u001b[0m                         Traceback (most recent call last)",
            "\u001b[0;32m<ipython-input-2-fbfc3dd638c2>\u001b[0m in \u001b[0;36m<cell line: 2>\u001b[0;34m()\u001b[0m\n\u001b[1;32m      1\u001b[0m \u001b[0;31m# Import player data\u001b[0m\u001b[0;34m\u001b[0m\u001b[0;34m\u001b[0m\u001b[0m\n\u001b[0;32m----> 2\u001b[0;31m \u001b[0mdf_player\u001b[0m \u001b[0;34m=\u001b[0m \u001b[0mpd\u001b[0m\u001b[0;34m.\u001b[0m\u001b[0mread_csv\u001b[0m\u001b[0;34m(\u001b[0m\u001b[0;34m'paths_finished.tsv'\u001b[0m\u001b[0;34m,\u001b[0m \u001b[0mdelimiter\u001b[0m\u001b[0;34m=\u001b[0m\u001b[0;34m'\\t'\u001b[0m\u001b[0;34m,\u001b[0m \u001b[0mskiprows\u001b[0m\u001b[0;34m=\u001b[0m\u001b[0;36m15\u001b[0m\u001b[0;34m)\u001b[0m\u001b[0;34m\u001b[0m\u001b[0;34m\u001b[0m\u001b[0m\n\u001b[0m\u001b[1;32m      3\u001b[0m \u001b[0;34m\u001b[0m\u001b[0m\n\u001b[1;32m      4\u001b[0m \u001b[0;31m# Import wikispeedia links\u001b[0m\u001b[0;34m\u001b[0m\u001b[0;34m\u001b[0m\u001b[0m\n\u001b[1;32m      5\u001b[0m \u001b[0mdf_link\u001b[0m \u001b[0;34m=\u001b[0m \u001b[0mpd\u001b[0m\u001b[0;34m.\u001b[0m\u001b[0mread_csv\u001b[0m\u001b[0;34m(\u001b[0m\u001b[0;34m'links.tsv'\u001b[0m\u001b[0;34m,\u001b[0m \u001b[0mdelimiter\u001b[0m\u001b[0;34m=\u001b[0m\u001b[0;34m'\\t'\u001b[0m\u001b[0;34m,\u001b[0m \u001b[0mskiprows\u001b[0m\u001b[0;34m=\u001b[0m\u001b[0;36m11\u001b[0m\u001b[0;34m)\u001b[0m\u001b[0;34m\u001b[0m\u001b[0;34m\u001b[0m\u001b[0m\n",
            "\u001b[0;32m/usr/local/lib/python3.10/dist-packages/pandas/util/_decorators.py\u001b[0m in \u001b[0;36mwrapper\u001b[0;34m(*args, **kwargs)\u001b[0m\n\u001b[1;32m    209\u001b[0m                 \u001b[0;32melse\u001b[0m\u001b[0;34m:\u001b[0m\u001b[0;34m\u001b[0m\u001b[0;34m\u001b[0m\u001b[0m\n\u001b[1;32m    210\u001b[0m                     \u001b[0mkwargs\u001b[0m\u001b[0;34m[\u001b[0m\u001b[0mnew_arg_name\u001b[0m\u001b[0;34m]\u001b[0m \u001b[0;34m=\u001b[0m \u001b[0mnew_arg_value\u001b[0m\u001b[0;34m\u001b[0m\u001b[0;34m\u001b[0m\u001b[0m\n\u001b[0;32m--> 211\u001b[0;31m             \u001b[0;32mreturn\u001b[0m \u001b[0mfunc\u001b[0m\u001b[0;34m(\u001b[0m\u001b[0;34m*\u001b[0m\u001b[0margs\u001b[0m\u001b[0;34m,\u001b[0m \u001b[0;34m**\u001b[0m\u001b[0mkwargs\u001b[0m\u001b[0;34m)\u001b[0m\u001b[0;34m\u001b[0m\u001b[0;34m\u001b[0m\u001b[0m\n\u001b[0m\u001b[1;32m    212\u001b[0m \u001b[0;34m\u001b[0m\u001b[0m\n\u001b[1;32m    213\u001b[0m         \u001b[0;32mreturn\u001b[0m \u001b[0mcast\u001b[0m\u001b[0;34m(\u001b[0m\u001b[0mF\u001b[0m\u001b[0;34m,\u001b[0m \u001b[0mwrapper\u001b[0m\u001b[0;34m)\u001b[0m\u001b[0;34m\u001b[0m\u001b[0;34m\u001b[0m\u001b[0m\n",
            "\u001b[0;32m/usr/local/lib/python3.10/dist-packages/pandas/util/_decorators.py\u001b[0m in \u001b[0;36mwrapper\u001b[0;34m(*args, **kwargs)\u001b[0m\n\u001b[1;32m    329\u001b[0m                     \u001b[0mstacklevel\u001b[0m\u001b[0;34m=\u001b[0m\u001b[0mfind_stack_level\u001b[0m\u001b[0;34m(\u001b[0m\u001b[0;34m)\u001b[0m\u001b[0;34m,\u001b[0m\u001b[0;34m\u001b[0m\u001b[0;34m\u001b[0m\u001b[0m\n\u001b[1;32m    330\u001b[0m                 )\n\u001b[0;32m--> 331\u001b[0;31m             \u001b[0;32mreturn\u001b[0m \u001b[0mfunc\u001b[0m\u001b[0;34m(\u001b[0m\u001b[0;34m*\u001b[0m\u001b[0margs\u001b[0m\u001b[0;34m,\u001b[0m \u001b[0;34m**\u001b[0m\u001b[0mkwargs\u001b[0m\u001b[0;34m)\u001b[0m\u001b[0;34m\u001b[0m\u001b[0;34m\u001b[0m\u001b[0m\n\u001b[0m\u001b[1;32m    332\u001b[0m \u001b[0;34m\u001b[0m\u001b[0m\n\u001b[1;32m    333\u001b[0m         \u001b[0;31m# error: \"Callable[[VarArg(Any), KwArg(Any)], Any]\" has no\u001b[0m\u001b[0;34m\u001b[0m\u001b[0;34m\u001b[0m\u001b[0m\n",
            "\u001b[0;32m/usr/local/lib/python3.10/dist-packages/pandas/io/parsers/readers.py\u001b[0m in \u001b[0;36mread_csv\u001b[0;34m(filepath_or_buffer, sep, delimiter, header, names, index_col, usecols, squeeze, prefix, mangle_dupe_cols, dtype, engine, converters, true_values, false_values, skipinitialspace, skiprows, skipfooter, nrows, na_values, keep_default_na, na_filter, verbose, skip_blank_lines, parse_dates, infer_datetime_format, keep_date_col, date_parser, dayfirst, cache_dates, iterator, chunksize, compression, thousands, decimal, lineterminator, quotechar, quoting, doublequote, escapechar, comment, encoding, encoding_errors, dialect, error_bad_lines, warn_bad_lines, on_bad_lines, delim_whitespace, low_memory, memory_map, float_precision, storage_options)\u001b[0m\n\u001b[1;32m    948\u001b[0m     \u001b[0mkwds\u001b[0m\u001b[0;34m.\u001b[0m\u001b[0mupdate\u001b[0m\u001b[0;34m(\u001b[0m\u001b[0mkwds_defaults\u001b[0m\u001b[0;34m)\u001b[0m\u001b[0;34m\u001b[0m\u001b[0;34m\u001b[0m\u001b[0m\n\u001b[1;32m    949\u001b[0m \u001b[0;34m\u001b[0m\u001b[0m\n\u001b[0;32m--> 950\u001b[0;31m     \u001b[0;32mreturn\u001b[0m \u001b[0m_read\u001b[0m\u001b[0;34m(\u001b[0m\u001b[0mfilepath_or_buffer\u001b[0m\u001b[0;34m,\u001b[0m \u001b[0mkwds\u001b[0m\u001b[0;34m)\u001b[0m\u001b[0;34m\u001b[0m\u001b[0;34m\u001b[0m\u001b[0m\n\u001b[0m\u001b[1;32m    951\u001b[0m \u001b[0;34m\u001b[0m\u001b[0m\n\u001b[1;32m    952\u001b[0m \u001b[0;34m\u001b[0m\u001b[0m\n",
            "\u001b[0;32m/usr/local/lib/python3.10/dist-packages/pandas/io/parsers/readers.py\u001b[0m in \u001b[0;36m_read\u001b[0;34m(filepath_or_buffer, kwds)\u001b[0m\n\u001b[1;32m    603\u001b[0m \u001b[0;34m\u001b[0m\u001b[0m\n\u001b[1;32m    604\u001b[0m     \u001b[0;31m# Create the parser.\u001b[0m\u001b[0;34m\u001b[0m\u001b[0;34m\u001b[0m\u001b[0m\n\u001b[0;32m--> 605\u001b[0;31m     \u001b[0mparser\u001b[0m \u001b[0;34m=\u001b[0m \u001b[0mTextFileReader\u001b[0m\u001b[0;34m(\u001b[0m\u001b[0mfilepath_or_buffer\u001b[0m\u001b[0;34m,\u001b[0m \u001b[0;34m**\u001b[0m\u001b[0mkwds\u001b[0m\u001b[0;34m)\u001b[0m\u001b[0;34m\u001b[0m\u001b[0;34m\u001b[0m\u001b[0m\n\u001b[0m\u001b[1;32m    606\u001b[0m \u001b[0;34m\u001b[0m\u001b[0m\n\u001b[1;32m    607\u001b[0m     \u001b[0;32mif\u001b[0m \u001b[0mchunksize\u001b[0m \u001b[0;32mor\u001b[0m \u001b[0miterator\u001b[0m\u001b[0;34m:\u001b[0m\u001b[0;34m\u001b[0m\u001b[0;34m\u001b[0m\u001b[0m\n",
            "\u001b[0;32m/usr/local/lib/python3.10/dist-packages/pandas/io/parsers/readers.py\u001b[0m in \u001b[0;36m__init__\u001b[0;34m(self, f, engine, **kwds)\u001b[0m\n\u001b[1;32m   1440\u001b[0m \u001b[0;34m\u001b[0m\u001b[0m\n\u001b[1;32m   1441\u001b[0m         \u001b[0mself\u001b[0m\u001b[0;34m.\u001b[0m\u001b[0mhandles\u001b[0m\u001b[0;34m:\u001b[0m \u001b[0mIOHandles\u001b[0m \u001b[0;34m|\u001b[0m \u001b[0;32mNone\u001b[0m \u001b[0;34m=\u001b[0m \u001b[0;32mNone\u001b[0m\u001b[0;34m\u001b[0m\u001b[0;34m\u001b[0m\u001b[0m\n\u001b[0;32m-> 1442\u001b[0;31m         \u001b[0mself\u001b[0m\u001b[0;34m.\u001b[0m\u001b[0m_engine\u001b[0m \u001b[0;34m=\u001b[0m \u001b[0mself\u001b[0m\u001b[0;34m.\u001b[0m\u001b[0m_make_engine\u001b[0m\u001b[0;34m(\u001b[0m\u001b[0mf\u001b[0m\u001b[0;34m,\u001b[0m \u001b[0mself\u001b[0m\u001b[0;34m.\u001b[0m\u001b[0mengine\u001b[0m\u001b[0;34m)\u001b[0m\u001b[0;34m\u001b[0m\u001b[0;34m\u001b[0m\u001b[0m\n\u001b[0m\u001b[1;32m   1443\u001b[0m \u001b[0;34m\u001b[0m\u001b[0m\n\u001b[1;32m   1444\u001b[0m     \u001b[0;32mdef\u001b[0m \u001b[0mclose\u001b[0m\u001b[0;34m(\u001b[0m\u001b[0mself\u001b[0m\u001b[0;34m)\u001b[0m \u001b[0;34m->\u001b[0m \u001b[0;32mNone\u001b[0m\u001b[0;34m:\u001b[0m\u001b[0;34m\u001b[0m\u001b[0;34m\u001b[0m\u001b[0m\n",
            "\u001b[0;32m/usr/local/lib/python3.10/dist-packages/pandas/io/parsers/readers.py\u001b[0m in \u001b[0;36m_make_engine\u001b[0;34m(self, f, engine)\u001b[0m\n\u001b[1;32m   1733\u001b[0m                 \u001b[0;32mif\u001b[0m \u001b[0;34m\"b\"\u001b[0m \u001b[0;32mnot\u001b[0m \u001b[0;32min\u001b[0m \u001b[0mmode\u001b[0m\u001b[0;34m:\u001b[0m\u001b[0;34m\u001b[0m\u001b[0;34m\u001b[0m\u001b[0m\n\u001b[1;32m   1734\u001b[0m                     \u001b[0mmode\u001b[0m \u001b[0;34m+=\u001b[0m \u001b[0;34m\"b\"\u001b[0m\u001b[0;34m\u001b[0m\u001b[0;34m\u001b[0m\u001b[0m\n\u001b[0;32m-> 1735\u001b[0;31m             self.handles = get_handle(\n\u001b[0m\u001b[1;32m   1736\u001b[0m                 \u001b[0mf\u001b[0m\u001b[0;34m,\u001b[0m\u001b[0;34m\u001b[0m\u001b[0;34m\u001b[0m\u001b[0m\n\u001b[1;32m   1737\u001b[0m                 \u001b[0mmode\u001b[0m\u001b[0;34m,\u001b[0m\u001b[0;34m\u001b[0m\u001b[0;34m\u001b[0m\u001b[0m\n",
            "\u001b[0;32m/usr/local/lib/python3.10/dist-packages/pandas/io/common.py\u001b[0m in \u001b[0;36mget_handle\u001b[0;34m(path_or_buf, mode, encoding, compression, memory_map, is_text, errors, storage_options)\u001b[0m\n\u001b[1;32m    854\u001b[0m         \u001b[0;32mif\u001b[0m \u001b[0mioargs\u001b[0m\u001b[0;34m.\u001b[0m\u001b[0mencoding\u001b[0m \u001b[0;32mand\u001b[0m \u001b[0;34m\"b\"\u001b[0m \u001b[0;32mnot\u001b[0m \u001b[0;32min\u001b[0m \u001b[0mioargs\u001b[0m\u001b[0;34m.\u001b[0m\u001b[0mmode\u001b[0m\u001b[0;34m:\u001b[0m\u001b[0;34m\u001b[0m\u001b[0;34m\u001b[0m\u001b[0m\n\u001b[1;32m    855\u001b[0m             \u001b[0;31m# Encoding\u001b[0m\u001b[0;34m\u001b[0m\u001b[0;34m\u001b[0m\u001b[0m\n\u001b[0;32m--> 856\u001b[0;31m             handle = open(\n\u001b[0m\u001b[1;32m    857\u001b[0m                 \u001b[0mhandle\u001b[0m\u001b[0;34m,\u001b[0m\u001b[0;34m\u001b[0m\u001b[0;34m\u001b[0m\u001b[0m\n\u001b[1;32m    858\u001b[0m                 \u001b[0mioargs\u001b[0m\u001b[0;34m.\u001b[0m\u001b[0mmode\u001b[0m\u001b[0;34m,\u001b[0m\u001b[0;34m\u001b[0m\u001b[0;34m\u001b[0m\u001b[0m\n",
            "\u001b[0;31mFileNotFoundError\u001b[0m: [Errno 2] No such file or directory: 'paths_finished.tsv'"
          ]
        }
      ],
      "source": [
        "# Import player data\n",
        "df_player = pd.read_csv('paths_finished.tsv', delimiter='\\t', skiprows=15)\n",
        "\n",
        "# Import wikispeedia links\n",
        "df_link = pd.read_csv('links.tsv', delimiter='\\t', skiprows=11)"
      ]
    },
    {
      "cell_type": "markdown",
      "source": [
        "### Creat Directed Graph"
      ],
      "metadata": {
        "id": "L9tCGbSP82Qt"
      },
      "id": "L9tCGbSP82Qt"
    },
    {
      "cell_type": "code",
      "execution_count": null,
      "id": "fb7674a8-4b1b-41a7-b2d5-45f365451e6a",
      "metadata": {
        "id": "fb7674a8-4b1b-41a7-b2d5-45f365451e6a"
      },
      "outputs": [],
      "source": [
        "# Create a directed graph link dataframe for wikispeedia links\n",
        "G_link = nx.from_pandas_edgelist(df_link, 'linkSource', 'linkTarget', create_using=nx.DiGraph())"
      ]
    },
    {
      "cell_type": "code",
      "execution_count": null,
      "id": "201b67fc-6dff-4e8b-8575-91d15bccf324",
      "metadata": {
        "tags": [],
        "id": "201b67fc-6dff-4e8b-8575-91d15bccf324"
      },
      "outputs": [],
      "source": [
        "# Create a directed graph link dataframe for player links\n",
        "paths = df_player['path'].str.split(';').tolist()\n",
        "\n",
        "#limited_paths = paths[:50]\n",
        "G_player = nx.DiGraph()\n",
        "for path in paths: #limited_paths\n",
        "    for i in range(len(path) - 1):\n",
        "        G_player.add_edge(path[i], path[i+1])\n",
        "\n",
        "# untoggle this and use limited_paths if you want to visualize graph\n",
        "plt.figure(figsize=(12, 12))\n",
        "\n",
        "\"\"\"\n",
        "# Use spring_layout with a custom k value\n",
        "pos = nx.spring_layout(G_player, k=1)  # Increase k to spread nodes farther apart\n",
        "\n",
        "nx.draw(G_player, pos, with_labels=True, node_color='skyblue', node_size=800, edge_color='black', linewidths=1, font_size=10)\n",
        "plt.show()\n",
        "\"\"\""
      ]
    },
    {
      "cell_type": "markdown",
      "source": [
        "### Get Hub Centrality Measurements"
      ],
      "metadata": {
        "id": "F7CDRiT-878R"
      },
      "id": "F7CDRiT-878R"
    },
    {
      "cell_type": "code",
      "execution_count": null,
      "id": "4da18ade-3a98-4d65-8540-002a54e96ccb",
      "metadata": {
        "tags": [],
        "id": "4da18ade-3a98-4d65-8540-002a54e96ccb",
        "outputId": "764e1589-41d1-4d66-ebdf-aa962fda76e1"
      },
      "outputs": [
        {
          "name": "stdout",
          "output_type": "stream",
          "text": [
            "                                           Node  Degree Centrality  \\\n",
            "0                                  14th_century           0.010794   \n",
            "1                                  15th_century           0.018470   \n",
            "2                                  16th_century           0.028544   \n",
            "3                                 Pacific_Ocean           0.047014   \n",
            "4                                Atlantic_Ocean           0.058767   \n",
            "...                                         ...                ...   \n",
            "4165            United_States_Numbered_Highways           0.000240   \n",
            "4166                            Valpara%C3%ADso           0.000480   \n",
            "4167  War_in_Somalia_%282006%E2%80%93present%29           0.000720   \n",
            "4168                  Work_%28thermodynamics%29           0.000480   \n",
            "4169                                      Yagan           0.000720   \n",
            "\n",
            "      Betweenness Centrality  Closeness Centrality  Eigenvector Centrality  \n",
            "0                   0.000335              0.420622            1.434611e-02  \n",
            "1                   0.000428              0.429000            2.185348e-02  \n",
            "2                   0.001025              0.432481            2.529134e-02  \n",
            "3                   0.002900              0.460253            4.196968e-02  \n",
            "4                   0.004229              0.478037            5.949039e-02  \n",
            "...                      ...                   ...                     ...  \n",
            "4165                0.000000              0.000000            4.100014e-40  \n",
            "4166                0.000000              0.000000            4.100014e-40  \n",
            "4167                0.000000              0.000000            4.100014e-40  \n",
            "4168                0.000000              0.000000            4.100014e-40  \n",
            "4169                0.000000              0.000000            4.100014e-40  \n",
            "\n",
            "[4170 rows x 5 columns]\n"
          ]
        }
      ],
      "source": [
        "# Calculating centrality measurement\n",
        "\n",
        "# Function for Degree Centrality\n",
        "def get_degree_centrality(G):\n",
        "    return nx.degree_centrality(G)\n",
        "\n",
        "# Function for Betweenness Centrality\n",
        "def get_betweenness_centrality(G):\n",
        "    return nx.betweenness_centrality(G)\n",
        "\n",
        "# Function for Closeness Centrality\n",
        "def get_closeness_centrality(G):\n",
        "    return nx.closeness_centrality(G)\n",
        "\n",
        "# Function for Eigenvector Centrality\n",
        "def get_eigenvector_centrality(G):\n",
        "    return nx.eigenvector_centrality(G)"
      ]
    },
    {
      "cell_type": "markdown",
      "source": [
        "### Hub Centrality for Player Paths"
      ],
      "metadata": {
        "id": "okK_tjDR9F35"
      },
      "id": "okK_tjDR9F35"
    },
    {
      "cell_type": "code",
      "execution_count": null,
      "id": "fb34ff2e-66cf-4e2e-9bfc-2f0e44410d43",
      "metadata": {
        "colab": {
          "base_uri": "https://localhost:8080/",
          "height": 250
        },
        "id": "fb34ff2e-66cf-4e2e-9bfc-2f0e44410d43",
        "outputId": "d4052443-99b9-4a3a-f45c-3aa28b25091f"
      },
      "outputs": [
        {
          "output_type": "error",
          "ename": "NameError",
          "evalue": "ignored",
          "traceback": [
            "\u001b[0;31m---------------------------------------------------------------------------\u001b[0m",
            "\u001b[0;31mNameError\u001b[0m                                 Traceback (most recent call last)",
            "\u001b[0;32m<ipython-input-1-29668e0b4025>\u001b[0m in \u001b[0;36m<cell line: 2>\u001b[0;34m()\u001b[0m\n\u001b[1;32m      1\u001b[0m \u001b[0;31m# Calculate centralities for players\u001b[0m\u001b[0;34m\u001b[0m\u001b[0;34m\u001b[0m\u001b[0m\n\u001b[0;32m----> 2\u001b[0;31m \u001b[0mdegree_centrality_player\u001b[0m \u001b[0;34m=\u001b[0m \u001b[0mget_degree_centrality\u001b[0m\u001b[0;34m(\u001b[0m\u001b[0mG_player\u001b[0m\u001b[0;34m)\u001b[0m\u001b[0;34m\u001b[0m\u001b[0;34m\u001b[0m\u001b[0m\n\u001b[0m\u001b[1;32m      3\u001b[0m \u001b[0mbetweenness_centrality_player\u001b[0m \u001b[0;34m=\u001b[0m \u001b[0mget_betweenness_centrality\u001b[0m\u001b[0;34m(\u001b[0m\u001b[0mG_player\u001b[0m\u001b[0;34m)\u001b[0m\u001b[0;34m\u001b[0m\u001b[0;34m\u001b[0m\u001b[0m\n\u001b[1;32m      4\u001b[0m \u001b[0mcloseness_centrality_player\u001b[0m \u001b[0;34m=\u001b[0m \u001b[0mget_closeness_centrality\u001b[0m\u001b[0;34m(\u001b[0m\u001b[0mG_player\u001b[0m\u001b[0;34m)\u001b[0m\u001b[0;34m\u001b[0m\u001b[0;34m\u001b[0m\u001b[0m\n\u001b[1;32m      5\u001b[0m \u001b[0meigenvector_centrality_player\u001b[0m \u001b[0;34m=\u001b[0m \u001b[0mget_eigenvector_centrality\u001b[0m\u001b[0;34m(\u001b[0m\u001b[0mG_player\u001b[0m\u001b[0;34m)\u001b[0m\u001b[0;34m\u001b[0m\u001b[0;34m\u001b[0m\u001b[0m\n",
            "\u001b[0;31mNameError\u001b[0m: name 'get_degree_centrality' is not defined"
          ]
        }
      ],
      "source": [
        "# Calculate centralities for players\n",
        "degree_centrality_player = get_degree_centrality(G_player)\n",
        "betweenness_centrality_player = get_betweenness_centrality(G_player)\n",
        "closeness_centrality_player = get_closeness_centrality(G_player)\n",
        "eigenvector_centrality_player = get_eigenvector_centrality(G_player)\n",
        "\n",
        "# Create a DataFrame for players\n",
        "centrality_df_player = pd.DataFrame({\n",
        "    'Node': list(G_player.nodes()),\n",
        "    'Degree Centrality': [degree_centrality_player[node] for node in G_player.nodes()],\n",
        "    'Betweenness Centrality': [betweenness_centrality_player[node] for node in G_player.nodes()],\n",
        "    'Closeness Centrality': [closeness_centrality_player[node] for node in G_player.nodes()],\n",
        "    'Eigenvector Centrality': [eigenvector_centrality_player[node] for node in G_player.nodes()]\n",
        "})\n",
        "\n",
        "print(centrality_df_player)"
      ]
    },
    {
      "cell_type": "code",
      "execution_count": null,
      "id": "af8b05c8-561a-4e31-bc2b-2a15598a4f91",
      "metadata": {
        "tags": [],
        "id": "af8b05c8-561a-4e31-bc2b-2a15598a4f91"
      },
      "outputs": [],
      "source": [
        "import matplotlib.pyplot as plt\n",
        "\n",
        "# Plot distribution of each centrality measure\n",
        "\n",
        "# Set the size of the overall figure\n",
        "plt.figure(figsize=(14, 10))\n",
        "\n",
        "# Degree Centrality Distribution\n",
        "plt.subplot(2, 2, 1)\n",
        "plt.hist(centrality_df_player['Degree Centrality'], bins=30, color='blue', alpha=0.7, log=True)\n",
        "plt.title('Degree Centrality Distribution')\n",
        "plt.xlabel('Degree Centrality')\n",
        "plt.ylabel('Frequency')\n",
        "\n",
        "# Betweenness Centrality Distribution\n",
        "plt.subplot(2, 2, 2)\n",
        "plt.hist(centrality_df_player['Betweenness Centrality'], bins=30, color='red', alpha=0.7, log=True)\n",
        "plt.title('Betweenness Centrality Distribution')\n",
        "plt.xlabel('Betweenness Centrality')\n",
        "\n",
        "# Closeness Centrality Distribution\n",
        "plt.subplot(2, 2, 3)\n",
        "plt.hist(centrality_df_player['Closeness Centrality'], bins=30, color='green', alpha=0.7, log=True)\n",
        "plt.title('Closeness Centrality Distribution')\n",
        "plt.xlabel('Closeness Centrality')\n",
        "plt.ylabel('Frequency')\n",
        "\n",
        "# Eigenvector Centrality Distribution\n",
        "plt.subplot(2, 2, 4)\n",
        "plt.hist(centrality_df_player['Eigenvector Centrality'], bins=30, color='purple', alpha=0.7, log=True)\n",
        "plt.title('Eigenvector Centrality Distribution')\n",
        "plt.xlabel('Eigenvector Centrality')\n",
        "\n",
        "# Adjust layout to prevent overlap\n",
        "plt.tight_layout()\n",
        "\n",
        "# Show the plots\n",
        "plt.show()\n"
      ]
    },
    {
      "cell_type": "markdown",
      "source": [
        "### Hub Centrality for Wikipedia"
      ],
      "metadata": {
        "id": "EYW7FkDB9YFE"
      },
      "id": "EYW7FkDB9YFE"
    },
    {
      "cell_type": "code",
      "execution_count": null,
      "id": "d8e30a0c-89b8-4715-8cc8-6312da7861c0",
      "metadata": {
        "id": "d8e30a0c-89b8-4715-8cc8-6312da7861c0",
        "outputId": "c8c7c805-5f19-4dfb-fb01-aa268cad8009"
      },
      "outputs": [
        {
          "name": "stdout",
          "output_type": "stream",
          "text": [
            "                                  Node  Degree Centrality  \\\n",
            "0     %C3%81ed%C3%A1n_mac_Gabr%C3%A1in           0.002396   \n",
            "1                                 Bede           0.008495   \n",
            "2                              Columba           0.005010   \n",
            "3                       D%C3%A1l_Riata           0.006970   \n",
            "4                        Great_Britain           0.046831   \n",
            "...                                ...                ...   \n",
            "4587                      Yellowhammer           0.002832   \n",
            "4588                    Yotsuya_Kaidan           0.000436   \n",
            "4589            You%27re_Still_the_One           0.000436   \n",
            "4590                    Yungay%2C_Peru           0.000871   \n",
            "4591                        Zara_Yaqob           0.001307   \n",
            "\n",
            "      Betweenness Centrality  Closeness Centrality  Eigenvector Centrality  \n",
            "0                   0.000000              0.000000            4.240657e-24  \n",
            "1                   0.000136              0.355165            3.588548e-03  \n",
            "2                   0.000041              0.331740            1.851423e-03  \n",
            "3                   0.000054              0.312937            9.743453e-04  \n",
            "4                   0.002782              0.453663            4.398665e-02  \n",
            "...                      ...                   ...                     ...  \n",
            "4587                0.000000              0.000000            4.240657e-24  \n",
            "4588                0.000000              0.000000            4.240657e-24  \n",
            "4589                0.000000              0.000000            4.240657e-24  \n",
            "4590                0.000000              0.000000            4.240657e-24  \n",
            "4591                0.000000              0.000000            4.240657e-24  \n",
            "\n",
            "[4592 rows x 5 columns]\n"
          ]
        }
      ],
      "source": [
        "# Calculate centralities for wikipedia\n",
        "degree_centrality_links = get_degree_centrality(G_link)\n",
        "betweenness_centrality_links = get_betweenness_centrality(G_link)\n",
        "closeness_centrality_links = get_closeness_centrality(G_link)\n",
        "eigenvector_centrality_links = get_eigenvector_centrality(G_link)\n",
        "\n",
        "# Create a DataFrame for players\n",
        "centrality_df_links = pd.DataFrame({\n",
        "    'Node': list(G_link.nodes()),\n",
        "    'Degree Centrality': [degree_centrality_links[node] for node in G_link.nodes()],\n",
        "    'Betweenness Centrality': [betweenness_centrality_links[node] for node in G_link.nodes()],\n",
        "    'Closeness Centrality': [closeness_centrality_links[node] for node in G_link.nodes()],\n",
        "    'Eigenvector Centrality': [eigenvector_centrality_links[node] for node in G_link.nodes()]\n",
        "})\n",
        "\n",
        "print(centrality_df_links)"
      ]
    },
    {
      "cell_type": "code",
      "execution_count": null,
      "id": "e6951af3-c95d-458c-9576-a9c696948e56",
      "metadata": {
        "tags": [],
        "id": "e6951af3-c95d-458c-9576-a9c696948e56",
        "outputId": "93e25500-722a-4e7d-c8f5-1aceea46ef15"
      },
      "outputs": [
        {
          "ename": "KeyError",
          "evalue": "'Degree Centrality'",
          "output_type": "error",
          "traceback": [
            "\u001b[0;31m---------------------------------------------------------------------------\u001b[0m",
            "\u001b[0;31mKeyError\u001b[0m                                  Traceback (most recent call last)",
            "Cell \u001b[0;32mIn[22], line 1\u001b[0m\n\u001b[0;32m----> 1\u001b[0m \u001b[38;5;28mprint\u001b[39m(\u001b[43mdegree_centrality_links\u001b[49m\u001b[43m[\u001b[49m\u001b[38;5;124;43m'\u001b[39;49m\u001b[38;5;124;43mDegree Centrality\u001b[39;49m\u001b[38;5;124;43m'\u001b[39;49m\u001b[43m]\u001b[49m)\n",
            "\u001b[0;31mKeyError\u001b[0m: 'Degree Centrality'"
          ]
        }
      ],
      "source": [
        "print(degree_centrality_links['Closeness Centrality'])"
      ]
    },
    {
      "cell_type": "code",
      "execution_count": null,
      "id": "43258acb-4446-4b88-a06a-fb5566b49ad4",
      "metadata": {
        "tags": [],
        "id": "43258acb-4446-4b88-a06a-fb5566b49ad4",
        "outputId": "de6afabf-d263-49a8-bd92-68bf425d5832"
      },
      "outputs": [
        {
          "data": {
            "image/png": "[encoded data removed]",
            "text/plain": [
              "<Figure size 1400x1000 with 4 Axes>"
            ]
          },
          "metadata": {},
          "output_type": "display_data"
        }
      ],
      "source": [
        "import matplotlib.pyplot as plt\n",
        "\n",
        "# Plot distribution of each centrality measure\n",
        "\n",
        "# Set the size of the overall figure\n",
        "plt.figure(figsize=(14, 10))\n",
        "\n",
        "# Degree Centrality Distribution\n",
        "plt.subplot(2, 2, 1)\n",
        "plt.hist(centrality_df_links['Degree Centrality'], bins=30, color='blue', alpha=0.7,log=True)\n",
        "plt.title('Degree Centrality Distribution')\n",
        "plt.xlabel('Degree Centrality')\n",
        "plt.ylabel('Frequency')\n",
        "\n",
        "# Betweenness Centrality Distribution\n",
        "plt.subplot(2, 2, 2)\n",
        "plt.hist(centrality_df_links['Betweenness Centrality'], bins=30, color='red', alpha=0.7,log=True)\n",
        "plt.title('Betweenness Centrality Distribution')\n",
        "plt.xlabel('Betweenness Centrality')\n",
        "\n",
        "# Closeness Centrality Distribution\n",
        "plt.subplot(2, 2, 3)\n",
        "plt.hist(centrality_df_links['Closeness Centrality'], bins=30, color='green', alpha=0.7, log=True)\n",
        "plt.title('Closeness Centrality Distribution')\n",
        "plt.xlabel('Closeness Centrality')\n",
        "plt.ylabel('Frequency')\n",
        "\n",
        "# Eigenvector Centrality Distribution\n",
        "plt.subplot(2, 2, 4)\n",
        "plt.hist(centrality_df_links['Eigenvector Centrality'], bins=30, color='purple', alpha=0.7, log=True)\n",
        "plt.title('Eigenvector Centrality Distribution')\n",
        "plt.xlabel('Eigenvector Centrality')\n",
        "\n",
        "# Adjust layout to prevent overlap\n",
        "plt.tight_layout()\n",
        "\n",
        "# Show the plots\n",
        "plt.show()\n"
      ]
    },
    {
      "cell_type": "markdown",
      "source": [
        "### Analysis"
      ],
      "metadata": {
        "id": "BbLcjx-99eH8"
      },
      "id": "BbLcjx-99eH8"
    },
    {
      "cell_type": "code",
      "execution_count": null,
      "id": "1dd075e4-ee2e-48dd-a071-58c1b7cb7df4",
      "metadata": {
        "tags": [],
        "id": "1dd075e4-ee2e-48dd-a071-58c1b7cb7df4",
        "outputId": "c32228d6-1ab0-4c59-ada3-2be91fa8ddcc"
      },
      "outputs": [
        {
          "name": "stdout",
          "output_type": "stream",
          "text": [
            "Centrality measures ranked by similarity:\n",
            "1. Betweenness Centrality with a correlation of 0.97\n",
            "2. Degree Centrality with a correlation of 0.93\n",
            "3. Eigenvector Centrality with a correlation of 0.83\n",
            "4. Closeness Centrality with a correlation of 0.70\n"
          ]
        }
      ],
      "source": [
        "# Get correlation of graphs between dataframes\n",
        "\n",
        "# Merge on node_ID\n",
        "merged_df = pd.merge(centrality_df_player, centrality_df_links, on='Node', suffixes=('_player', '_links'))\n",
        "\n",
        "# Compute correlations for each centrality measure\n",
        "correlations = {}\n",
        "for measure in ['Degree Centrality', 'Betweenness Centrality', 'Closeness Centrality', 'Eigenvector Centrality']:\n",
        "    correlation = merged_df[f'{measure}_player'].corr(merged_df[f'{measure}_links'])\n",
        "    correlations[measure] = correlation\n",
        "\n",
        "# Rank the centrality measures based on correlation\n",
        "ranked_measures = sorted(correlations.keys(), key=lambda x: correlations[x], reverse=True)\n",
        "\n",
        "print(\"Centrality measures ranked by similarity:\")\n",
        "for idx, measure in enumerate(ranked_measures, 1):\n",
        "    print(f\"{idx}. {measure} with a correlation of {correlations[measure]:.2f}\")"
      ]
    },
    {
      "cell_type": "code",
      "execution_count": null,
      "id": "c165bb41-91f4-4c75-9528-aa168181ca60",
      "metadata": {
        "tags": [],
        "id": "c165bb41-91f4-4c75-9528-aa168181ca60",
        "outputId": "a8bd13cb-f68d-410f-b35a-7ebd6bc03d6a"
      },
      "outputs": [
        {
          "name": "stdout",
          "output_type": "stream",
          "text": [
            "The top 10 nodes with the highest betweenness centrality for players are: ['<', 'United_States', 'United_Kingdom', 'Europe', 'England', 'Africa', 'World_War_II', 'Germany', 'France', 'London']\n",
            "The top 10 nodes with the highest betweenness centrality for wikispeedia are: ['United_States', 'United_Kingdom', 'England', 'Europe', 'Africa', 'Germany', 'World_War_II', '19th_century', 'London', 'English_language']\n"
          ]
        }
      ],
      "source": [
        "# Get top 10 nodes with highest betweenness centrality for df1\n",
        "top_10_betweenness_df1 = centrality_df_player.nlargest(10, 'Betweenness Centrality')['Node'].tolist()\n",
        "\n",
        "# Get top 10 nodes with highest betweenness centrality for df2\n",
        "top_10_betweenness_df2 = centrality_df_links.nlargest(10, 'Betweenness Centrality')['Node'].tolist()\n",
        "\n",
        "print(f\"The top 10 nodes with the highest betweenness centrality for players are: {top_10_betweenness_df1}\")\n",
        "print(f\"The top 10 nodes with the highest betweenness centrality for wikispeedia are: {top_10_betweenness_df2}\")\n"
      ]
    },
    {
      "cell_type": "code",
      "execution_count": null,
      "id": "0d9b643f-e9df-4f48-a0bf-dfd4320529d8",
      "metadata": {
        "id": "0d9b643f-e9df-4f48-a0bf-dfd4320529d8"
      },
      "outputs": [],
      "source": []
    },
    {
      "cell_type": "code",
      "execution_count": null,
      "id": "25cdae15-6495-4c40-a848-1dd2fc6144d2",
      "metadata": {
        "id": "25cdae15-6495-4c40-a848-1dd2fc6144d2"
      },
      "outputs": [],
      "source": []
    },
    {
      "cell_type": "code",
      "execution_count": null,
      "id": "ddec0248-5af3-4b1c-8288-703f8bd1b13e",
      "metadata": {
        "id": "ddec0248-5af3-4b1c-8288-703f8bd1b13e"
      },
      "outputs": [],
      "source": []
    },
    {
      "cell_type": "code",
      "execution_count": null,
      "id": "9ebaf657-b704-4b3c-b16d-bf10ad4cbe7d",
      "metadata": {
        "id": "9ebaf657-b704-4b3c-b16d-bf10ad4cbe7d"
      },
      "outputs": [],
      "source": []
    },
    {
      "cell_type": "markdown",
      "source": [
        "# Marie Lou's Part - Link positions"
      ],
      "metadata": {
        "id": "eq4MpropbrKv"
      },
      "id": "eq4MpropbrKv"
    },
    {
      "cell_type": "markdown",
      "source": [
        "### Librairies"
      ],
      "metadata": {
        "id": "fZlUmsc8cJWQ"
      },
      "id": "fZlUmsc8cJWQ"
    },
    {
      "cell_type": "code",
      "source": [
        "import pandas as pd\n",
        "import numpy as np\n",
        "import matplotlib.pyplot as plt\n",
        "import seaborn as sns\n",
        "from urllib.parse import unquote"
      ],
      "metadata": {
        "id": "t59PnEv0bx6i"
      },
      "id": "t59PnEv0bx6i",
      "execution_count": null,
      "outputs": []
    },
    {
      "cell_type": "markdown",
      "source": [
        "### Load and transform data"
      ],
      "metadata": {
        "id": "zFN8yf1tcPxS"
      },
      "id": "zFN8yf1tcPxS"
    },
    {
      "cell_type": "code",
      "source": [
        "articles = pd.read_csv('wikispeedia_paths-and-graph/articles.tsv', sep='\\t', skiprows=12, header=None)\n",
        "articles.columns = ['article_names']\n",
        "\n",
        "paths_finished = pd.read_csv('wikispeedia_paths-and-graph/paths_finished.tsv', sep='\\t', skiprows=17, header=None)\n",
        "paths_finished.columns = ['hashedIpAddress', 'timestamp', 'durationInSec', 'path', 'rating']\n",
        "\n",
        "paths_unfinished = pd.read_csv('wikispeedia_paths-and-graph/paths_unfinished.tsv', sep='\\t', skiprows=17, header=None)\n",
        "paths_unfinished.columns = ['hashedIpAddress', 'timestamp', 'durationInSec', 'path', 'target', 'type']\n"
      ],
      "metadata": {
        "id": "qZiIbI03cTSG"
      },
      "id": "qZiIbI03cTSG",
      "execution_count": null,
      "outputs": []
    },
    {
      "cell_type": "code",
      "source": [
        "def utf_transform(data, column_path):\n",
        "    ''' Function that decode the name of articles in the dataframe'''\n",
        "    for index, row in data.iterrows():\n",
        "        row[column_path] = unquote(row[column_path], encoding='utf-8')"
      ],
      "metadata": {
        "id": "3hcvCAjtcXdP"
      },
      "id": "3hcvCAjtcXdP",
      "execution_count": null,
      "outputs": []
    },
    {
      "cell_type": "code",
      "source": [
        "utf_transform(articles, 'article_names')\n",
        "utf_transform(paths_finished, 'path')\n",
        "utf_transform(paths_unfinished, 'path')"
      ],
      "metadata": {
        "id": "BTO1KdzpcYXb"
      },
      "id": "BTO1KdzpcYXb",
      "execution_count": null,
      "outputs": []
    },
    {
      "cell_type": "markdown",
      "source": [
        "### Relate the link positions with game duration"
      ],
      "metadata": {
        "id": "5f4KwO7HcZeU"
      },
      "id": "5f4KwO7HcZeU"
    },
    {
      "cell_type": "markdown",
      "source": [
        "**Q** Does clicking on links lower down in the article increase the duraiton of the game compared to clicking on links higher up in the article ?"
      ],
      "metadata": {
        "id": "xFzBdvl4cesC"
      },
      "id": "xFzBdvl4cesC"
    },
    {
      "cell_type": "code",
      "source": [
        "def link_position(data, column_path):\n",
        "    ''' Function that compute the relative position of the links in the articles and the average link\n",
        "        position for each paths\n",
        "        column_path: name of the column in the dataframe where the paths are stored '''\n",
        "\n",
        "    link_position = data.copy()\n",
        "    link_position['link_positions'] = np.nan      #Store the positions of all links browsed along the path\n",
        "    link_position['avg_link_positions'] = np.nan  #Average position of links\n",
        "\n",
        "    for index, row in data.iterrows():\n",
        "        path = row[column_path]\n",
        "        path = path.split(';')\n",
        "\n",
        "        if '<' not in path:   #Consider the path where the user don't back clicks\n",
        "            positions = []    #List to store the position of each link in the considered path\n",
        "\n",
        "            for article in path[:len(path)-1]:\n",
        "                path_article = 'plaintext_articles/' + article + '.txt'\n",
        "\n",
        "                # First, compute the number of words in the article (for the relative position)\n",
        "                with open(path_article, 'r') as fp: #Open the plaintext article\n",
        "                    all_text = fp.read()\n",
        "                    all_words = all_text.split()\n",
        "                    nb_words = len(all_words)\n",
        "\n",
        "                # Second, read each line and find the link of the next article\n",
        "                with open(path_article, 'r') as fp:\n",
        "                    lines = fp.readlines()\n",
        "                    for line in lines:\n",
        "                        word = path[path.index(article)+1] #Find the position of the link of the next article\n",
        "                        word = word.replace('_', ' ')      #If article name have '_', it should be replaced by a space\n",
        "\n",
        "                        #Store the relative position of the first appearance of the link\n",
        "                        if line.find(word) != -1:\n",
        "                            positions.append(lines.index(line)/nb_words)\n",
        "                            break\n",
        "\n",
        "            link_position.at[index, 'link_positions'] = str(positions)\n",
        "            link_position.at[index, 'avg_link_positions'] = np.mean(positions)\n",
        "\n",
        "    # Drop NaN values (if link not found)\n",
        "    link_position = link_position.dropna()\n",
        "\n",
        "    return link_position"
      ],
      "metadata": {
        "id": "WldQ6Io2co0m"
      },
      "id": "WldQ6Io2co0m",
      "execution_count": null,
      "outputs": []
    },
    {
      "cell_type": "code",
      "source": [
        "## Finished paths\n",
        "# Compute link positions\n",
        "finished_path_link_position = link_position(paths_finished, 'path')\n",
        "\n",
        "sns.scatterplot(x='durationInSec', y='avg_link_positions', data=finished_path_link_position)\n",
        "plt.xlabel('Game duration [s]')\n",
        "plt.ylabel('Relative link position')\n",
        "plt.title('Finished paths');"
      ],
      "metadata": {
        "id": "nps-aDYpcqbM"
      },
      "id": "nps-aDYpcqbM",
      "execution_count": null,
      "outputs": []
    },
    {
      "cell_type": "code",
      "source": [
        "## Unfinished paths\n",
        "sns.countplot(paths_unfinished, x=\"type\"); #Type of unfinished paths\n",
        "\n",
        "# Link positions for 'timeout' and 'restart' types\n",
        "timeout_link_position = link_position(paths_unfinished[paths_unfinished['type']=='timeout'], 'path')\n",
        "restart_link_position = link_position(paths_unfinished[paths_unfinished['type']=='restart'], 'path')\n",
        "\n",
        "fig, (ax1, ax2) = plt.subplots(1, 2, sharey=True)\n",
        "\n",
        "sns.scatterplot(x='durationInSec', y='avg_link_positions', data=timeout_link_position, ax=ax1)\n",
        "ax1.set_title('Unfinished paths: timeout')\n",
        "ax1.set_xlim([1500, 5000])\n",
        "ax1.set_xlabel('')\n",
        "ax1.set_ylabel('')\n",
        "\n",
        "sns.scatterplot(x='durationInSec', y='avg_link_positions', data=restart_link_position, ax=ax2)\n",
        "ax2.set_title('Unfinished paths: restart');\n",
        "ax2.set_xlim([-500, 5000])\n",
        "ax2.set_xlabel('')\n",
        "\n",
        "fig.supxlabel('Game duration [s]')\n",
        "fig.supylabel('Relative link position')\n"
      ],
      "metadata": {
        "id": "ah09wpmdcv42"
      },
      "id": "ah09wpmdcv42",
      "execution_count": null,
      "outputs": []
    },
    {
      "cell_type": "markdown",
      "source": [
        "### Link positions for players that have done multiple games"
      ],
      "metadata": {
        "id": "I9XbtifSc5Oe"
      },
      "id": "I9XbtifSc5Oe"
    },
    {
      "cell_type": "markdown",
      "source": [
        "**Q** Do players who have finished multiple paths tend to choose the first links, or do they go further into the article?"
      ],
      "metadata": {
        "id": "D4g6HhKxc9MA"
      },
      "id": "D4g6HhKxc9MA"
    },
    {
      "cell_type": "code",
      "source": [
        "# Select players that have finished between 25 and 100 games (arbitrary)\n",
        "multiple_players = finished_path_link_position.value_counts('hashedIpAddress')\n",
        "multiple_players = multiple_players[(multiple_players>25) & (multiple_players<100)].to_frame().reset_index()"
      ],
      "metadata": {
        "id": "UvhfOXdHdCgn"
      },
      "id": "UvhfOXdHdCgn",
      "execution_count": null,
      "outputs": []
    },
    {
      "cell_type": "code",
      "source": [
        "# Compute average link position of all the paths finished by 'multiple' players\n",
        "multiple_players_link_position = finished_path_link_position[finished_path_link_position['hashedIpAddress'] \\\n",
        "                                 .isin(multiple_players['hashedIpAddress'])]\n",
        "multiple_players_mean_link_position = multiple_players_link_position.groupby('hashedIpAddress')['avg_link_positions'] \\\n",
        "                                    .mean().to_frame().reset_index()\n",
        "multiple_players_stat = pd.merge(multiple_players, multiple_players_mean_link_position, on='hashedIpAddress')\n",
        "\n",
        "# Compute global average link position of all the paths ever finished\n",
        "average_link_position = finished_path_link_position['avg_link_positions'].mean()"
      ],
      "metadata": {
        "id": "tgidznHBdDsK"
      },
      "id": "tgidznHBdDsK",
      "execution_count": null,
      "outputs": []
    },
    {
      "cell_type": "code",
      "source": [
        "sns.scatterplot(data=multiple_players_stat, x=\"count\", y=\"avg_link_positions\")\n",
        "plt.axhline(average_link_position, color='r', linestyle='--', label='global average link position')\n",
        "plt.xlabel('# of games')\n",
        "plt.ylabel('Average link positions')\n",
        "plt.legend();"
      ],
      "metadata": {
        "id": "5JPlg5YtdE8_"
      },
      "id": "5JPlg5YtdE8_",
      "execution_count": null,
      "outputs": []
    },
    {
      "cell_type": "markdown",
      "source": [
        "**Q** Does a player who have finished multiple paths always have the same strategy? (e.g. always go for the first link)"
      ],
      "metadata": {
        "id": "EX5twwKDdGTy"
      },
      "id": "EX5twwKDdGTy"
    },
    {
      "cell_type": "code",
      "source": [
        "# Select players that have finished more than 10 games\n",
        "multiple_players = finished_path_link_position.value_counts('hashedIpAddress')\n",
        "multiple_players = multiple_players[multiple_players>10].to_frame().reset_index()"
      ],
      "metadata": {
        "id": "X_LtCChDdLdi"
      },
      "id": "X_LtCChDdLdi",
      "execution_count": null,
      "outputs": []
    },
    {
      "cell_type": "code",
      "source": [
        "# Among the 'multiple players', select one random\n",
        "random_player = multiple_players.sample(1)\n",
        "\n",
        "# Compare average link positions of the paths finished by this player\n",
        "random_player_link_position = finished_path_link_position[finished_path_link_position['hashedIpAddress'] \\\n",
        "                                 .isin(random_player['hashedIpAddress'])]\n",
        "random_player_link_position['#game'] = np.arange(1,random_player_link_position.shape[0]+1, 1)\n",
        "\n",
        "sns.scatterplot(data=random_player_link_position, x=\"#game\" ,y=\"avg_link_positions\")\n",
        "plt.xticks(np.arange(1,random_player_link_position.shape[0]+1, 1))\n",
        "plt.tight_layout()\n",
        "plt.xlabel('Game')\n",
        "plt.ylabel('Average link positions');"
      ],
      "metadata": {
        "id": "4ZwTJ95qdMYw"
      },
      "id": "4ZwTJ95qdMYw",
      "execution_count": null,
      "outputs": []
    }
  ],
  "metadata": {
    "kernelspec": {
      "display_name": "Python3",
      "language": "python",
      "name": "python3"
    },
    "language_info": {
      "codemirror_mode": {
        "name": "ipython",
        "version": 3
      },
      "file_extension": ".py",
      "mimetype": "text/x-python",
      "name": "python",
      "nbconvert_exporter": "python",
      "pygments_lexer": "ipython3",
      "version": "3.11.5"
    },
    "colab": {
      "provenance": [],
      "collapsed_sections": [
        "TBqQ7cdB8fjF"
      ]
    }
  },
  "nbformat": 4,
  "nbformat_minor": 5
}